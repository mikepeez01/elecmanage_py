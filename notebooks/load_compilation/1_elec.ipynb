{
 "cells": [
  {
   "cell_type": "code",
   "execution_count": 9,
   "metadata": {},
   "outputs": [],
   "source": [
    "import papermill as pm\n",
    "from datetime import datetime, time"
   ]
  },
  {
   "cell_type": "code",
   "execution_count": 12,
   "metadata": {},
   "outputs": [
    {
     "ename": "NameError",
     "evalue": "name 'nb_load' is not defined",
     "output_type": "error",
     "traceback": [
      "\u001b[31m---------------------------------------------------------------------------\u001b[39m",
      "\u001b[31mNameError\u001b[39m                                 Traceback (most recent call last)",
      "\u001b[36mCell\u001b[39m\u001b[36m \u001b[39m\u001b[32mIn[12]\u001b[39m\u001b[32m, line 2\u001b[39m\n\u001b[32m      1\u001b[39m pm.execute_notebook(\n\u001b[32m----> \u001b[39m\u001b[32m2\u001b[39m     \u001b[43mnb_load\u001b[49m, nb_load,\n\u001b[32m      3\u001b[39m     parameters=\u001b[38;5;28mdict\u001b[39m(\n\u001b[32m      4\u001b[39m         common_modules_path = common_modules_path,\n\u001b[32m      5\u001b[39m         db_elec_path = db_elec_path,\n\u001b[32m      6\u001b[39m         path_load_elec_folder = path_load_elec_folder,\n\u001b[32m      7\u001b[39m         path_load_parquet = path_load_parquet,\n\u001b[32m      8\u001b[39m         festivos_path = festivos_path,\n\u001b[32m      9\u001b[39m         periodos_cal_path = periodos_cal_path,\n\u001b[32m     10\u001b[39m         processed_files_path = processed_files_path\n\u001b[32m     11\u001b[39m     )\n\u001b[32m     12\u001b[39m )\n",
      "\u001b[31mNameError\u001b[39m: name 'nb_load' is not defined"
     ]
    }
   ],
   "source": [
    "pm.execute_notebook(\n",
    "    nb_load, nb_load,\n",
    "    parameters=dict(\n",
    "        common_modules_path = common_modules_path,\n",
    "        db_elec_path = db_elec_path,\n",
    "        path_load_elec_folder = path_load_elec_folder,\n",
    "        path_load_parquet = path_load_parquet,\n",
    "        festivos_path = festivos_path,\n",
    "        periodos_cal_path = periodos_cal_path,\n",
    "        processed_files_path = processed_files_path\n",
    "    )\n",
    ")"
   ]
  }
 ],
 "metadata": {
  "kernelspec": {
   "display_name": "python_reduced",
   "language": "python",
   "name": "python3"
  },
  "language_info": {
   "codemirror_mode": {
    "name": "ipython",
    "version": 3
   },
   "file_extension": ".py",
   "mimetype": "text/x-python",
   "name": "python",
   "nbconvert_exporter": "python",
   "pygments_lexer": "ipython3",
   "version": "3.12.4"
  }
 },
 "nbformat": 4,
 "nbformat_minor": 2
}
