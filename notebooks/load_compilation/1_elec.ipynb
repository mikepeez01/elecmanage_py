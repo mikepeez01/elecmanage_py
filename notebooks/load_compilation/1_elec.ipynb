{
 "cells": [
  {
   "cell_type": "code",
   "execution_count": 5,
   "metadata": {},
   "outputs": [],
   "source": [
    "import os\n",
    "import papermill as pm\n",
    "import pandas as pd\n",
    "import sys\n",
    "from datetime import datetime"
   ]
  },
  {
   "cell_type": "code",
   "execution_count": null,
   "metadata": {},
   "outputs": [],
   "source": [
    "year = 2024"
   ]
  },
  {
   "cell_type": "code",
   "execution_count": null,
   "metadata": {},
   "outputs": [],
   "source": [
    "start_date = datetime(2023,10,1)\n",
    "end_date = datetime(2024,11,30)"
   ]
  },
  {
   "cell_type": "code",
   "execution_count": 6,
   "metadata": {},
   "outputs": [
    {
     "data": {
      "text/plain": [
       "'c:\\\\Users\\\\mikel.perez\\\\0_Python_Projects\\\\shared_data\\\\modules'"
      ]
     },
     "execution_count": 6,
     "metadata": {},
     "output_type": "execute_result"
    }
   ],
   "source": [
    "single_project_path = (os.path.dirname(os.getcwd()))\n",
    "main_project_path = os.path.dirname(single_project_path)\n",
    "shared_files_path = os.path.join(main_project_path, 'shared_data')\n",
    "common_modules_path = os.path.join(shared_files_path, 'modules')\n",
    "common_modules_path"
   ]
  },
  {
   "cell_type": "code",
   "execution_count": 7,
   "metadata": {},
   "outputs": [],
   "source": [
    "sys.path.append(common_modules_path)\n",
    "sys.path.append('../modules')"
   ]
  },
  {
   "cell_type": "code",
   "execution_count": 8,
   "metadata": {},
   "outputs": [],
   "source": [
    "import utils_var"
   ]
  },
  {
   "cell_type": "code",
   "execution_count": 9,
   "metadata": {},
   "outputs": [
    {
     "data": {
      "text/plain": [
       "'c:\\\\Users\\\\mikel.perez\\\\0_Python_Projects\\\\verification_project\\\\data\\\\elec'"
      ]
     },
     "execution_count": 9,
     "metadata": {},
     "output_type": "execute_result"
    }
   ],
   "source": [
    "common_data_path = os.path.join(shared_files_path, 'data', 'elec')\n",
    "single_data_path = os.path.join(single_project_path,'data', 'elec')\n",
    "single_data_path"
   ]
  },
  {
   "cell_type": "code",
   "execution_count": 10,
   "metadata": {},
   "outputs": [
    {
     "data": {
      "text/plain": [
       "'c:\\\\Users\\\\mikel.perez\\\\0_Python_Projects\\\\load_compilation\\\\data\\\\load\\\\elec'"
      ]
     },
     "execution_count": 10,
     "metadata": {},
     "output_type": "execute_result"
    }
   ],
   "source": [
    "path_load_elec_folder = os.path.join(main_project_path, 'load_compilation', 'data', 'load', 'elec')\n",
    "processed_files_path = os.path.join(shared_files_path, 'data', 'load', 'processed_files.json')\n",
    "festivos_path = os.path.join(common_data_path, 'festivos')\n",
    "periodos_cal_path = os.path.join(common_data_path, 'calendario_periodos.xlsx')\n",
    "futures_path = os.path.join(common_data_path, \"futuros_elec.parquet\")\n",
    "spot_path = os.path.join(common_data_path, \"spot_elec.parquet\")\n",
    "path_load_elec_folder"
   ]
  },
  {
   "cell_type": "code",
   "execution_count": 13,
   "metadata": {},
   "outputs": [],
   "source": [
    "# Notebooks\n",
    "common_notebooks = os.path.join(shared_files_path, 'notebooks')\n",
    "nb_elec_prices = os.path.join(common_notebooks, '2A_Elec_Markets.ipynb')\n",
    "nb_elec_perd = os.path.join(common_notebooks, '2C_Perd.ipynb')\n",
    "nb_elec_ssaa = os.path.join(common_notebooks, '2D_SSAA.ipynb')\n",
    "nb_load = os.path.join(common_notebooks, '3_Compile_load.ipynb')\n",
    "\n",
    "nb_matrix = '3_Build_matrix.ipynb'\n",
    "nb_read_contracts_a = '4A_Read_Contract.ipynb'\n",
    "nb_read_contracts_b = '4B_Ver_Energia.ipynb'"
   ]
  },
  {
   "cell_type": "code",
   "execution_count": 14,
   "metadata": {},
   "outputs": [
    {
     "data": {
      "text/plain": [
       "'c:\\\\Users\\\\mikel.perez\\\\0_Python_Projects\\\\shared_data\\\\db\\\\facturas_elec_manual.pkl'"
      ]
     },
     "execution_count": 14,
     "metadata": {},
     "output_type": "execute_result"
    }
   ],
   "source": [
    "db_elec_path = os.path.join(shared_files_path, 'db','facturas_elec.db')\n",
    "db_elec_manual_path = os.path.join(shared_files_path, 'db','facturas_elec_manual.pkl')\n",
    "path_load_parquet = os.path.join(shared_files_path, 'db','elec_load.parquet')\n",
    "db_elec_manual_path"
   ]
  },
  {
   "cell_type": "code",
   "execution_count": 19,
   "metadata": {},
   "outputs": [
    {
     "data": {
      "application/vnd.jupyter.widget-view+json": {
       "model_id": "31981fb1c1724740a40c634a76ad8c55",
       "version_major": 2,
       "version_minor": 0
      },
      "text/plain": [
       "Executing:   0%|          | 0/10 [00:00<?, ?cell/s]"
      ]
     },
     "metadata": {},
     "output_type": "display_data"
    },
    {
     "data": {
      "text/plain": [
       "{'cells': [{'cell_type': 'code',\n",
       "   'execution_count': 1,\n",
       "   'id': '6121f044',\n",
       "   'metadata': {'execution': {'iopub.status.busy': '2024-12-18T09:46:27.951027Z',\n",
       "     'iopub.execute_input': '2024-12-18T09:46:27.951027Z',\n",
       "     'shell.execute_reply': '2024-12-18T09:46:28.487194Z',\n",
       "     'iopub.status.idle': '2024-12-18T09:46:28.487194Z'},\n",
       "    'papermill': {'exception': False,\n",
       "     'start_time': '2024-12-18T09:46:27.951027',\n",
       "     'end_time': '2024-12-18T09:46:28.489204',\n",
       "     'duration': 0.538177,\n",
       "     'status': 'completed'},\n",
       "    'tags': []},\n",
       "   'outputs': [],\n",
       "   'source': 'import os\\nimport pandas as pd\\nfrom datetime import datetime\\nimport urllib3\\nurllib3.disable_warnings(urllib3.exceptions.InsecureRequestWarning)'},\n",
       "  {'cell_type': 'code',\n",
       "   'execution_count': 2,\n",
       "   'id': '562ac422',\n",
       "   'metadata': {'execution': {'iopub.status.busy': '2024-12-18T09:46:28.496208Z',\n",
       "     'iopub.execute_input': '2024-12-18T09:46:28.497209Z',\n",
       "     'iopub.status.idle': '2024-12-18T09:46:28.502196Z',\n",
       "     'shell.execute_reply': '2024-12-18T09:46:28.502196Z'},\n",
       "    'papermill': {'exception': False,\n",
       "     'start_time': '2024-12-18T09:46:28.492200',\n",
       "     'end_time': '2024-12-18T09:46:28.502196',\n",
       "     'duration': 0.009996,\n",
       "     'status': 'completed'},\n",
       "    'tags': ['parameters']},\n",
       "   'outputs': [],\n",
       "   'source': '# Parameters\\ncommon_modules_path = \"c:\\\\\\\\Users\\\\\\\\mikel.perez\\\\\\\\0_Python_Projects\\\\\\\\shared_data\\\\\\\\modules\"\\ndb_elec_path = \"c:\\\\\\\\Users\\\\\\\\mikel.perez\\\\\\\\0_Python_Projects\\\\\\\\shared_data\\\\\\\\db\\\\\\\\facturas_elec.db\"\\nyear = 2024\\npath_load_elec_folder = \"c:\\\\\\\\Users\\\\\\\\mikel.perez\\\\\\\\0_Python_Projects\\\\\\\\shared_data\\\\\\\\data\\\\\\\\load\\\\\\\\elec\"\\npath_load_parquet = \"c:\\\\\\\\Users\\\\\\\\mikel.perez\\\\\\\\0_Python_Projects\\\\\\\\shared_data\\\\\\\\db\\\\\\\\elec_load.parquet\"\\nfestivos_path = \"c:\\\\\\\\Users\\\\\\\\mikel.perez\\\\\\\\0_Python_Projects\\\\\\\\shared_data\\\\\\\\data\\\\\\\\elec\\\\\\\\festivos\"\\nperiodos_cal_path = \"c:\\\\\\\\Users\\\\\\\\mikel.perez\\\\\\\\0_Python_Projects\\\\\\\\shared_data\\\\\\\\data\\\\\\\\elec\\\\\\\\calendario_periodos.xlsx\"\\nprocessed_files_path = \"c:\\\\\\\\Users\\\\\\\\mikel.perez\\\\\\\\0_Python_Projects\\\\\\\\shared_data\\\\\\\\data\\\\\\\\load\\\\\\\\elec\\\\\\\\processed_files.json\"'},\n",
       "  {'id': 'c263d2a0',\n",
       "   'cell_type': 'code',\n",
       "   'metadata': {'tags': ['injected-parameters'],\n",
       "    'papermill': {'exception': False,\n",
       "     'start_time': '2024-12-18T09:46:28.502196',\n",
       "     'end_time': '2024-12-18T09:46:28.519650',\n",
       "     'duration': 0.017454,\n",
       "     'status': 'completed'},\n",
       "    'execution': {'iopub.status.busy': '2024-12-18T09:46:28.509230Z',\n",
       "     'iopub.execute_input': '2024-12-18T09:46:28.509230Z',\n",
       "     'iopub.status.idle': '2024-12-18T09:46:28.518651Z',\n",
       "     'shell.execute_reply': '2024-12-18T09:46:28.517644Z'}},\n",
       "   'execution_count': 3,\n",
       "   'source': '# Parameters\\ncommon_modules_path = \"c:\\\\\\\\Users\\\\\\\\mikel.perez\\\\\\\\0_Python_Projects\\\\\\\\shared_data\\\\\\\\modules\"\\nyear = 2024\\ndb_elec_path = \"c:\\\\\\\\Users\\\\\\\\mikel.perez\\\\\\\\0_Python_Projects\\\\\\\\shared_data\\\\\\\\db\\\\\\\\facturas_elec.db\"\\npath_load_elec_folder = \"c:\\\\\\\\Users\\\\\\\\mikel.perez\\\\\\\\0_Python_Projects\\\\\\\\shared_data\\\\\\\\data\\\\\\\\load\\\\\\\\elec\"\\npath_load_parquet = \"c:\\\\\\\\Users\\\\\\\\mikel.perez\\\\\\\\0_Python_Projects\\\\\\\\shared_data\\\\\\\\db\\\\\\\\elec_load.parquet\"\\nfestivos_path = \"c:\\\\\\\\Users\\\\\\\\mikel.perez\\\\\\\\0_Python_Projects\\\\\\\\shared_data\\\\\\\\data\\\\\\\\elec\\\\\\\\festivos\"\\nperiodos_cal_path = \"c:\\\\\\\\Users\\\\\\\\mikel.perez\\\\\\\\0_Python_Projects\\\\\\\\shared_data\\\\\\\\data\\\\\\\\elec\\\\\\\\calendario_periodos.xlsx\"\\nprocessed_files_path = \"c:\\\\\\\\Users\\\\\\\\mikel.perez\\\\\\\\0_Python_Projects\\\\\\\\shared_data\\\\\\\\data\\\\\\\\load\\\\\\\\processed_files.json\"\\n',\n",
       "   'outputs': []},\n",
       "  {'cell_type': 'code',\n",
       "   'execution_count': 4,\n",
       "   'id': '4675d371',\n",
       "   'metadata': {'execution': {'iopub.status.busy': '2024-12-18T09:46:28.525677Z',\n",
       "     'iopub.execute_input': '2024-12-18T09:46:28.525677Z',\n",
       "     'shell.execute_reply': '2024-12-18T09:46:28.528794Z',\n",
       "     'iopub.status.idle': '2024-12-18T09:46:28.529210Z'},\n",
       "    'papermill': {'exception': False,\n",
       "     'start_time': '2024-12-18T09:46:28.523148',\n",
       "     'end_time': '2024-12-18T09:46:28.530218',\n",
       "     'duration': 0.00707,\n",
       "     'status': 'completed'},\n",
       "    'tags': []},\n",
       "   'outputs': [],\n",
       "   'source': \"import sys \\n\\nsys.path.append(common_modules_path)\\nsys.path.append('../modules')\"},\n",
       "  {'cell_type': 'code',\n",
       "   'execution_count': 5,\n",
       "   'id': '31aeb7e2',\n",
       "   'metadata': {'execution': {'iopub.status.busy': '2024-12-18T09:46:28.536219Z',\n",
       "     'iopub.execute_input': '2024-12-18T09:46:28.536219Z',\n",
       "     'shell.execute_reply': '2024-12-18T09:46:29.715820Z',\n",
       "     'iopub.status.idle': '2024-12-18T09:46:29.716868Z'},\n",
       "    'papermill': {'exception': False,\n",
       "     'start_time': '2024-12-18T09:46:28.532218',\n",
       "     'end_time': '2024-12-18T09:46:29.717830',\n",
       "     'duration': 1.185612,\n",
       "     'status': 'completed'},\n",
       "    'tags': []},\n",
       "   'outputs': [],\n",
       "   'source': 'import load\\nfrom dicts import provider_dict'},\n",
       "  {'cell_type': 'code',\n",
       "   'execution_count': 6,\n",
       "   'id': 'efe3f816',\n",
       "   'metadata': {'execution': {'iopub.status.busy': '2024-12-18T09:46:29.723830Z',\n",
       "     'iopub.execute_input': '2024-12-18T09:46:29.724828Z',\n",
       "     'shell.execute_reply': '2024-12-18T09:46:29.732631Z',\n",
       "     'iopub.status.idle': '2024-12-18T09:46:29.733645Z'},\n",
       "    'papermill': {'exception': False,\n",
       "     'start_time': '2024-12-18T09:46:29.720877',\n",
       "     'end_time': '2024-12-18T09:46:29.735643',\n",
       "     'duration': 0.014766,\n",
       "     'status': 'completed'},\n",
       "    'tags': []},\n",
       "   'outputs': [],\n",
       "   'source': 'Load = load.Load(year=year,\\n                 periodos_path=periodos_cal_path,\\n                 festivos_path=festivos_path,\\n                 base_path=path_load_elec_folder,\\n                 load_path=path_load_parquet,\\n                 provider_dict=provider_dict,\\n                 processed_files_path=processed_files_path)'},\n",
       "  {'cell_type': 'code',\n",
       "   'execution_count': 7,\n",
       "   'id': '7a60c9b6',\n",
       "   'metadata': {'execution': {'iopub.status.busy': '2024-12-18T09:46:29.738893Z',\n",
       "     'iopub.execute_input': '2024-12-18T09:46:29.738893Z',\n",
       "     'iopub.status.idle': '2024-12-18T09:46:29.753050Z',\n",
       "     'shell.execute_reply': '2024-12-18T09:46:29.753050Z'},\n",
       "    'papermill': {'exception': False,\n",
       "     'start_time': '2024-12-18T09:46:29.738893',\n",
       "     'end_time': '2024-12-18T09:46:29.754358',\n",
       "     'duration': 0.015465,\n",
       "     'status': 'completed'},\n",
       "    'tags': []},\n",
       "   'outputs': [{'output_type': 'stream',\n",
       "     'name': 'stdout',\n",
       "     'text': 'Processing provider: cepsa\\n  Skipping already processed file: WARNER3_C_01-01-2024 - 31-01-2024__47060416.xls\\n  Skipping already processed file: WARNER3_C_01-02-2024 - 29-02-2024__11068735.xls\\n  Skipping already processed file: WARNER3_C_01-03-2024 - 31-03-2024__12de5a25.xls\\n  Skipping already processed file: WARNER3_C_01-04-2024 - 30-04-2024__98df2039.xls\\n  Skipping already processed file: WARNER3_C_01-05-2024 - 31-05-2024__d6920d43.xls\\n  Skipping already processed file: WARNER3_C_01-06-2024 - 30-06-2024__f70dd39d.xls\\n  Skipping already processed file: WARNER3_C_01-07-2024 - 31-07-2024__ae313d09.xls\\n  Skipping already processed file: WARNER3_C_01-08-2024 - 31-08-2024__fad32128.xls\\n  Skipping already processed file: WARNER3_C_01-09-2023 - 30-09-2023__d5a1f395.xls\\n  Skipping already processed file: WARNER3_C_01-09-2024 - 30-09-2024__e4e2cea0.xls\\n  Skipping already processed file: WARNER3_C_01-10-2023 - 31-10-2023__8202d80c.xls\\n  Skipping already processed file: WARNER3_C_01-10-2024 - 31-10-2024__86095bff.xls\\n  Skipping already processed file: WARNER3_C_01-11-2023 - 30-11-2023__6e11ea7a.xls\\n  Skipping already processed file: WARNER3_C_01-12-2023 - 31-12-2023__0dbab11f.xls\\n  Skipping already processed file: WARNER4_C_01-01-2024 - 31-01-2024__6ea873a1.xls\\n  Skipping already processed file: WARNER4_C_01-02-2024 - 29-02-2024__4f4d9faa.xls\\n  Skipping already processed file: WARNER4_C_01-03-2024 - 31-03-2024__e43953e4.xls\\n  Skipping already processed file: WARNER4_C_01-04-2024 - 30-04-2024__63f2f35e.xls\\n  Skipping already processed file: WARNER4_C_01-05-2024 - 31-05-2024__05689075.xls\\n  Skipping already processed file: WARNER4_C_01-06-2024 - 30-06-2024__a814ec1f.xls\\n  Skipping already processed file: WARNER4_C_01-07-2024 - 31-07-2024__4e190f32.xls\\n  Skipping already processed file: WARNER4_C_01-08-2024 - 31-08-2024__98625bf8.xls\\n  Skipping already processed file: WARNER4_C_01-09-2024 - 30-09-2024__b7d18b15.xls\\n  Skipping already processed file: WARNER4_C_01-10-2023 - 31-10-2023__6054aefa.xls\\n  Skipping already processed file: WARNER4_C_01-10-2024 - 31-10-2024__ff4d7804.xls\\n  Skipping already processed file: WARNER4_C_01-11-2023 - 30-11-2023__6fd46a16.xls\\n  Skipping already processed file: WARNER4_C_01-11-2024 - 30-11-2024__1fc72a69.xls\\n  Skipping already processed file: WARNER4_C_01-12-2023 - 31-12-2023__668abab4.xls\\n  Skipping already processed file: WARNER_C_01-01-2024 - 31-01-2024__1860b381.xls\\n  Skipping already processed file: WARNER_C_01-02-2024 - 29-02-2024__a21f11e1.xls\\n  Skipping already processed file: WARNER_C_01-03-2024 - 31-03-2024__83c6de24.xls\\n  Skipping already processed file: WARNER_C_01-04-2024 - 30-04-2024__fd25e7ee.xls\\n  Skipping already processed file: WARNER_C_01-05-2024 - 31-05-2024__64c304ac.xls\\n  Skipping already processed file: WARNER_C_01-06-2024 - 30-06-2024__cc8aad9a.xls\\n  Skipping already processed file: WARNER_C_01-07-2024 - 31-07-2024__e77525e7.xls\\n  Skipping already processed file: WARNER_C_01-08-2024 - 31-08-2024__5ce6d5e9.xls\\n  Skipping already processed file: WARNER_C_01-09-2024 - 30-09-2024__988cf638.xls\\n  Skipping already processed file: WARNER_C_01-10-2024 - 31-10-2024__ed414c53.xls\\n  Skipping already processed file: WARNER_C_01-11-2023 - 30-11-2023__e3520298.xls\\n  Skipping already processed file: WARNER_C_01-11-2024 - 30-11-2024__442ab642.xls\\n  Skipping already processed file: WARNER_C_01-12-2023 - 31-12-2023__ae706903.xls\\nProcessing provider: creara\\n  Skipping already processed file: 6749c2da6ac51.csv\\n  Skipping already processed file: 6749c2ece80e6.csv\\n  Skipping already processed file: 6749c2f706444.csv\\n  Skipping already processed file: 6749c3044a9a3.csv\\n  Skipping already processed file: 6749c30f94355.csv\\n  Skipping already processed file: 6749c31c95dce.csv\\n  Skipping already processed file: 6749c327d2dad.csv\\n  Skipping already processed file: 6749c34a0971d.csv\\n  Skipping already processed file: 6749c3564e0de.csv\\n  Skipping already processed file: 6749c36396f80.csv\\n  Skipping already processed file: 6749c36d91aae.csv\\n  Skipping already processed file: 6749c3833495a.csv\\n  Skipping already processed file: 6749c38d88e31.csv\\n  Skipping already processed file: 6749c3967a886.csv\\n  Skipping already processed file: 6749c3a1db2dc.csv\\n  Skipping already processed file: 6749c3d1be4c1.csv\\n  Skipping already processed file: 6749c3de9b13c.csv\\n  Skipping already processed file: 6749c3e8bc876.csv\\n  Skipping already processed file: 6749c3f46a1bc.csv\\n  Skipping already processed file: 6749c4184efc1.csv\\n  Skipping already processed file: 6749c42514a6d.csv\\n  Skipping already processed file: 6749c4314b902.csv\\n  Skipping already processed file: 6749c43d0b2fc.csv\\n  Skipping already processed file: 6749c4496cf5a.csv\\n  Skipping already processed file: 6749c4598e98b.csv\\n  Skipping already processed file: 6749c46863c0e.csv\\n  Skipping already processed file: 6749c5613e9ad.csv\\n  Skipping already processed file: 6749c56d148eb.csv\\n  Skipping already processed file: 6749c579a7854.csv\\n  Skipping already processed file: 6749c583eedc0.csv\\n  Skipping already processed file: 6749c59f8b8e8.csv\\n  Skipping already processed file: 6749c5b807b43.csv\\n  Skipping already processed file: 6749c5c7d6c75.csv\\n  Skipping already processed file: 6749c5d38f65a.csv\\n  Skipping already processed file: 6749c5dfe4488.csv\\n  Skipping already processed file: 6749c5eb62c39.csv\\n  Skipping already processed file: 6749c5f57f934.csv\\n  Skipping already processed file: 6749c6008f385.csv\\n  Skipping already processed file: 6749c60cea9f4.csv\\n  Skipping already processed file: 6749c61beb8ce.csv\\n  Skipping already processed file: 6749c6290cee0.csv\\n  Skipping already processed file: 6749c6358b232.csv\\nProcessing provider: linkener\\n  Skipping already processed file: template_B_20231031_H_1731947935.3285.csv\\n  Skipping already processed file: template_B_20240501_Q_1732724179.4717.csv\\n  Skipping already processed file: template_B_20241101_H_1733128673.0751.csv\\n  Skipping already processed file: template_B_20241101_Q_1733128698.2432.csv\\nProcessing provider: seinon\\n  Skipping already processed file: nov23_oct24.xlsx\\n  Skipping already processed file: nov23_oct24_quarter.xlsx\\n  Skipping already processed file: nov_hour.xlsx\\n  Skipping already processed file: nov_quarter.xlsx\\nProcessing provider: creara_quarter\\n  Skipping already processed file: 674f59b2ccdbd.csv\\n  Skipping already processed file: 674f59c4b8a8d.csv\\n  Skipping already processed file: 674f59d25aaf7.csv\\n  Skipping already processed file: 674f59e7cc77b.csv\\n  Skipping already processed file: 674f59f503482.csv\\n  Skipping already processed file: 674f5a03726f4.csv\\n  Skipping already processed file: 674f5a1238cb7.csv\\n  Skipping already processed file: 674f5a22272e9.csv\\n  Skipping already processed file: 674f5a315dcf2.csv\\n  Skipping already processed file: 674f5a42f10e5.csv\\n  Skipping already processed file: 674f5a52e3c32.csv\\n  Skipping already processed file: 674f5a6467e9f.csv\\n  Skipping already processed file: 674f5a797d909.csv\\n  Skipping already processed file: 674f5a8c7ab72.csv\\n  Skipping already processed file: 674f5aa6076bc.csv\\n  Skipping already processed file: 674f5ab78db52.csv\\n  Skipping already processed file: 674f5ac982272.csv\\n  Skipping already processed file: 674f5adb0c45a.csv\\n  Skipping already processed file: 674f5aeb73e94.csv\\n  Skipping already processed file: 674f5afc2e9f7.csv\\n  Skipping already processed file: 674f5b13210eb.csv\\n  Skipping already processed file: 674f5b2417ef3.csv\\n  Skipping already processed file: 674f5b42dee24.csv\\n  Skipping already processed file: 674f5b59c362d.csv\\n  Skipping already processed file: 674f5b6a3ade2.csv\\n  Skipping already processed file: 674f5b7ad384c.csv\\n  Skipping already processed file: 674f5b8cd1efe.csv\\n  Skipping already processed file: 674f5ba4a5777.csv\\n  Skipping already processed file: 674f5bb549dd6.csv\\n  Skipping already processed file: 674f5c6e23491.csv\\n  Skipping already processed file: 674f5c81ed998.csv\\n  Skipping already processed file: 674f5c9259805.csv\\n  Skipping already processed file: 674f5cc6d7834.csv\\n  Skipping already processed file: 674f5cd83bc04.csv\\n  Skipping already processed file: 674f5ce8bc546.csv\\n  Skipping already processed file: 674f5cf975f55.csv\\n  Skipping already processed file: 674f5d0f021da.csv\\n  Skipping already processed file: 674f5d27d8cca.csv\\n  Skipping already processed file: 674f5d4ad090d.csv\\n  Skipping already processed file: 674f5d5abec8d.csv\\n  Skipping already processed file: 674f5d6ca8a78.csv\\n  Skipping already processed file: 674f5d84907b0.csv\\n  Skipping already processed file: 674f5dfe5d41e.csv\\n  Skipping already processed file: 674f5e1016298.csv\\n  Skipping already processed file: 674f5e6dd6c17.csv\\n  Skipping already processed file: 674f5e8c74bc8.csv\\n  Skipping already processed file: 674f5e9d0462c.csv\\n  Skipping already processed file: 674f5eada1fc3.csv\\n  Skipping already processed file: 674f5eb99126a.csv\\n  Skipping already processed file: 674f5ec75d223.csv\\n  Skipping already processed file: 674f5ed52df46.csv\\n  Skipping already processed file: 674f5ee5db664.csv\\n  Skipping already processed file: 674f5ef53c351.csv\\n  Skipping already processed file: 674f5f058fda0.csv\\n  Skipping already processed file: 674f5f1344af8.csv\\n  Skipping already processed file: 674f5f2296284.csv\\n  Skipping already processed file: 674f5f30bb56d.csv\\n  Skipping already processed file: 674f5f3fdf721.csv\\n  Skipping already processed file: 674f5f4fd3452.csv\\n  Skipping already processed file: 674f5f6062a5e.csv\\n  Skipping already processed file: 674f5f71c0b21.csv\\n  Skipping already processed file: 674f5f843866c.csv\\n  Skipping already processed file: 674f5f9504035.csv\\n  Skipping already processed file: 674f5fa60c6ef.csv\\n  Skipping already processed file: 674f5fbf9a703.csv\\n  Skipping already processed file: 674f601529ef9.csv\\n  Skipping already processed file: 674f602e5f405.csv\\n  Skipping already processed file: 674f603f22900.csv\\n  Skipping already processed file: 674f6057de261.csv\\n  Skipping already processed file: 674f606c6da13.csv\\n  Skipping already processed file: 674f60868ca13.csv\\n  Skipping already processed file: 674f612d28339.csv\\n  Skipping already processed file: 674f6145e0d2e.csv\\n  Skipping already processed file: 674f6155de038.csv\\n  Skipping already processed file: 674f6166e7be1.csv\\n  Skipping already processed file: 674f6184cb447.csv\\n  Skipping already processed file: 674f61a9beb4d.csv\\n  Skipping already processed file: 674f61beed389.csv\\n  Skipping already processed file: 674f61d1964c8.csv\\n  Skipping already processed file: 674f61e3899c2.csv\\n  Skipping already processed file: 674f61f584ce2.csv\\n  Skipping already processed file: 674f6210b84af.csv\\n  Skipping already processed file: 674f621e13865.csv\\n  Skipping already processed file: 674f62341d123.csv\\n  Skipping already processed file: 674f85555b5a4.csv\\n'}],\n",
       "   'source': 'Load.compile_all_providers()'},\n",
       "  {'cell_type': 'code',\n",
       "   'execution_count': 8,\n",
       "   'id': '9e5e93e7',\n",
       "   'metadata': {'execution': {'iopub.status.busy': '2024-12-18T09:46:29.754358Z',\n",
       "     'iopub.execute_input': '2024-12-18T09:46:29.754358Z',\n",
       "     'iopub.status.idle': '2024-12-18T09:46:29.970622Z',\n",
       "     'shell.execute_reply': '2024-12-18T09:46:29.969871Z'},\n",
       "    'papermill': {'exception': False,\n",
       "     'start_time': '2024-12-18T09:46:29.754358',\n",
       "     'end_time': '2024-12-18T09:46:29.971744',\n",
       "     'duration': 0.217386,\n",
       "     'status': 'completed'},\n",
       "    'tags': []},\n",
       "   'outputs': [{'output_type': 'stream',\n",
       "     'name': 'stdout',\n",
       "     'text': 'No new load data to process.\\n'}],\n",
       "   'source': '# Load.load_df = df_load_w_periodos\\nLoad.save_to_parquet()'},\n",
       "  {'cell_type': 'code',\n",
       "   'execution_count': 9,\n",
       "   'id': '136d46ab',\n",
       "   'metadata': {'execution': {'iopub.status.busy': '2024-12-18T09:46:29.978638Z',\n",
       "     'iopub.execute_input': '2024-12-18T09:46:29.978638Z',\n",
       "     'iopub.status.idle': '2024-12-18T09:46:30.157200Z',\n",
       "     'shell.execute_reply': '2024-12-18T09:46:30.157200Z'},\n",
       "    'papermill': {'exception': False,\n",
       "     'start_time': '2024-12-18T09:46:29.974694',\n",
       "     'end_time': '2024-12-18T09:46:30.157200',\n",
       "     'duration': 0.182506,\n",
       "     'status': 'completed'},\n",
       "    'tags': []},\n",
       "   'outputs': [{'output_type': 'execute_result',\n",
       "     'metadata': {},\n",
       "     'data': {'text/plain': '                        cups            datetime      resolution  periodo  \\\\\\n0       ES0021000021881819JF 2024-12-01 23:45:00  quarter-hourly        6   \\n1       ES0021000021881819JF 2024-11-15 23:45:00  quarter-hourly        3   \\n2       ES0021000021881819JF 2024-11-10 17:00:00  quarter-hourly        6   \\n3       ES0021000021881819JF 2024-11-10 16:45:00  quarter-hourly        6   \\n4       ES0021000021881819JF 2024-11-10 16:30:00  quarter-hourly        6   \\n...                      ...                 ...             ...      ...   \\n981424  ES0173000000400220DS 2024-10-27 02:15:00  quarter-hourly        6   \\n981425  ES0173000000400220DS 2024-10-27 02:30:00  quarter-hourly        6   \\n981426  ES0173000000400220DS 2024-10-27 02:30:00  quarter-hourly        6   \\n981427  ES0173000000400220DS 2024-10-27 02:45:00  quarter-hourly        6   \\n981428  ES0173000000400220DS 2024-10-27 02:45:00  quarter-hourly        6   \\n\\n         load                                       file  file_creation_time  \\n0        90.0                           nov_quarter.xlsx        1.734515e+09  \\n1        98.0                           nov_quarter.xlsx        1.734515e+09  \\n2       176.0                           nov_quarter.xlsx        1.734515e+09  \\n3       171.0                           nov_quarter.xlsx        1.734515e+09  \\n4       163.0                           nov_quarter.xlsx        1.734515e+09  \\n...       ...                                        ...                 ...  \\n981424   25.0  template_B_20240501_Q_1732724179.4717.csv        1.732781e+09  \\n981425   24.0  template_B_20240501_Q_1732724179.4717.csv        1.732781e+09  \\n981426   23.0  template_B_20240501_Q_1732724179.4717.csv        1.732781e+09  \\n981427   24.0  template_B_20240501_Q_1732724179.4717.csv        1.732781e+09  \\n981428   24.0  template_B_20240501_Q_1732724179.4717.csv        1.732781e+09  \\n\\n[981429 rows x 7 columns]',\n",
       "      'text/html': '<div>\\n<style scoped>\\n    .dataframe tbody tr th:only-of-type {\\n        vertical-align: middle;\\n    }\\n\\n    .dataframe tbody tr th {\\n        vertical-align: top;\\n    }\\n\\n    .dataframe thead th {\\n        text-align: right;\\n    }\\n</style>\\n<table border=\"1\" class=\"dataframe\">\\n  <thead>\\n    <tr style=\"text-align: right;\">\\n      <th></th>\\n      <th>cups</th>\\n      <th>datetime</th>\\n      <th>resolution</th>\\n      <th>periodo</th>\\n      <th>load</th>\\n      <th>file</th>\\n      <th>file_creation_time</th>\\n    </tr>\\n  </thead>\\n  <tbody>\\n    <tr>\\n      <th>0</th>\\n      <td>ES0021000021881819JF</td>\\n      <td>2024-12-01 23:45:00</td>\\n      <td>quarter-hourly</td>\\n      <td>6</td>\\n      <td>90.0</td>\\n      <td>nov_quarter.xlsx</td>\\n      <td>1.734515e+09</td>\\n    </tr>\\n    <tr>\\n      <th>1</th>\\n      <td>ES0021000021881819JF</td>\\n      <td>2024-11-15 23:45:00</td>\\n      <td>quarter-hourly</td>\\n      <td>3</td>\\n      <td>98.0</td>\\n      <td>nov_quarter.xlsx</td>\\n      <td>1.734515e+09</td>\\n    </tr>\\n    <tr>\\n      <th>2</th>\\n      <td>ES0021000021881819JF</td>\\n      <td>2024-11-10 17:00:00</td>\\n      <td>quarter-hourly</td>\\n      <td>6</td>\\n      <td>176.0</td>\\n      <td>nov_quarter.xlsx</td>\\n      <td>1.734515e+09</td>\\n    </tr>\\n    <tr>\\n      <th>3</th>\\n      <td>ES0021000021881819JF</td>\\n      <td>2024-11-10 16:45:00</td>\\n      <td>quarter-hourly</td>\\n      <td>6</td>\\n      <td>171.0</td>\\n      <td>nov_quarter.xlsx</td>\\n      <td>1.734515e+09</td>\\n    </tr>\\n    <tr>\\n      <th>4</th>\\n      <td>ES0021000021881819JF</td>\\n      <td>2024-11-10 16:30:00</td>\\n      <td>quarter-hourly</td>\\n      <td>6</td>\\n      <td>163.0</td>\\n      <td>nov_quarter.xlsx</td>\\n      <td>1.734515e+09</td>\\n    </tr>\\n    <tr>\\n      <th>...</th>\\n      <td>...</td>\\n      <td>...</td>\\n      <td>...</td>\\n      <td>...</td>\\n      <td>...</td>\\n      <td>...</td>\\n      <td>...</td>\\n    </tr>\\n    <tr>\\n      <th>981424</th>\\n      <td>ES0173000000400220DS</td>\\n      <td>2024-10-27 02:15:00</td>\\n      <td>quarter-hourly</td>\\n      <td>6</td>\\n      <td>25.0</td>\\n      <td>template_B_20240501_Q_1732724179.4717.csv</td>\\n      <td>1.732781e+09</td>\\n    </tr>\\n    <tr>\\n      <th>981425</th>\\n      <td>ES0173000000400220DS</td>\\n      <td>2024-10-27 02:30:00</td>\\n      <td>quarter-hourly</td>\\n      <td>6</td>\\n      <td>24.0</td>\\n      <td>template_B_20240501_Q_1732724179.4717.csv</td>\\n      <td>1.732781e+09</td>\\n    </tr>\\n    <tr>\\n      <th>981426</th>\\n      <td>ES0173000000400220DS</td>\\n      <td>2024-10-27 02:30:00</td>\\n      <td>quarter-hourly</td>\\n      <td>6</td>\\n      <td>23.0</td>\\n      <td>template_B_20240501_Q_1732724179.4717.csv</td>\\n      <td>1.732781e+09</td>\\n    </tr>\\n    <tr>\\n      <th>981427</th>\\n      <td>ES0173000000400220DS</td>\\n      <td>2024-10-27 02:45:00</td>\\n      <td>quarter-hourly</td>\\n      <td>6</td>\\n      <td>24.0</td>\\n      <td>template_B_20240501_Q_1732724179.4717.csv</td>\\n      <td>1.732781e+09</td>\\n    </tr>\\n    <tr>\\n      <th>981428</th>\\n      <td>ES0173000000400220DS</td>\\n      <td>2024-10-27 02:45:00</td>\\n      <td>quarter-hourly</td>\\n      <td>6</td>\\n      <td>24.0</td>\\n      <td>template_B_20240501_Q_1732724179.4717.csv</td>\\n      <td>1.732781e+09</td>\\n    </tr>\\n  </tbody>\\n</table>\\n<p>981429 rows × 7 columns</p>\\n</div>'},\n",
       "     'execution_count': 9}],\n",
       "   'source': 'df = pd.read_parquet(path_load_parquet)\\ndf'},\n",
       "  {'cell_type': 'code',\n",
       "   'execution_count': 10,\n",
       "   'id': '03eb4b9f',\n",
       "   'metadata': {'execution': {'iopub.status.busy': '2024-12-18T09:46:30.170412Z',\n",
       "     'iopub.execute_input': '2024-12-18T09:46:30.170412Z',\n",
       "     'iopub.status.idle': '2024-12-18T09:46:30.316684Z',\n",
       "     'shell.execute_reply': '2024-12-18T09:46:30.315473Z'},\n",
       "    'papermill': {'exception': False,\n",
       "     'start_time': '2024-12-18T09:46:30.157200',\n",
       "     'end_time': '2024-12-18T09:46:30.316684',\n",
       "     'duration': 0.159484,\n",
       "     'status': 'completed'},\n",
       "    'tags': []},\n",
       "   'outputs': [{'output_type': 'stream',\n",
       "     'name': 'stdout',\n",
       "     'text': '\\nES0021000007935634YX '},\n",
       "    {'output_type': 'execute_result',\n",
       "     'metadata': {},\n",
       "     'data': {'text/plain': '                        cups            datetime      resolution  periodo  \\\\\\n260797  ES0021000007935634YX 2024-10-14 16:15:00  quarter-hourly        5   \\n261254  ES0021000007935634YX 2024-10-14 16:30:00  quarter-hourly        5   \\n260796  ES0021000007935634YX 2024-10-14 16:45:00  quarter-hourly        5   \\n261231  ES0021000007935634YX 2024-10-14 17:00:00  quarter-hourly        5   \\n259017  ES0021000007935634YX 2024-10-28 17:15:00  quarter-hourly        5   \\n258979  ES0021000007935634YX 2024-10-28 17:30:00  quarter-hourly        5   \\n258980  ES0021000007935634YX 2024-10-28 17:45:00  quarter-hourly        5   \\n258997  ES0021000007935634YX 2024-10-28 18:00:00  quarter-hourly        4   \\n\\n        load               file  file_creation_time  \\n260797   NaN  674f606c6da13.csv        1.733257e+09  \\n261254   NaN  674f606c6da13.csv        1.733257e+09  \\n260796   NaN  674f606c6da13.csv        1.733257e+09  \\n261231   NaN  674f606c6da13.csv        1.733257e+09  \\n259017   NaN  674f606c6da13.csv        1.733257e+09  \\n258979   NaN  674f606c6da13.csv        1.733257e+09  \\n258980   NaN  674f606c6da13.csv        1.733257e+09  \\n258997   NaN  674f606c6da13.csv        1.733257e+09  ',\n",
       "      'text/html': '<div>\\n<style scoped>\\n    .dataframe tbody tr th:only-of-type {\\n        vertical-align: middle;\\n    }\\n\\n    .dataframe tbody tr th {\\n        vertical-align: top;\\n    }\\n\\n    .dataframe thead th {\\n        text-align: right;\\n    }\\n</style>\\n<table border=\"1\" class=\"dataframe\">\\n  <thead>\\n    <tr style=\"text-align: right;\">\\n      <th></th>\\n      <th>cups</th>\\n      <th>datetime</th>\\n      <th>resolution</th>\\n      <th>periodo</th>\\n      <th>load</th>\\n      <th>file</th>\\n      <th>file_creation_time</th>\\n    </tr>\\n  </thead>\\n  <tbody>\\n    <tr>\\n      <th>260797</th>\\n      <td>ES0021000007935634YX</td>\\n      <td>2024-10-14 16:15:00</td>\\n      <td>quarter-hourly</td>\\n      <td>5</td>\\n      <td>NaN</td>\\n      <td>674f606c6da13.csv</td>\\n      <td>1.733257e+09</td>\\n    </tr>\\n    <tr>\\n      <th>261254</th>\\n      <td>ES0021000007935634YX</td>\\n      <td>2024-10-14 16:30:00</td>\\n      <td>quarter-hourly</td>\\n      <td>5</td>\\n      <td>NaN</td>\\n      <td>674f606c6da13.csv</td>\\n      <td>1.733257e+09</td>\\n    </tr>\\n    <tr>\\n      <th>260796</th>\\n      <td>ES0021000007935634YX</td>\\n      <td>2024-10-14 16:45:00</td>\\n      <td>quarter-hourly</td>\\n      <td>5</td>\\n      <td>NaN</td>\\n      <td>674f606c6da13.csv</td>\\n      <td>1.733257e+09</td>\\n    </tr>\\n    <tr>\\n      <th>261231</th>\\n      <td>ES0021000007935634YX</td>\\n      <td>2024-10-14 17:00:00</td>\\n      <td>quarter-hourly</td>\\n      <td>5</td>\\n      <td>NaN</td>\\n      <td>674f606c6da13.csv</td>\\n      <td>1.733257e+09</td>\\n    </tr>\\n    <tr>\\n      <th>259017</th>\\n      <td>ES0021000007935634YX</td>\\n      <td>2024-10-28 17:15:00</td>\\n      <td>quarter-hourly</td>\\n      <td>5</td>\\n      <td>NaN</td>\\n      <td>674f606c6da13.csv</td>\\n      <td>1.733257e+09</td>\\n    </tr>\\n    <tr>\\n      <th>258979</th>\\n      <td>ES0021000007935634YX</td>\\n      <td>2024-10-28 17:30:00</td>\\n      <td>quarter-hourly</td>\\n      <td>5</td>\\n      <td>NaN</td>\\n      <td>674f606c6da13.csv</td>\\n      <td>1.733257e+09</td>\\n    </tr>\\n    <tr>\\n      <th>258980</th>\\n      <td>ES0021000007935634YX</td>\\n      <td>2024-10-28 17:45:00</td>\\n      <td>quarter-hourly</td>\\n      <td>5</td>\\n      <td>NaN</td>\\n      <td>674f606c6da13.csv</td>\\n      <td>1.733257e+09</td>\\n    </tr>\\n    <tr>\\n      <th>258997</th>\\n      <td>ES0021000007935634YX</td>\\n      <td>2024-10-28 18:00:00</td>\\n      <td>quarter-hourly</td>\\n      <td>4</td>\\n      <td>NaN</td>\\n      <td>674f606c6da13.csv</td>\\n      <td>1.733257e+09</td>\\n    </tr>\\n  </tbody>\\n</table>\\n</div>'},\n",
       "     'execution_count': 10}],\n",
       "   'source': \"# for cups in df['cups'].unique():\\ncups = 'ES0021000007935634YX'\\ndf_filtered = df[(df['datetime'] >= datetime(2023,12,1,0,0,0)) & \\n                (df['datetime'] <= datetime(2024,11,30,23,0,0)) &\\n                # (df['cups'].isin(['ES0021000011067252AV', 'ES0021000016029493JP', 'ES0031408627839001PG', 'ES0173000000400220DS'])) & \\n                (df['cups'] == cups) &\\n                (df['datetime'].dt.month.isin([10])) &\\n                (df['resolution'] == 'quarter-hourly')]\\n\\ndf_filtered = df_filtered.copy()\\ndf_filtered.sort_values(by=['cups', 'datetime'], inplace=True)\\n\\n    # df_filtered['year'] = df_filtered['datetime'].dt.year\\n    # df_filtered['month'] = df_filtered['datetime'].dt.month\\n\\n    # df_filtered.sort_values(by=['year', 'month', 'datetime'], axis=0, inplace=True)\\n    # df_filtered.to_excel('WARNER3_C.xlsx', index=False)\\n    # print(df_filtered.groupby([df_filtered['datetime'].dt.month, df_filtered['periodo']])['load'].sum())\\nprint(f'\\\\n{cups}', end=' ')\\n\\ndf_filtered[df_filtered['load'].isna()]\"}],\n",
       " 'metadata': {'kernelspec': {'display_name': 'work',\n",
       "   'language': 'python',\n",
       "   'name': 'python3'},\n",
       "  'language_info': {'name': 'python',\n",
       "   'version': '3.12.4',\n",
       "   'mimetype': 'text/x-python',\n",
       "   'codemirror_mode': {'name': 'ipython', 'version': 3},\n",
       "   'pygments_lexer': 'ipython3',\n",
       "   'nbconvert_exporter': 'python',\n",
       "   'file_extension': '.py'},\n",
       "  'papermill': {'default_parameters': {},\n",
       "   'duration': 4.283823,\n",
       "   'end_time': '2024-12-18T09:46:30.767659',\n",
       "   'environment_variables': {},\n",
       "   'exception': None,\n",
       "   'input_path': 'c:\\\\Users\\\\mikel.perez\\\\0_Python_Projects\\\\shared_data\\\\notebooks\\\\3_Compile_load.ipynb',\n",
       "   'output_path': 'c:\\\\Users\\\\mikel.perez\\\\0_Python_Projects\\\\shared_data\\\\notebooks\\\\3_Compile_load.ipynb',\n",
       "   'parameters': {'common_modules_path': 'c:\\\\Users\\\\mikel.perez\\\\0_Python_Projects\\\\shared_data\\\\modules',\n",
       "    'year': 2024,\n",
       "    'db_elec_path': 'c:\\\\Users\\\\mikel.perez\\\\0_Python_Projects\\\\shared_data\\\\db\\\\facturas_elec.db',\n",
       "    'path_load_elec_folder': 'c:\\\\Users\\\\mikel.perez\\\\0_Python_Projects\\\\shared_data\\\\data\\\\load\\\\elec',\n",
       "    'path_load_parquet': 'c:\\\\Users\\\\mikel.perez\\\\0_Python_Projects\\\\shared_data\\\\db\\\\elec_load.parquet',\n",
       "    'festivos_path': 'c:\\\\Users\\\\mikel.perez\\\\0_Python_Projects\\\\shared_data\\\\data\\\\elec\\\\festivos',\n",
       "    'periodos_cal_path': 'c:\\\\Users\\\\mikel.perez\\\\0_Python_Projects\\\\shared_data\\\\data\\\\elec\\\\calendario_periodos.xlsx',\n",
       "    'processed_files_path': 'c:\\\\Users\\\\mikel.perez\\\\0_Python_Projects\\\\shared_data\\\\data\\\\load\\\\processed_files.json'},\n",
       "   'start_time': '2024-12-18T09:46:26.483836',\n",
       "   'version': '2.6.0'}},\n",
       " 'nbformat': 4,\n",
       " 'nbformat_minor': 5}"
      ]
     },
     "execution_count": 19,
     "metadata": {},
     "output_type": "execute_result"
    }
   ],
   "source": [
    "pm.execute_notebook(\n",
    "    nb_load, nb_load,\n",
    "    parameters=dict(\n",
    "        common_modules_path = common_modules_path,\n",
    "        year = year,\n",
    "        db_elec_path = db_elec_path,\n",
    "        path_load_elec_folder = path_load_elec_folder,\n",
    "        path_load_parquet = path_load_parquet,\n",
    "        festivos_path = festivos_path,\n",
    "        periodos_cal_path = periodos_cal_path,\n",
    "        processed_files_path = processed_files_path\n",
    "    )\n",
    ")"
   ]
  }
 ],
 "metadata": {
  "kernelspec": {
   "display_name": "work",
   "language": "python",
   "name": "python3"
  },
  "language_info": {
   "codemirror_mode": {
    "name": "ipython",
    "version": 3
   },
   "file_extension": ".py",
   "mimetype": "text/x-python",
   "name": "python",
   "nbconvert_exporter": "python",
   "pygments_lexer": "ipython3",
   "version": "3.12.4"
  }
 },
 "nbformat": 4,
 "nbformat_minor": 2
}
