{
 "cells": [
  {
   "cell_type": "code",
   "execution_count": 1,
   "metadata": {},
   "outputs": [],
   "source": [
    "import pandas as pd\n",
    "from datetime import date, datetime, timedelta"
   ]
  },
  {
   "cell_type": "code",
   "execution_count": 2,
   "metadata": {
    "tags": [
     "parameters"
    ]
   },
   "outputs": [],
   "source": [
    "# # Parameters\n",
    "# common_data_path = 'c:\\\\Users\\\\mikel.perez\\\\0_Python_Projects\\\\shared_data\\\\data\\\\elec'\n",
    "# single_data_path = 'c:\\\\Users\\\\mikel.perez\\\\0_Python_Projects\\\\load_compilation\\\\data\\\\elec'\n",
    "# db_elec_path = 'c:\\\\Users\\\\mikel.perez\\\\0_Python_Projects - copia\\\\0_Python_projects_v2\\\\data\\\\processed\\\\elec\\\\facturas_elec.db'\n",
    "# path_load_parquet = \"c:\\\\Users\\\\mikel.perez\\\\0_Python_Projects\\\\shared_data\\\\db\\\\elec_load.parquet\"\n",
    "# db_elec_manual_path = \"c:\\\\Users\\\\mikel.perez\\\\0_Python_Projects\\\\shared_data\\\\db\\\\facturas_elec_manual.pkl\"\n",
    "# path_alias_elec = 'c:\\\\Users\\\\mikel.perez\\\\0_Python_Projects\\\\shared_data/customers/elec/alias_clientes_elec.xlsx'\n",
    "# path_load_elec_clean = \"c:\\\\Users\\\\mikel.perez\\\\0_Python_Projects\\\\load_compilation\\\\data\\\\load\\\\elec\\\\clean\\\\\"\n",
    "# start_date = date(2024,3,31)\n",
    "# end_date = date(2025,5,1)"
   ]
  },
  {
   "cell_type": "code",
   "execution_count": 3,
   "metadata": {},
   "outputs": [
    {
     "data": {
      "text/plain": [
       "'c:\\\\Users\\\\mikel.perez\\\\0_Python_projects_v2\\\\data\\\\load_compilation\\\\elec\\\\linkener'"
      ]
     },
     "execution_count": 3,
     "metadata": {},
     "output_type": "execute_result"
    }
   ],
   "source": [
    "from config.config_loader import Config\n",
    "import os\n",
    "\n",
    "config = Config(config_file=config_path)\n",
    "\n",
    "path_alias_elec = config.get_path('data_path.elec.customers.alias_elec')\n",
    "path_load_elec_folder = config.get_path('data_path.elec.load_compilation.folder')\n",
    "path_load_linkener = os.path.join(path_load_elec_folder, 'linkener')\n",
    "path_load_linkener"
   ]
  },
  {
   "cell_type": "code",
   "execution_count": 4,
   "metadata": {},
   "outputs": [],
   "source": [
    "import paramiko\n",
    "import json\n",
    "\n",
    "host = \"ftp01.linkener.com\"\n",
    "port = 22\n",
    "username = \"miquelignis\"\n",
    "password = \"O3jBGhD4\"\n",
    "\n",
    "record_path = path_load_linkener\n",
    "\n",
    "local_dir = path_load_linkener\n",
    "remote_dir = \"/data/export/\"\n"
   ]
  },
  {
   "cell_type": "code",
   "execution_count": 5,
   "metadata": {},
   "outputs": [
    {
     "name": "stdout",
     "output_type": "stream",
     "text": [
      "Conectando a ftp01.linkener.com:22 como miquelignis...\n",
      "Descargando 'template_B_20250504_H.csv'...\n",
      "Guardado en: c:\\Users\\mikel.perez\\0_Python_projects_v2\\data\\load_compilation\\elec\\linkener\\template_B_20250504_H.csv\n",
      "Descargando 'template_B_20250504_Q.csv'...\n",
      "Guardado en: c:\\Users\\mikel.perez\\0_Python_projects_v2\\data\\load_compilation\\elec\\linkener\\template_B_20250504_Q.csv\n",
      "Conexión cerrada para ftp01.linkener.com:22.\n"
     ]
    }
   ],
   "source": [
    "os.makedirs(local_dir, exist_ok=True)\n",
    "\n",
    "# Connect to SFTP\n",
    "transport = paramiko.Transport((host, port))\n",
    "transport.connect(username=username, password=password)\n",
    "sftp = paramiko.SFTPClient.from_transport(transport)\n",
    "\n",
    "try:\n",
    "    print(f\"Conectando a {host}:{port} como {username}...\")\n",
    "\n",
    "    for attr in sftp.listdir_attr(remote_dir):\n",
    "        file_name = attr.filename\n",
    "        if 'CIERRES' not in file_name:\n",
    "    #         print(file_name)\n",
    "            remote_path = f\"{'data/export'}/{file_name}\"\n",
    "            local_path = os.path.join(local_dir, file_name)\n",
    "            # mod_time = attr.st_mtime\n",
    "\n",
    "            # # Check if file is new or modified\n",
    "            # prev_mod_time = downloaded_files.get(file_name)\n",
    "            # if prev_mod_time is None or mod_time > prev_mod_time:\n",
    "            print(f\"Descargando '{file_name}'...\")\n",
    "            sftp.get(remote_path, local_path)\n",
    "                # downloaded_files[file_name] = mod_time\n",
    "            print(f\"Guardado en: {local_path}\")\n",
    "            # else:\n",
    "            #     print(f\"'{file_name}' no ha cambiado. Se omite.\")\n",
    "\n",
    "finally:\n",
    "    sftp.close()\n",
    "    transport.close()\n",
    "    print(f\"Conexión cerrada para {host}:{port}.\")\n",
    "\n",
    "# # Save updated record\n",
    "# with open(record_path, 'w') as f:\n",
    "#     json.dump(downloaded_files, f, indent=2)\n"
   ]
  }
 ],
 "metadata": {
  "kernelspec": {
   "display_name": "work",
   "language": "python",
   "name": "python3"
  },
  "language_info": {
   "codemirror_mode": {
    "name": "ipython",
    "version": 3
   },
   "file_extension": ".py",
   "mimetype": "text/x-python",
   "name": "python",
   "nbconvert_exporter": "python",
   "pygments_lexer": "ipython3",
   "version": "3.12.4"
  }
 },
 "nbformat": 4,
 "nbformat_minor": 2
}
