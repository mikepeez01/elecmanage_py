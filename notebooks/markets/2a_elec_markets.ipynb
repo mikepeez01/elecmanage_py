{
 "cells": [
  {
   "cell_type": "code",
   "execution_count": 1,
   "id": "bef8bc96",
   "metadata": {
    "execution": {
     "iopub.execute_input": "2025-08-16T11:41:48.121528Z",
     "iopub.status.busy": "2025-08-16T11:41:48.120936Z",
     "iopub.status.idle": "2025-08-16T11:41:48.403289Z",
     "shell.execute_reply": "2025-08-16T11:41:48.403067Z"
    },
    "papermill": {
     "duration": 0.289817,
     "end_time": "2025-08-16T11:41:48.404059",
     "exception": false,
     "start_time": "2025-08-16T11:41:48.114242",
     "status": "completed"
    },
    "tags": []
   },
   "outputs": [],
   "source": [
    "import os\n",
    "import pandas as pd\n",
    "from datetime import datetime, timedelta, date, time\n",
    "import urllib3\n",
    "import logging\n",
    "from utils.logging_setup import logging_setup\n",
    "urllib3.disable_warnings(urllib3.exceptions.InsecureRequestWarning)"
   ]
  },
  {
   "cell_type": "code",
   "execution_count": 2,
   "id": "3b7e3553",
   "metadata": {
    "execution": {
     "iopub.execute_input": "2025-08-16T11:41:48.407101Z",
     "iopub.status.busy": "2025-08-16T11:41:48.406897Z",
     "iopub.status.idle": "2025-08-16T11:41:48.408687Z",
     "shell.execute_reply": "2025-08-16T11:41:48.408506Z"
    },
    "papermill": {
     "duration": 0.003941,
     "end_time": "2025-08-16T11:41:48.409228",
     "exception": false,
     "start_time": "2025-08-16T11:41:48.405287",
     "status": "completed"
    },
    "tags": []
   },
   "outputs": [],
   "source": [
    "version = 1\n",
    "token = 'HGEGOBANHUEY'\n",
    "esios_key = \"a27b325f0fbd4d8ffa46b6f2a015595b87d3bb247d28feed89efbb3bc650376f\"\n",
    "indicador = 600"
   ]
  },
  {
   "cell_type": "code",
   "execution_count": 3,
   "id": "e2b0f7ed",
   "metadata": {
    "execution": {
     "iopub.execute_input": "2025-08-16T11:41:48.410980Z",
     "iopub.status.busy": "2025-08-16T11:41:48.410897Z",
     "iopub.status.idle": "2025-08-16T11:41:48.412392Z",
     "shell.execute_reply": "2025-08-16T11:41:48.412187Z"
    },
    "papermill": {
     "duration": 0.00306,
     "end_time": "2025-08-16T11:41:48.413050",
     "exception": false,
     "start_time": "2025-08-16T11:41:48.409990",
     "status": "completed"
    },
    "tags": [
     "parameters"
    ]
   },
   "outputs": [],
   "source": [
    "# Parameters\n",
    "config_path = \"/Users/mikelperez/0_Python_projects_v3_reduced/0_Python_projects_reduced/configs/config.yaml\"\n",
    "log_name = \"markets_exe\"\n",
    "festivos_path = \"/Users/mikelperez/0_Python_projects_v3_reduced/0_Python_projects_reduced/data/regulation/elec/festivos\"\n",
    "periodos_cal_path = \"/Users/mikelperez/0_Python_projects_v3_reduced/0_Python_projects_reduced/data/regulation/elec/calendario_periodos.xlsx\"\n",
    "futures_path = \"/Users/mikelperez/0_Python_projects_v3_reduced/0_Python_projects_reduced/data/processed/elec/futuros_elec.parquet\"\n",
    "spot_path = \"/Users/mikelperez/0_Python_projects_v3_reduced/0_Python_projects_reduced/data/processed/elec/spot_elec.parquet\"\n",
    "spot_formated_path = \"/Users/mikelperez/0_Python_projects_v3_reduced/0_Python_projects_reduced/data/processed/elec/spot_h_periodos.pkl\"\n"
   ]
  },
  {
   "cell_type": "code",
   "execution_count": null,
   "id": "6dab5b9f",
   "metadata": {},
   "outputs": [],
   "source": [
    "logging_setup(log_name=log_name, config_path=config_path)"
   ]
  },
  {
   "cell_type": "code",
   "execution_count": 6,
   "id": "4533375b",
   "metadata": {
    "execution": {
     "iopub.execute_input": "2025-08-16T11:41:48.423132Z",
     "iopub.status.busy": "2025-08-16T11:41:48.423059Z",
     "iopub.status.idle": "2025-08-16T11:41:48.459027Z",
     "shell.execute_reply": "2025-08-16T11:41:48.458828Z"
    },
    "papermill": {
     "duration": 0.037579,
     "end_time": "2025-08-16T11:41:48.459735",
     "exception": false,
     "start_time": "2025-08-16T11:41:48.422156",
     "status": "completed"
    },
    "tags": []
   },
   "outputs": [],
   "source": [
    "from shared.esios_api import EsiosAPI"
   ]
  },
  {
   "cell_type": "code",
   "execution_count": 7,
   "id": "43e04477",
   "metadata": {
    "execution": {
     "iopub.execute_input": "2025-08-16T11:41:48.461852Z",
     "iopub.status.busy": "2025-08-16T11:41:48.461765Z",
     "iopub.status.idle": "2025-08-16T11:41:48.463853Z",
     "shell.execute_reply": "2025-08-16T11:41:48.463651Z"
    },
    "papermill": {
     "duration": 0.003811,
     "end_time": "2025-08-16T11:41:48.464415",
     "exception": false,
     "start_time": "2025-08-16T11:41:48.460604",
     "status": "completed"
    },
    "tags": []
   },
   "outputs": [],
   "source": [
    "api_esios = EsiosAPI(key=esios_key,\n",
    "                               df_prices=pd.DataFrame()\n",
    "                               )"
   ]
  },
  {
   "cell_type": "code",
   "execution_count": 8,
   "id": "7f8031c6",
   "metadata": {
    "execution": {
     "iopub.execute_input": "2025-08-16T11:41:48.466213Z",
     "iopub.status.busy": "2025-08-16T11:41:48.466140Z",
     "iopub.status.idle": "2025-08-16T11:41:48.467682Z",
     "shell.execute_reply": "2025-08-16T11:41:48.467524Z"
    },
    "papermill": {
     "duration": 0.002982,
     "end_time": "2025-08-16T11:41:48.468182",
     "exception": false,
     "start_time": "2025-08-16T11:41:48.465200",
     "status": "completed"
    },
    "tags": []
   },
   "outputs": [],
   "source": [
    "# Ejemplo de  descarga de cotizaciones de futuros para un proveedor de datos en concretoa través de API\n",
    "\n",
    "# if os.path.exists(futures_path):\n",
    "\n",
    "#     precios = pd.read_parquet(futures_path)\n",
    "#     precios['Day'] = pd.to_datetime(precios['Day'])\n",
    "#     start_date = ((precios['Day'].max()) + timedelta(days=1))\n",
    "#     precios['Day'] = precios['Day'].dt.date\n",
    "\n",
    "# else:\n",
    "#     precios = pd.DataFrame()\n",
    "#     start_date = datetime(2017,1,1)\n",
    "\n",
    "# end_date =  datetime.now() - timedelta(days=1)\n",
    "# date_range = (end_date - start_date + timedelta(days=1)).days\n",
    "\n",
    "# start = start_date.date()\n",
    "# end = end_date.date()\n",
    "# print(date_range)\n",
    "# print(start)\n",
    "# print(end)\n",
    "\n",
    "# if start_date <= end_date:    \n",
    "#     df_precios = api.fetch_full_data_range(start, end, endpoint='/')\n",
    "# else:\n",
    "#     df_precios = pd.DataFrame()\n",
    "\n",
    "# if not df_precios.empty:\n",
    "#     # df_precios = df_precios[(df_precios['Type'] == 'FT') & (df_precios['Profile'] == 'BL')]\n",
    "#     df_precios['Day'] = pd.to_datetime(df_precios['Day'])\n",
    "#     df_precios['Day'] = df_precios['Day'].apply(lambda x: x.date())\n",
    "#     df_precios = df_precios[['Day', 'Contract', 'Delivery', 'Year', 'Type','FirstTradingDay', 'LastTradingDay', 'FirstDeliveryDay', 'LastDeliveryDay', 'Hours', 'SettlementPrice']]\n",
    "#     futuros_elec = pd.concat([precios, df_precios], ignore_index=True)\n",
    "#     futuros_elec.to_parquet(futures_path,engine='pyarrow',index=False)\n",
    "# else:\n",
    "#     futuros_elec = precios\n"
   ]
  },
  {
   "cell_type": "code",
   "execution_count": 9,
   "id": "78f5d991",
   "metadata": {
    "execution": {
     "iopub.execute_input": "2025-08-16T11:41:48.469902Z",
     "iopub.status.busy": "2025-08-16T11:41:48.469813Z",
     "iopub.status.idle": "2025-08-16T11:41:48.504796Z",
     "shell.execute_reply": "2025-08-16T11:41:48.504607Z"
    },
    "papermill": {
     "duration": 0.036485,
     "end_time": "2025-08-16T11:41:48.505383",
     "exception": false,
     "start_time": "2025-08-16T11:41:48.468898",
     "status": "completed"
    },
    "tags": []
   },
   "outputs": [
    {
     "name": "stdout",
     "output_type": "stream",
     "text": [
      "0\n",
      "2025-08-17 00:00:00\n",
      "2025-08-16 23:00:00\n",
      "Precios actualizados\n",
      "No action necesary\n"
     ]
    }
   ],
   "source": [
    "if os.path.exists(spot_path):\n",
    "    spot_prices = pd.read_parquet(spot_path)\n",
    "    start_date = ((spot_prices['datetime'].max()) + timedelta(days=1))\n",
    "    start_date = start_date.date()\n",
    "else:\n",
    "    spot_prices = pd.DataFrame()\n",
    "    start_date = date(2014,1,1)\n",
    "    \n",
    "start_date = datetime.combine(start_date, time(0,0,0))\n",
    "end_date =  datetime.now() # datetime(2015,12,1)\n",
    "end_date =  end_date.date()\n",
    "end_date = datetime.combine(end_date, time(23,0,0))\n",
    "date_range = (end_date - start_date + timedelta(days=1)).days\n",
    "logging.info(date_range)\n",
    "logging.info(start_date)\n",
    "logging.info(end_date)\n",
    "\n",
    "if start_date <= end_date:\n",
    "    print('API request triggered')\n",
    "    df_response = api_esios.get_raw_data(\n",
    "                                        indicator=600, \n",
    "                                        start_date=start_date, \n",
    "                                        end_date=end_date\n",
    "                                        )\n",
    "    df_response =  api_esios.df_response\n",
    "else:\n",
    "    df_response = pd.DataFrame()\n",
    "    logging.info('Precios actualizados')   \n",
    "\n",
    "\n",
    "if not df_response.empty:\n",
    "    if not spot_prices.empty:\n",
    "        spot_prices = pd.concat([spot_prices, df_response], ignore_index=True)\n",
    "        spot_prices.to_parquet(spot_path, engine='pyarrow',index=False)\n",
    "        print('Spot prices updated, merged and correctly exported to parquet')\n",
    "    else:\n",
    "        spot_prices = df_response\n",
    "        spot_prices.to_parquet(spot_path, engine='pyarrow',index=False)        \n",
    "        print('Spot prices correctly exported to parquet\\n')\n",
    "else:\n",
    "    logging.info('No action necesary\\n')"
   ]
  },
  {
   "cell_type": "code",
   "execution_count": 10,
   "id": "89ea6a87",
   "metadata": {
    "execution": {
     "iopub.execute_input": "2025-08-16T11:41:48.508123Z",
     "iopub.status.busy": "2025-08-16T11:41:48.507930Z",
     "iopub.status.idle": "2025-08-16T11:41:48.775999Z",
     "shell.execute_reply": "2025-08-16T11:41:48.775753Z"
    },
    "papermill": {
     "duration": 0.270168,
     "end_time": "2025-08-16T11:41:48.776739",
     "exception": false,
     "start_time": "2025-08-16T11:41:48.506571",
     "status": "completed"
    },
    "tags": []
   },
   "outputs": [],
   "source": [
    "from shared.elec_price_op import SpotElec"
   ]
  },
  {
   "cell_type": "code",
   "execution_count": 11,
   "id": "7944923b",
   "metadata": {
    "execution": {
     "iopub.execute_input": "2025-08-16T11:41:48.778910Z",
     "iopub.status.busy": "2025-08-16T11:41:48.778765Z",
     "iopub.status.idle": "2025-08-16T11:41:50.529972Z",
     "shell.execute_reply": "2025-08-16T11:41:50.529669Z"
    },
    "papermill": {
     "duration": 1.753096,
     "end_time": "2025-08-16T11:41:50.530740",
     "exception": false,
     "start_time": "2025-08-16T11:41:48.777644",
     "status": "completed"
    },
    "tags": []
   },
   "outputs": [],
   "source": [
    "HourSpot = SpotElec(spot_prices)\n",
    "HourSpot.format().apply_periodos(\n",
    "                            periodos_path=periodos_cal_path,\n",
    "                            festivos_path=festivos_path\n",
    "                                );\n",
    "HourSpot.df_w_periodos.to_pickle(spot_formated_path)"
   ]
  }
 ],
 "metadata": {
  "kernelspec": {
   "display_name": "work",
   "language": "python",
   "name": "python3"
  },
  "language_info": {
   "codemirror_mode": {
    "name": "ipython",
    "version": 3
   },
   "file_extension": ".py",
   "mimetype": "text/x-python",
   "name": "python",
   "nbconvert_exporter": "python",
   "pygments_lexer": "ipython3",
   "version": "3.12.4"
  },
  "papermill": {
   "default_parameters": {},
   "duration": 3.33005,
   "end_time": "2025-08-16T11:41:50.747665",
   "environment_variables": {},
   "exception": null,
   "input_path": "/Users/mikelperez/0_Python_projects_v3_reduced/0_Python_projects_reduced/notebooks/markets/2a_elec_Markets.ipynb",
   "output_path": "/Users/mikelperez/0_Python_projects_v3_reduced/0_Python_projects_reduced/notebooks/markets/2a_elec_Markets.ipynb",
   "parameters": {
    "festivos_path": "/Users/mikelperez/0_Python_projects_v3_reduced/0_Python_projects_reduced/data/regulation/elec/festivos",
    "futures_path": "/Users/mikelperez/0_Python_projects_v3_reduced/0_Python_projects_reduced/data/processed/elec/futuros_elec.parquet",
    "periodos_cal_path": "/Users/mikelperez/0_Python_projects_v3_reduced/0_Python_projects_reduced/data/regulation/elec/calendario_periodos.xlsx",
    "spot_formated_path": "/Users/mikelperez/0_Python_projects_v3_reduced/0_Python_projects_reduced/data/processed/elec/spot_h_periodos.pkl",
    "spot_path": "/Users/mikelperez/0_Python_projects_v3_reduced/0_Python_projects_reduced/data/processed/elec/spot_elec.parquet",
    "year": 2025
   },
   "start_time": "2025-08-16T11:41:47.417615",
   "version": "2.6.0"
  }
 },
 "nbformat": 4,
 "nbformat_minor": 5
}
