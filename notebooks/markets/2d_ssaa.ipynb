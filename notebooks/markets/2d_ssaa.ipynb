{
 "cells": [
  {
   "cell_type": "code",
   "execution_count": 37,
   "id": "e74998b4",
   "metadata": {
    "execution": {
     "iopub.execute_input": "2025-05-20T08:23:27.043058Z",
     "iopub.status.busy": "2025-05-20T08:23:27.043058Z",
     "iopub.status.idle": "2025-05-20T08:23:27.432066Z",
     "shell.execute_reply": "2025-05-20T08:23:27.431620Z"
    },
    "papermill": {
     "duration": 0.393552,
     "end_time": "2025-05-20T08:23:27.433092",
     "exception": false,
     "start_time": "2025-05-20T08:23:27.039540",
     "status": "completed"
    },
    "tags": []
   },
   "outputs": [],
   "source": [
    "import os\n",
    "import pandas as pd\n",
    "from datetime import datetime\n",
    "import urllib3\n",
    "urllib3.disable_warnings(urllib3.exceptions.InsecureRequestWarning)"
   ]
  },
  {
   "cell_type": "code",
   "execution_count": 38,
   "id": "780fdad1",
   "metadata": {
    "execution": {
     "iopub.execute_input": "2025-05-20T08:23:27.438085Z",
     "iopub.status.busy": "2025-05-20T08:23:27.438085Z",
     "iopub.status.idle": "2025-05-20T08:23:27.441600Z",
     "shell.execute_reply": "2025-05-20T08:23:27.441600Z"
    },
    "papermill": {
     "duration": 0.007523,
     "end_time": "2025-05-20T08:23:27.442608",
     "exception": false,
     "start_time": "2025-05-20T08:23:27.435085",
     "status": "completed"
    },
    "tags": [
     "parameters"
    ]
   },
   "outputs": [],
   "source": [
    "# Parameters\n",
    "common_modules_path = 'c:\\\\Users\\\\mikel.perez\\\\0_Python_Projects\\\\shared_data\\\\modules'\n",
    "ssaa_path = 'c:\\\\Users\\\\mikel.perez\\\\0_Python_Projects - copia\\\\0_Python_projects_v2\\\\data\\\\processed\\\\elec\\\\ssaa'\n",
    "ssaa_path_df = 'c:\\\\Users\\\\mikel.perez\\\\0_Python_Projects - copia\\\\0_Python_projects_v2\\\\data\\\\processed\\\\elec\\\\ssaa.pkl'\n",
    "ssaa_path_df_dt = \"c:\\\\Users\\\\mikel.perez\\\\0_Python_Projects - copia\\\\0_Python_projects_v2\\\\data\\\\processed\\\\elec\\\\ssaa_c2_detailed.pkl\""
   ]
  },
  {
   "cell_type": "code",
   "execution_count": 39,
   "id": "09540db0",
   "metadata": {
    "execution": {
     "iopub.execute_input": "2025-05-20T08:23:27.446814Z",
     "iopub.status.busy": "2025-05-20T08:23:27.446814Z",
     "iopub.status.idle": "2025-05-20T08:23:27.449938Z",
     "shell.execute_reply": "2025-05-20T08:23:27.449938Z"
    },
    "papermill": {
     "duration": 0.007347,
     "end_time": "2025-05-20T08:23:27.450956",
     "exception": false,
     "start_time": "2025-05-20T08:23:27.443609",
     "status": "completed"
    },
    "tags": [
     "injected-parameters"
    ]
   },
   "outputs": [],
   "source": [
    "# Parameters\n",
    "ssaa_path = \"c:\\\\Users\\\\mikel.perez\\\\0_Python_projects_v2\\\\data\\\\raw\\\\elec\\\\ssaa_c2\"\n",
    "ssaa_path_df = \"c:\\\\Users\\\\mikel.perez\\\\0_Python_projects_v2\\\\data\\\\processed\\\\elec\\\\ssaa_c2.pkl\"\n",
    "ssaa_path_df_dt = \"c:\\\\Users\\\\mikel.perez\\\\0_Python_projects_v2\\\\data\\\\processed\\\\elec\\\\ssaa_c2_detailed.pkl\"\n"
   ]
  },
  {
   "cell_type": "code",
   "execution_count": 40,
   "id": "fc2b5247",
   "metadata": {},
   "outputs": [],
   "source": [
    "ssaa_apagon_25 = \"c:\\\\Users\\\\mikel.perez\\\\0_Python_projects_v2\\\\data\\\\raw\\\\elec\\\\blackout_apr_2025.xlsx\""
   ]
  },
  {
   "cell_type": "code",
   "execution_count": 41,
   "id": "15f2bb2a",
   "metadata": {
    "execution": {
     "iopub.execute_input": "2025-05-20T08:23:27.454954Z",
     "iopub.status.busy": "2025-05-20T08:23:27.454954Z",
     "iopub.status.idle": "2025-05-20T08:23:27.460316Z",
     "shell.execute_reply": "2025-05-20T08:23:27.460316Z"
    },
    "papermill": {
     "duration": 0.009363,
     "end_time": "2025-05-20T08:23:27.461326",
     "exception": false,
     "start_time": "2025-05-20T08:23:27.451963",
     "status": "completed"
    },
    "tags": []
   },
   "outputs": [],
   "source": [
    "try:\n",
    "    df_ssaa = pd.read_pickle(ssaa_path_df)\n",
    "    start_date = df_ssaa.iloc[-1, 0]\n",
    "    del df_ssaa\n",
    "except:\n",
    "    start_date = datetime(2023,1,1)\n"
   ]
  },
  {
   "cell_type": "code",
   "execution_count": 42,
   "id": "8540cd4f",
   "metadata": {
    "execution": {
     "iopub.execute_input": "2025-05-20T08:23:27.466325Z",
     "iopub.status.busy": "2025-05-20T08:23:27.466325Z",
     "iopub.status.idle": "2025-05-20T08:23:27.544182Z",
     "shell.execute_reply": "2025-05-20T08:23:27.544182Z"
    },
    "papermill": {
     "duration": 0.082282,
     "end_time": "2025-05-20T08:23:27.545608",
     "exception": false,
     "start_time": "2025-05-20T08:23:27.463326",
     "status": "completed"
    },
    "tags": []
   },
   "outputs": [],
   "source": [
    "import shared.ssaa_ree as ssaa_ree"
   ]
  },
  {
   "cell_type": "code",
   "execution_count": 43,
   "id": "4e6b25c0",
   "metadata": {
    "execution": {
     "iopub.execute_input": "2025-05-20T08:23:27.551608Z",
     "iopub.status.busy": "2025-05-20T08:23:27.551608Z",
     "iopub.status.idle": "2025-05-20T08:23:27.554079Z",
     "shell.execute_reply": "2025-05-20T08:23:27.554079Z"
    },
    "papermill": {
     "duration": 0.007487,
     "end_time": "2025-05-20T08:23:27.555094",
     "exception": false,
     "start_time": "2025-05-20T08:23:27.547607",
     "status": "completed"
    },
    "tags": []
   },
   "outputs": [],
   "source": [
    "LiquiComun = ssaa_ree.Liquicomon(\n",
    "                                start_date=start_date,\n",
    "                                end_date=datetime.now(),\n",
    "                                extract_path=ssaa_path\n",
    "                                )"
   ]
  },
  {
   "cell_type": "code",
   "execution_count": 44,
   "id": "0df9ca59",
   "metadata": {
    "execution": {
     "iopub.execute_input": "2025-05-20T08:23:27.559470Z",
     "iopub.status.busy": "2025-05-20T08:23:27.558439Z",
     "iopub.status.idle": "2025-05-20T08:23:27.561482Z",
     "shell.execute_reply": "2025-05-20T08:23:27.561482Z"
    },
    "papermill": {
     "duration": 0.005398,
     "end_time": "2025-05-20T08:23:27.561482",
     "exception": false,
     "start_time": "2025-05-20T08:23:27.556084",
     "status": "completed"
    },
    "tags": []
   },
   "outputs": [],
   "source": [
    "# LiquiComun.download_zip()"
   ]
  },
  {
   "cell_type": "code",
   "execution_count": 45,
   "id": "c1e474a1",
   "metadata": {
    "execution": {
     "iopub.execute_input": "2025-05-20T08:23:27.568490Z",
     "iopub.status.busy": "2025-05-20T08:23:27.568490Z",
     "iopub.status.idle": "2025-05-20T08:23:27.571490Z",
     "shell.execute_reply": "2025-05-20T08:23:27.571490Z"
    },
    "papermill": {
     "duration": 0.0075,
     "end_time": "2025-05-20T08:23:27.571992",
     "exception": false,
     "start_time": "2025-05-20T08:23:27.564492",
     "status": "completed"
    },
    "tags": []
   },
   "outputs": [],
   "source": [
    "# [RT3], [CT3], [RT6], [BS3], [BALX], [EXD], [DSV], [IN7], [CFP], [MAJ3], [RAD3], [RAD1]"
   ]
  },
  {
   "cell_type": "code",
   "execution_count": 46,
   "id": "32883742",
   "metadata": {
    "execution": {
     "iopub.execute_input": "2025-05-20T08:23:27.576004Z",
     "iopub.status.busy": "2025-05-20T08:23:27.576004Z",
     "iopub.status.idle": "2025-05-20T08:24:47.127478Z",
     "shell.execute_reply": "2025-05-20T08:24:47.127478Z"
    },
    "papermill": {
     "duration": 79.556995,
     "end_time": "2025-05-20T08:24:47.131004",
     "exception": false,
     "start_time": "2025-05-20T08:23:27.574009",
     "status": "completed"
    },
    "tags": []
   },
   "outputs": [
    {
     "data": {
      "text/plain": [
       "<shared.ssaa_ree.Liquicomon at 0x1b816c50500>"
      ]
     },
     "execution_count": 46,
     "metadata": {},
     "output_type": "execute_result"
    }
   ],
   "source": [
    "LiquiComun.ssaa()"
   ]
  },
  {
   "cell_type": "code",
   "execution_count": 47,
   "id": "d35537c1",
   "metadata": {},
   "outputs": [
    {
     "data": {
      "application/vnd.microsoft.datawrangler.viewer.v0+json": {
       "columns": [
        {
         "name": "index",
         "rawType": "int64",
         "type": "integer"
        },
        {
         "name": "datetime",
         "rawType": "datetime64[ns]",
         "type": "datetime"
        },
        {
         "name": "month",
         "rawType": "float64",
         "type": "float"
        },
        {
         "name": "year",
         "rawType": "float64",
         "type": "float"
        },
        {
         "name": "ssaa",
         "rawType": "float64",
         "type": "float"
        }
       ],
       "ref": "8996b4a3-9bff-443d-8166-5d08206d2d65",
       "rows": [
        [
         "0",
         "2018-02-01 00:00:00",
         "2.0",
         "2018.0",
         "3.5160748095"
        ],
        [
         "1",
         "2018-02-01 01:00:00",
         "2.0",
         "2018.0",
         "3.529241481"
        ],
        [
         "2",
         "2018-02-01 02:00:00",
         "2.0",
         "2018.0",
         "3.550438804"
        ],
        [
         "3",
         "2018-02-01 03:00:00",
         "2.0",
         "2018.0",
         "3.9846062168"
        ],
        [
         "4",
         "2018-02-01 04:00:00",
         "2.0",
         "2018.0",
         "4.2116135527"
        ],
        [
         "5",
         "2018-02-01 05:00:00",
         "2.0",
         "2018.0",
         "4.2635847488"
        ],
        [
         "6",
         "2018-02-01 06:00:00",
         "2.0",
         "2018.0",
         "3.636030468"
        ],
        [
         "7",
         "2018-02-01 07:00:00",
         "2.0",
         "2018.0",
         "3.7020996644"
        ],
        [
         "8",
         "2018-02-01 08:00:00",
         "2.0",
         "2018.0",
         "5.7076900435999995"
        ],
        [
         "9",
         "2018-02-01 09:00:00",
         "2.0",
         "2018.0",
         "5.607508280699999"
        ],
        [
         "10",
         "2018-02-01 10:00:00",
         "2.0",
         "2018.0",
         "7.5247295952"
        ],
        [
         "11",
         "2018-02-01 11:00:00",
         "2.0",
         "2018.0",
         "7.399083793699999"
        ],
        [
         "12",
         "2018-02-01 12:00:00",
         "2.0",
         "2018.0",
         "7.509657699299999"
        ],
        [
         "13",
         "2018-02-01 13:00:00",
         "2.0",
         "2018.0",
         "6.12030903"
        ],
        [
         "14",
         "2018-02-01 14:00:00",
         "2.0",
         "2018.0",
         "6.4722992561"
        ],
        [
         "15",
         "2018-02-01 15:00:00",
         "2.0",
         "2018.0",
         "6.685478649899999"
        ],
        [
         "16",
         "2018-02-01 16:00:00",
         "2.0",
         "2018.0",
         "6.7649072039"
        ],
        [
         "17",
         "2018-02-01 17:00:00",
         "2.0",
         "2018.0",
         "7.2568142313"
        ],
        [
         "18",
         "2018-02-01 18:00:00",
         "2.0",
         "2018.0",
         "8.9321418823"
        ],
        [
         "19",
         "2018-02-01 19:00:00",
         "2.0",
         "2018.0",
         "9.003158598399999"
        ],
        [
         "20",
         "2018-02-01 20:00:00",
         "2.0",
         "2018.0",
         "8.9694338139"
        ],
        [
         "21",
         "2018-02-01 21:00:00",
         "2.0",
         "2018.0",
         "7.6089124577"
        ],
        [
         "22",
         "2018-02-01 22:00:00",
         "2.0",
         "2018.0",
         "6.7874479609"
        ],
        [
         "23",
         "2018-02-01 23:00:00",
         "2.0",
         "2018.0",
         "6.6821781940000005"
        ],
        [
         "24",
         "2018-02-02 00:00:00",
         "2.0",
         "2018.0",
         "4.5696392017"
        ],
        [
         "25",
         "2018-02-02 01:00:00",
         "2.0",
         "2018.0",
         "4.7597306584000005"
        ],
        [
         "26",
         "2018-02-02 02:00:00",
         "2.0",
         "2018.0",
         "4.2382455747"
        ],
        [
         "27",
         "2018-02-02 03:00:00",
         "2.0",
         "2018.0",
         "4.2211220225999995"
        ],
        [
         "28",
         "2018-02-02 04:00:00",
         "2.0",
         "2018.0",
         "4.3434101298"
        ],
        [
         "29",
         "2018-02-02 05:00:00",
         "2.0",
         "2018.0",
         "5.1206940232"
        ],
        [
         "30",
         "2018-02-02 06:00:00",
         "2.0",
         "2018.0",
         "6.4803329754000005"
        ],
        [
         "31",
         "2018-02-02 07:00:00",
         "2.0",
         "2018.0",
         "3.6855438337999997"
        ],
        [
         "32",
         "2018-02-02 08:00:00",
         "2.0",
         "2018.0",
         "5.7890225947000005"
        ],
        [
         "33",
         "2018-02-02 09:00:00",
         "2.0",
         "2018.0",
         "5.706662702999999"
        ],
        [
         "34",
         "2018-02-02 10:00:00",
         "2.0",
         "2018.0",
         "7.6262912148"
        ],
        [
         "35",
         "2018-02-02 11:00:00",
         "2.0",
         "2018.0",
         "7.563685746200001"
        ],
        [
         "36",
         "2018-02-02 12:00:00",
         "2.0",
         "2018.0",
         "7.8026469168"
        ],
        [
         "37",
         "2018-02-02 13:00:00",
         "2.0",
         "2018.0",
         "6.426872759"
        ],
        [
         "38",
         "2018-02-02 14:00:00",
         "2.0",
         "2018.0",
         "6.9231223727"
        ],
        [
         "39",
         "2018-02-02 15:00:00",
         "2.0",
         "2018.0",
         "6.817083421"
        ],
        [
         "40",
         "2018-02-02 16:00:00",
         "2.0",
         "2018.0",
         "7.2427932878"
        ],
        [
         "41",
         "2018-02-02 17:00:00",
         "2.0",
         "2018.0",
         "6.8477333057"
        ],
        [
         "42",
         "2018-02-02 18:00:00",
         "2.0",
         "2018.0",
         "8.9330140612"
        ],
        [
         "43",
         "2018-02-02 19:00:00",
         "2.0",
         "2018.0",
         "8.8436334593"
        ],
        [
         "44",
         "2018-02-02 20:00:00",
         "2.0",
         "2018.0",
         "8.7551041567"
        ],
        [
         "45",
         "2018-02-02 21:00:00",
         "2.0",
         "2018.0",
         "7.0469433829999995"
        ],
        [
         "46",
         "2018-02-02 22:00:00",
         "2.0",
         "2018.0",
         "6.682649624500001"
        ],
        [
         "47",
         "2018-02-02 23:00:00",
         "2.0",
         "2018.0",
         "6.3393421956"
        ],
        [
         "48",
         "2018-02-03 00:00:00",
         "2.0",
         "2018.0",
         "3.7948326482"
        ],
        [
         "49",
         "2018-02-03 01:00:00",
         "2.0",
         "2018.0",
         "4.358939315"
        ]
       ],
       "shape": {
        "columns": 4,
        "rows": 64247
       }
      },
      "text/html": [
       "<div>\n",
       "<style scoped>\n",
       "    .dataframe tbody tr th:only-of-type {\n",
       "        vertical-align: middle;\n",
       "    }\n",
       "\n",
       "    .dataframe tbody tr th {\n",
       "        vertical-align: top;\n",
       "    }\n",
       "\n",
       "    .dataframe thead th {\n",
       "        text-align: right;\n",
       "    }\n",
       "</style>\n",
       "<table border=\"1\" class=\"dataframe\">\n",
       "  <thead>\n",
       "    <tr style=\"text-align: right;\">\n",
       "      <th></th>\n",
       "      <th>datetime</th>\n",
       "      <th>month</th>\n",
       "      <th>year</th>\n",
       "      <th>ssaa</th>\n",
       "    </tr>\n",
       "  </thead>\n",
       "  <tbody>\n",
       "    <tr>\n",
       "      <th>0</th>\n",
       "      <td>2018-02-01 00:00:00</td>\n",
       "      <td>2.0</td>\n",
       "      <td>2018.0</td>\n",
       "      <td>3.516075</td>\n",
       "    </tr>\n",
       "    <tr>\n",
       "      <th>1</th>\n",
       "      <td>2018-02-01 01:00:00</td>\n",
       "      <td>2.0</td>\n",
       "      <td>2018.0</td>\n",
       "      <td>3.529241</td>\n",
       "    </tr>\n",
       "    <tr>\n",
       "      <th>2</th>\n",
       "      <td>2018-02-01 02:00:00</td>\n",
       "      <td>2.0</td>\n",
       "      <td>2018.0</td>\n",
       "      <td>3.550439</td>\n",
       "    </tr>\n",
       "    <tr>\n",
       "      <th>3</th>\n",
       "      <td>2018-02-01 03:00:00</td>\n",
       "      <td>2.0</td>\n",
       "      <td>2018.0</td>\n",
       "      <td>3.984606</td>\n",
       "    </tr>\n",
       "    <tr>\n",
       "      <th>4</th>\n",
       "      <td>2018-02-01 04:00:00</td>\n",
       "      <td>2.0</td>\n",
       "      <td>2018.0</td>\n",
       "      <td>4.211614</td>\n",
       "    </tr>\n",
       "    <tr>\n",
       "      <th>...</th>\n",
       "      <td>...</td>\n",
       "      <td>...</td>\n",
       "      <td>...</td>\n",
       "      <td>...</td>\n",
       "    </tr>\n",
       "    <tr>\n",
       "      <th>64242</th>\n",
       "      <td>2025-05-31 19:00:00</td>\n",
       "      <td>5.0</td>\n",
       "      <td>2025.0</td>\n",
       "      <td>17.172741</td>\n",
       "    </tr>\n",
       "    <tr>\n",
       "      <th>64243</th>\n",
       "      <td>2025-05-31 20:00:00</td>\n",
       "      <td>5.0</td>\n",
       "      <td>2025.0</td>\n",
       "      <td>15.426091</td>\n",
       "    </tr>\n",
       "    <tr>\n",
       "      <th>64244</th>\n",
       "      <td>2025-05-31 21:00:00</td>\n",
       "      <td>5.0</td>\n",
       "      <td>2025.0</td>\n",
       "      <td>16.026816</td>\n",
       "    </tr>\n",
       "    <tr>\n",
       "      <th>64245</th>\n",
       "      <td>2025-05-31 22:00:00</td>\n",
       "      <td>5.0</td>\n",
       "      <td>2025.0</td>\n",
       "      <td>14.124158</td>\n",
       "    </tr>\n",
       "    <tr>\n",
       "      <th>64246</th>\n",
       "      <td>2025-05-31 23:00:00</td>\n",
       "      <td>5.0</td>\n",
       "      <td>2025.0</td>\n",
       "      <td>12.859104</td>\n",
       "    </tr>\n",
       "  </tbody>\n",
       "</table>\n",
       "<p>64247 rows × 4 columns</p>\n",
       "</div>"
      ],
      "text/plain": [
       "                 datetime  month    year       ssaa\n",
       "0     2018-02-01 00:00:00    2.0  2018.0   3.516075\n",
       "1     2018-02-01 01:00:00    2.0  2018.0   3.529241\n",
       "2     2018-02-01 02:00:00    2.0  2018.0   3.550439\n",
       "3     2018-02-01 03:00:00    2.0  2018.0   3.984606\n",
       "4     2018-02-01 04:00:00    2.0  2018.0   4.211614\n",
       "...                   ...    ...     ...        ...\n",
       "64242 2025-05-31 19:00:00    5.0  2025.0  17.172741\n",
       "64243 2025-05-31 20:00:00    5.0  2025.0  15.426091\n",
       "64244 2025-05-31 21:00:00    5.0  2025.0  16.026816\n",
       "64245 2025-05-31 22:00:00    5.0  2025.0  14.124158\n",
       "64246 2025-05-31 23:00:00    5.0  2025.0  12.859104\n",
       "\n",
       "[64247 rows x 4 columns]"
      ]
     },
     "execution_count": 47,
     "metadata": {},
     "output_type": "execute_result"
    }
   ],
   "source": [
    "from utils.utils_var import set_datetime_h\n",
    "\n",
    "df_ssaa = LiquiComun.df_ssaa\n",
    "\n",
    "df_blackout = pd.read_excel(ssaa_apagon_25)\n",
    "df_blackout.columns = ['datetime', 'hour', 'ssaa']\n",
    "df_blackout = set_datetime_h(date='datetime', hour='hour', load='ssaa', df=df_blackout)\n",
    "df_blackout.columns = ['datetime', 'ssaa']\n",
    "df_blackout\n",
    "\n",
    "df_ssaa = pd.concat([df_ssaa, df_blackout], ignore_index=True)\n",
    "df_ssaa = df_ssaa.sort_values(by='datetime').reset_index(drop=True)\n",
    "df_ssaa"
   ]
  },
  {
   "cell_type": "code",
   "execution_count": 48,
   "id": "4efb9721",
   "metadata": {
    "execution": {
     "iopub.execute_input": "2025-05-20T08:24:47.136295Z",
     "iopub.status.busy": "2025-05-20T08:24:47.136295Z",
     "iopub.status.idle": "2025-05-20T08:24:47.147824Z",
     "shell.execute_reply": "2025-05-20T08:24:47.147824Z"
    },
    "papermill": {
     "duration": 0.015537,
     "end_time": "2025-05-20T08:24:47.148830",
     "exception": false,
     "start_time": "2025-05-20T08:24:47.133293",
     "status": "completed"
    },
    "tags": []
   },
   "outputs": [
    {
     "data": {
      "application/vnd.microsoft.datawrangler.viewer.v0+json": {
       "columns": [
        {
         "name": "index",
         "rawType": "int64",
         "type": "integer"
        },
        {
         "name": "datetime",
         "rawType": "datetime64[ns]",
         "type": "datetime"
        },
        {
         "name": "month",
         "rawType": "float64",
         "type": "float"
        },
        {
         "name": "year",
         "rawType": "float64",
         "type": "float"
        },
        {
         "name": "ssaa",
         "rawType": "float64",
         "type": "float"
        }
       ],
       "ref": "60d7a24c-303a-4070-8f66-a44f6e70dbb2",
       "rows": [
        [
         "0",
         "2018-02-01 00:00:00",
         "2.0",
         "2018.0",
         "3.5160748095"
        ],
        [
         "1",
         "2018-02-01 01:00:00",
         "2.0",
         "2018.0",
         "3.529241481"
        ],
        [
         "2",
         "2018-02-01 02:00:00",
         "2.0",
         "2018.0",
         "3.550438804"
        ],
        [
         "3",
         "2018-02-01 03:00:00",
         "2.0",
         "2018.0",
         "3.9846062168"
        ],
        [
         "4",
         "2018-02-01 04:00:00",
         "2.0",
         "2018.0",
         "4.2116135527"
        ],
        [
         "5",
         "2018-02-01 05:00:00",
         "2.0",
         "2018.0",
         "4.2635847488"
        ],
        [
         "6",
         "2018-02-01 06:00:00",
         "2.0",
         "2018.0",
         "3.636030468"
        ],
        [
         "7",
         "2018-02-01 07:00:00",
         "2.0",
         "2018.0",
         "3.7020996644"
        ],
        [
         "8",
         "2018-02-01 08:00:00",
         "2.0",
         "2018.0",
         "5.7076900435999995"
        ],
        [
         "9",
         "2018-02-01 09:00:00",
         "2.0",
         "2018.0",
         "5.607508280699999"
        ],
        [
         "10",
         "2018-02-01 10:00:00",
         "2.0",
         "2018.0",
         "7.5247295952"
        ],
        [
         "11",
         "2018-02-01 11:00:00",
         "2.0",
         "2018.0",
         "7.399083793699999"
        ],
        [
         "12",
         "2018-02-01 12:00:00",
         "2.0",
         "2018.0",
         "7.509657699299999"
        ],
        [
         "13",
         "2018-02-01 13:00:00",
         "2.0",
         "2018.0",
         "6.12030903"
        ],
        [
         "14",
         "2018-02-01 14:00:00",
         "2.0",
         "2018.0",
         "6.4722992561"
        ],
        [
         "15",
         "2018-02-01 15:00:00",
         "2.0",
         "2018.0",
         "6.685478649899999"
        ],
        [
         "16",
         "2018-02-01 16:00:00",
         "2.0",
         "2018.0",
         "6.7649072039"
        ],
        [
         "17",
         "2018-02-01 17:00:00",
         "2.0",
         "2018.0",
         "7.2568142313"
        ],
        [
         "18",
         "2018-02-01 18:00:00",
         "2.0",
         "2018.0",
         "8.9321418823"
        ],
        [
         "19",
         "2018-02-01 19:00:00",
         "2.0",
         "2018.0",
         "9.003158598399999"
        ],
        [
         "20",
         "2018-02-01 20:00:00",
         "2.0",
         "2018.0",
         "8.9694338139"
        ],
        [
         "21",
         "2018-02-01 21:00:00",
         "2.0",
         "2018.0",
         "7.6089124577"
        ],
        [
         "22",
         "2018-02-01 22:00:00",
         "2.0",
         "2018.0",
         "6.7874479609"
        ],
        [
         "23",
         "2018-02-01 23:00:00",
         "2.0",
         "2018.0",
         "6.6821781940000005"
        ],
        [
         "24",
         "2018-02-02 00:00:00",
         "2.0",
         "2018.0",
         "4.5696392017"
        ],
        [
         "25",
         "2018-02-02 01:00:00",
         "2.0",
         "2018.0",
         "4.7597306584000005"
        ],
        [
         "26",
         "2018-02-02 02:00:00",
         "2.0",
         "2018.0",
         "4.2382455747"
        ],
        [
         "27",
         "2018-02-02 03:00:00",
         "2.0",
         "2018.0",
         "4.2211220225999995"
        ],
        [
         "28",
         "2018-02-02 04:00:00",
         "2.0",
         "2018.0",
         "4.3434101298"
        ],
        [
         "29",
         "2018-02-02 05:00:00",
         "2.0",
         "2018.0",
         "5.1206940232"
        ],
        [
         "30",
         "2018-02-02 06:00:00",
         "2.0",
         "2018.0",
         "6.4803329754000005"
        ],
        [
         "31",
         "2018-02-02 07:00:00",
         "2.0",
         "2018.0",
         "3.6855438337999997"
        ],
        [
         "32",
         "2018-02-02 08:00:00",
         "2.0",
         "2018.0",
         "5.7890225947000005"
        ],
        [
         "33",
         "2018-02-02 09:00:00",
         "2.0",
         "2018.0",
         "5.706662702999999"
        ],
        [
         "34",
         "2018-02-02 10:00:00",
         "2.0",
         "2018.0",
         "7.6262912148"
        ],
        [
         "35",
         "2018-02-02 11:00:00",
         "2.0",
         "2018.0",
         "7.563685746200001"
        ],
        [
         "36",
         "2018-02-02 12:00:00",
         "2.0",
         "2018.0",
         "7.8026469168"
        ],
        [
         "37",
         "2018-02-02 13:00:00",
         "2.0",
         "2018.0",
         "6.426872759"
        ],
        [
         "38",
         "2018-02-02 14:00:00",
         "2.0",
         "2018.0",
         "6.9231223727"
        ],
        [
         "39",
         "2018-02-02 15:00:00",
         "2.0",
         "2018.0",
         "6.817083421"
        ],
        [
         "40",
         "2018-02-02 16:00:00",
         "2.0",
         "2018.0",
         "7.2427932878"
        ],
        [
         "41",
         "2018-02-02 17:00:00",
         "2.0",
         "2018.0",
         "6.8477333057"
        ],
        [
         "42",
         "2018-02-02 18:00:00",
         "2.0",
         "2018.0",
         "8.9330140612"
        ],
        [
         "43",
         "2018-02-02 19:00:00",
         "2.0",
         "2018.0",
         "8.8436334593"
        ],
        [
         "44",
         "2018-02-02 20:00:00",
         "2.0",
         "2018.0",
         "8.7551041567"
        ],
        [
         "45",
         "2018-02-02 21:00:00",
         "2.0",
         "2018.0",
         "7.0469433829999995"
        ],
        [
         "46",
         "2018-02-02 22:00:00",
         "2.0",
         "2018.0",
         "6.682649624500001"
        ],
        [
         "47",
         "2018-02-02 23:00:00",
         "2.0",
         "2018.0",
         "6.3393421956"
        ],
        [
         "48",
         "2018-02-03 00:00:00",
         "2.0",
         "2018.0",
         "3.7948326482"
        ],
        [
         "49",
         "2018-02-03 01:00:00",
         "2.0",
         "2018.0",
         "4.358939315"
        ]
       ],
       "shape": {
        "columns": 4,
        "rows": 64247
       }
      },
      "text/html": [
       "<div>\n",
       "<style scoped>\n",
       "    .dataframe tbody tr th:only-of-type {\n",
       "        vertical-align: middle;\n",
       "    }\n",
       "\n",
       "    .dataframe tbody tr th {\n",
       "        vertical-align: top;\n",
       "    }\n",
       "\n",
       "    .dataframe thead th {\n",
       "        text-align: right;\n",
       "    }\n",
       "</style>\n",
       "<table border=\"1\" class=\"dataframe\">\n",
       "  <thead>\n",
       "    <tr style=\"text-align: right;\">\n",
       "      <th></th>\n",
       "      <th>datetime</th>\n",
       "      <th>month</th>\n",
       "      <th>year</th>\n",
       "      <th>ssaa</th>\n",
       "    </tr>\n",
       "  </thead>\n",
       "  <tbody>\n",
       "    <tr>\n",
       "      <th>0</th>\n",
       "      <td>2018-02-01 00:00:00</td>\n",
       "      <td>2.0</td>\n",
       "      <td>2018.0</td>\n",
       "      <td>3.516075</td>\n",
       "    </tr>\n",
       "    <tr>\n",
       "      <th>1</th>\n",
       "      <td>2018-02-01 01:00:00</td>\n",
       "      <td>2.0</td>\n",
       "      <td>2018.0</td>\n",
       "      <td>3.529241</td>\n",
       "    </tr>\n",
       "    <tr>\n",
       "      <th>2</th>\n",
       "      <td>2018-02-01 02:00:00</td>\n",
       "      <td>2.0</td>\n",
       "      <td>2018.0</td>\n",
       "      <td>3.550439</td>\n",
       "    </tr>\n",
       "    <tr>\n",
       "      <th>3</th>\n",
       "      <td>2018-02-01 03:00:00</td>\n",
       "      <td>2.0</td>\n",
       "      <td>2018.0</td>\n",
       "      <td>3.984606</td>\n",
       "    </tr>\n",
       "    <tr>\n",
       "      <th>4</th>\n",
       "      <td>2018-02-01 04:00:00</td>\n",
       "      <td>2.0</td>\n",
       "      <td>2018.0</td>\n",
       "      <td>4.211614</td>\n",
       "    </tr>\n",
       "    <tr>\n",
       "      <th>...</th>\n",
       "      <td>...</td>\n",
       "      <td>...</td>\n",
       "      <td>...</td>\n",
       "      <td>...</td>\n",
       "    </tr>\n",
       "    <tr>\n",
       "      <th>64242</th>\n",
       "      <td>2025-05-31 19:00:00</td>\n",
       "      <td>5.0</td>\n",
       "      <td>2025.0</td>\n",
       "      <td>17.172741</td>\n",
       "    </tr>\n",
       "    <tr>\n",
       "      <th>64243</th>\n",
       "      <td>2025-05-31 20:00:00</td>\n",
       "      <td>5.0</td>\n",
       "      <td>2025.0</td>\n",
       "      <td>15.426091</td>\n",
       "    </tr>\n",
       "    <tr>\n",
       "      <th>64244</th>\n",
       "      <td>2025-05-31 21:00:00</td>\n",
       "      <td>5.0</td>\n",
       "      <td>2025.0</td>\n",
       "      <td>16.026816</td>\n",
       "    </tr>\n",
       "    <tr>\n",
       "      <th>64245</th>\n",
       "      <td>2025-05-31 22:00:00</td>\n",
       "      <td>5.0</td>\n",
       "      <td>2025.0</td>\n",
       "      <td>14.124158</td>\n",
       "    </tr>\n",
       "    <tr>\n",
       "      <th>64246</th>\n",
       "      <td>2025-05-31 23:00:00</td>\n",
       "      <td>5.0</td>\n",
       "      <td>2025.0</td>\n",
       "      <td>12.859104</td>\n",
       "    </tr>\n",
       "  </tbody>\n",
       "</table>\n",
       "<p>64247 rows × 4 columns</p>\n",
       "</div>"
      ],
      "text/plain": [
       "                 datetime  month    year       ssaa\n",
       "0     2018-02-01 00:00:00    2.0  2018.0   3.516075\n",
       "1     2018-02-01 01:00:00    2.0  2018.0   3.529241\n",
       "2     2018-02-01 02:00:00    2.0  2018.0   3.550439\n",
       "3     2018-02-01 03:00:00    2.0  2018.0   3.984606\n",
       "4     2018-02-01 04:00:00    2.0  2018.0   4.211614\n",
       "...                   ...    ...     ...        ...\n",
       "64242 2025-05-31 19:00:00    5.0  2025.0  17.172741\n",
       "64243 2025-05-31 20:00:00    5.0  2025.0  15.426091\n",
       "64244 2025-05-31 21:00:00    5.0  2025.0  16.026816\n",
       "64245 2025-05-31 22:00:00    5.0  2025.0  14.124158\n",
       "64246 2025-05-31 23:00:00    5.0  2025.0  12.859104\n",
       "\n",
       "[64247 rows x 4 columns]"
      ]
     },
     "execution_count": 48,
     "metadata": {},
     "output_type": "execute_result"
    }
   ],
   "source": [
    "df_ssaa.to_pickle(ssaa_path_df)\n",
    "\n",
    "df_ssaa"
   ]
  },
  {
   "cell_type": "code",
   "execution_count": 49,
   "id": "5f911a5c",
   "metadata": {
    "execution": {
     "iopub.execute_input": "2025-05-20T08:24:47.153829Z",
     "iopub.status.busy": "2025-05-20T08:24:47.153829Z",
     "iopub.status.idle": "2025-05-20T08:25:27.060269Z",
     "shell.execute_reply": "2025-05-20T08:25:27.060269Z"
    },
    "papermill": {
     "duration": 39.911453,
     "end_time": "2025-05-20T08:25:27.062281",
     "exception": false,
     "start_time": "2025-05-20T08:24:47.150828",
     "status": "completed"
    },
    "tags": []
   },
   "outputs": [
    {
     "name": "stderr",
     "output_type": "stream",
     "text": [
      "c:\\users\\mikel.perez\\0_python_projects_v2\\src\\utils\\utils_var.py:178: SettingWithCopyWarning: \n",
      "A value is trying to be set on a copy of a slice from a DataFrame.\n",
      "Try using .loc[row_indexer,col_indexer] = value instead\n",
      "\n",
      "See the caveats in the documentation: https://pandas.pydata.org/pandas-docs/stable/user_guide/indexing.html#returning-a-view-versus-a-copy\n",
      "  df[date] = pd.to_datetime(df[date], errors='coerce')\n",
      "c:\\users\\mikel.perez\\0_python_projects_v2\\src\\utils\\utils_var.py:178: SettingWithCopyWarning: \n",
      "A value is trying to be set on a copy of a slice from a DataFrame.\n",
      "Try using .loc[row_indexer,col_indexer] = value instead\n",
      "\n",
      "See the caveats in the documentation: https://pandas.pydata.org/pandas-docs/stable/user_guide/indexing.html#returning-a-view-versus-a-copy\n",
      "  df[date] = pd.to_datetime(df[date], errors='coerce')\n",
      "c:\\users\\mikel.perez\\0_python_projects_v2\\src\\utils\\utils_var.py:178: SettingWithCopyWarning: \n",
      "A value is trying to be set on a copy of a slice from a DataFrame.\n",
      "Try using .loc[row_indexer,col_indexer] = value instead\n",
      "\n",
      "See the caveats in the documentation: https://pandas.pydata.org/pandas-docs/stable/user_guide/indexing.html#returning-a-view-versus-a-copy\n",
      "  df[date] = pd.to_datetime(df[date], errors='coerce')\n",
      "c:\\users\\mikel.perez\\0_python_projects_v2\\src\\utils\\utils_var.py:178: SettingWithCopyWarning: \n",
      "A value is trying to be set on a copy of a slice from a DataFrame.\n",
      "Try using .loc[row_indexer,col_indexer] = value instead\n",
      "\n",
      "See the caveats in the documentation: https://pandas.pydata.org/pandas-docs/stable/user_guide/indexing.html#returning-a-view-versus-a-copy\n",
      "  df[date] = pd.to_datetime(df[date], errors='coerce')\n",
      "c:\\users\\mikel.perez\\0_python_projects_v2\\src\\utils\\utils_var.py:178: SettingWithCopyWarning: \n",
      "A value is trying to be set on a copy of a slice from a DataFrame.\n",
      "Try using .loc[row_indexer,col_indexer] = value instead\n",
      "\n",
      "See the caveats in the documentation: https://pandas.pydata.org/pandas-docs/stable/user_guide/indexing.html#returning-a-view-versus-a-copy\n",
      "  df[date] = pd.to_datetime(df[date], errors='coerce')\n",
      "c:\\users\\mikel.perez\\0_python_projects_v2\\src\\utils\\utils_var.py:178: SettingWithCopyWarning: \n",
      "A value is trying to be set on a copy of a slice from a DataFrame.\n",
      "Try using .loc[row_indexer,col_indexer] = value instead\n",
      "\n",
      "See the caveats in the documentation: https://pandas.pydata.org/pandas-docs/stable/user_guide/indexing.html#returning-a-view-versus-a-copy\n",
      "  df[date] = pd.to_datetime(df[date], errors='coerce')\n",
      "c:\\users\\mikel.perez\\0_python_projects_v2\\src\\utils\\utils_var.py:178: SettingWithCopyWarning: \n",
      "A value is trying to be set on a copy of a slice from a DataFrame.\n",
      "Try using .loc[row_indexer,col_indexer] = value instead\n",
      "\n",
      "See the caveats in the documentation: https://pandas.pydata.org/pandas-docs/stable/user_guide/indexing.html#returning-a-view-versus-a-copy\n",
      "  df[date] = pd.to_datetime(df[date], errors='coerce')\n",
      "c:\\users\\mikel.perez\\0_python_projects_v2\\src\\utils\\utils_var.py:178: SettingWithCopyWarning: \n",
      "A value is trying to be set on a copy of a slice from a DataFrame.\n",
      "Try using .loc[row_indexer,col_indexer] = value instead\n",
      "\n",
      "See the caveats in the documentation: https://pandas.pydata.org/pandas-docs/stable/user_guide/indexing.html#returning-a-view-versus-a-copy\n",
      "  df[date] = pd.to_datetime(df[date], errors='coerce')\n",
      "c:\\users\\mikel.perez\\0_python_projects_v2\\src\\utils\\utils_var.py:178: SettingWithCopyWarning: \n",
      "A value is trying to be set on a copy of a slice from a DataFrame.\n",
      "Try using .loc[row_indexer,col_indexer] = value instead\n",
      "\n",
      "See the caveats in the documentation: https://pandas.pydata.org/pandas-docs/stable/user_guide/indexing.html#returning-a-view-versus-a-copy\n",
      "  df[date] = pd.to_datetime(df[date], errors='coerce')\n",
      "c:\\users\\mikel.perez\\0_python_projects_v2\\src\\utils\\utils_var.py:178: SettingWithCopyWarning: \n",
      "A value is trying to be set on a copy of a slice from a DataFrame.\n",
      "Try using .loc[row_indexer,col_indexer] = value instead\n",
      "\n",
      "See the caveats in the documentation: https://pandas.pydata.org/pandas-docs/stable/user_guide/indexing.html#returning-a-view-versus-a-copy\n",
      "  df[date] = pd.to_datetime(df[date], errors='coerce')\n",
      "c:\\users\\mikel.perez\\0_python_projects_v2\\src\\utils\\utils_var.py:178: SettingWithCopyWarning: \n",
      "A value is trying to be set on a copy of a slice from a DataFrame.\n",
      "Try using .loc[row_indexer,col_indexer] = value instead\n",
      "\n",
      "See the caveats in the documentation: https://pandas.pydata.org/pandas-docs/stable/user_guide/indexing.html#returning-a-view-versus-a-copy\n",
      "  df[date] = pd.to_datetime(df[date], errors='coerce')\n",
      "c:\\users\\mikel.perez\\0_python_projects_v2\\src\\utils\\utils_var.py:178: SettingWithCopyWarning: \n",
      "A value is trying to be set on a copy of a slice from a DataFrame.\n",
      "Try using .loc[row_indexer,col_indexer] = value instead\n",
      "\n",
      "See the caveats in the documentation: https://pandas.pydata.org/pandas-docs/stable/user_guide/indexing.html#returning-a-view-versus-a-copy\n",
      "  df[date] = pd.to_datetime(df[date], errors='coerce')\n"
     ]
    }
   ],
   "source": [
    "LiquiComun.ssaa_desgolsado();"
   ]
  },
  {
   "cell_type": "code",
   "execution_count": 50,
   "id": "25f68799",
   "metadata": {
    "execution": {
     "iopub.execute_input": "2025-05-20T08:25:27.069668Z",
     "iopub.status.busy": "2025-05-20T08:25:27.069668Z",
     "iopub.status.idle": "2025-05-20T08:25:27.100028Z",
     "shell.execute_reply": "2025-05-20T08:25:27.100028Z"
    },
    "papermill": {
     "duration": 0.035639,
     "end_time": "2025-05-20T08:25:27.101040",
     "exception": false,
     "start_time": "2025-05-20T08:25:27.065401",
     "status": "completed"
    },
    "tags": []
   },
   "outputs": [
    {
     "data": {
      "text/plain": [
       "Index(['datetime', 'BALX', 'BS3', 'CFP', 'CT3', 'DSV', 'EXD', 'IN7', 'MAJ3',\n",
       "       'RAD1', 'RAD3', 'RT3', 'RT6'],\n",
       "      dtype='object', name='parameter')"
      ]
     },
     "execution_count": 50,
     "metadata": {},
     "output_type": "execute_result"
    }
   ],
   "source": [
    "df_ssaa_dt = LiquiComun.df_ssaa_dt\n",
    "df_ssaa_dt.to_pickle(ssaa_path_df_dt)\n",
    "df_ssaa_dt_pivot = df_ssaa_dt.pivot_table(index=['datetime'], columns='parameter', values='value').reset_index()\n",
    "df_ssaa_dt_pivot[df_ssaa_dt_pivot['datetime'].dt.year == 2024]['DSV']\n",
    "df_ssaa_dt_pivot.columns"
   ]
  },
  {
   "cell_type": "code",
   "execution_count": 51,
   "id": "83592623",
   "metadata": {
    "execution": {
     "iopub.execute_input": "2025-05-20T08:25:27.107038Z",
     "iopub.status.busy": "2025-05-20T08:25:27.107038Z",
     "iopub.status.idle": "2025-05-20T08:25:27.110191Z",
     "shell.execute_reply": "2025-05-20T08:25:27.110191Z"
    },
    "papermill": {
     "duration": 0.009156,
     "end_time": "2025-05-20T08:25:27.112200",
     "exception": false,
     "start_time": "2025-05-20T08:25:27.103044",
     "status": "completed"
    },
    "tags": []
   },
   "outputs": [],
   "source": [
    "# df_final[(df_final['parameter'] == 'RAD3') & (df_final['datetime'].dt.year == 2024)]['value'].mean()"
   ]
  }
 ],
 "metadata": {
  "kernelspec": {
   "display_name": "work",
   "language": "python",
   "name": "python3"
  },
  "language_info": {
   "codemirror_mode": {
    "name": "ipython",
    "version": 3
   },
   "file_extension": ".py",
   "mimetype": "text/x-python",
   "name": "python",
   "nbconvert_exporter": "python",
   "pygments_lexer": "ipython3",
   "version": "3.12.4"
  },
  "papermill": {
   "default_parameters": {},
   "duration": 121.721408,
   "end_time": "2025-05-20T08:25:27.458089",
   "environment_variables": {},
   "exception": null,
   "input_path": "c:\\Users\\mikel.perez\\0_Python_projects_v2\\notebooks\\shared\\2D_SSAA.ipynb",
   "output_path": "c:\\Users\\mikel.perez\\0_Python_projects_v2\\notebooks\\shared\\2D_SSAA.ipynb",
   "parameters": {
    "ssaa_path": "c:\\Users\\mikel.perez\\0_Python_projects_v2\\data\\raw\\elec\\ssaa_c2",
    "ssaa_path_df": "c:\\Users\\mikel.perez\\0_Python_projects_v2\\data\\processed\\elec\\ssaa_c2.pkl",
    "ssaa_path_df_dt": "c:\\Users\\mikel.perez\\0_Python_projects_v2\\data\\processed\\elec\\ssaa_c2_detailed.pkl"
   },
   "start_time": "2025-05-20T08:23:25.736681",
   "version": "2.6.0"
  }
 },
 "nbformat": 4,
 "nbformat_minor": 5
}
