{
 "cells": [
  {
   "cell_type": "code",
   "execution_count": 10,
   "id": "e74998b4",
   "metadata": {
    "execution": {
     "iopub.execute_input": "2025-06-24T17:35:42.348914Z",
     "iopub.status.busy": "2025-06-24T17:35:42.348914Z",
     "iopub.status.idle": "2025-06-24T17:35:43.536309Z",
     "shell.execute_reply": "2025-06-24T17:35:43.535797Z"
    },
    "papermill": {
     "duration": 1.19742,
     "end_time": "2025-06-24T17:35:43.538326",
     "exception": false,
     "start_time": "2025-06-24T17:35:42.340906",
     "status": "completed"
    },
    "tags": []
   },
   "outputs": [],
   "source": [
    "import os\n",
    "import pandas as pd\n",
    "from datetime import datetime, timedelta, date, time\n",
    "import urllib3\n",
    "urllib3.disable_warnings(urllib3.exceptions.InsecureRequestWarning)\n",
    "import logging\n",
    "from utils.logging_setup import logging_setup"
   ]
  },
  {
   "cell_type": "code",
   "execution_count": null,
   "id": "780fdad1",
   "metadata": {
    "execution": {
     "iopub.execute_input": "2025-06-24T17:35:43.658392Z",
     "iopub.status.busy": "2025-06-24T17:35:43.658392Z",
     "iopub.status.idle": "2025-06-24T17:35:43.665919Z",
     "shell.execute_reply": "2025-06-24T17:35:43.664385Z"
    },
    "papermill": {
     "duration": 0.016121,
     "end_time": "2025-06-24T17:35:43.667919",
     "exception": false,
     "start_time": "2025-06-24T17:35:43.651798",
     "status": "completed"
    },
    "tags": [
     "parameters"
    ]
   },
   "outputs": [],
   "source": [
    "# Parameters\n",
    "config_path = \"/Users/mikelperez/0_Python_projects_v3_reduced/0_Python_projects_reduced/configs/config.yaml\"\n",
    "log_name = \"markets_exe\"\n",
    "perd_path = \"/Users/mikelperez/0_Python_projects_v3_reduced/0_Python_projects_reduced/data/processed/elec/perdidas.pkl\"\n"
   ]
  },
  {
   "cell_type": "code",
   "execution_count": 19,
   "id": "f5c58e5d",
   "metadata": {
    "execution": {
     "iopub.execute_input": "2025-06-24T17:35:43.680511Z",
     "iopub.status.busy": "2025-06-24T17:35:43.678505Z",
     "iopub.status.idle": "2025-06-24T17:35:43.684509Z",
     "shell.execute_reply": "2025-06-24T17:35:43.684509Z"
    },
    "papermill": {
     "duration": 0.015662,
     "end_time": "2025-06-24T17:35:43.686996",
     "exception": false,
     "start_time": "2025-06-24T17:35:43.671334",
     "status": "completed"
    },
    "tags": [
     "injected-parameters"
    ]
   },
   "outputs": [],
   "source": [
    "# Parameters\n",
    "perd_path = \"/Users/mikelperez/0_Python_projects_v3_reduced/0_Python_projects_reduced/data/processed/elec/perdidas.pkl\"\n",
    "\n"
   ]
  },
  {
   "cell_type": "code",
   "execution_count": null,
   "id": "760f013f",
   "metadata": {},
   "outputs": [],
   "source": [
    "logging_setup(log_name, config_path)"
   ]
  },
  {
   "cell_type": "code",
   "execution_count": 22,
   "id": "bedf9b8c",
   "metadata": {},
   "outputs": [
    {
     "data": {
      "text/plain": [
       "str"
      ]
     },
     "execution_count": 22,
     "metadata": {},
     "output_type": "execute_result"
    }
   ],
   "source": [
    "logging.info(\"Este notebook deberá ser desarrollado de acuerdo con el proveedor que se escoja\")"
   ]
  },
  {
   "cell_type": "code",
   "execution_count": null,
   "id": "b18acdd0",
   "metadata": {},
   "outputs": [],
   "source": [
    "# Codigo provisional\n",
    "\n",
    "logging.warning(\"Codigo provisional, no se ha implementado la descarga de datos con ningún proveedor\")\n",
    "\n",
    "df_perd = pd.read_pickle(perd_path)\n",
    "\n",
    "logging.info(f\"Estas son las propiedades que debe tener el pickle de perdidas:\")\n",
    "logging.info(f\"Columnas: {df_perd.columns}\")\n",
    "logging.info(f\"Datetype: datetime\")\n",
    "logging.info(f\"Shape: {df_perd.shape}\")\n",
    "logging.info(f\"Example row:\\n {df_perd.iloc[0]}\")"
   ]
  },
  {
   "cell_type": "markdown",
   "id": "6793cf16",
   "metadata": {},
   "source": [
    "***\n",
    "\n",
    "# Losses (`perdidas.pkl`)\n",
    "\n",
    "Losses are stored in the `perdidas.pkl` file as a time-indexed dataframe, where each column corresponds to a unique tariff (e.g., `20_td`, `30_td`, ...), and each row represents losses measured at a specific timestamp.\n",
    "\n",
    "> **Note:** The actual losses data is obtained via a private provider and thus not published here. The following 3 cells below illustrate the ETL process, expected format and use.\n",
    "\n",
    "***\n",
    "\n",
    "## File Format\n",
    "\n",
    "- **Filename:** `data/processed/elec/perdidas.pkl`\n",
    "- **File Type:** Pickle (.pkl), stores a pandas dataframe\n",
    "- **Columns:**\n",
    "  - `datetime`: Timestamp of measurement (`YYYY-MM-DD HH:MM:SS`)\n",
    "  - `20_td`, `30_td`, `61_td`, `62_td`, `63_td`, `64_td`: Losses per tariff (usually in p.u, check your official documentation for units)\n",
    "\n",
    "***\n",
    "\n",
    "## Example Data (First 3 Rows)\n",
    "\n",
    "| datetime           | 20_td | 30_td | 61_td | 62_td | 63_td | 64_td |\n",
    "|--------------------|-------|-------|-------|-------|-------|-------|\n",
    "| 2023-01-01 00:00:00| 0.237 | 0.237 | 0.100 | NaN   | NaN   | NaN   |\n",
    "| 2023-01-01 01:00:00| 0.247 | 0.247 | 0.105 | 0.074 | NaN   | NaN   |\n",
    "| 2023-01-01 02:00:00| 0.261 | 0.261 | 0.111 | NaN   | NaN   | NaN   |\n",
    "\n",
    "> *Values may be empty (`NaN`) for some time points if data is missing/invalid at that timestamp.*\n",
    "\n",
    "***\n",
    "\n",
    "## Python Example: Loading the File\n",
    "\n",
    "```python\n",
    "import pandas as pd\n",
    "\n",
    "# Load the losses data from perdidas.pkl\n",
    "df_perd = pd.read_pickle('perdidas.pkl')\n",
    "\n",
    "# See the first few rows\n",
    "print(df_perd.head())\n",
    "```\n",
    "\n",
    "***\n",
    "\n",
    "## Usage Notes\n",
    "\n",
    "- Each column (`*_td`) should be interpreted as the hourly loss data for the corresponding box or transformer.\n",
    "- The dataframe typically contains thousands of rows (one per hour), spanning the monitored time period.\n",
    "- If columns are missing in the table display, refer to your provider for a complete mapping.\n",
    "\n",
    "***"
   ]
  },
  {
   "cell_type": "code",
   "execution_count": 15,
   "id": "f58ef790",
   "metadata": {
    "execution": {
     "iopub.execute_input": "2025-06-24T17:35:43.698313Z",
     "iopub.status.busy": "2025-06-24T17:35:43.698313Z",
     "iopub.status.idle": "2025-06-24T17:35:43.875482Z",
     "shell.execute_reply": "2025-06-24T17:35:43.875482Z"
    },
    "papermill": {
     "duration": 0.187503,
     "end_time": "2025-06-24T17:35:43.878492",
     "exception": false,
     "start_time": "2025-06-24T17:35:43.690989",
     "status": "completed"
    },
    "tags": []
   },
   "outputs": [],
   "source": [
    "# from shared.api_private import APIPrivate\n",
    "\n",
    "# api = APIPrivate(token='BWBCPQIEHO', version=0)\n"
   ]
  },
  {
   "cell_type": "code",
   "execution_count": null,
   "id": "0d7c17c3",
   "metadata": {
    "execution": {
     "iopub.execute_input": "2025-06-24T17:35:43.908109Z",
     "iopub.status.busy": "2025-06-24T17:35:43.907116Z",
     "iopub.status.idle": "2025-06-24T17:35:52.111600Z",
     "shell.execute_reply": "2025-06-24T17:35:52.109584Z"
    },
    "papermill": {
     "duration": 8.213482,
     "end_time": "2025-06-24T17:35:52.114599",
     "exception": false,
     "start_time": "2025-06-24T17:35:43.901117",
     "status": "completed"
    },
    "tags": []
   },
   "outputs": [],
   "source": [
    "# columns = ['20_td', '30_td', '61_td', '62_td', '63_td', '64_td']\n",
    "# df_merged = pd.DataFrame()\n",
    "# estado = 'C2'\n",
    "\n",
    "# if os.path.exists(perd_path):\n",
    "#     df_perd = pd.read_pickle(perd_path)\n",
    "#     start_date = ((df_perd['datetime'].max()) + timedelta(days=1))\n",
    "#     start_date = start_date.date()\n",
    "# else:\n",
    "#     df_perd = pd.DataFrame()\n",
    "#     start_date = date(2023,1,1)\n",
    "    \n",
    "# start_date = datetime.combine(start_date, time(0,0,0))\n",
    "# end_date = datetime.now()\n",
    "# end_date =  end_date.date()\n",
    "# end_date = datetime.combine(end_date, time(23,0,0))\n",
    "# date_range = (end_date - start_date + timedelta(days=1)).days\n",
    "# print(date_range)\n",
    "# print(start_date)\n",
    "# print(end_date)\n",
    "\n",
    "# if start_date <= end_date:\n",
    "#     for i in range (6):\n",
    "#         perd = api.fetch_full_data_range(start=start_date.date(),\n",
    "#                                         end=end_date.date(), \n",
    "#                                         endpoint='/iberian-power-markets/api/liquidaciones-mercados-cierres/',\n",
    "#                                         comer=True,\n",
    "#                                         estado=estado,\n",
    "#                                         id = -(i+1)\n",
    "#                                             )\n",
    "#         if perd.empty:\n",
    "#             break\n",
    "#         perd['VALOR'] = perd['VALOR'] / 100\n",
    "#         perd = perd.rename(columns={'VALOR': columns[i]})\n",
    "#         if i == 0:\n",
    "#             df_merged = perd\n",
    "#         else:\n",
    "#             df_merged = pd.merge(df_merged, perd, \n",
    "#                                     on=['FECHA', 'PERIODO', 'ESTADOLIQ', 'QH', 'ID', 'GEO_ID'], \n",
    "#                                     how='outer')\n",
    "        \n",
    "#     if not df_merged.empty:\n",
    "\n",
    "#         ds = df_merged.groupby(['FECHA', 'PERIODO']).sum()\n",
    "#         df = pd.DataFrame(ds)\n",
    "#         df = df.reset_index()\n",
    "#         df['FECHA'] = pd.to_datetime(df['FECHA'], format='%Y-%m-%d')\n",
    "#         df = df.drop(['ESTADOLIQ', 'QH', 'ID', 'GEO_ID'], axis=1)\n",
    "\n",
    "#         date_counts = df.groupby('FECHA').size()\n",
    "\n",
    "#         dates_with_23_rows = date_counts[date_counts == 23].index\n",
    "#         condition_date_23_rows = df['FECHA'].isin(dates_with_23_rows)\n",
    "#         dates_with_25_rows = date_counts[date_counts == 25].index\n",
    "#         condition_date_25_rows = df['FECHA'].isin(dates_with_25_rows)\n",
    "#         dates_with_24_rows = date_counts[date_counts == 24].index\n",
    "#         condition_date_24_rows = df['FECHA'].isin(dates_with_24_rows)\n",
    "\n",
    "#         condition_hour_gte_1 = df['PERIODO'] < 3\n",
    "#         condition_hour_gte_2 = df['PERIODO'] >= 3\n",
    "\n",
    "#         df.loc[condition_date_23_rows & condition_hour_gte_1, 'datetime'] = df.loc[condition_date_23_rows & condition_hour_gte_1].apply(\n",
    "#             lambda row: datetime(row['FECHA'].year, row['FECHA'].month, row['FECHA'].day, row['PERIODO'] - 1),\n",
    "#             axis=1)\n",
    "\n",
    "#         df.loc[condition_date_23_rows & condition_hour_gte_2, 'datetime'] = df.loc[condition_date_23_rows & condition_hour_gte_2].apply(\n",
    "#             lambda row: datetime(row['FECHA'].year, row['FECHA'].month, row['FECHA'].day, row['PERIODO']),\n",
    "#             axis=1)\n",
    "\n",
    "#         condition_hour_gte_1 = df['PERIODO'] <= 3\n",
    "#         condition_hour_gte_2 = df['PERIODO'] > 3\n",
    "\n",
    "#         df.loc[condition_date_25_rows & condition_hour_gte_1, 'datetime'] = df.loc[condition_date_25_rows & condition_hour_gte_1].apply(\n",
    "#             lambda row: datetime(row['FECHA'].year, row['FECHA'].month, row['FECHA'].day, row['PERIODO'] - 1),\n",
    "#             axis=1)\n",
    "\n",
    "#         df.loc[condition_date_25_rows & condition_hour_gte_2, 'datetime'] = df.loc[condition_date_25_rows & condition_hour_gte_2].apply(\n",
    "#             lambda row: datetime(row['FECHA'].year, row['FECHA'].month, row['FECHA'].day, row['PERIODO'] - 2),\n",
    "#             axis=1)\n",
    "\n",
    "#         df.loc[condition_date_24_rows, 'datetime'] = df.loc[condition_date_24_rows].apply(\n",
    "#             lambda row: datetime(row['FECHA'].year, row['FECHA'].month, row['FECHA'].day, row['PERIODO'] - 1),\n",
    "#             axis=1)\n",
    "\n",
    "#         df_perd_new = df[['datetime', '20_td', '30_td', '61_td', '62_td', '63_td', '64_td']]\n",
    "#         df_perd_new['datetime'] = pd.to_datetime(df_perd_new['datetime'], errors='coerce')\n",
    "\n",
    "#         df_perd = pd.concat([df_perd, df_perd_new], ignore_index=True)\n",
    "#     else:\n",
    "#         print(\"I'm empty\")"
   ]
  },
  {
   "cell_type": "code",
   "execution_count": 17,
   "id": "2c12d49a",
   "metadata": {
    "execution": {
     "iopub.execute_input": "2025-06-24T17:35:52.129143Z",
     "iopub.status.busy": "2025-06-24T17:35:52.128113Z",
     "iopub.status.idle": "2025-06-24T17:35:52.139133Z",
     "shell.execute_reply": "2025-06-24T17:35:52.137664Z"
    },
    "papermill": {
     "duration": 0.020538,
     "end_time": "2025-06-24T17:35:52.141133",
     "exception": false,
     "start_time": "2025-06-24T17:35:52.120595",
     "status": "completed"
    },
    "tags": []
   },
   "outputs": [],
   "source": [
    "# df_perd.to_pickle(perd_path)"
   ]
  }
 ],
 "metadata": {
  "kernelspec": {
   "display_name": "python_reduced",
   "language": "python",
   "name": "python3"
  },
  "language_info": {
   "codemirror_mode": {
    "name": "ipython",
    "version": 3
   },
   "file_extension": ".py",
   "mimetype": "text/x-python",
   "name": "python",
   "nbconvert_exporter": "python",
   "pygments_lexer": "ipython3",
   "version": "3.12.4"
  },
  "papermill": {
   "default_parameters": {},
   "duration": 13.192823,
   "end_time": "2025-06-24T17:35:52.599443",
   "environment_variables": {},
   "exception": null,
   "input_path": "c:\\Users\\mikel.perez\\0_Python_projects_v2\\notebooks\\shared\\2C_Perd.ipynb",
   "output_path": "c:\\Users\\mikel.perez\\0_Python_projects_v2\\notebooks\\shared\\2C_Perd.ipynb",
   "parameters": {
    "estado": "C2",
    "perd_path": "c:\\Users\\mikel.perez\\0_Python_projects_v2\\data\\processed\\elec\\perdidas.pkl"
   },
   "start_time": "2025-06-24T17:35:39.406620",
   "version": "2.6.0"
  }
 },
 "nbformat": 4,
 "nbformat_minor": 5
}
