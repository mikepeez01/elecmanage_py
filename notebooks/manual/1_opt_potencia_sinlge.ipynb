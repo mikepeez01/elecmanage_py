{
 "cells": [
  {
   "cell_type": "code",
   "execution_count": 41,
   "metadata": {},
   "outputs": [],
   "source": [
    "import papermill as pm\n",
    "import pandas as pd\n",
    "import datetime\n",
    "from shared.read_regulation import RegulationRetrievalHelper\n"
   ]
  },
  {
   "cell_type": "code",
   "execution_count": 42,
   "metadata": {},
   "outputs": [],
   "source": [
    "import warnings\n",
    "warnings.filterwarnings(\"ignore\", \n",
    "                        category=DeprecationWarning, \n",
    "                        message=\".*DataFrameGroupBy.apply operated on the grouping columns.*\")"
   ]
  },
  {
   "cell_type": "code",
   "execution_count": 43,
   "metadata": {},
   "outputs": [],
   "source": [
    "from config.config_loader import Config\n",
    "\n",
    "config = Config()"
   ]
  },
  {
   "cell_type": "code",
   "execution_count": 44,
   "metadata": {},
   "outputs": [],
   "source": [
    "alias = 'PR2'"
   ]
  },
  {
   "cell_type": "code",
   "execution_count": null,
   "metadata": {},
   "outputs": [
    {
     "data": {
      "text/plain": [
       "'c:\\\\Users\\\\mikel.perez\\\\0_Python_projects_v2\\\\data\\\\regulation\\\\elec\\\\dto_peajes_electrointensivos.xlsx'"
      ]
     },
     "execution_count": 46,
     "metadata": {},
     "output_type": "execute_result"
    }
   ],
   "source": [
    "path_coefs_exc = config.get_path(\"data_path.elec.regulation.coefs_excesos\")\n",
    "path_ie = config.get_path(\"data_path.elec.regulation.ie\")\n",
    "path_ver_template = config.get_resolved_path(\"data_path.elec.verification_project.templates.verif\")\n",
    "path_estim_template = config.get_resolved_path(\"data_path.elec.verification_project.templates.estim\")\n",
    "compodem_a2_path = config.get_resolved_path(\"data_path.elec.verification_project.compodem_a2\")\n",
    "\n",
    "path_peajes_cargos_energia = config.get_resolved_path(\"data_path.elec.regulation.peajes_cargos_energia\")\n",
    "path_peajes_energia = config.get_resolved_path(\"data_path.elec.regulation.peajes_energia\")\n",
    "path_peajes_potencia = config.get_resolved_path(\"data_path.elec.regulation.peajes_potencia\")\n",
    "path_cargos_energia = config.get_resolved_path(\"data_path.elec.regulation.cargos_energia\")\n",
    "path_cargos_potencia = config.get_resolved_path(\"data_path.elec.regulation.cargos_potencia\")\n",
    "path_estructura_cargos = config.get_resolved_path(\"data_path.elec.regulation.estructura_cargos\")\n",
    "path_dto_peajes_electrointensivos = config.get_resolved_path(\"data_path.elec.regulation.dto_peajes_electrointensivos\")\n",
    "\n",
    "path_dto_peajes_electrointensivos\n"
   ]
  },
  {
   "cell_type": "code",
   "execution_count": 47,
   "metadata": {},
   "outputs": [],
   "source": [
    "path_alias_elec = config.get_resolved_path(\"data_path.elec.customers.alias_elec\")"
   ]
  },
  {
   "cell_type": "code",
   "execution_count": null,
   "metadata": {},
   "outputs": [
    {
     "data": {
      "text/plain": [
       "'c:\\\\Users\\\\mikel.perez\\\\0_Python_projects_v2\\\\notebooks\\\\verification_project\\\\4B_Merge_Contract_OMIE.ipynb'"
      ]
     },
     "execution_count": 48,
     "metadata": {},
     "output_type": "execute_result"
    }
   ],
   "source": [
    "# Notebooks\n",
    "# nb_elec_prices = config.get_resolved_path(\"notebooks.shared.elec_markets_2a\")\n",
    "# nb_elec_perd = config.get_resolved_path(\"notebooks.shared.perdidas\")\n",
    "# nb_elec_ssaa = config.get_resolved_path(\"notebooks.shared.ssaa\")\n",
    "# nb_load = config.get_resolved_path(\"notebooks.load_compilation.export\")\n",
    "\n",
    "# nb_market_matrix = config.get_resolved_path(\"notebooks.verification_project.build_matrix\")\n",
    "# nb_market_matrix_estim = config.get_resolved_path(\"notebooks.verification_project.build_matrix_estim\")\n",
    "# nb_contract_market_matrix = config.get_resolved_path(\"notebooks.verification_project.merge_market_contract\")\n",
    "# nb_matrix_estim = config.get_resolved_path(\"notebooks.verification_project.build_matrix_estim\")\n",
    "# nb_read_contracts = config.get_resolved_path(\"notebooks.verification_project.read_contract\")\n",
    "# nb_estim = config.get_resolved_path(\"notebooks.verification_project.estimacion\")\n",
    "# nb_estim_excel = config.get_resolved_path(\"notebooks.verification_project.estimacion_excel\")\n",
    "# nb_invoices = config.get_resolved_path(\"notebooks.verification_project.hunt_invoices\")\n",
    "# nb_verif = config.get_resolved_path(\"notebooks.verification_project.ver_nb\")\n",
    "# nb_contract_market_matrix"
   ]
  },
  {
   "cell_type": "code",
   "execution_count": null,
   "metadata": {},
   "outputs": [
    {
     "data": {
      "text/plain": [
       "'c:\\\\Users\\\\mikel.perez\\\\0_Python_projects_v2\\\\data\\\\processed\\\\elec\\\\facturas_elec.db'"
      ]
     },
     "execution_count": 49,
     "metadata": {},
     "output_type": "execute_result"
    }
   ],
   "source": [
    "db_elec_path = config.get_resolved_path(\"data_path.elec.processed.facturas\")\n",
    "db_elec_manual_path = config.get_resolved_path(\"data_path.elec.processed.facturas_manual\")\n",
    "\n",
    "path_load_parquet = config.get_resolved_path(\"data_path.elec.processed.load_parquet\")\n",
    "path_load_elec_folder = config.get_resolved_path(\"data_path.elec.load_compilation.folder\")\n",
    "db_elec_path"
   ]
  },
  {
   "cell_type": "code",
   "execution_count": 50,
   "metadata": {},
   "outputs": [
    {
     "name": "stdout",
     "output_type": "stream",
     "text": [
      "2025-07-04 14:29:23,886 INFO sqlalchemy.engine.Engine BEGIN (implicit)\n",
      "2025-07-04 14:29:23,886 INFO sqlalchemy.engine.Engine PRAGMA main.table_info(\"SELECT * FROM facturas\")\n",
      "2025-07-04 14:29:23,890 INFO sqlalchemy.engine.Engine [raw sql] ()\n",
      "2025-07-04 14:29:23,893 INFO sqlalchemy.engine.Engine PRAGMA temp.table_info(\"SELECT * FROM facturas\")\n",
      "2025-07-04 14:29:23,895 INFO sqlalchemy.engine.Engine [raw sql] ()\n",
      "2025-07-04 14:29:23,895 INFO sqlalchemy.engine.Engine SELECT * FROM facturas\n",
      "2025-07-04 14:29:23,898 INFO sqlalchemy.engine.Engine [raw sql] ()\n",
      "2025-07-04 14:29:23,958 INFO sqlalchemy.engine.Engine ROLLBACK\n"
     ]
    }
   ],
   "source": [
    "from sqlalchemy import create_engine\n",
    "\n",
    "engine = create_engine(f'sqlite:///{db_elec_path}', echo=True)\n",
    "\n",
    "facturas_df_sql = pd.read_sql(('SELECT * FROM facturas'), con=engine);\n",
    "\n",
    "facturas_df_manual = pd.read_pickle(db_elec_manual_path)\n",
    "\n",
    "# if not facturas_df[facturas_df['cups'] == cups].empty:\n",
    "\n",
    "facturas_df = pd.concat([facturas_df_sql, facturas_df_manual], ignore_index=True)\n",
    "for column in ['inicio_periodo', 'fin_periodo', 'issue_date']:\n",
    "    facturas_df[column] = pd.to_datetime(facturas_df[column])"
   ]
  },
  {
   "cell_type": "code",
   "execution_count": 51,
   "metadata": {},
   "outputs": [],
   "source": [
    "df_alias_elec = pd.read_excel(path_alias_elec)"
   ]
  },
  {
   "cell_type": "code",
   "execution_count": 52,
   "metadata": {},
   "outputs": [
    {
     "data": {
      "application/vnd.microsoft.datawrangler.viewer.v0+json": {
       "columns": [
        {
         "name": "index",
         "rawType": "int64",
         "type": "integer"
        },
        {
         "name": "cliente",
         "rawType": "object",
         "type": "string"
        },
        {
         "name": "alias",
         "rawType": "object",
         "type": "string"
        },
        {
         "name": "cups",
         "rawType": "object",
         "type": "string"
        },
        {
         "name": "tarifa",
         "rawType": "object",
         "type": "string"
        },
        {
         "name": "electrointensivo",
         "rawType": "bool",
         "type": "boolean"
        },
        {
         "name": "contrato",
         "rawType": "int64",
         "type": "integer"
        }
       ],
       "ref": "ba729dfc-ad12-42db-823d-cd0f9c11abc1",
       "rows": [
        [
         "28",
         "Taghleef",
         "TAGHLEEF",
         "ES0031101457946001KR",
         "6.1 TD",
         "True",
         "1"
        ]
       ],
       "shape": {
        "columns": 6,
        "rows": 1
       }
      },
      "text/html": [
       "<div>\n",
       "<style scoped>\n",
       "    .dataframe tbody tr th:only-of-type {\n",
       "        vertical-align: middle;\n",
       "    }\n",
       "\n",
       "    .dataframe tbody tr th {\n",
       "        vertical-align: top;\n",
       "    }\n",
       "\n",
       "    .dataframe thead th {\n",
       "        text-align: right;\n",
       "    }\n",
       "</style>\n",
       "<table border=\"1\" class=\"dataframe\">\n",
       "  <thead>\n",
       "    <tr style=\"text-align: right;\">\n",
       "      <th></th>\n",
       "      <th>cliente</th>\n",
       "      <th>alias</th>\n",
       "      <th>cups</th>\n",
       "      <th>tarifa</th>\n",
       "      <th>electrointensivo</th>\n",
       "      <th>contrato</th>\n",
       "    </tr>\n",
       "  </thead>\n",
       "  <tbody>\n",
       "    <tr>\n",
       "      <th>28</th>\n",
       "      <td>Taghleef</td>\n",
       "      <td>TAGHLEEF</td>\n",
       "      <td>ES0031101457946001KR</td>\n",
       "      <td>6.1 TD</td>\n",
       "      <td>True</td>\n",
       "      <td>1</td>\n",
       "    </tr>\n",
       "  </tbody>\n",
       "</table>\n",
       "</div>"
      ],
      "text/plain": [
       "     cliente     alias                  cups  tarifa  electrointensivo  \\\n",
       "28  Taghleef  TAGHLEEF  ES0031101457946001KR  6.1 TD              True   \n",
       "\n",
       "    contrato  \n",
       "28         1  "
      ]
     },
     "execution_count": 52,
     "metadata": {},
     "output_type": "execute_result"
    }
   ],
   "source": [
    "cliente = 'Taghleef'\n",
    "year = 2025\n",
    "\n",
    "df_alias_fil = df_alias_elec[df_alias_elec['cliente'] == cliente]\n",
    "# df_alias_fil = df_alias_fil[df_alias_fil['alias'].isin(['WARNER BS', 'WARNER BQ', 'WARNER DW'])]\n",
    "# df_alias_fil = df_alias_fil[~df_alias_fil['cups'].isin(['ES0022000009138571BZ'])]\n",
    "df_alias_fil"
   ]
  },
  {
   "cell_type": "code",
   "execution_count": 53,
   "metadata": {},
   "outputs": [],
   "source": [
    "df_load = pd.read_parquet(path_load_parquet)"
   ]
  },
  {
   "cell_type": "code",
   "execution_count": 54,
   "metadata": {},
   "outputs": [],
   "source": [
    "import numpy as np\n",
    "import pandas as pd\n",
    "from scipy.optimize import minimize\n",
    "\n",
    "class OptimizePotencia:\n",
    "    \n",
    "    def __init__(self,\n",
    "                 df_load: pd.DataFrame,\n",
    "                 df_kp: pd.DataFrame,\n",
    "                 df_tep: pd.DataFrame,\n",
    "                 df_cargos_potencia: pd.DataFrame,\n",
    "                 df_peajes_potencia: pd.DataFrame,\n",
    "                 potencia: list):\n",
    "        \n",
    "        self.df_kp = df_kp\n",
    "        self.df_tep = df_tep\n",
    "        self.df_cargos_potencia = df_cargos_potencia\n",
    "        self.df_peajes_potencia = df_peajes_potencia\n",
    "        self.potencia = potencia\n",
    "\n",
    "        df = df_load.copy()\n",
    "        # df['load'] = df['load'] * 4\n",
    "        self.df_load = df\n",
    "\n",
    "        self.days = len(df_load['datetime'].dt.date.unique())\n",
    "        self._merge_load_coefs()\n",
    "\n",
    "    def _merge_load_coefs(self):\n",
    "        # Use self.df_load and self.df_kp\n",
    "        df_merged = pd.merge(self.df_load, self.df_kp, on='periodo', how='left')\n",
    "        df_merged = pd.merge(df_merged, self.df_tep, on='periodo', how='left')\n",
    "        self.df_op = df_merged\n",
    "        return self\n",
    "\n",
    "    def excess_calc(self, group):\n",
    "        # Calculate the squared excess only if load exceeds potencia\n",
    "        group['input'] = group.apply(\n",
    "            lambda row: (row['load'] - row['potencia']) ** 2 if (row['load'] - row['potencia'] > 0) else 0, \n",
    "            axis=1\n",
    "        )\n",
    "        # Sum the squared differences per period and calculate the weighted excess\n",
    "        list_pw = group.groupby('periodo')['input'].sum()\n",
    "        tep = group.groupby('periodo')['tep_power_exc'].mean()\n",
    "        kp = group.groupby('periodo')['kp_power_exc'].mean()\n",
    "        excesos_potencia = (np.sqrt(list_pw) * kp * tep).sum()\n",
    "        return excesos_potencia\n",
    "\n",
    "    def objective_function(self, potencia):\n",
    "        # Create a DataFrame for power, assuming period indices from 1 to 6\n",
    "        df_power = pd.DataFrame(potencia, index=[period for period in range(1, 7)])\n",
    "        df_power.reset_index(inplace=True)\n",
    "        df_power.columns = ['periodo', 'potencia']\n",
    "\n",
    "        df = pd.merge(self.df_op, df_power, on='periodo', how='left')\n",
    "\n",
    "        # Use self.df_cargos_potencia and self.df_peajes_potencia\n",
    "        coste_potencia = ((self.df_cargos_potencia['cargos_potencia'] + self.df_peajes_potencia['peajes_potencia'])\n",
    "                          * self.days * df_power['potencia']).sum()\n",
    "        \n",
    "        df[\"month\"] = df[\"datetime\"].dt.to_period(\"M\")\n",
    "        monthly_results = df.groupby(\"month\").apply(self.excess_calc).reset_index(name=\"monthly_result\")\n",
    "        # print(monthly_results['monthly_result'])\n",
    "        \n",
    "        # Sum only the 'monthly_result' column to get a scalar value\n",
    "        total_cost_excess = monthly_results['monthly_result'].sum()\n",
    "\n",
    "        self.coste_termino_fijo = coste_potencia\n",
    "        self.coste_excesos = total_cost_excess\n",
    "        \n",
    "        return total_cost_excess + coste_potencia\n",
    "    \n",
    "    def minimize_potencia(self):\n",
    "\n",
    "        n = len(self.potencia)\n",
    "\n",
    "        # Bounds: power values must be non-negative\n",
    "        bounds = [(0, None)] * n\n",
    "\n",
    "        # Constraint: each value must be less than or equal to the next (x[i+1] - x[i] ≥ 0)\n",
    "        constraints = [\n",
    "            {'type': 'ineq', 'fun': lambda x, i=i: x[i+1] - x[i]} for i in range(n - 1)\n",
    "        ]\n",
    "\n",
    "        result = minimize(\n",
    "            self.objective_function,\n",
    "            self.potencia,\n",
    "            method=\"SLSQP\",\n",
    "            bounds=bounds,\n",
    "            constraints=constraints,\n",
    "            options={'maxiter': 1000, 'disp': True}\n",
    "        )\n",
    "\n",
    "        print(result)\n",
    "        return result\n"
   ]
  },
  {
   "cell_type": "code",
   "execution_count": 56,
   "metadata": {},
   "outputs": [],
   "source": [
    "import pandas as pd\n",
    "import os\n",
    "from utils.utils_var import set_datetime_h\n",
    "import datetime\n",
    "\n",
    "os.listdir()\n",
    "\n",
    "df = pd.read_excel('Cch_20240101_20241231 fábrica Málaga.xlsx')\n",
    "df = df.head(-1)\n",
    "df['hora'] = df['hora'].apply(lambda string: int(string[1:]))\n",
    "df['load'] = df['load'] * 1000\n",
    "\n",
    "df['date'] = pd.to_datetime(df['date'], format='%d/%m/%Y')\n",
    "\n",
    "\n",
    "df = set_datetime_h(date='date', hour='hora', load='load', df=df)\n",
    "\n",
    "df['resolution'] = 'hourly'\n",
    "df.columns = ['datetime', 'load', 'resolution']\n",
    "\n",
    "path_spot_elec = config.get_path(\"data_path.elec.processed.spot_formatted\")\n",
    "\n",
    "df_spot_elec = pd.read_pickle(path_spot_elec)\n",
    "\n",
    "df_spot_elec['dup'] = df_spot_elec.groupby('datetime').cumcount()\n",
    "df['dup'] = df.groupby('datetime').cumcount()\n",
    "\n",
    "df = pd.merge(df, df_spot_elec[['datetime', 'periodo', 'dup']], on=['datetime', 'dup'], how='left')\n",
    "\n",
    "df.drop(columns=['dup'], inplace=True)"
   ]
  },
  {
   "cell_type": "code",
   "execution_count": 57,
   "metadata": {},
   "outputs": [
    {
     "name": "stdout",
     "output_type": "stream",
     "text": [
      "2024-12-31 23:00:00\n",
      "2023-12-01 00:00:00\n",
      "2024-11-30 23:55:00\n"
     ]
    },
    {
     "data": {
      "text/plain": [
       "335"
      ]
     },
     "execution_count": 57,
     "metadata": {},
     "output_type": "execute_result"
    }
   ],
   "source": [
    "# Single optimization\n",
    "\n",
    "df_load = df.copy()\n",
    "\n",
    "# print(df_load)\n",
    "# df_load = df_load[(df_load['resolution'] == 'quarter-hourly')\n",
    "#                 #   (df_load['cups'] == cups)\n",
    "#                   ]\n",
    "\n",
    "# if df_load.empty:\n",
    "\n",
    "#     df_load = df_load[(df_load['resolution'] == 'hourly')\n",
    "#                   ]\n",
    "\n",
    "df_load.sort_values('datetime', ascending=True, inplace=True)\n",
    "\n",
    "date_fil = df_load['datetime'].max()\n",
    "print(date_fil)\n",
    "\n",
    "month_start = date_fil.month\n",
    "year_start = date_fil.year - 1\n",
    "date_start = datetime.datetime(date_fil.year - 1, month_start, 1,0,0)\n",
    "print(date_start)\n",
    "\n",
    "date_end = datetime.datetime(date_fil.year, month_start, 1,0,0) - datetime.timedelta(days=1)\n",
    "date_end = datetime.datetime.combine(date_end.date(),datetime.time(23,55))\n",
    "print(date_end)\n",
    "\n",
    "df_load_fil = df_load[\n",
    "                (df_load['datetime'] >= date_start) &\n",
    "                (df_load['datetime'] <= date_end)\n",
    "                ]\n",
    "len(df_load_fil['datetime'].dt.date.unique())"
   ]
  },
  {
   "cell_type": "code",
   "execution_count": 58,
   "metadata": {},
   "outputs": [],
   "source": [
    "potencia = [17200, 17200, 17200, 17200, 17200, 17400]\n",
    "\n",
    "tarifa = '6.2 TD'"
   ]
  },
  {
   "cell_type": "code",
   "execution_count": 59,
   "metadata": {},
   "outputs": [],
   "source": [
    "Regulation = RegulationRetrievalHelper(\n",
    "    tarifa=tarifa,\n",
    "    path_peajes_cargos = path_peajes_cargos_energia,\n",
    "    path_peajes_energia = path_peajes_energia,\n",
    "    path_cargos_energia = path_cargos_energia,\n",
    "    path_peajes_potencia = path_peajes_potencia,\n",
    "    path_cargos_potencia = path_cargos_potencia,\n",
    "    path_estructura_cargos = path_estructura_cargos,\n",
    "    path_ie = path_ie,\n",
    "    path_dto_peajes_electrointensivos = path_dto_peajes_electrointensivos,\n",
    "    path_coefs_exc = path_coefs_exc\n",
    ")\n",
    "\n",
    "df_kp = Regulation._read_kp_power_exc_param(year=year)\n",
    "df_tep = Regulation._read_tep_power_exc_param(year=year)\n",
    "\n",
    "df_kp_2 = Regulation._read_kp_power_exc_param(year='2025 (2)')\n",
    "df_tep_2 = Regulation._read_tep_power_exc_param(year='2025 (2)')\n",
    "\n",
    "df_cargos_potencia = Regulation._read_peajes_slash_cargos(parameter='cargos_potencia',\n",
    "                                    year=year)\n",
    "df_peajes_potencia = Regulation._read_peajes_slash_cargos(parameter='peajes_potencia',\n",
    "                                    year=year)\n",
    "\n"
   ]
  },
  {
   "cell_type": "code",
   "execution_count": null,
   "metadata": {},
   "outputs": [
    {
     "name": "stdout",
     "output_type": "stream",
     "text": [
      "Optimization terminated successfully    (Exit mode 0)\n",
      "            Current function value: 584362.9697808626\n",
      "            Iterations: 44\n",
      "            Function evaluations: 322\n",
      "            Gradient evaluations: 44\n",
      " message: Optimization terminated successfully\n",
      " success: True\n",
      "  status: 0\n",
      "     fun: 584362.9697808626\n",
      "       x: [ 1.603e+04  1.644e+04  1.644e+04  1.644e+04  1.644e+04\n",
      "            1.644e+04]\n",
      "     nit: 44\n",
      "     jac: [ 0.000e+00 -5.062e+00  2.359e+00  1.328e+00  1.000e+00\n",
      "            3.672e-01]\n",
      "    nfev: 322\n",
      "    njev: 44\n",
      "19\n"
     ]
    }
   ],
   "source": [
    "OpNewReg = OptimizePotencia(\n",
    "    df_load=df_load_fil,\n",
    "    df_kp=df_kp_2,\n",
    "    df_tep=df_tep_2,\n",
    "    df_cargos_potencia=df_cargos_potencia,\n",
    "    df_peajes_potencia=df_peajes_potencia,\n",
    "    potencia=potencia\n",
    ")\n",
    "\n",
    "optimized_power_new = OpNewReg.minimize_potencia()\n",
    "POWEROPNEW = list(optimized_power_new.x)\n",
    "old_cost = OpNewReg.objective_function(potencia)\n",
    "old_power_cost = OpNewReg.coste_termino_fijo\n",
    "old_cost_excess = OpNewReg.coste_excesos\n",
    "optimized_cost = OpNewReg.objective_function(POWEROPNEW)\n",
    "new_power_cost = OpNewReg.coste_termino_fijo\n",
    "new_cost_excess = OpNewReg.coste_excesos\n",
    "dif = optimized_cost - old_cost\n",
    "\n",
    "items = [cliente, alias] + [P for P in POWEROPNEW] + [P for P in potencia]+ [new_power_cost, new_cost_excess, old_power_cost, old_cost_excess, dif]\n",
    "optimized_list = []\n",
    "for item in items:\n",
    "    optimized_list.append(item)\n",
    "print(len(items))\n",
    "df_optimizator = pd.DataFrame(columns=\\\n",
    "    ['cliente', 'alias'] + [f'potencia_p{i} op' for i in range(1,7)] + [f'potencia_p{i} old' for i in range(1,7)] + ['new_power_cost', 'new_cost_excess', 'old_power_cost', 'old_cost_excess', 'dif'])\n",
    "df_optimizator = pd.DataFrame([optimized_list], columns=df_optimizator.columns)"
   ]
  },
  {
   "cell_type": "code",
   "execution_count": 63,
   "metadata": {},
   "outputs": [
    {
     "data": {
      "application/vnd.microsoft.datawrangler.viewer.v0+json": {
       "columns": [
        {
         "name": "index",
         "rawType": "object",
         "type": "string"
        },
        {
         "name": "0",
         "rawType": "object",
         "type": "unknown"
        }
       ],
       "ref": "b44f0510-8922-4115-8c1f-981b134af5a6",
       "rows": [
        [
         "cliente",
         "Taghleef"
        ],
        [
         "alias",
         "PR2"
        ],
        [
         "potencia_p1 op",
         "16030.416559767918"
        ],
        [
         "potencia_p2 op",
         "16437.07158494712"
        ],
        [
         "potencia_p3 op",
         "16437.07158494782"
        ],
        [
         "potencia_p4 op",
         "16437.07158494776"
        ],
        [
         "potencia_p5 op",
         "16437.07158494839"
        ],
        [
         "potencia_p6 op",
         "16437.07158494796"
        ],
        [
         "potencia_p1 old",
         "17200"
        ],
        [
         "potencia_p2 old",
         "17200"
        ],
        [
         "potencia_p3 old",
         "17200"
        ],
        [
         "potencia_p4 old",
         "17200"
        ],
        [
         "potencia_p5 old",
         "17200"
        ],
        [
         "potencia_p6 old",
         "17400"
        ],
        [
         "new_power_cost",
         "572719.8893408315"
        ],
        [
         "new_cost_excess",
         "11643.080440031"
        ],
        [
         "old_power_cost",
         "607070.5113917807"
        ],
        [
         "old_cost_excess",
         "0.0"
        ],
        [
         "dif",
         "-22707.541610918124"
        ]
       ],
       "shape": {
        "columns": 1,
        "rows": 19
       }
      },
      "text/html": [
       "<div>\n",
       "<style scoped>\n",
       "    .dataframe tbody tr th:only-of-type {\n",
       "        vertical-align: middle;\n",
       "    }\n",
       "\n",
       "    .dataframe tbody tr th {\n",
       "        vertical-align: top;\n",
       "    }\n",
       "\n",
       "    .dataframe thead th {\n",
       "        text-align: right;\n",
       "    }\n",
       "</style>\n",
       "<table border=\"1\" class=\"dataframe\">\n",
       "  <thead>\n",
       "    <tr style=\"text-align: right;\">\n",
       "      <th></th>\n",
       "      <th>0</th>\n",
       "    </tr>\n",
       "  </thead>\n",
       "  <tbody>\n",
       "    <tr>\n",
       "      <th>cliente</th>\n",
       "      <td>Taghleef</td>\n",
       "    </tr>\n",
       "    <tr>\n",
       "      <th>alias</th>\n",
       "      <td>PR2</td>\n",
       "    </tr>\n",
       "    <tr>\n",
       "      <th>potencia_p1 op</th>\n",
       "      <td>16030.41656</td>\n",
       "    </tr>\n",
       "    <tr>\n",
       "      <th>potencia_p2 op</th>\n",
       "      <td>16437.071585</td>\n",
       "    </tr>\n",
       "    <tr>\n",
       "      <th>potencia_p3 op</th>\n",
       "      <td>16437.071585</td>\n",
       "    </tr>\n",
       "    <tr>\n",
       "      <th>potencia_p4 op</th>\n",
       "      <td>16437.071585</td>\n",
       "    </tr>\n",
       "    <tr>\n",
       "      <th>potencia_p5 op</th>\n",
       "      <td>16437.071585</td>\n",
       "    </tr>\n",
       "    <tr>\n",
       "      <th>potencia_p6 op</th>\n",
       "      <td>16437.071585</td>\n",
       "    </tr>\n",
       "    <tr>\n",
       "      <th>potencia_p1 old</th>\n",
       "      <td>17200</td>\n",
       "    </tr>\n",
       "    <tr>\n",
       "      <th>potencia_p2 old</th>\n",
       "      <td>17200</td>\n",
       "    </tr>\n",
       "    <tr>\n",
       "      <th>potencia_p3 old</th>\n",
       "      <td>17200</td>\n",
       "    </tr>\n",
       "    <tr>\n",
       "      <th>potencia_p4 old</th>\n",
       "      <td>17200</td>\n",
       "    </tr>\n",
       "    <tr>\n",
       "      <th>potencia_p5 old</th>\n",
       "      <td>17200</td>\n",
       "    </tr>\n",
       "    <tr>\n",
       "      <th>potencia_p6 old</th>\n",
       "      <td>17400</td>\n",
       "    </tr>\n",
       "    <tr>\n",
       "      <th>new_power_cost</th>\n",
       "      <td>572719.889341</td>\n",
       "    </tr>\n",
       "    <tr>\n",
       "      <th>new_cost_excess</th>\n",
       "      <td>11643.08044</td>\n",
       "    </tr>\n",
       "    <tr>\n",
       "      <th>old_power_cost</th>\n",
       "      <td>607070.511392</td>\n",
       "    </tr>\n",
       "    <tr>\n",
       "      <th>old_cost_excess</th>\n",
       "      <td>0.0</td>\n",
       "    </tr>\n",
       "    <tr>\n",
       "      <th>dif</th>\n",
       "      <td>-22707.541611</td>\n",
       "    </tr>\n",
       "  </tbody>\n",
       "</table>\n",
       "</div>"
      ],
      "text/plain": [
       "                             0\n",
       "cliente               Taghleef\n",
       "alias                      PR2\n",
       "potencia_p1 op     16030.41656\n",
       "potencia_p2 op    16437.071585\n",
       "potencia_p3 op    16437.071585\n",
       "potencia_p4 op    16437.071585\n",
       "potencia_p5 op    16437.071585\n",
       "potencia_p6 op    16437.071585\n",
       "potencia_p1 old          17200\n",
       "potencia_p2 old          17200\n",
       "potencia_p3 old          17200\n",
       "potencia_p4 old          17200\n",
       "potencia_p5 old          17200\n",
       "potencia_p6 old          17400\n",
       "new_power_cost   572719.889341\n",
       "new_cost_excess    11643.08044\n",
       "old_power_cost   607070.511392\n",
       "old_cost_excess            0.0\n",
       "dif              -22707.541611"
      ]
     },
     "execution_count": 63,
     "metadata": {},
     "output_type": "execute_result"
    }
   ],
   "source": [
    "df_optimizator = pd.DataFrame(columns=\\\n",
    "    ['cliente', 'alias'] + [f'potencia_p{i} op' for i in range(1,7)] + [f'potencia_p{i} old' for i in range(1,7)] + ['new_power_cost', 'new_cost_excess', 'old_power_cost', 'old_cost_excess', 'dif'])\n",
    "df_optimizator = pd.DataFrame([optimized_list], columns=df_optimizator.columns)\n",
    "df_optimizator.T"
   ]
  },
  {
   "cell_type": "code",
   "execution_count": 62,
   "metadata": {},
   "outputs": [
    {
     "data": {
      "application/vnd.microsoft.datawrangler.viewer.v0+json": {
       "columns": [
        {
         "name": "index",
         "rawType": "int64",
         "type": "integer"
        },
        {
         "name": "0",
         "rawType": "object",
         "type": "string"
        },
        {
         "name": "1",
         "rawType": "object",
         "type": "string"
        },
        {
         "name": "2",
         "rawType": "float64",
         "type": "float"
        },
        {
         "name": "3",
         "rawType": "float64",
         "type": "float"
        },
        {
         "name": "4",
         "rawType": "float64",
         "type": "float"
        },
        {
         "name": "5",
         "rawType": "float64",
         "type": "float"
        },
        {
         "name": "6",
         "rawType": "float64",
         "type": "float"
        },
        {
         "name": "7",
         "rawType": "float64",
         "type": "float"
        },
        {
         "name": "8",
         "rawType": "int64",
         "type": "integer"
        },
        {
         "name": "9",
         "rawType": "int64",
         "type": "integer"
        },
        {
         "name": "10",
         "rawType": "int64",
         "type": "integer"
        },
        {
         "name": "11",
         "rawType": "int64",
         "type": "integer"
        },
        {
         "name": "12",
         "rawType": "int64",
         "type": "integer"
        },
        {
         "name": "13",
         "rawType": "int64",
         "type": "integer"
        },
        {
         "name": "14",
         "rawType": "float64",
         "type": "float"
        },
        {
         "name": "15",
         "rawType": "float64",
         "type": "float"
        },
        {
         "name": "16",
         "rawType": "float64",
         "type": "float"
        },
        {
         "name": "17",
         "rawType": "float64",
         "type": "float"
        },
        {
         "name": "18",
         "rawType": "float64",
         "type": "float"
        }
       ],
       "ref": "48b02743-d5e7-470c-9c90-081576ade4d4",
       "rows": [
        [
         "0",
         "Taghleef",
         "PR2",
         "16030.416559767918",
         "16437.07158494712",
         "16437.07158494782",
         "16437.07158494776",
         "16437.07158494839",
         "16437.07158494796",
         "17200",
         "17200",
         "17200",
         "17200",
         "17200",
         "17400",
         "572719.8893408315",
         "11643.080440031",
         "607070.5113917807",
         "0.0",
         "-22707.541610918124"
        ]
       ],
       "shape": {
        "columns": 19,
        "rows": 1
       }
      },
      "text/html": [
       "<div>\n",
       "<style scoped>\n",
       "    .dataframe tbody tr th:only-of-type {\n",
       "        vertical-align: middle;\n",
       "    }\n",
       "\n",
       "    .dataframe tbody tr th {\n",
       "        vertical-align: top;\n",
       "    }\n",
       "\n",
       "    .dataframe thead th {\n",
       "        text-align: right;\n",
       "    }\n",
       "</style>\n",
       "<table border=\"1\" class=\"dataframe\">\n",
       "  <thead>\n",
       "    <tr style=\"text-align: right;\">\n",
       "      <th></th>\n",
       "      <th>0</th>\n",
       "      <th>1</th>\n",
       "      <th>2</th>\n",
       "      <th>3</th>\n",
       "      <th>4</th>\n",
       "      <th>5</th>\n",
       "      <th>6</th>\n",
       "      <th>7</th>\n",
       "      <th>8</th>\n",
       "      <th>9</th>\n",
       "      <th>10</th>\n",
       "      <th>11</th>\n",
       "      <th>12</th>\n",
       "      <th>13</th>\n",
       "      <th>14</th>\n",
       "      <th>15</th>\n",
       "      <th>16</th>\n",
       "      <th>17</th>\n",
       "      <th>18</th>\n",
       "    </tr>\n",
       "  </thead>\n",
       "  <tbody>\n",
       "    <tr>\n",
       "      <th>0</th>\n",
       "      <td>Taghleef</td>\n",
       "      <td>PR2</td>\n",
       "      <td>16030.41656</td>\n",
       "      <td>16437.071585</td>\n",
       "      <td>16437.071585</td>\n",
       "      <td>16437.071585</td>\n",
       "      <td>16437.071585</td>\n",
       "      <td>16437.071585</td>\n",
       "      <td>17200</td>\n",
       "      <td>17200</td>\n",
       "      <td>17200</td>\n",
       "      <td>17200</td>\n",
       "      <td>17200</td>\n",
       "      <td>17400</td>\n",
       "      <td>572719.889341</td>\n",
       "      <td>11643.08044</td>\n",
       "      <td>607070.511392</td>\n",
       "      <td>0.0</td>\n",
       "      <td>-22707.541611</td>\n",
       "    </tr>\n",
       "  </tbody>\n",
       "</table>\n",
       "</div>"
      ],
      "text/plain": [
       "         0    1            2             3             4             5   \\\n",
       "0  Taghleef  PR2  16030.41656  16437.071585  16437.071585  16437.071585   \n",
       "\n",
       "             6             7      8      9      10     11     12     13  \\\n",
       "0  16437.071585  16437.071585  17200  17200  17200  17200  17200  17400   \n",
       "\n",
       "              14           15             16   17            18  \n",
       "0  572719.889341  11643.08044  607070.511392  0.0 -22707.541611  "
      ]
     },
     "execution_count": 62,
     "metadata": {},
     "output_type": "execute_result"
    }
   ],
   "source": [
    "df_optimizator"
   ]
  }
 ],
 "metadata": {
  "kernelspec": {
   "display_name": "work",
   "language": "python",
   "name": "python3"
  },
  "language_info": {
   "codemirror_mode": {
    "name": "ipython",
    "version": 3
   },
   "file_extension": ".py",
   "mimetype": "text/x-python",
   "name": "python",
   "nbconvert_exporter": "python",
   "pygments_lexer": "ipython3",
   "version": "3.12.4"
  }
 },
 "nbformat": 4,
 "nbformat_minor": 2
}
