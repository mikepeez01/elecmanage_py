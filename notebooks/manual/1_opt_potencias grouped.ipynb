{
 "cells": [
  {
   "cell_type": "code",
   "execution_count": 1,
   "metadata": {},
   "outputs": [],
   "source": [
    "import papermill as pm\n",
    "import pandas as pd\n",
    "import datetime\n",
    "from shared.read_regulation import RegulationRetrievalHelper\n"
   ]
  },
  {
   "cell_type": "code",
   "execution_count": 2,
   "metadata": {},
   "outputs": [],
   "source": [
    "import warnings\n",
    "warnings.filterwarnings(\"ignore\", \n",
    "                        category=DeprecationWarning, \n",
    "                        message=\".*DataFrameGroupBy.apply operated on the grouping columns.*\")"
   ]
  },
  {
   "cell_type": "code",
   "execution_count": 3,
   "metadata": {},
   "outputs": [],
   "source": [
    "from config.config_loader import Config\n",
    "\n",
    "config = Config()"
   ]
  },
  {
   "cell_type": "code",
   "execution_count": 4,
   "metadata": {},
   "outputs": [],
   "source": [
    "alias = 'PR2'"
   ]
  },
  {
   "cell_type": "code",
   "execution_count": 5,
   "metadata": {},
   "outputs": [],
   "source": [
    "festivos_path = config.get_path(\"data_path.elec.regulation.festivos\")\n",
    "periodos_cal_path = config.get_path(\"data_path.elec.regulation.calendario_periodos\")\n",
    "\n",
    "futures_path = config.get_path(\"data_path.elec.processed.futures\")\n",
    "spot_path = config.get_path(\"data_path.elec.processed.spot\")\n",
    "spot_formated_path = config.get_path(\"data_path.elec.processed.spot_formatted\")"
   ]
  },
  {
   "cell_type": "code",
   "execution_count": 6,
   "metadata": {},
   "outputs": [
    {
     "data": {
      "text/plain": [
       "'c:\\\\Users\\\\mikel.perez\\\\0_Python_projects_v2\\\\data\\\\regulation\\\\elec\\\\dto_peajes_electrointensivos.xlsx'"
      ]
     },
     "execution_count": 6,
     "metadata": {},
     "output_type": "execute_result"
    }
   ],
   "source": [
    "path_coefs_exc = config.get_path(\"data_path.elec.regulation.coefs_excesos\")\n",
    "path_ie = config.get_path(\"data_path.elec.regulation.ie\")\n",
    "path_ver_template = config.get_resolved_path(\"data_path.elec.verification_project.templates.verif\")\n",
    "path_estim_template = config.get_resolved_path(\"data_path.elec.verification_project.templates.estim\")\n",
    "compodem_a2_path = config.get_resolved_path(\"data_path.elec.verification_project.compodem_a2\")\n",
    "\n",
    "path_peajes_cargos_energia = config.get_resolved_path(\"data_path.elec.regulation.peajes_cargos_energia\")\n",
    "path_peajes_energia = config.get_resolved_path(\"data_path.elec.regulation.peajes_energia\")\n",
    "path_peajes_potencia = config.get_resolved_path(\"data_path.elec.regulation.peajes_potencia\")\n",
    "path_cargos_energia = config.get_resolved_path(\"data_path.elec.regulation.cargos_energia\")\n",
    "path_cargos_potencia = config.get_resolved_path(\"data_path.elec.regulation.cargos_potencia\")\n",
    "path_estructura_cargos = config.get_resolved_path(\"data_path.elec.regulation.estructura_cargos\")\n",
    "path_dto_peajes_electrointensivos = config.get_resolved_path(\"data_path.elec.regulation.dto_peajes_electrointensivos\")\n",
    "\n",
    "path_dto_peajes_electrointensivos\n"
   ]
  },
  {
   "cell_type": "code",
   "execution_count": 7,
   "metadata": {},
   "outputs": [],
   "source": [
    "path_alias_elec = config.get_resolved_path(\"data_path.elec.customers.alias_elec\")"
   ]
  },
  {
   "cell_type": "code",
   "execution_count": 8,
   "metadata": {},
   "outputs": [
    {
     "data": {
      "text/plain": [
       "'c:\\\\Users\\\\mikel.perez\\\\0_Python_projects_v2\\\\notebooks\\\\verification_project\\\\4B_Merge_Contract_OMIE.ipynb'"
      ]
     },
     "execution_count": 8,
     "metadata": {},
     "output_type": "execute_result"
    }
   ],
   "source": [
    "# Notebooks\n",
    "nb_elec_prices = config.get_resolved_path(\"notebooks.shared.elec_markets_2a\")\n",
    "nb_elec_perd = config.get_resolved_path(\"notebooks.shared.perdidas\")\n",
    "nb_elec_ssaa = config.get_resolved_path(\"notebooks.shared.ssaa\")\n",
    "nb_load = config.get_resolved_path(\"notebooks.load_compilation.export\")\n",
    "\n",
    "nb_market_matrix = config.get_resolved_path(\"notebooks.verification_project.build_matrix\")\n",
    "nb_market_matrix_estim = config.get_resolved_path(\"notebooks.verification_project.build_matrix_estim\")\n",
    "nb_contract_market_matrix = config.get_resolved_path(\"notebooks.verification_project.merge_market_contract\")\n",
    "nb_matrix_estim = config.get_resolved_path(\"notebooks.verification_project.build_matrix_estim\")\n",
    "nb_read_contracts = config.get_resolved_path(\"notebooks.verification_project.read_contract\")\n",
    "nb_estim = config.get_resolved_path(\"notebooks.verification_project.estimacion\")\n",
    "nb_estim_excel = config.get_resolved_path(\"notebooks.verification_project.estimacion_excel\")\n",
    "nb_invoices = config.get_resolved_path(\"notebooks.verification_project.hunt_invoices\")\n",
    "nb_verif = config.get_resolved_path(\"notebooks.verification_project.ver_nb\")\n",
    "nb_contract_market_matrix"
   ]
  },
  {
   "cell_type": "code",
   "execution_count": 9,
   "metadata": {},
   "outputs": [
    {
     "data": {
      "text/plain": [
       "'c:\\\\Users\\\\mikel.perez\\\\0_Python_projects_v2\\\\data\\\\processed\\\\elec\\\\facturas_elec.db'"
      ]
     },
     "execution_count": 9,
     "metadata": {},
     "output_type": "execute_result"
    }
   ],
   "source": [
    "db_elec_path = config.get_resolved_path(\"data_path.elec.processed.facturas\")\n",
    "db_elec_manual_path = config.get_resolved_path(\"data_path.elec.processed.facturas_manual\")\n",
    "\n",
    "path_load_parquet = config.get_resolved_path(\"data_path.elec.processed.load_parquet\")\n",
    "path_load_elec_folder = config.get_resolved_path(\"data_path.elec.load_compilation.folder\")\n",
    "db_elec_path"
   ]
  },
  {
   "cell_type": "code",
   "execution_count": 10,
   "metadata": {},
   "outputs": [
    {
     "name": "stdout",
     "output_type": "stream",
     "text": [
      "2025-07-04 14:07:14,911 INFO sqlalchemy.engine.Engine BEGIN (implicit)\n",
      "2025-07-04 14:07:14,911 INFO sqlalchemy.engine.Engine PRAGMA main.table_info(\"SELECT * FROM facturas\")\n",
      "2025-07-04 14:07:14,911 INFO sqlalchemy.engine.Engine [raw sql] ()\n",
      "2025-07-04 14:07:14,911 INFO sqlalchemy.engine.Engine PRAGMA temp.table_info(\"SELECT * FROM facturas\")\n",
      "2025-07-04 14:07:14,911 INFO sqlalchemy.engine.Engine [raw sql] ()\n",
      "2025-07-04 14:07:14,923 INFO sqlalchemy.engine.Engine SELECT * FROM facturas\n",
      "2025-07-04 14:07:14,924 INFO sqlalchemy.engine.Engine [raw sql] ()\n",
      "2025-07-04 14:07:14,947 INFO sqlalchemy.engine.Engine ROLLBACK\n"
     ]
    }
   ],
   "source": [
    "from sqlalchemy import create_engine\n",
    "\n",
    "engine = create_engine(f'sqlite:///{db_elec_path}', echo=True)\n",
    "\n",
    "facturas_df_sql = pd.read_sql(('SELECT * FROM facturas'), con=engine);\n",
    "\n",
    "facturas_df_manual = pd.read_pickle(db_elec_manual_path)\n",
    "\n",
    "# if not facturas_df[facturas_df['cups'] == cups].empty:\n",
    "\n",
    "facturas_df = pd.concat([facturas_df_sql, facturas_df_manual], ignore_index=True)\n",
    "for column in ['inicio_periodo', 'fin_periodo', 'issue_date']:\n",
    "    facturas_df[column] = pd.to_datetime(facturas_df[column])"
   ]
  },
  {
   "cell_type": "code",
   "execution_count": 11,
   "metadata": {},
   "outputs": [],
   "source": [
    "df_alias_elec = pd.read_excel(path_alias_elec)"
   ]
  },
  {
   "cell_type": "code",
   "execution_count": 12,
   "metadata": {},
   "outputs": [
    {
     "data": {
      "application/vnd.microsoft.datawrangler.viewer.v0+json": {
       "columns": [
        {
         "name": "index",
         "rawType": "int64",
         "type": "integer"
        },
        {
         "name": "cliente",
         "rawType": "object",
         "type": "string"
        },
        {
         "name": "alias",
         "rawType": "object",
         "type": "string"
        },
        {
         "name": "cups",
         "rawType": "object",
         "type": "string"
        },
        {
         "name": "tarifa",
         "rawType": "object",
         "type": "string"
        },
        {
         "name": "electrointensivo",
         "rawType": "bool",
         "type": "boolean"
        },
        {
         "name": "contrato",
         "rawType": "int64",
         "type": "integer"
        }
       ],
       "ref": "7e52b16f-04b6-4d8e-9eec-a1ca440b444f",
       "rows": [
        [
         "28",
         "Taghleef",
         "TAGHLEEF",
         "ES0031101457946001KR",
         "6.1 TD",
         "True",
         "1"
        ]
       ],
       "shape": {
        "columns": 6,
        "rows": 1
       }
      },
      "text/html": [
       "<div>\n",
       "<style scoped>\n",
       "    .dataframe tbody tr th:only-of-type {\n",
       "        vertical-align: middle;\n",
       "    }\n",
       "\n",
       "    .dataframe tbody tr th {\n",
       "        vertical-align: top;\n",
       "    }\n",
       "\n",
       "    .dataframe thead th {\n",
       "        text-align: right;\n",
       "    }\n",
       "</style>\n",
       "<table border=\"1\" class=\"dataframe\">\n",
       "  <thead>\n",
       "    <tr style=\"text-align: right;\">\n",
       "      <th></th>\n",
       "      <th>cliente</th>\n",
       "      <th>alias</th>\n",
       "      <th>cups</th>\n",
       "      <th>tarifa</th>\n",
       "      <th>electrointensivo</th>\n",
       "      <th>contrato</th>\n",
       "    </tr>\n",
       "  </thead>\n",
       "  <tbody>\n",
       "    <tr>\n",
       "      <th>28</th>\n",
       "      <td>Taghleef</td>\n",
       "      <td>TAGHLEEF</td>\n",
       "      <td>ES0031101457946001KR</td>\n",
       "      <td>6.1 TD</td>\n",
       "      <td>True</td>\n",
       "      <td>1</td>\n",
       "    </tr>\n",
       "  </tbody>\n",
       "</table>\n",
       "</div>"
      ],
      "text/plain": [
       "     cliente     alias                  cups  tarifa  electrointensivo  \\\n",
       "28  Taghleef  TAGHLEEF  ES0031101457946001KR  6.1 TD              True   \n",
       "\n",
       "    contrato  \n",
       "28         1  "
      ]
     },
     "execution_count": 12,
     "metadata": {},
     "output_type": "execute_result"
    }
   ],
   "source": [
    "cliente = 'Taghleef'\n",
    "year = 2025\n",
    "\n",
    "df_alias_fil = df_alias_elec[df_alias_elec['cliente'] == cliente]\n",
    "# df_alias_fil = df_alias_fil[df_alias_fil['alias'].isin(['WARNER BS', 'WARNER BQ', 'WARNER DW'])]\n",
    "# df_alias_fil = df_alias_fil[~df_alias_fil['cups'].isin(['ES0022000009138571BZ'])]\n",
    "df_alias_fil"
   ]
  },
  {
   "cell_type": "code",
   "execution_count": 13,
   "metadata": {},
   "outputs": [],
   "source": [
    "df_load = pd.read_parquet(path_load_parquet)"
   ]
  },
  {
   "cell_type": "code",
   "execution_count": 14,
   "metadata": {},
   "outputs": [],
   "source": [
    "import numpy as np\n",
    "import pandas as pd\n",
    "from scipy.optimize import minimize\n",
    "\n",
    "class OptimizePotencia:\n",
    "    \n",
    "    def __init__(self,\n",
    "                 df_load: pd.DataFrame,\n",
    "                 df_kp: pd.DataFrame,\n",
    "                 df_tep: pd.DataFrame,\n",
    "                 df_cargos_potencia: pd.DataFrame,\n",
    "                 df_peajes_potencia: pd.DataFrame,\n",
    "                 potencia: list):\n",
    "        \n",
    "        self.df_kp = df_kp\n",
    "        self.df_tep = df_tep\n",
    "        self.df_cargos_potencia = df_cargos_potencia\n",
    "        self.df_peajes_potencia = df_peajes_potencia\n",
    "        self.potencia = potencia\n",
    "\n",
    "        df = df_load.copy()\n",
    "        # df['load'] = df['load'] * 4\n",
    "        self.df_load = df\n",
    "\n",
    "        self.days = len(df_load['datetime'].dt.date.unique())\n",
    "        self._merge_load_coefs()\n",
    "\n",
    "    def _merge_load_coefs(self):\n",
    "        # Use self.df_load and self.df_kp\n",
    "        df_merged = pd.merge(self.df_load, self.df_kp, on='periodo', how='left')\n",
    "        df_merged = pd.merge(df_merged, self.df_tep, on='periodo', how='left')\n",
    "        self.df_op = df_merged\n",
    "        return self\n",
    "\n",
    "    def excess_calc(self, group):\n",
    "        # Calculate the squared excess only if load exceeds potencia\n",
    "        group['input'] = group.apply(\n",
    "            lambda row: (row['load'] - row['potencia']) ** 2 if (row['load'] - row['potencia'] > 0) else 0, \n",
    "            axis=1\n",
    "        )\n",
    "        # Sum the squared differences per period and calculate the weighted excess\n",
    "        list_pw = group.groupby('periodo')['input'].sum()\n",
    "        tep = group.groupby('periodo')['tep_power_exc'].mean()\n",
    "        kp = group.groupby('periodo')['kp_power_exc'].mean()\n",
    "        excesos_potencia = (np.sqrt(list_pw) * kp * tep).sum()\n",
    "        return excesos_potencia\n",
    "\n",
    "    def objective_function(self, potencia):\n",
    "        # Create a DataFrame for power, assuming period indices from 1 to 6\n",
    "        df_power = pd.DataFrame(potencia, index=[period for period in range(1, 7)])\n",
    "        df_power.reset_index(inplace=True)\n",
    "        df_power.columns = ['periodo', 'potencia']\n",
    "\n",
    "        df = pd.merge(self.df_op, df_power, on='periodo', how='left')\n",
    "\n",
    "        # Use self.df_cargos_potencia and self.df_peajes_potencia\n",
    "        coste_potencia = ((self.df_cargos_potencia['cargos_potencia'] + self.df_peajes_potencia['peajes_potencia'])\n",
    "                          * self.days * df_power['potencia']).sum()\n",
    "        \n",
    "        df[\"month\"] = df[\"datetime\"].dt.to_period(\"M\")\n",
    "        monthly_results = df.groupby(\"month\").apply(self.excess_calc).reset_index(name=\"monthly_result\")\n",
    "        # print(monthly_results['monthly_result'])\n",
    "        \n",
    "        # Sum only the 'monthly_result' column to get a scalar value\n",
    "        total_cost_excess = monthly_results['monthly_result'].sum()\n",
    "\n",
    "        self.coste_termino_fijo = coste_potencia\n",
    "        self.coste_excesos = total_cost_excess\n",
    "        \n",
    "        return total_cost_excess + coste_potencia\n",
    "    \n",
    "    def minimize_potencia(self):\n",
    "\n",
    "        n = len(self.potencia)\n",
    "\n",
    "        # Bounds: power values must be non-negative\n",
    "        bounds = [(0, None)] * n\n",
    "\n",
    "        # Constraint: each value must be less than or equal to the next (x[i+1] - x[i] ≥ 0)\n",
    "        constraints = [\n",
    "            {'type': 'ineq', 'fun': lambda x, i=i: x[i+1] - x[i]} for i in range(n - 1)\n",
    "        ]\n",
    "\n",
    "        result = minimize(\n",
    "            self.objective_function,\n",
    "            self.potencia,\n",
    "            method=\"SLSQP\",\n",
    "            bounds=bounds,\n",
    "            constraints=constraints,\n",
    "            options={'maxiter': 1000, 'disp': True}\n",
    "        )\n",
    "\n",
    "        print(result)\n",
    "        return result\n"
   ]
  },
  {
   "cell_type": "code",
   "execution_count": 16,
   "metadata": {},
   "outputs": [
    {
     "name": "stdout",
     "output_type": "stream",
     "text": [
      "19\n",
      "Optimizing power for alias: TAGHLEEF\n",
      "2025-06-01 23:00:00\n",
      "2024-06-01 00:00:00\n",
      "2025-05-31 23:55:00\n",
      "Optimization terminated successfully    (Exit mode 0)\n",
      "            Current function value: 226922.96285205564\n",
      "            Iterations: 33\n",
      "            Function evaluations: 231\n",
      "            Gradient evaluations: 33\n",
      " message: Optimization terminated successfully\n",
      " success: True\n",
      "  status: 0\n",
      "     fun: 226922.96285205564\n",
      "       x: [ 3.740e+03  3.756e+03  3.756e+03  3.756e+03  3.756e+03\n",
      "            3.756e+03]\n",
      "     nit: 33\n",
      "     jac: [ 0.000e+00 -4.494e+00  5.254e-01  1.459e+00  1.912e+00\n",
      "            5.977e-01]\n",
      "    nfev: 231\n",
      "    njev: 33\n",
      "19\n",
      "    cliente     alias  potencia_p1 op  potencia_p2 op  potencia_p3 op  \\\n",
      "0  Taghleef  TAGHLEEF     3739.849856     3755.618042     3755.618042   \n",
      "\n",
      "   potencia_p4 op  potencia_p5 op  potencia_p6 op  potencia_p1 old  \\\n",
      "0     3755.618042     3755.618042     3755.618042           4030.0   \n",
      "\n",
      "   potencia_p2 old  potencia_p3 old  potencia_p4 old  potencia_p5 old  \\\n",
      "0           4030.0           4030.0           4030.0           4030.0   \n",
      "\n",
      "   potencia_p6 old  new_power_cost  new_cost_excess  old_power_cost  \\\n",
      "0           4830.0   219060.590887      7862.371965    236284.98811   \n",
      "\n",
      "   old_cost_excess         dif  \n",
      "0       298.202492 -9660.22775  \n"
     ]
    },
    {
     "name": "stderr",
     "output_type": "stream",
     "text": [
      "C:\\Users\\mikel.perez\\AppData\\Local\\Temp\\ipykernel_5976\\705448792.py:105: FutureWarning: The behavior of DataFrame concatenation with empty or all-NA entries is deprecated. In a future version, this will no longer exclude empty or all-NA columns when determining the result dtypes. To retain the old behavior, exclude the relevant entries before the concat operation.\n",
      "  df_optimizator = pd.concat([df_optimizator, pd.DataFrame([optimized_list], columns=df_optimizator.columns)], ignore_index=True)\n"
     ]
    }
   ],
   "source": [
    "df_optimizator = pd.DataFrame(columns=\\\n",
    "    ['cliente', 'alias'] + [f'potencia_p{i} op' for i in range(1,7)] + [f'potencia_p{i} old' for i in range(1,7)] + ['new_power_cost', 'new_cost_excess', 'old_power_cost', 'old_cost_excess', 'dif'])\n",
    "\n",
    "print(len(df_optimizator.columns))\n",
    "\n",
    "for index, row in df_alias_fil.iterrows():\n",
    "    try:\n",
    "        optimized_list = []\n",
    "        # optimized_list.append(row['cliente'])\n",
    "        # optimized_list.append(row['alias'])\n",
    "        alias = row['alias']\n",
    "        tarifa = row['tarifa']\n",
    "        cups = row['cups']\n",
    "\n",
    "        print(f\"Optimizing power for alias: {alias}\")\n",
    "        Regulation = RegulationRetrievalHelper(\n",
    "            tarifa=tarifa,\n",
    "            path_peajes_cargos = path_peajes_cargos_energia,\n",
    "            path_peajes_energia = path_peajes_energia,\n",
    "            path_cargos_energia = path_cargos_energia,\n",
    "            path_peajes_potencia = path_peajes_potencia,\n",
    "            path_cargos_potencia = path_cargos_potencia,\n",
    "            path_estructura_cargos = path_estructura_cargos,\n",
    "            path_ie = path_ie,\n",
    "            path_dto_peajes_electrointensivos = path_dto_peajes_electrointensivos,\n",
    "            path_coefs_exc = path_coefs_exc\n",
    "        )\n",
    "\n",
    "        df_kp = Regulation._read_kp_power_exc_param(year=year)\n",
    "        df_tep = Regulation._read_tep_power_exc_param(year=year)\n",
    "\n",
    "        df_kp_2 = Regulation._read_kp_power_exc_param(year='2025 (2)')\n",
    "        df_tep_2 = Regulation._read_tep_power_exc_param(year='2025 (2)')\n",
    "\n",
    "        df_cargos_potencia = Regulation._read_peajes_slash_cargos(parameter='cargos_potencia',\n",
    "                                            year=year)\n",
    "        df_peajes_potencia = Regulation._read_peajes_slash_cargos(parameter='peajes_potencia',\n",
    "                                            year=year)\n",
    "\n",
    "        df_filtered_issued = facturas_df[\n",
    "                                (facturas_df['cups'] == cups)\n",
    "                                ]\n",
    "        df_filtered_issued.sort_values(by='fin_periodo', ascending=True)\n",
    "        df_filtered_issued = df_filtered_issued.tail(1)\n",
    "        potencia = [df_filtered_issued[f'potencia_p{i+1}'].values[0] for i in range (6)]\n",
    "\n",
    "        df_load_f = df_load[(df_load['resolution'] == 'quarter-hourly') &\n",
    "                        (df_load['cups'] == cups)]\n",
    "        \n",
    "        # Unicamente se usan las dos líneas de debajo para Warner\n",
    "\n",
    "        # df_load_f = df_load[(df_load['resolution'] == 'hourly') &\n",
    "        #                 (df_load['cups'] == cups)]\n",
    "\n",
    "        if df_load_f.empty:\n",
    "\n",
    "            df_load_f = df_load[(df_load['resolution'] == 'hourly') &\n",
    "                        (df_load['cups'] == cups)]\n",
    "        else:\n",
    "            df_load_f['load'] = df_load_f['load'] * 4\n",
    "        df_load_f = df_load_f.copy()\n",
    "        df_load_f.sort_values('datetime', ascending=True, inplace=True)\n",
    "\n",
    "        date_fil = df_load_f['datetime'].max()\n",
    "        print(date_fil)\n",
    "\n",
    "        month_start = date_fil.month\n",
    "        year_start = date_fil.year - 1\n",
    "        date_start = datetime.datetime(date_fil.year - 1, month_start, 1,0,0)\n",
    "        print(date_start)\n",
    "\n",
    "        date_end = datetime.datetime(date_fil.year, month_start, 1,0,0) - datetime.timedelta(days=1)\n",
    "        date_end = datetime.datetime.combine(date_end.date(),datetime.time(23,55))\n",
    "        print(date_end)\n",
    "\n",
    "        df_load_fil = df_load_f[\n",
    "                        (df_load_f['datetime'] >= date_start) &\n",
    "                        (df_load_f['datetime'] <= date_end)\n",
    "                        ]\n",
    "        len(df_load_fil['datetime'].dt.date.unique())\n",
    "\n",
    "        OpNewReg = OptimizePotencia(\n",
    "            df_load=df_load_fil,\n",
    "            df_kp=df_kp_2,\n",
    "            df_tep=df_tep_2,\n",
    "            df_cargos_potencia=df_cargos_potencia,\n",
    "            df_peajes_potencia=df_peajes_potencia,\n",
    "            potencia=potencia\n",
    "        )\n",
    "\n",
    "        optimized_power_new = OpNewReg.minimize_potencia()\n",
    "        POWEROPNEW = list(optimized_power_new.x)\n",
    "        old_cost = OpNewReg.objective_function(potencia)\n",
    "        old_power_cost = OpNewReg.coste_termino_fijo\n",
    "        old_cost_excess = OpNewReg.coste_excesos\n",
    "        optimized_cost = OpNewReg.objective_function(POWEROPNEW)\n",
    "        new_power_cost = OpNewReg.coste_termino_fijo\n",
    "        new_cost_excess = OpNewReg.coste_excesos\n",
    "        dif = optimized_cost - old_cost\n",
    "\n",
    "        items = [cliente, alias] + [P for P in POWEROPNEW] + [P for P in potencia]+ [new_power_cost, new_cost_excess, old_power_cost, old_cost_excess, dif]\n",
    "        for item in items:\n",
    "            optimized_list.append(item)\n",
    "        print(len(items))\n",
    "        df_optimizator = pd.concat([df_optimizator, pd.DataFrame([optimized_list], columns=df_optimizator.columns)], ignore_index=True)\n",
    "    except:\n",
    "        print(f\"Error processing alias: {alias}\")\n",
    "        continue\n",
    "\n",
    "df_optimizator.to_excel(f'Optimizacion potencia {cliente} {year}.xlsx', index=False)\n",
    "print(df_optimizator)"
   ]
  }
 ],
 "metadata": {
  "kernelspec": {
   "display_name": "work",
   "language": "python",
   "name": "python3"
  },
  "language_info": {
   "codemirror_mode": {
    "name": "ipython",
    "version": 3
   },
   "file_extension": ".py",
   "mimetype": "text/x-python",
   "name": "python",
   "nbconvert_exporter": "python",
   "pygments_lexer": "ipython3",
   "version": "3.12.4"
  }
 },
 "nbformat": 4,
 "nbformat_minor": 2
}
