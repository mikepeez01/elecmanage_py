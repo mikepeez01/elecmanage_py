{
 "cells": [
  {
   "cell_type": "code",
   "execution_count": 1,
   "id": "bef8bc96",
   "metadata": {
    "execution": {
     "iopub.execute_input": "2025-08-13T07:09:33.189799Z",
     "iopub.status.busy": "2025-08-13T07:09:33.189612Z",
     "iopub.status.idle": "2025-08-13T07:09:33.411383Z",
     "shell.execute_reply": "2025-08-13T07:09:33.411085Z"
    },
    "papermill": {
     "duration": 0.224928,
     "end_time": "2025-08-13T07:09:33.412173",
     "exception": false,
     "start_time": "2025-08-13T07:09:33.187245",
     "status": "completed"
    },
    "tags": []
   },
   "outputs": [],
   "source": [
    "import os\n",
    "import pandas as pd\n",
    "from datetime import datetime, timedelta, date, time\n",
    "import urllib3\n",
    "urllib3.disable_warnings(urllib3.exceptions.InsecureRequestWarning)"
   ]
  },
  {
   "cell_type": "code",
   "execution_count": 2,
   "id": "3b7e3553",
   "metadata": {
    "execution": {
     "iopub.execute_input": "2025-08-13T07:09:33.415593Z",
     "iopub.status.busy": "2025-08-13T07:09:33.415377Z",
     "iopub.status.idle": "2025-08-13T07:09:33.417053Z",
     "shell.execute_reply": "2025-08-13T07:09:33.416823Z"
    },
    "papermill": {
     "duration": 0.003852,
     "end_time": "2025-08-13T07:09:33.417637",
     "exception": false,
     "start_time": "2025-08-13T07:09:33.413785",
     "status": "completed"
    },
    "tags": []
   },
   "outputs": [],
   "source": [
    "version = 1\n",
    "token = 'HGEGOBANHUEY'\n",
    "esios_key = \"a27b325f0fbd4d8ffa46b6f2a015595b87d3bb247d28feed89efbb3bc650376f\"\n",
    "indicador = 600"
   ]
  },
  {
   "cell_type": "code",
   "execution_count": 3,
   "id": "e2b0f7ed",
   "metadata": {
    "execution": {
     "iopub.execute_input": "2025-08-13T07:09:33.419472Z",
     "iopub.status.busy": "2025-08-13T07:09:33.419397Z",
     "iopub.status.idle": "2025-08-13T07:09:33.420941Z",
     "shell.execute_reply": "2025-08-13T07:09:33.420731Z"
    },
    "papermill": {
     "duration": 0.003481,
     "end_time": "2025-08-13T07:09:33.421917",
     "exception": false,
     "start_time": "2025-08-13T07:09:33.418436",
     "status": "completed"
    },
    "tags": [
     "parameters"
    ]
   },
   "outputs": [],
   "source": [
    "# Parameters\n",
    "common_modules_path = \"c:\\\\Users\\\\mikel.perez\\\\0_Python_Projects\\\\shared_data\\\\modules\"\n",
    "year = 2024\n",
    "festivos_path = \"c:\\\\Users\\\\mikel.perez\\\\0_Python_Projects\\\\verification_project\\\\data\\\\elec\\\\festivos\"\n",
    "periodos_cal_path = \"c:\\\\Users\\\\mikel.perez\\\\0_Python_Projects\\\\verification_project\\\\data\\\\elec\\\\calendario_periodos.xlsx\"\n",
    "futures_path = \"c:\\\\Users\\\\mikel.perez\\\\0_Python_Projects\\\\verification_project\\\\data\\\\elec\\\\futuros_elec.parquet\"\n",
    "spot_path = \"c:\\\\Users\\\\mikel.perez\\\\0_Python_Projects\\\\verification_project\\\\data\\\\elec\\\\spot_elec.parquet\"\n",
    "spot_formated_path = \"c:\\\\Users\\\\mikel.perez\\\\0_Python_Projects\\\\verification_project\\\\data\\\\elec/spot_h_periodos.pkl\""
   ]
  },
  {
   "cell_type": "code",
   "execution_count": 4,
   "id": "0c75617f",
   "metadata": {
    "execution": {
     "iopub.execute_input": "2025-08-13T07:09:33.424376Z",
     "iopub.status.busy": "2025-08-13T07:09:33.424274Z",
     "iopub.status.idle": "2025-08-13T07:09:33.425855Z",
     "shell.execute_reply": "2025-08-13T07:09:33.425665Z"
    },
    "papermill": {
     "duration": 0.003453,
     "end_time": "2025-08-13T07:09:33.426384",
     "exception": false,
     "start_time": "2025-08-13T07:09:33.422931",
     "status": "completed"
    },
    "tags": [
     "injected-parameters"
    ]
   },
   "outputs": [],
   "source": [
    "# Parameters\n",
    "year = 2025\n",
    "festivos_path = \"/Users/mikelperez/0_Python_projects_v3_reduced/0_Python_projects_reduced/data/regulation/elec/festivos\"\n",
    "periodos_cal_path = \"/Users/mikelperez/0_Python_projects_v3_reduced/0_Python_projects_reduced/data/regulation/elec/calendario_periodos.xlsx\"\n",
    "futures_path = \"/Users/mikelperez/0_Python_projects_v3_reduced/0_Python_projects_reduced/data/processed/elec/futuros_elec.parquet\"\n",
    "spot_path = \"/Users/mikelperez/0_Python_projects_v3_reduced/0_Python_projects_reduced/data/processed/elec/spot_elec.parquet\"\n",
    "spot_formated_path = \"/Users/mikelperez/0_Python_projects_v3_reduced/0_Python_projects_reduced/data/processed/elec/spot_h_periodos.pkl\"\n"
   ]
  },
  {
   "cell_type": "code",
   "execution_count": 5,
   "id": "425a4bf9",
   "metadata": {
    "execution": {
     "iopub.execute_input": "2025-08-13T07:09:33.428218Z",
     "iopub.status.busy": "2025-08-13T07:09:33.428144Z",
     "iopub.status.idle": "2025-08-13T07:09:33.430454Z",
     "shell.execute_reply": "2025-08-13T07:09:33.430271Z"
    },
    "papermill": {
     "duration": 0.003771,
     "end_time": "2025-08-13T07:09:33.430989",
     "exception": false,
     "start_time": "2025-08-13T07:09:33.427218",
     "status": "completed"
    },
    "tags": []
   },
   "outputs": [
    {
     "data": {
      "text/plain": [
       "[2014, 2015, 2016, 2017, 2018, 2019, 2020, 2021, 2022, 2023, 2024, 2025]"
      ]
     },
     "execution_count": 5,
     "metadata": {},
     "output_type": "execute_result"
    }
   ],
   "source": [
    "year = datetime.now().year\n",
    "years = years = list(range(2014, year + 1))\n",
    "years"
   ]
  },
  {
   "cell_type": "code",
   "execution_count": 6,
   "id": "4533375b",
   "metadata": {
    "execution": {
     "iopub.execute_input": "2025-08-13T07:09:33.432897Z",
     "iopub.status.busy": "2025-08-13T07:09:33.432825Z",
     "iopub.status.idle": "2025-08-13T07:09:33.461073Z",
     "shell.execute_reply": "2025-08-13T07:09:33.460852Z"
    },
    "papermill": {
     "duration": 0.029999,
     "end_time": "2025-08-13T07:09:33.461845",
     "exception": false,
     "start_time": "2025-08-13T07:09:33.431846",
     "status": "completed"
    },
    "tags": []
   },
   "outputs": [],
   "source": [
    "from shared.esios_api import EsiosAPI"
   ]
  },
  {
   "cell_type": "code",
   "execution_count": 7,
   "id": "43e04477",
   "metadata": {
    "execution": {
     "iopub.execute_input": "2025-08-13T07:09:33.463809Z",
     "iopub.status.busy": "2025-08-13T07:09:33.463733Z",
     "iopub.status.idle": "2025-08-13T07:09:33.466602Z",
     "shell.execute_reply": "2025-08-13T07:09:33.466357Z"
    },
    "papermill": {
     "duration": 0.004506,
     "end_time": "2025-08-13T07:09:33.467209",
     "exception": false,
     "start_time": "2025-08-13T07:09:33.462703",
     "status": "completed"
    },
    "tags": []
   },
   "outputs": [],
   "source": [
    "api_esios = EsiosAPI(key=esios_key,\n",
    "                               df_prices=pd.DataFrame()\n",
    "                               )"
   ]
  },
  {
   "cell_type": "code",
   "execution_count": 8,
   "id": "7f8031c6",
   "metadata": {
    "execution": {
     "iopub.execute_input": "2025-08-13T07:09:33.469225Z",
     "iopub.status.busy": "2025-08-13T07:09:33.469145Z",
     "iopub.status.idle": "2025-08-13T07:09:33.470701Z",
     "shell.execute_reply": "2025-08-13T07:09:33.470532Z"
    },
    "papermill": {
     "duration": 0.00329,
     "end_time": "2025-08-13T07:09:33.471411",
     "exception": false,
     "start_time": "2025-08-13T07:09:33.468121",
     "status": "completed"
    },
    "tags": []
   },
   "outputs": [],
   "source": [
    "# Ejemplo de  descarga de cotizaciones de futuros para un proveedor de datos en concretoa través de API\n",
    "\n",
    "# if os.path.exists(futures_path):\n",
    "\n",
    "#     precios = pd.read_parquet(futures_path)\n",
    "#     precios['Day'] = pd.to_datetime(precios['Day'])\n",
    "#     start_date = ((precios['Day'].max()) + timedelta(days=1))\n",
    "#     precios['Day'] = precios['Day'].dt.date\n",
    "\n",
    "# else:\n",
    "#     precios = pd.DataFrame()\n",
    "#     start_date = datetime(2017,1,1)\n",
    "\n",
    "# end_date =  datetime.now() - timedelta(days=1)\n",
    "# date_range = (end_date - start_date + timedelta(days=1)).days\n",
    "\n",
    "# start = start_date.date()\n",
    "# end = end_date.date()\n",
    "# print(date_range)\n",
    "# print(start)\n",
    "# print(end)\n",
    "\n",
    "# if start_date <= end_date:    \n",
    "#     df_precios = api.fetch_full_data_range(start, end, endpoint='/')\n",
    "# else:\n",
    "#     df_precios = pd.DataFrame()\n",
    "\n",
    "# if not df_precios.empty:\n",
    "#     # df_precios = df_precios[(df_precios['Type'] == 'FT') & (df_precios['Profile'] == 'BL')]\n",
    "#     df_precios['Day'] = pd.to_datetime(df_precios['Day'])\n",
    "#     df_precios['Day'] = df_precios['Day'].apply(lambda x: x.date())\n",
    "#     df_precios = df_precios[['Day', 'Contract', 'Delivery', 'Year', 'Type','FirstTradingDay', 'LastTradingDay', 'FirstDeliveryDay', 'LastDeliveryDay', 'Hours', 'SettlementPrice']]\n",
    "#     futuros_elec = pd.concat([precios, df_precios], ignore_index=True)\n",
    "#     futuros_elec.to_parquet(futures_path,engine='pyarrow',index=False)\n",
    "# else:\n",
    "#     futuros_elec = precios\n"
   ]
  },
  {
   "cell_type": "code",
   "execution_count": 9,
   "id": "78f5d991",
   "metadata": {
    "execution": {
     "iopub.execute_input": "2025-08-13T07:09:33.473924Z",
     "iopub.status.busy": "2025-08-13T07:09:33.473819Z",
     "iopub.status.idle": "2025-08-13T07:09:34.040845Z",
     "shell.execute_reply": "2025-08-13T07:09:34.040492Z"
    },
    "papermill": {
     "duration": 0.569254,
     "end_time": "2025-08-13T07:09:34.041710",
     "exception": false,
     "start_time": "2025-08-13T07:09:33.472456",
     "status": "completed"
    },
    "tags": []
   },
   "outputs": [
    {
     "name": "stdout",
     "output_type": "stream",
     "text": [
      "7\n",
      "2025-08-07 00:00:00\n",
      "2025-08-13 23:00:00\n",
      "API request triggered\n",
      "https://api.esios.ree.es/indicators/600?start_date=2025-08-07 00:00:00&end_date=2025-08-13 23:00:00&time_trunc=hour&geo_ids[]=3\n"
     ]
    },
    {
     "name": "stdout",
     "output_type": "stream",
     "text": [
      "      value                       datetime          datetime_utc  \\\n",
      "0    116.95  2025-08-07T00:00:00.000+02:00  2025-08-06T22:00:00Z   \n",
      "1    108.66  2025-08-07T01:00:00.000+02:00  2025-08-06T23:00:00Z   \n",
      "2    105.00  2025-08-07T02:00:00.000+02:00  2025-08-07T00:00:00Z   \n",
      "3    108.62  2025-08-07T03:00:00.000+02:00  2025-08-07T01:00:00Z   \n",
      "4    107.96  2025-08-07T04:00:00.000+02:00  2025-08-07T02:00:00Z   \n",
      "..      ...                            ...                   ...   \n",
      "163  107.23  2025-08-13T19:00:00.000+02:00  2025-08-13T17:00:00Z   \n",
      "164  155.10  2025-08-13T20:00:00.000+02:00  2025-08-13T18:00:00Z   \n",
      "165  153.00  2025-08-13T21:00:00.000+02:00  2025-08-13T19:00:00Z   \n",
      "166  123.21  2025-08-13T22:00:00.000+02:00  2025-08-13T20:00:00Z   \n",
      "167  106.27  2025-08-13T23:00:00.000+02:00  2025-08-13T21:00:00Z   \n",
      "\n",
      "                      tz_time  geo_id geo_name  \n",
      "0    2025-08-06T22:00:00.000Z       3   España  \n",
      "1    2025-08-06T23:00:00.000Z       3   España  \n",
      "2    2025-08-07T00:00:00.000Z       3   España  \n",
      "3    2025-08-07T01:00:00.000Z       3   España  \n",
      "4    2025-08-07T02:00:00.000Z       3   España  \n",
      "..                        ...     ...      ...  \n",
      "163  2025-08-13T17:00:00.000Z       3   España  \n",
      "164  2025-08-13T18:00:00.000Z       3   España  \n",
      "165  2025-08-13T19:00:00.000Z       3   España  \n",
      "166  2025-08-13T20:00:00.000Z       3   España  \n",
      "167  2025-08-13T21:00:00.000Z       3   España  \n",
      "\n",
      "[168 rows x 6 columns]\n",
      "Spot prices updated, merged and correctly exported to parquet\n"
     ]
    }
   ],
   "source": [
    "if os.path.exists(spot_path):\n",
    "    spot_prices = pd.read_parquet(spot_path)\n",
    "    start_date = ((spot_prices['datetime'].max()) + timedelta(days=1))\n",
    "    start_date = start_date.date()\n",
    "else:\n",
    "    spot_prices = pd.DataFrame()\n",
    "    start_date = date(2014,1,1)\n",
    "    \n",
    "start_date = datetime.combine(start_date, time(0,0,0))\n",
    "end_date =  datetime.now() # datetime(2015,12,1)\n",
    "end_date =  end_date.date()\n",
    "end_date = datetime.combine(end_date, time(23,0,0))\n",
    "date_range = (end_date - start_date + timedelta(days=1)).days\n",
    "print(date_range)\n",
    "print(start_date)\n",
    "print(end_date)\n",
    "\n",
    "if start_date <= end_date:\n",
    "    print('API request triggered')\n",
    "    df_response = api_esios.get_raw_data(\n",
    "                                        indicator=600, \n",
    "                                        start_date=start_date, \n",
    "                                        end_date=end_date\n",
    "                                        )\n",
    "    df_response =  api_esios.df_response\n",
    "else:\n",
    "    df_response = pd.DataFrame()\n",
    "    print('Precios actualizados')   \n",
    "\n",
    "\n",
    "if not df_response.empty:\n",
    "    if not spot_prices.empty:\n",
    "        spot_prices = pd.concat([spot_prices, df_response], ignore_index=True)\n",
    "        spot_prices.to_parquet(spot_path, engine='pyarrow',index=False)\n",
    "        print('Spot prices updated, merged and correctly exported to parquet')\n",
    "    else:\n",
    "        spot_prices = df_response\n",
    "        spot_prices.to_parquet(spot_path, engine='pyarrow',index=False)        \n",
    "        print('Spot prices correctly exported to parquet')\n",
    "else:\n",
    "    print('No action necesary')"
   ]
  },
  {
   "cell_type": "code",
   "execution_count": 10,
   "id": "89ea6a87",
   "metadata": {
    "execution": {
     "iopub.execute_input": "2025-08-13T07:09:34.045836Z",
     "iopub.status.busy": "2025-08-13T07:09:34.045673Z",
     "iopub.status.idle": "2025-08-13T07:09:34.366553Z",
     "shell.execute_reply": "2025-08-13T07:09:34.366316Z"
    },
    "papermill": {
     "duration": 0.323629,
     "end_time": "2025-08-13T07:09:34.367337",
     "exception": false,
     "start_time": "2025-08-13T07:09:34.043708",
     "status": "completed"
    },
    "tags": []
   },
   "outputs": [],
   "source": [
    "from shared.elec_price_op import SpotElec"
   ]
  },
  {
   "cell_type": "code",
   "execution_count": 11,
   "id": "7944923b",
   "metadata": {
    "execution": {
     "iopub.execute_input": "2025-08-13T07:09:34.370486Z",
     "iopub.status.busy": "2025-08-13T07:09:34.370356Z",
     "iopub.status.idle": "2025-08-13T07:09:36.165637Z",
     "shell.execute_reply": "2025-08-13T07:09:36.165310Z"
    },
    "papermill": {
     "duration": 1.79785,
     "end_time": "2025-08-13T07:09:36.166400",
     "exception": false,
     "start_time": "2025-08-13T07:09:34.368550",
     "status": "completed"
    },
    "tags": []
   },
   "outputs": [],
   "source": [
    "HourSpot = SpotElec(spot_prices)\n",
    "HourSpot.format().apply_periodos(\n",
    "                            periodos_path=periodos_cal_path,\n",
    "                            festivos_path=festivos_path\n",
    "                                );\n",
    "HourSpot.df_w_periodos.to_pickle(spot_formated_path)"
   ]
  }
 ],
 "metadata": {
  "kernelspec": {
   "display_name": "work",
   "language": "python",
   "name": "python3"
  },
  "language_info": {
   "codemirror_mode": {
    "name": "ipython",
    "version": 3
   },
   "file_extension": ".py",
   "mimetype": "text/x-python",
   "name": "python",
   "nbconvert_exporter": "python",
   "pygments_lexer": "ipython3",
   "version": "3.12.4"
  },
  "papermill": {
   "default_parameters": {},
   "duration": 3.6745,
   "end_time": "2025-08-13T07:09:36.383308",
   "environment_variables": {},
   "exception": null,
   "input_path": "/Users/mikelperez/0_Python_projects_v3_reduced/0_Python_projects_reduced/notebooks/shared/2a_elec_Markets.ipynb",
   "output_path": "/Users/mikelperez/0_Python_projects_v3_reduced/0_Python_projects_reduced/notebooks/shared/2a_elec_Markets.ipynb",
   "parameters": {
    "festivos_path": "/Users/mikelperez/0_Python_projects_v3_reduced/0_Python_projects_reduced/data/regulation/elec/festivos",
    "futures_path": "/Users/mikelperez/0_Python_projects_v3_reduced/0_Python_projects_reduced/data/processed/elec/futuros_elec.parquet",
    "periodos_cal_path": "/Users/mikelperez/0_Python_projects_v3_reduced/0_Python_projects_reduced/data/regulation/elec/calendario_periodos.xlsx",
    "spot_formated_path": "/Users/mikelperez/0_Python_projects_v3_reduced/0_Python_projects_reduced/data/processed/elec/spot_h_periodos.pkl",
    "spot_path": "/Users/mikelperez/0_Python_projects_v3_reduced/0_Python_projects_reduced/data/processed/elec/spot_elec.parquet",
    "year": 2025
   },
   "start_time": "2025-08-13T07:09:32.708808",
   "version": "2.6.0"
  }
 },
 "nbformat": 4,
 "nbformat_minor": 5
}