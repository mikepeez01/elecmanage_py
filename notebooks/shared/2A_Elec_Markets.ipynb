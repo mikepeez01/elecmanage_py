{
 "cells": [
  {
   "cell_type": "code",
   "execution_count": 1,
   "id": "bef8bc96",
   "metadata": {
    "execution": {
     "iopub.execute_input": "2025-08-06T10:11:43.949490Z",
     "iopub.status.busy": "2025-08-06T10:11:43.949279Z",
     "iopub.status.idle": "2025-08-06T10:11:44.242621Z",
     "shell.execute_reply": "2025-08-06T10:11:44.242359Z"
    },
    "papermill": {
     "duration": 0.29743,
     "end_time": "2025-08-06T10:11:44.243488",
     "exception": false,
     "start_time": "2025-08-06T10:11:43.946058",
     "status": "completed"
    },
    "tags": []
   },
   "outputs": [],
   "source": [
    "import os\n",
    "import pandas as pd\n",
    "from datetime import datetime, timedelta, date, time\n",
    "import urllib3\n",
    "urllib3.disable_warnings(urllib3.exceptions.InsecureRequestWarning)"
   ]
  },
  {
   "cell_type": "code",
   "execution_count": 2,
   "id": "3b7e3553",
   "metadata": {
    "execution": {
     "iopub.execute_input": "2025-08-06T10:11:44.246719Z",
     "iopub.status.busy": "2025-08-06T10:11:44.246418Z",
     "iopub.status.idle": "2025-08-06T10:11:44.248242Z",
     "shell.execute_reply": "2025-08-06T10:11:44.248048Z"
    },
    "papermill": {
     "duration": 0.003805,
     "end_time": "2025-08-06T10:11:44.248814",
     "exception": false,
     "start_time": "2025-08-06T10:11:44.245009",
     "status": "completed"
    },
    "tags": []
   },
   "outputs": [],
   "source": [
    "version = 1\n",
    "token = 'HGEGOBANHUEY'\n",
    "esios_key = \"a27b325f0fbd4d8ffa46b6f2a015595b87d3bb247d28feed89efbb3bc650376f\"\n",
    "indicador = 600"
   ]
  },
  {
   "cell_type": "code",
   "execution_count": 3,
   "id": "e2b0f7ed",
   "metadata": {
    "execution": {
     "iopub.execute_input": "2025-08-06T10:11:44.250644Z",
     "iopub.status.busy": "2025-08-06T10:11:44.250570Z",
     "iopub.status.idle": "2025-08-06T10:11:44.252117Z",
     "shell.execute_reply": "2025-08-06T10:11:44.251893Z"
    },
    "papermill": {
     "duration": 0.003121,
     "end_time": "2025-08-06T10:11:44.252754",
     "exception": false,
     "start_time": "2025-08-06T10:11:44.249633",
     "status": "completed"
    },
    "tags": [
     "parameters"
    ]
   },
   "outputs": [],
   "source": [
    "# Parameters\n",
    "common_modules_path = \"c:\\\\Users\\\\mikel.perez\\\\0_Python_Projects\\\\shared_data\\\\modules\"\n",
    "year = 2024\n",
    "festivos_path = \"c:\\\\Users\\\\mikel.perez\\\\0_Python_Projects\\\\verification_project\\\\data\\\\elec\\\\festivos\"\n",
    "periodos_cal_path = \"c:\\\\Users\\\\mikel.perez\\\\0_Python_Projects\\\\verification_project\\\\data\\\\elec\\\\calendario_periodos.xlsx\"\n",
    "futures_path = \"c:\\\\Users\\\\mikel.perez\\\\0_Python_Projects\\\\verification_project\\\\data\\\\elec\\\\futuros_elec.parquet\"\n",
    "spot_path = \"c:\\\\Users\\\\mikel.perez\\\\0_Python_Projects\\\\verification_project\\\\data\\\\elec\\\\spot_elec.parquet\"\n",
    "spot_formated_path = \"c:\\\\Users\\\\mikel.perez\\\\0_Python_Projects\\\\verification_project\\\\data\\\\elec/spot_h_periodos.pkl\""
   ]
  },
  {
   "cell_type": "code",
   "execution_count": 4,
   "id": "aebff0f6",
   "metadata": {
    "execution": {
     "iopub.execute_input": "2025-08-06T10:11:44.255028Z",
     "iopub.status.busy": "2025-08-06T10:11:44.254943Z",
     "iopub.status.idle": "2025-08-06T10:11:44.256433Z",
     "shell.execute_reply": "2025-08-06T10:11:44.256254Z"
    },
    "papermill": {
     "duration": 0.003045,
     "end_time": "2025-08-06T10:11:44.256984",
     "exception": false,
     "start_time": "2025-08-06T10:11:44.253939",
     "status": "completed"
    },
    "tags": [
     "injected-parameters"
    ]
   },
   "outputs": [],
   "source": [
    "# Parameters\n",
    "year = 2025\n",
    "festivos_path = \"/Users/mikelperez/0_Python_projects_v3_reduced/0_Python_projects_reduced/data/regulation/elec/festivos\"\n",
    "periodos_cal_path = \"/Users/mikelperez/0_Python_projects_v3_reduced/0_Python_projects_reduced/data/regulation/elec/calendario_periodos.xlsx\"\n",
    "futures_path = \"/Users/mikelperez/0_Python_projects_v3_reduced/0_Python_projects_reduced/data/processed/elec/futuros_elec.parquet\"\n",
    "spot_path = \"/Users/mikelperez/0_Python_projects_v3_reduced/0_Python_projects_reduced/data/processed/elec/spot_elec.parquet\"\n",
    "spot_formated_path = \"/Users/mikelperez/0_Python_projects_v3_reduced/0_Python_projects_reduced/data/processed/elec/spot_h_periodos.pkl\"\n"
   ]
  },
  {
   "cell_type": "code",
   "execution_count": 5,
   "id": "425a4bf9",
   "metadata": {
    "execution": {
     "iopub.execute_input": "2025-08-06T10:11:44.258845Z",
     "iopub.status.busy": "2025-08-06T10:11:44.258772Z",
     "iopub.status.idle": "2025-08-06T10:11:44.261013Z",
     "shell.execute_reply": "2025-08-06T10:11:44.260842Z"
    },
    "papermill": {
     "duration": 0.003708,
     "end_time": "2025-08-06T10:11:44.261559",
     "exception": false,
     "start_time": "2025-08-06T10:11:44.257851",
     "status": "completed"
    },
    "tags": []
   },
   "outputs": [
    {
     "data": {
      "text/plain": [
       "[2014, 2015, 2016, 2017, 2018, 2019, 2020, 2021, 2022, 2023, 2024, 2025]"
      ]
     },
     "execution_count": 5,
     "metadata": {},
     "output_type": "execute_result"
    }
   ],
   "source": [
    "year = datetime.now().year\n",
    "years = years = list(range(2014, year + 1))\n",
    "years"
   ]
  },
  {
   "cell_type": "code",
   "execution_count": 6,
   "id": "4533375b",
   "metadata": {
    "execution": {
     "iopub.execute_input": "2025-08-06T10:11:44.263363Z",
     "iopub.status.busy": "2025-08-06T10:11:44.263294Z",
     "iopub.status.idle": "2025-08-06T10:11:44.297496Z",
     "shell.execute_reply": "2025-08-06T10:11:44.297246Z"
    },
    "papermill": {
     "duration": 0.035862,
     "end_time": "2025-08-06T10:11:44.298199",
     "exception": false,
     "start_time": "2025-08-06T10:11:44.262337",
     "status": "completed"
    },
    "tags": []
   },
   "outputs": [],
   "source": [
    "from shared.esios_api import EsiosAPI"
   ]
  },
  {
   "cell_type": "code",
   "execution_count": 7,
   "id": "43e04477",
   "metadata": {
    "execution": {
     "iopub.execute_input": "2025-08-06T10:11:44.300204Z",
     "iopub.status.busy": "2025-08-06T10:11:44.300129Z",
     "iopub.status.idle": "2025-08-06T10:11:44.302212Z",
     "shell.execute_reply": "2025-08-06T10:11:44.301994Z"
    },
    "papermill": {
     "duration": 0.003699,
     "end_time": "2025-08-06T10:11:44.302785",
     "exception": false,
     "start_time": "2025-08-06T10:11:44.299086",
     "status": "completed"
    },
    "tags": []
   },
   "outputs": [],
   "source": [
    "api_esios = EsiosAPI(key=esios_key,\n",
    "                               df_prices=pd.DataFrame()\n",
    "                               )"
   ]
  },
  {
   "cell_type": "code",
   "execution_count": 8,
   "id": "7f8031c6",
   "metadata": {
    "execution": {
     "iopub.execute_input": "2025-08-06T10:11:44.304552Z",
     "iopub.status.busy": "2025-08-06T10:11:44.304477Z",
     "iopub.status.idle": "2025-08-06T10:11:44.306029Z",
     "shell.execute_reply": "2025-08-06T10:11:44.305856Z"
    },
    "papermill": {
     "duration": 0.003042,
     "end_time": "2025-08-06T10:11:44.306548",
     "exception": false,
     "start_time": "2025-08-06T10:11:44.303506",
     "status": "completed"
    },
    "tags": []
   },
   "outputs": [],
   "source": [
    "# Ejemplo de  descarga de cotizaciones de futuros para un proveedor de datos en concretoa través de API\n",
    "\n",
    "# if os.path.exists(futures_path):\n",
    "\n",
    "#     precios = pd.read_parquet(futures_path)\n",
    "#     precios['Day'] = pd.to_datetime(precios['Day'])\n",
    "#     start_date = ((precios['Day'].max()) + timedelta(days=1))\n",
    "#     precios['Day'] = precios['Day'].dt.date\n",
    "\n",
    "# else:\n",
    "#     precios = pd.DataFrame()\n",
    "#     start_date = datetime(2017,1,1)\n",
    "\n",
    "# end_date =  datetime.now() - timedelta(days=1)\n",
    "# date_range = (end_date - start_date + timedelta(days=1)).days\n",
    "\n",
    "# start = start_date.date()\n",
    "# end = end_date.date()\n",
    "# print(date_range)\n",
    "# print(start)\n",
    "# print(end)\n",
    "\n",
    "# if start_date <= end_date:    \n",
    "#     df_precios = api.fetch_full_data_range(start, end, endpoint='/')\n",
    "# else:\n",
    "#     df_precios = pd.DataFrame()\n",
    "\n",
    "# if not df_precios.empty:\n",
    "#     # df_precios = df_precios[(df_precios['Type'] == 'FT') & (df_precios['Profile'] == 'BL')]\n",
    "#     df_precios['Day'] = pd.to_datetime(df_precios['Day'])\n",
    "#     df_precios['Day'] = df_precios['Day'].apply(lambda x: x.date())\n",
    "#     df_precios = df_precios[['Day', 'Contract', 'Delivery', 'Year', 'Type','FirstTradingDay', 'LastTradingDay', 'FirstDeliveryDay', 'LastDeliveryDay', 'Hours', 'SettlementPrice']]\n",
    "#     futuros_elec = pd.concat([precios, df_precios], ignore_index=True)\n",
    "#     futuros_elec.to_parquet(futures_path,engine='pyarrow',index=False)\n",
    "# else:\n",
    "#     futuros_elec = precios\n"
   ]
  },
  {
   "cell_type": "code",
   "execution_count": 9,
   "id": "78f5d991",
   "metadata": {
    "execution": {
     "iopub.execute_input": "2025-08-06T10:11:44.308291Z",
     "iopub.status.busy": "2025-08-06T10:11:44.308225Z",
     "iopub.status.idle": "2025-08-06T10:11:44.814927Z",
     "shell.execute_reply": "2025-08-06T10:11:44.814646Z"
    },
    "papermill": {
     "duration": 0.50839,
     "end_time": "2025-08-06T10:11:44.815685",
     "exception": false,
     "start_time": "2025-08-06T10:11:44.307295",
     "status": "completed"
    },
    "tags": []
   },
   "outputs": [
    {
     "name": "stdout",
     "output_type": "stream",
     "text": [
      "22\n",
      "2025-07-16 00:00:00\n",
      "2025-08-06 23:00:00\n",
      "API request triggered\n",
      "https://api.esios.ree.es/indicators/600?start_date=2025-07-16 00:00:00&end_date=2025-08-06 23:00:00&time_trunc=hour&geo_ids[]=3\n"
     ]
    },
    {
     "name": "stdout",
     "output_type": "stream",
     "text": [
      "      value                       datetime          datetime_utc  \\\n",
      "0    113.31  2025-07-16T00:00:00.000+02:00  2025-07-15T22:00:00Z   \n",
      "1    107.85  2025-07-16T01:00:00.000+02:00  2025-07-15T23:00:00Z   \n",
      "2    106.83  2025-07-16T02:00:00.000+02:00  2025-07-16T00:00:00Z   \n",
      "3    106.83  2025-07-16T03:00:00.000+02:00  2025-07-16T01:00:00Z   \n",
      "4    107.22  2025-07-16T04:00:00.000+02:00  2025-07-16T02:00:00Z   \n",
      "..      ...                            ...                   ...   \n",
      "523  106.22  2025-08-06T19:00:00.000+02:00  2025-08-06T17:00:00Z   \n",
      "524  114.64  2025-08-06T20:00:00.000+02:00  2025-08-06T18:00:00Z   \n",
      "525  170.00  2025-08-06T21:00:00.000+02:00  2025-08-06T19:00:00Z   \n",
      "526  150.01  2025-08-06T22:00:00.000+02:00  2025-08-06T20:00:00Z   \n",
      "527  115.43  2025-08-06T23:00:00.000+02:00  2025-08-06T21:00:00Z   \n",
      "\n",
      "                      tz_time  geo_id geo_name  \n",
      "0    2025-07-15T22:00:00.000Z       3   España  \n",
      "1    2025-07-15T23:00:00.000Z       3   España  \n",
      "2    2025-07-16T00:00:00.000Z       3   España  \n",
      "3    2025-07-16T01:00:00.000Z       3   España  \n",
      "4    2025-07-16T02:00:00.000Z       3   España  \n",
      "..                        ...     ...      ...  \n",
      "523  2025-08-06T17:00:00.000Z       3   España  \n",
      "524  2025-08-06T18:00:00.000Z       3   España  \n",
      "525  2025-08-06T19:00:00.000Z       3   España  \n",
      "526  2025-08-06T20:00:00.000Z       3   España  \n",
      "527  2025-08-06T21:00:00.000Z       3   España  \n",
      "\n",
      "[528 rows x 6 columns]\n",
      "Spot prices updated, merged and correctly exported to parquet\n"
     ]
    }
   ],
   "source": [
    "if os.path.exists(spot_path):\n",
    "    spot_prices = pd.read_parquet(spot_path)\n",
    "    start_date = ((spot_prices['datetime'].max()) + timedelta(days=1))\n",
    "    start_date = start_date.date()\n",
    "else:\n",
    "    spot_prices = pd.DataFrame()\n",
    "    start_date = date(2014,1,1)\n",
    "    \n",
    "start_date = datetime.combine(start_date, time(0,0,0))\n",
    "end_date =  datetime.now() # datetime(2015,12,1)\n",
    "end_date =  end_date.date()\n",
    "end_date = datetime.combine(end_date, time(23,0,0))\n",
    "date_range = (end_date - start_date + timedelta(days=1)).days\n",
    "print(date_range)\n",
    "print(start_date)\n",
    "print(end_date)\n",
    "\n",
    "if start_date <= end_date:\n",
    "    print('API request triggered')\n",
    "    df_response = api_esios.get_raw_data(\n",
    "                                        indicator=600, \n",
    "                                        start_date=start_date, \n",
    "                                        end_date=end_date\n",
    "                                        )\n",
    "    df_response =  api_esios.df_response\n",
    "else:\n",
    "    df_response = pd.DataFrame()\n",
    "    print('Precios actualizados')   \n",
    "\n",
    "\n",
    "if not df_response.empty:\n",
    "    if not spot_prices.empty:\n",
    "        spot_prices = pd.concat([spot_prices, df_response], ignore_index=True)\n",
    "        spot_prices.to_parquet(spot_path, engine='pyarrow',index=False)\n",
    "        print('Spot prices updated, merged and correctly exported to parquet')\n",
    "    else:\n",
    "        spot_prices = df_response\n",
    "        spot_prices.to_parquet(spot_path, engine='pyarrow',index=False)        \n",
    "        print('Spot prices correctly exported to parquet')\n",
    "else:\n",
    "    print('No action necesary')"
   ]
  },
  {
   "cell_type": "code",
   "execution_count": 10,
   "id": "89ea6a87",
   "metadata": {
    "execution": {
     "iopub.execute_input": "2025-08-06T10:11:44.819632Z",
     "iopub.status.busy": "2025-08-06T10:11:44.819509Z",
     "iopub.status.idle": "2025-08-06T10:11:45.110633Z",
     "shell.execute_reply": "2025-08-06T10:11:45.110385Z"
    },
    "papermill": {
     "duration": 0.29427,
     "end_time": "2025-08-06T10:11:45.111618",
     "exception": false,
     "start_time": "2025-08-06T10:11:44.817348",
     "status": "completed"
    },
    "tags": []
   },
   "outputs": [],
   "source": [
    "from shared.elec_price_op import SpotElec"
   ]
  },
  {
   "cell_type": "code",
   "execution_count": 11,
   "id": "7944923b",
   "metadata": {
    "execution": {
     "iopub.execute_input": "2025-08-06T10:11:45.114696Z",
     "iopub.status.busy": "2025-08-06T10:11:45.114563Z",
     "iopub.status.idle": "2025-08-06T10:11:46.957166Z",
     "shell.execute_reply": "2025-08-06T10:11:46.956916Z"
    },
    "papermill": {
     "duration": 1.845106,
     "end_time": "2025-08-06T10:11:46.957931",
     "exception": false,
     "start_time": "2025-08-06T10:11:45.112825",
     "status": "completed"
    },
    "tags": []
   },
   "outputs": [],
   "source": [
    "HourSpot = SpotElec(spot_prices)\n",
    "HourSpot.format().apply_periodos(\n",
    "                            periodos_path=periodos_cal_path,\n",
    "                            festivos_path=festivos_path\n",
    "                                );\n",
    "HourSpot.df_w_periodos.to_pickle(spot_formated_path)"
   ]
  }
 ],
 "metadata": {
  "kernelspec": {
   "display_name": "work",
   "language": "python",
   "name": "python3"
  },
  "language_info": {
   "codemirror_mode": {
    "name": "ipython",
    "version": 3
   },
   "file_extension": ".py",
   "mimetype": "text/x-python",
   "name": "python",
   "nbconvert_exporter": "python",
   "pygments_lexer": "ipython3",
   "version": "3.12.4"
  },
  "papermill": {
   "default_parameters": {},
   "duration": 3.83265,
   "end_time": "2025-08-06T10:11:47.176484",
   "environment_variables": {},
   "exception": null,
   "input_path": "/Users/mikelperez/0_Python_projects_v3_reduced/0_Python_projects_reduced/notebooks/shared/2A_Elec_Markets.ipynb",
   "output_path": "/Users/mikelperez/0_Python_projects_v3_reduced/0_Python_projects_reduced/notebooks/shared/2A_Elec_Markets.ipynb",
   "parameters": {
    "festivos_path": "/Users/mikelperez/0_Python_projects_v3_reduced/0_Python_projects_reduced/data/regulation/elec/festivos",
    "futures_path": "/Users/mikelperez/0_Python_projects_v3_reduced/0_Python_projects_reduced/data/processed/elec/futuros_elec.parquet",
    "periodos_cal_path": "/Users/mikelperez/0_Python_projects_v3_reduced/0_Python_projects_reduced/data/regulation/elec/calendario_periodos.xlsx",
    "spot_formated_path": "/Users/mikelperez/0_Python_projects_v3_reduced/0_Python_projects_reduced/data/processed/elec/spot_h_periodos.pkl",
    "spot_path": "/Users/mikelperez/0_Python_projects_v3_reduced/0_Python_projects_reduced/data/processed/elec/spot_elec.parquet",
    "year": 2025
   },
   "start_time": "2025-08-06T10:11:43.343834",
   "version": "2.6.0"
  }
 },
 "nbformat": 4,
 "nbformat_minor": 5
}
