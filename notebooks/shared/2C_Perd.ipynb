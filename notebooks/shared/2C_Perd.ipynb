{
 "cells": [
  {
   "cell_type": "code",
   "execution_count": 1,
   "id": "e74998b4",
   "metadata": {
    "execution": {
     "iopub.execute_input": "2025-06-24T17:35:42.348914Z",
     "iopub.status.busy": "2025-06-24T17:35:42.348914Z",
     "iopub.status.idle": "2025-06-24T17:35:43.536309Z",
     "shell.execute_reply": "2025-06-24T17:35:43.535797Z"
    },
    "papermill": {
     "duration": 1.19742,
     "end_time": "2025-06-24T17:35:43.538326",
     "exception": false,
     "start_time": "2025-06-24T17:35:42.340906",
     "status": "completed"
    },
    "tags": []
   },
   "outputs": [],
   "source": [
    "import os\n",
    "import pandas as pd\n",
    "from datetime import datetime, timedelta, date, time\n",
    "import urllib3\n",
    "urllib3.disable_warnings(urllib3.exceptions.InsecureRequestWarning)"
   ]
  },
  {
   "cell_type": "code",
   "execution_count": 2,
   "id": "48f3b4a9",
   "metadata": {
    "execution": {
     "iopub.execute_input": "2025-06-24T17:35:43.550081Z",
     "iopub.status.busy": "2025-06-24T17:35:43.550081Z",
     "iopub.status.idle": "2025-06-24T17:35:43.643581Z",
     "shell.execute_reply": "2025-06-24T17:35:43.642569Z"
    },
    "papermill": {
     "duration": 0.102488,
     "end_time": "2025-06-24T17:35:43.645806",
     "exception": false,
     "start_time": "2025-06-24T17:35:43.543318",
     "status": "completed"
    },
    "tags": []
   },
   "outputs": [],
   "source": [
    "from config.config_loader import Config\n",
    "\n",
    "config = Config()"
   ]
  },
  {
   "cell_type": "code",
   "execution_count": 3,
   "id": "780fdad1",
   "metadata": {
    "execution": {
     "iopub.execute_input": "2025-06-24T17:35:43.658392Z",
     "iopub.status.busy": "2025-06-24T17:35:43.658392Z",
     "iopub.status.idle": "2025-06-24T17:35:43.665919Z",
     "shell.execute_reply": "2025-06-24T17:35:43.664385Z"
    },
    "papermill": {
     "duration": 0.016121,
     "end_time": "2025-06-24T17:35:43.667919",
     "exception": false,
     "start_time": "2025-06-24T17:35:43.651798",
     "status": "completed"
    },
    "tags": [
     "parameters"
    ]
   },
   "outputs": [],
   "source": [
    "estado = \"C2\"\n",
    "perd_path = config.get_path(\"data_path.elec.processed.perd_total\")"
   ]
  },
  {
   "cell_type": "code",
   "execution_count": 4,
   "id": "f5c58e5d",
   "metadata": {
    "execution": {
     "iopub.execute_input": "2025-06-24T17:35:43.680511Z",
     "iopub.status.busy": "2025-06-24T17:35:43.678505Z",
     "iopub.status.idle": "2025-06-24T17:35:43.684509Z",
     "shell.execute_reply": "2025-06-24T17:35:43.684509Z"
    },
    "papermill": {
     "duration": 0.015662,
     "end_time": "2025-06-24T17:35:43.686996",
     "exception": false,
     "start_time": "2025-06-24T17:35:43.671334",
     "status": "completed"
    },
    "tags": [
     "injected-parameters"
    ]
   },
   "outputs": [],
   "source": [
    "# Parameters\n",
    "estado = \"C2\"\n",
    "perd_path = \"c:\\\\Users\\\\mikel.perez\\\\0_Python_projects_v2\\\\data\\\\processed\\\\elec\\\\perdidas.pkl\"\n"
   ]
  },
  {
   "cell_type": "code",
   "execution_count": 5,
   "id": "f58ef790",
   "metadata": {
    "execution": {
     "iopub.execute_input": "2025-06-24T17:35:43.698313Z",
     "iopub.status.busy": "2025-06-24T17:35:43.698313Z",
     "iopub.status.idle": "2025-06-24T17:35:43.875482Z",
     "shell.execute_reply": "2025-06-24T17:35:43.875482Z"
    },
    "papermill": {
     "duration": 0.187503,
     "end_time": "2025-06-24T17:35:43.878492",
     "exception": false,
     "start_time": "2025-06-24T17:35:43.690989",
     "status": "completed"
    },
    "tags": []
   },
   "outputs": [],
   "source": [
    "from shared.IgnisAPI import IgnisAPI\n",
    "\n",
    "api_comer = IgnisAPI(token='BWBCPQIEHO', version=0)"
   ]
  },
  {
   "cell_type": "code",
   "execution_count": 6,
   "id": "3f311c80",
   "metadata": {
    "execution": {
     "iopub.execute_input": "2025-06-24T17:35:43.889604Z",
     "iopub.status.busy": "2025-06-24T17:35:43.889604Z",
     "iopub.status.idle": "2025-06-24T17:35:43.894390Z",
     "shell.execute_reply": "2025-06-24T17:35:43.894390Z"
    },
    "papermill": {
     "duration": 0.013516,
     "end_time": "2025-06-24T17:35:43.897008",
     "exception": false,
     "start_time": "2025-06-24T17:35:43.883492",
     "status": "completed"
    },
    "tags": []
   },
   "outputs": [],
   "source": [
    "columns = ['20_td', '30_td', '61_td', '62_td', '63_td', '64_td']"
   ]
  },
  {
   "cell_type": "code",
   "execution_count": 7,
   "id": "0d7c17c3",
   "metadata": {
    "execution": {
     "iopub.execute_input": "2025-06-24T17:35:43.908109Z",
     "iopub.status.busy": "2025-06-24T17:35:43.907116Z",
     "iopub.status.idle": "2025-06-24T17:35:52.111600Z",
     "shell.execute_reply": "2025-06-24T17:35:52.109584Z"
    },
    "papermill": {
     "duration": 8.213482,
     "end_time": "2025-06-24T17:35:52.114599",
     "exception": false,
     "start_time": "2025-06-24T17:35:43.901117",
     "status": "completed"
    },
    "tags": []
   },
   "outputs": [
    {
     "name": "stdout",
     "output_type": "stream",
     "text": [
      "55\n",
      "2025-05-01 00:00:00\n",
      "2025-06-24 23:00:00\n",
      "hi\n"
     ]
    },
    {
     "name": "stdout",
     "output_type": "stream",
     "text": [
      "hi\n"
     ]
    },
    {
     "name": "stdout",
     "output_type": "stream",
     "text": [
      "hi\n"
     ]
    },
    {
     "name": "stdout",
     "output_type": "stream",
     "text": [
      "hi\n"
     ]
    },
    {
     "name": "stdout",
     "output_type": "stream",
     "text": [
      "hi\n"
     ]
    },
    {
     "name": "stdout",
     "output_type": "stream",
     "text": [
      "hi\n"
     ]
    },
    {
     "name": "stderr",
     "output_type": "stream",
     "text": [
      "C:\\Users\\mikel.perez\\AppData\\Local\\Temp\\ipykernel_32412\\4021612206.py:84: SettingWithCopyWarning: \n",
      "A value is trying to be set on a copy of a slice from a DataFrame.\n",
      "Try using .loc[row_indexer,col_indexer] = value instead\n",
      "\n",
      "See the caveats in the documentation: https://pandas.pydata.org/pandas-docs/stable/user_guide/indexing.html#returning-a-view-versus-a-copy\n",
      "  df_perd_new['datetime'] = pd.to_datetime(df_perd_new['datetime'], errors='coerce')\n"
     ]
    }
   ],
   "source": [
    "df_merged = pd.DataFrame()\n",
    "\n",
    "if os.path.exists(perd_path):\n",
    "    df_perd = pd.read_pickle(perd_path)\n",
    "    start_date = ((df_perd['datetime'].max()) + timedelta(days=1))\n",
    "    start_date = start_date.date()\n",
    "else:\n",
    "    df_perd = pd.DataFrame()\n",
    "    start_date = date(2023,1,1)\n",
    "    \n",
    "start_date = datetime.combine(start_date, time(0,0,0))\n",
    "end_date = datetime.now()\n",
    "end_date =  end_date.date()\n",
    "end_date = datetime.combine(end_date, time(23,0,0))\n",
    "date_range = (end_date - start_date + timedelta(days=1)).days\n",
    "print(date_range)\n",
    "print(start_date)\n",
    "print(end_date)\n",
    "\n",
    "if start_date <= end_date:\n",
    "    for i in range (6):\n",
    "        perd = api_comer.fetch_full_data_range(start=start_date.date(),\n",
    "                                        end=end_date.date(), \n",
    "                                        endpoint='/mirlo/api/liquidaciones-comer-mercados-cierres/',\n",
    "                                        comer=True,\n",
    "                                        estado=estado,\n",
    "                                        id = -(i+1)\n",
    "                                            )\n",
    "        if perd.empty:\n",
    "            break\n",
    "        perd['VALOR'] = perd['VALOR'] / 100\n",
    "        perd = perd.rename(columns={'VALOR': columns[i]})\n",
    "        if i == 0:\n",
    "            df_merged = perd\n",
    "        else:\n",
    "            df_merged = pd.merge(df_merged, perd, \n",
    "                                    on=['FECHA', 'PERIODO', 'ESTADOLIQ', 'QH', 'ID', 'GEO_ID'], \n",
    "                                    how='outer')\n",
    "        \n",
    "    if not df_merged.empty:\n",
    "\n",
    "        ds = df_merged.groupby(['FECHA', 'PERIODO']).sum()\n",
    "        df = pd.DataFrame(ds)\n",
    "        df = df.reset_index()\n",
    "        df['FECHA'] = pd.to_datetime(df['FECHA'], format='%Y-%m-%d')\n",
    "        df = df.drop(['ESTADOLIQ', 'QH', 'ID', 'GEO_ID'], axis=1)\n",
    "\n",
    "        date_counts = df.groupby('FECHA').size()\n",
    "\n",
    "        dates_with_23_rows = date_counts[date_counts == 23].index\n",
    "        condition_date_23_rows = df['FECHA'].isin(dates_with_23_rows)\n",
    "        dates_with_25_rows = date_counts[date_counts == 25].index\n",
    "        condition_date_25_rows = df['FECHA'].isin(dates_with_25_rows)\n",
    "        dates_with_24_rows = date_counts[date_counts == 24].index\n",
    "        condition_date_24_rows = df['FECHA'].isin(dates_with_24_rows)\n",
    "\n",
    "        condition_hour_gte_1 = df['PERIODO'] < 3\n",
    "        condition_hour_gte_2 = df['PERIODO'] >= 3\n",
    "\n",
    "        df.loc[condition_date_23_rows & condition_hour_gte_1, 'datetime'] = df.loc[condition_date_23_rows & condition_hour_gte_1].apply(\n",
    "            lambda row: datetime(row['FECHA'].year, row['FECHA'].month, row['FECHA'].day, row['PERIODO'] - 1),\n",
    "            axis=1)\n",
    "\n",
    "        df.loc[condition_date_23_rows & condition_hour_gte_2, 'datetime'] = df.loc[condition_date_23_rows & condition_hour_gte_2].apply(\n",
    "            lambda row: datetime(row['FECHA'].year, row['FECHA'].month, row['FECHA'].day, row['PERIODO']),\n",
    "            axis=1)\n",
    "\n",
    "        condition_hour_gte_1 = df['PERIODO'] <= 3\n",
    "        condition_hour_gte_2 = df['PERIODO'] > 3\n",
    "\n",
    "        df.loc[condition_date_25_rows & condition_hour_gte_1, 'datetime'] = df.loc[condition_date_25_rows & condition_hour_gte_1].apply(\n",
    "            lambda row: datetime(row['FECHA'].year, row['FECHA'].month, row['FECHA'].day, row['PERIODO'] - 1),\n",
    "            axis=1)\n",
    "\n",
    "        df.loc[condition_date_25_rows & condition_hour_gte_2, 'datetime'] = df.loc[condition_date_25_rows & condition_hour_gte_2].apply(\n",
    "            lambda row: datetime(row['FECHA'].year, row['FECHA'].month, row['FECHA'].day, row['PERIODO'] - 2),\n",
    "            axis=1)\n",
    "\n",
    "        df.loc[condition_date_24_rows, 'datetime'] = df.loc[condition_date_24_rows].apply(\n",
    "            lambda row: datetime(row['FECHA'].year, row['FECHA'].month, row['FECHA'].day, row['PERIODO'] - 1),\n",
    "            axis=1)\n",
    "\n",
    "        df_perd_new = df[['datetime', '20_td', '30_td', '61_td', '62_td', '63_td', '64_td']]\n",
    "        df_perd_new['datetime'] = pd.to_datetime(df_perd_new['datetime'], errors='coerce')\n",
    "\n",
    "        df_perd = pd.concat([df_perd, df_perd_new], ignore_index=True)\n",
    "    else:\n",
    "        print(\"I'm empty\")"
   ]
  },
  {
   "cell_type": "code",
   "execution_count": 8,
   "id": "2c12d49a",
   "metadata": {
    "execution": {
     "iopub.execute_input": "2025-06-24T17:35:52.129143Z",
     "iopub.status.busy": "2025-06-24T17:35:52.128113Z",
     "iopub.status.idle": "2025-06-24T17:35:52.139133Z",
     "shell.execute_reply": "2025-06-24T17:35:52.137664Z"
    },
    "papermill": {
     "duration": 0.020538,
     "end_time": "2025-06-24T17:35:52.141133",
     "exception": false,
     "start_time": "2025-06-24T17:35:52.120595",
     "status": "completed"
    },
    "tags": []
   },
   "outputs": [],
   "source": [
    "df_perd.to_pickle(perd_path)"
   ]
  }
 ],
 "metadata": {
  "kernelspec": {
   "display_name": "work",
   "language": "python",
   "name": "python3"
  },
  "language_info": {
   "codemirror_mode": {
    "name": "ipython",
    "version": 3
   },
   "file_extension": ".py",
   "mimetype": "text/x-python",
   "name": "python",
   "nbconvert_exporter": "python",
   "pygments_lexer": "ipython3",
   "version": "3.12.4"
  },
  "papermill": {
   "default_parameters": {},
   "duration": 13.192823,
   "end_time": "2025-06-24T17:35:52.599443",
   "environment_variables": {},
   "exception": null,
   "input_path": "c:\\Users\\mikel.perez\\0_Python_projects_v2\\notebooks\\shared\\2C_Perd.ipynb",
   "output_path": "c:\\Users\\mikel.perez\\0_Python_projects_v2\\notebooks\\shared\\2C_Perd.ipynb",
   "parameters": {
    "estado": "C2",
    "perd_path": "c:\\Users\\mikel.perez\\0_Python_projects_v2\\data\\processed\\elec\\perdidas.pkl"
   },
   "start_time": "2025-06-24T17:35:39.406620",
   "version": "2.6.0"
  }
 },
 "nbformat": 4,
 "nbformat_minor": 5
}