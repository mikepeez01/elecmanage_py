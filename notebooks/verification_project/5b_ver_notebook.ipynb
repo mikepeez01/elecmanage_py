{
 "cells": [
  {
   "cell_type": "code",
   "execution_count": 6,
   "id": "6121f044",
   "metadata": {
    "execution": {
     "iopub.execute_input": "2025-01-22T14:55:56.438487Z",
     "iopub.status.busy": "2025-01-22T14:55:56.438487Z",
     "iopub.status.idle": "2025-01-22T14:55:57.095726Z",
     "shell.execute_reply": "2025-01-22T14:55:57.095726Z"
    },
    "papermill": {
     "duration": 0.657239,
     "end_time": "2025-01-22T14:55:57.095726",
     "exception": false,
     "start_time": "2025-01-22T14:55:56.438487",
     "status": "completed"
    },
    "tags": []
   },
   "outputs": [],
   "source": [
    "import pandas as pd\n",
    "import pickle"
   ]
  },
  {
   "cell_type": "code",
   "execution_count": 7,
   "id": "562ac422",
   "metadata": {
    "execution": {
     "iopub.execute_input": "2025-01-22T14:55:57.101333Z",
     "iopub.status.busy": "2025-01-22T14:55:57.101333Z",
     "iopub.status.idle": "2025-01-22T14:55:57.110745Z",
     "shell.execute_reply": "2025-01-22T14:55:57.110745Z"
    },
    "papermill": {
     "duration": 0.009412,
     "end_time": "2025-01-22T14:55:57.110745",
     "exception": false,
     "start_time": "2025-01-22T14:55:57.101333",
     "status": "completed"
    },
    "tags": [
     "parameters"
    ]
   },
   "outputs": [],
   "source": [
    "# Parameters\n",
    "log_name = \"('verif Taghleef 2025-08-17_13:42:32',)\"\n",
    "config_path = \"/Users/mikelperez/0_Python_projects_v3_reduced/0_Python_projects_reduced/configs/config.yaml\"\n",
    "start_date = \"2025-05-01T00:00:00\"\n",
    "end_date = \"2025-05-31T23:00:00\"\n",
    "cliente = \"Taghleef\"\n",
    "alias = \"TAGHLEEF\"\n",
    "tarifa = \"6.1 TD\"\n",
    "cups = \"ES0031101457946001KR\"\n",
    "path_load_parquet = \"/Users/mikelperez/0_Python_projects_v3_reduced/0_Python_projects_reduced/data/processed/elec/elec_load.parquet\"\n",
    "path_coberturas_df = \"/Users/mikelperez/0_Python_projects_v3_reduced/0_Python_projects_reduced/data/customers/elec/Taghleef/raw/df_coberturas_1.pkl\"\n",
    "path_master_matrix = \"/Users/mikelperez/0_Python_projects_v3_reduced/0_Python_projects_reduced/data/customers/elec/Taghleef/raw/master_matrix_ES0031101457946001KR.pkl\"\n",
    "path_contract_matrix = \"/Users/mikelperez/0_Python_projects_v3_reduced/0_Python_projects_reduced/data/customers/elec/Taghleef/raw/contract_matrix_ES0031101457946001KR.pkl\"\n",
    "db_elec_path = \"/Users/mikelperez/0_Python_projects_v3_reduced/0_Python_projects_reduced/data/processed/elec/facturas_elec.db\"\n",
    "template_path = \"/Users/mikelperez/0_Python_projects_v3_reduced/0_Python_projects_reduced/data/verification_project/elec/templates/Template 2024.xlsx\"\n",
    "invoice_path_pickle = \"/Users/mikelperez/0_Python_projects_v3_reduced/0_Python_projects_reduced/outputs/verification_project/verif/Taghleef/raw/2025/06. Junio/Verificaci\\xf3n Fra. 20250501_20250531 TAGHLEEF.pkl\"\n",
    "output_verif_excel = \"/Users/mikelperez/0_Python_projects_v3_reduced/0_Python_projects_reduced/outputs/verification_project/verif/Taghleef/raw/2025/06. Junio/Verificaci\\xf3n Fra. 20250501_20250531 TAGHLEEF.xlsx\"\n",
    "output_verif_pdf = \"/Users/mikelperez/0_Python_projects_v3_reduced/0_Python_projects_reduced/outputs/verification_project/verif/Taghleef/pdfs/2025/06. Junio/Verificaci\\xf3n Fra. 20250501_20250531 TAGHLEEF.pdf\"\n"
   ]
  },
  {
   "cell_type": "code",
   "execution_count": 8,
   "id": "db988ca2",
   "metadata": {
    "execution": {
     "iopub.execute_input": "2025-01-22T14:55:57.132663Z",
     "iopub.status.busy": "2025-01-22T14:55:57.132663Z",
     "iopub.status.idle": "2025-01-22T14:55:57.142779Z",
     "shell.execute_reply": "2025-01-22T14:55:57.142779Z"
    },
    "papermill": {
     "duration": 0.010116,
     "end_time": "2025-01-22T14:55:57.142779",
     "exception": false,
     "start_time": "2025-01-22T14:55:57.132663",
     "status": "completed"
    },
    "tags": []
   },
   "outputs": [
    {
     "name": "stdout",
     "output_type": "stream",
     "text": [
      "Start Date: 2025-05-01 00:00:00\n",
      "End Date: 2025-05-31 23:00:00\n"
     ]
    }
   ],
   "source": [
    "from datetime import datetime\n",
    "\n",
    "# Assuming `start_date` and `end_date` are passed as ISO strings\n",
    "start_date = datetime.fromisoformat(start_date)\n",
    "end_date = datetime.fromisoformat(end_date)\n",
    "\n",
    "print(\"Start Date:\", start_date)\n",
    "print(\"End Date:\", end_date)"
   ]
  },
  {
   "cell_type": "code",
   "execution_count": 9,
   "id": "145027bd",
   "metadata": {
    "execution": {
     "iopub.execute_input": "2025-01-22T14:55:57.152121Z",
     "iopub.status.busy": "2025-01-22T14:55:57.152121Z",
     "iopub.status.idle": "2025-01-22T14:55:57.668858Z",
     "shell.execute_reply": "2025-01-22T14:55:57.668858Z"
    },
    "papermill": {
     "duration": 0.527594,
     "end_time": "2025-01-22T14:55:57.670373",
     "exception": false,
     "start_time": "2025-01-22T14:55:57.142779",
     "status": "completed"
    },
    "tags": []
   },
   "outputs": [
    {
     "data": {
      "text/plain": [
       "array([1])"
      ]
     },
     "execution_count": 9,
     "metadata": {},
     "output_type": "execute_result"
    }
   ],
   "source": [
    "with open(invoice_path_pickle, \"rb\") as pickle_file:\n",
    "    invoice_dict = pickle.load(pickle_file)\n",
    "\n",
    "df_master = pd.read_pickle(path_master_matrix)\n",
    "df_coberturas = pd.read_pickle(path_coberturas_df)\n",
    "df_load = pd.read_parquet(path_load_parquet)\n",
    "df_contrato = pd.read_pickle(path_contract_matrix)\n",
    "# apply permite generar varias columnas\n",
    "# varias funciones base, una funcion por cada forma de comercializar, cada una en un diccionario\n",
    "# diccionario con todas las formulas \n",
    "df_master['contract_index'].unique()\n",
    "df_master['contract_id'].unique()"
   ]
  },
  {
   "cell_type": "code",
   "execution_count": 10,
   "id": "0d796e52",
   "metadata": {
    "execution": {
     "iopub.execute_input": "2025-01-22T14:55:57.686013Z",
     "iopub.status.busy": "2025-01-22T14:55:57.670373Z",
     "iopub.status.idle": "2025-01-22T14:55:57.695013Z",
     "shell.execute_reply": "2025-01-22T14:55:57.695013Z"
    },
    "papermill": {
     "duration": 0.02464,
     "end_time": "2025-01-22T14:55:57.695013",
     "exception": false,
     "start_time": "2025-01-22T14:55:57.670373",
     "status": "completed"
    },
    "tags": []
   },
   "outputs": [
    {
     "name": "stdout",
     "output_type": "stream",
     "text": [
      "Power:\n",
      "[4030.0, 4030.0, 4030.0, 4030.0, 4030.0, 4830.0]\n"
     ]
    }
   ],
   "source": [
    "coste_energia_fra = invoice_dict['coste_energia']\n",
    "coste_reactiva_fra = invoice_dict['coste_reactiva']\n",
    "coste_excesos_fra = invoice_dict['excesos_potencia']\n",
    "base_imponible_fra = invoice_dict['total_bruto_iva']\n",
    "coste_potencia_fra = invoice_dict['coste_potencia']\n",
    "num_fra = invoice_dict['num_factura']\n",
    "potencia_fra = [invoice_dict[f'potencia_p{i+1}'] for i in range (6)]\n",
    "consumo_fra = [invoice_dict[f'energia_p{i+1}'] / 1000 for i in range (6)]\n",
    "dto_electrointensivos_fra = invoice_dict['dto_electrointensivo']\n",
    "\n",
    "if cliente == 'Kem One':\n",
    "    potencia_fra = [1700, 1700, 1700, 1700, 1700, 2375]\n",
    "\n",
    "print(f\"Power:\\n{potencia_fra}\")"
   ]
  },
  {
   "cell_type": "code",
   "execution_count": 11,
   "id": "8339cfa0",
   "metadata": {
    "execution": {
     "iopub.execute_input": "2025-01-22T14:55:57.702604Z",
     "iopub.status.busy": "2025-01-22T14:55:57.702604Z",
     "iopub.status.idle": "2025-01-22T14:55:58.993411Z",
     "shell.execute_reply": "2025-01-22T14:55:58.993411Z"
    },
    "papermill": {
     "duration": 1.298398,
     "end_time": "2025-01-22T14:55:58.993411",
     "exception": false,
     "start_time": "2025-01-22T14:55:57.695013",
     "status": "completed"
    },
    "tags": []
   },
   "outputs": [],
   "source": [
    "from verification_project.liquidation import Liquidation\n",
    "from shared.dicts import contract_dict"
   ]
  },
  {
   "cell_type": "code",
   "execution_count": 12,
   "id": "2b5fe993",
   "metadata": {
    "execution": {
     "iopub.execute_input": "2025-01-22T14:55:58.997043Z",
     "iopub.status.busy": "2025-01-22T14:55:58.997043Z",
     "iopub.status.idle": "2025-01-22T14:55:59.014495Z",
     "shell.execute_reply": "2025-01-22T14:55:59.014495Z"
    },
    "papermill": {
     "duration": 0.017452,
     "end_time": "2025-01-22T14:55:59.014495",
     "exception": false,
     "start_time": "2025-01-22T14:55:58.997043",
     "status": "completed"
    },
    "tags": []
   },
   "outputs": [],
   "source": [
    "Liquidation = Liquidation(\n",
    "                    start_date=start_date,\n",
    "                    end_date=end_date,\n",
    "                    df_master=df_master,\n",
    "                    df_contrato=df_contrato,\n",
    "                    power_list=potencia_fra,\n",
    "                    df_load=df_load,\n",
    "                    df_coberturas=df_coberturas,\n",
    "                        )"
   ]
  },
  {
   "cell_type": "code",
   "execution_count": 13,
   "id": "f63b2ba7",
   "metadata": {
    "execution": {
     "iopub.execute_input": "2025-01-22T14:55:59.014495Z",
     "iopub.status.busy": "2025-01-22T14:55:59.014495Z",
     "iopub.status.idle": "2025-01-22T14:56:00.355694Z",
     "shell.execute_reply": "2025-01-22T14:56:00.355694Z"
    },
    "papermill": {
     "duration": 1.341199,
     "end_time": "2025-01-22T14:56:00.355694",
     "exception": false,
     "start_time": "2025-01-22T14:55:59.014495",
     "status": "completed"
    },
    "tags": []
   },
   "outputs": [],
   "source": [
    "Liquidation.execute(contract_mapping=contract_dict);"
   ]
  },
  {
   "cell_type": "code",
   "execution_count": 14,
   "id": "add41c2f",
   "metadata": {
    "execution": {
     "iopub.execute_input": "2025-01-22T14:56:00.365828Z",
     "iopub.status.busy": "2025-01-22T14:56:00.365828Z",
     "iopub.status.idle": "2025-01-22T14:56:00.373864Z",
     "shell.execute_reply": "2025-01-22T14:56:00.373864Z"
    },
    "papermill": {
     "duration": 0.01817,
     "end_time": "2025-01-22T14:56:00.373864",
     "exception": false,
     "start_time": "2025-01-22T14:56:00.355694",
     "status": "completed"
    },
    "tags": []
   },
   "outputs": [
    {
     "name": "stdout",
     "output_type": "stream",
     "text": [
      "\n",
      "Simulated power cost: 20068.04008605479 €\n",
      "Simulated excess cost: 0.0 €\n",
      "Simulated energy cost: 159531.60811353585 €\n",
      "Simulated electrointesivo deduction: 13298.543110323288 €\n",
      "Simulated taxable base: 174799.09155932892 €\n"
     ]
    }
   ],
   "source": [
    "df = Liquidation.df_verif\n",
    "\n",
    "print(f'\\n\\n\\nSimulated power cost: {Liquidation.coste_potencia} €')\n",
    "print(f'Simulated excess cost: {Liquidation.excesos_potencia} €')\n",
    "print(f'Simulated energy cost: {Liquidation.coste_energia} €')\n",
    "print(f'Simulated electrointesivo deduction: {Liquidation.dto_electrointensivos} €')\n",
    "print(f'Simulated taxable base: {Liquidation.base_imponible} €')"
   ]
  },
  {
   "cell_type": "code",
   "execution_count": 15,
   "id": "e7038633",
   "metadata": {},
   "outputs": [
    {
     "name": "stdout",
     "output_type": "stream",
     "text": [
      "Simulated captured commodity price: 32.04422642944937 €/MWh\n"
     ]
    }
   ],
   "source": [
    "print(f'Simulated captured commodity price: {Liquidation.captured_commodity_price_w_clicks} €/MWh')"
   ]
  },
  {
   "cell_type": "code",
   "execution_count": 16,
   "id": "3b06731e",
   "metadata": {
    "execution": {
     "iopub.execute_input": "2025-01-22T14:56:00.382000Z",
     "iopub.status.busy": "2025-01-22T14:56:00.382000Z",
     "iopub.status.idle": "2025-01-22T14:56:00.389100Z",
     "shell.execute_reply": "2025-01-22T14:56:00.389100Z"
    },
    "papermill": {
     "duration": 0.015236,
     "end_time": "2025-01-22T14:56:00.389100",
     "exception": false,
     "start_time": "2025-01-22T14:56:00.373864",
     "status": "completed"
    },
    "tags": []
   },
   "outputs": [
    {
     "name": "stdout",
     "output_type": "stream",
     "text": [
      "\n",
      "Simulated power cost: 20068.04008605479 €\n",
      "Simulated excess cost: 0.0 €\n",
      "Simulated energy cost: 159531.60811353585 €\n",
      "Simulated electrointesivo discount: 13298.543110323288 €\n",
      "Simulated taxable base: 174799.09155932892 €\n",
      "Invoice power cost: 20068.05 €\n",
      "Invoice excess cost: 0.0 €\n",
      "Invoice energy cost: 163046.5 €\n",
      "Invoice electricity dependent deduction: 0.0 €\n",
      "Invoice taxable base: 192553.63 €\n"
     ]
    }
   ],
   "source": [
    "print(f'\\n\\n\\nSimulated power cost: {Liquidation.coste_potencia} €')\n",
    "print(f'Simulated excess cost: {Liquidation.excesos_potencia} €')\n",
    "print(f'Simulated energy cost: {Liquidation.coste_energia} €')\n",
    "print(f'Simulated electrointesivo discount: {Liquidation.dto_electrointensivos} €')\n",
    "print(f'Simulated taxable base: {Liquidation.base_imponible} €')\n",
    "\n",
    "print(f'Invoice power cost: {coste_potencia_fra} €')\n",
    "print(f'Invoice excess cost: {coste_excesos_fra} €')\n",
    "print(f'Invoice energy cost: {coste_energia_fra} €')\n",
    "print(f'Invoice electricity dependent deduction: {dto_electrointensivos_fra} €')\n",
    "print(f'Invoice taxable base: {base_imponible_fra} €')\n"
   ]
  },
  {
   "cell_type": "code",
   "execution_count": 17,
   "id": "6deb0a1e",
   "metadata": {
    "execution": {
     "iopub.execute_input": "2025-01-22T14:56:00.398237Z",
     "iopub.status.busy": "2025-01-22T14:56:00.398237Z",
     "iopub.status.idle": "2025-01-22T14:56:00.403233Z",
     "shell.execute_reply": "2025-01-22T14:56:00.403233Z"
    },
    "papermill": {
     "duration": 0.014133,
     "end_time": "2025-01-22T14:56:00.403233",
     "exception": false,
     "start_time": "2025-01-22T14:56:00.389100",
     "status": "completed"
    },
    "tags": []
   },
   "outputs": [
    {
     "name": "stdout",
     "output_type": "stream",
     "text": [
      "Avoided solar captured price: 65.84317490077603 €/MWh\n"
     ]
    }
   ],
   "source": [
    "print(f'Avoided solar captured price: {Liquidation.solar_avoided_price} €/MWh')"
   ]
  },
  {
   "cell_type": "code",
   "execution_count": 18,
   "id": "1d017b1d",
   "metadata": {
    "execution": {
     "iopub.execute_input": "2025-01-22T14:56:00.403233Z",
     "iopub.status.busy": "2025-01-22T14:56:00.403233Z",
     "iopub.status.idle": "2025-01-22T14:56:00.587535Z",
     "shell.execute_reply": "2025-01-22T14:56:00.587535Z"
    },
    "papermill": {
     "duration": 0.184302,
     "end_time": "2025-01-22T14:56:00.587535",
     "exception": false,
     "start_time": "2025-01-22T14:56:00.403233",
     "status": "completed"
    },
    "tags": []
   },
   "outputs": [
    {
     "name": "stdout",
     "output_type": "stream",
     "text": [
      "Axes(0.125,0.11;0.775x0.77)\n"
     ]
    },
    {
     "data": {
      "image/png": "[encoded data removed]",
      "text/plain": [
       "<Figure size 640x480 with 1 Axes>"
      ]
     },
     "metadata": {},
     "output_type": "display_data"
    }
   ],
   "source": [
    "print(df.groupby(df['datetime'].dt.time)['load'].sum().plot())"
   ]
  },
  {
   "cell_type": "code",
   "execution_count": 19,
   "id": "aaf2a352",
   "metadata": {
    "execution": {
     "iopub.execute_input": "2025-01-22T14:56:00.587535Z",
     "iopub.status.busy": "2025-01-22T14:56:00.587535Z",
     "iopub.status.idle": "2025-01-22T14:56:00.604999Z",
     "shell.execute_reply": "2025-01-22T14:56:00.604999Z"
    },
    "papermill": {
     "duration": 0.017464,
     "end_time": "2025-01-22T14:56:00.604999",
     "exception": false,
     "start_time": "2025-01-22T14:56:00.587535",
     "status": "completed"
    },
    "tags": []
   },
   "outputs": [
    {
     "name": "stdout",
     "output_type": "stream",
     "text": [
      "Energy consumption 2172.163 MWh\n",
      "Energy consumption per period in MWh: [0, 0, 0, 498.384, 381.49, 1292.289]\n"
     ]
    }
   ],
   "source": [
    "load_period = df.groupby('periodo')['load'].sum() / 1000\n",
    "load_values_dict = load_period.to_dict()\n",
    "\n",
    "consumo_ver = [load_values_dict.get(period, 0) for period in range(1,7)]\n",
    "\n",
    "print(f'Energy consumption {sum(consumo_ver)} MWh')\n",
    "print(f'Energy consumption per period in MWh: {(consumo_ver)}')  # Output: [0, 0, 135300.0, 104462.0, 0, 188058.0]\n"
   ]
  },
  {
   "cell_type": "code",
   "execution_count": 20,
   "id": "faf12e23",
   "metadata": {
    "execution": {
     "iopub.execute_input": "2025-01-22T14:56:00.632509Z",
     "iopub.status.busy": "2025-01-22T14:56:00.631319Z",
     "iopub.status.idle": "2025-01-22T14:56:00.635128Z",
     "shell.execute_reply": "2025-01-22T14:56:00.635128Z"
    },
    "papermill": {
     "duration": 0.017672,
     "end_time": "2025-01-22T14:56:00.636836",
     "exception": false,
     "start_time": "2025-01-22T14:56:00.619164",
     "status": "completed"
    },
    "tags": []
   },
   "outputs": [],
   "source": [
    "from shared.dicts import ver_mapping\n",
    "import utils.utils_dates as utils_dates"
   ]
  },
  {
   "cell_type": "code",
   "execution_count": 21,
   "id": "0d5bbe4f",
   "metadata": {
    "execution": {
     "iopub.execute_input": "2025-01-22T14:56:00.650511Z",
     "iopub.status.busy": "2025-01-22T14:56:00.648499Z",
     "iopub.status.idle": "2025-01-22T14:56:00.654390Z",
     "shell.execute_reply": "2025-01-22T14:56:00.654390Z"
    },
    "papermill": {
     "duration": 0.016001,
     "end_time": "2025-01-22T14:56:00.654390",
     "exception": false,
     "start_time": "2025-01-22T14:56:00.638389",
     "status": "completed"
    },
    "tags": []
   },
   "outputs": [
    {
     "name": "stdout",
     "output_type": "stream",
     "text": [
      "{'cliente': 'Taghleef', 'alias': 'TAGHLEEF', 'cups': 'ES0031101457946001KR', 'tarifa': '6.1 TD', 'periodo': '01-05-2025 - 31-05-2025', 'num_factura': 'PI25142000204445, PA25142000020232', 'consumo_fra': [0.0, 0.0, 0.0, 498.384, 381.49, 1292.289], 'energia_fra': 163046.5, 'potencia_fra': 20068.05, 'excesos_fra': 0.0, 'reactiva_fra': 0.0, 'dto_electrointensivos_fra': 0.0, 'base_imponible_fra': 192553.63, 'potencia_contratada': [4030.0, 4030.0, 4030.0, 4030.0, 4030.0, 4830.0], 'consumo_ver': [0, 0, 0, 498.384, 381.49, 1292.289], 'potencia_ver': np.float64(20068.04008605479), 'energia_ver': np.float64(159531.60811353585), 'excesos_ver': np.float64(0.0), 'reactiva_ver': 0.0, 'dto_electrointensivos_ver': np.float64(-13298.543110323288), 'base_imponible_ver': np.float64(174799.09155932892)}\n"
     ]
    }
   ],
   "source": [
    "dict_ver = {\n",
    "    \"cliente\" : cliente,\n",
    "    \"alias\" : alias,\n",
    "    \"cups\" : cups,\n",
    "    \"tarifa\" : tarifa,\n",
    "    \"periodo\" : f'{start_date.strftime(\"%d-%m-%Y\")} - {end_date.strftime(\"%d-%m-%Y\")}',\n",
    "    \"num_factura\" : num_fra,\n",
    "    \"consumo_fra\" : consumo_fra,\n",
    "    \"energia_fra\" : coste_energia_fra,\n",
    "    \"potencia_fra\" : coste_potencia_fra,\n",
    "    \"excesos_fra\" : coste_excesos_fra,\n",
    "    \"reactiva_fra\" : coste_reactiva_fra,\n",
    "    \"dto_electrointensivos_fra\" : dto_electrointensivos_fra,\n",
    "    \"base_imponible_fra\" : base_imponible_fra,\n",
    "    \"potencia_contratada\" : potencia_fra,\n",
    "    \"consumo_ver\" : consumo_ver,\n",
    "    \"potencia_ver\" : Liquidation.coste_potencia,\n",
    "    \"energia_ver\" : Liquidation.coste_energia,\n",
    "    \"excesos_ver\" : Liquidation.excesos_potencia,\n",
    "    \"reactiva_ver\" : coste_reactiva_fra,\n",
    "    \"dto_electrointensivos_ver\" : - Liquidation.dto_electrointensivos,\n",
    "    \"base_imponible_ver\" : Liquidation.base_imponible + coste_reactiva_fra,\n",
    "    # \"days\" : utils_dates.days_in_month(year=year, month=month)\n",
    "    }\n",
    "print(dict_ver)"
   ]
  },
  {
   "cell_type": "code",
   "execution_count": 18,
   "id": "3723b29a",
   "metadata": {
    "execution": {
     "iopub.execute_input": "2025-01-22T14:56:00.654390Z",
     "iopub.status.busy": "2025-01-22T14:56:00.654390Z",
     "iopub.status.idle": "2025-01-22T14:56:01.069953Z",
     "shell.execute_reply": "2025-01-22T14:56:01.069953Z"
    },
    "papermill": {
     "duration": 0.415563,
     "end_time": "2025-01-22T14:56:01.069953",
     "exception": false,
     "start_time": "2025-01-22T14:56:00.654390",
     "status": "completed"
    },
    "tags": []
   },
   "outputs": [
    {
     "name": "stdout",
     "output_type": "stream",
     "text": [
      "Data has been saved to c:\\Users\\mikel.perez\\0_Python_Projects - copia\\0_Python_projects_v2\\outputs\\verification_project\\verif\\PR\\raw\\2024\\12. Diciembre\\Verificación Fra. 20241101_20241130 TIVOLI.xlsx with the original formatting intact.\n"
     ]
    }
   ],
   "source": [
    "from openpyxl import load_workbook\n",
    "\n",
    "# Load the Excel template\n",
    "wb = load_workbook(template_path)\n",
    "\n",
    "# Loop through cell mapping and populate cells in the appropriate sheets\n",
    "for key, (sheet_name, start_cell) in ver_mapping.items():\n",
    "    if key in dict_ver:\n",
    "        ws = wb[sheet_name]  # Select the correct sheet\n",
    "        value = dict_ver[key]\n",
    "\n",
    "        # If the value is a DataFrame, write it starting from the specified cell\n",
    "        if isinstance(value, pd.DataFrame):\n",
    "            start_column = start_cell[0]  # Get the starting column letter\n",
    "            start_row = int(start_cell[1:])  # Get the starting row number\n",
    "            \n",
    "            for col_index, column in enumerate(value.columns):\n",
    "                for row_index, item in enumerate(value[column]):\n",
    "                    cell = f\"{chr(ord(start_column) + col_index)}{start_row + row_index}\"\n",
    "                    ws[cell] = item\n",
    "\n",
    "        # Handle fixed-length lists (e.g., consumo_fra and potencia_contratada)\n",
    "        elif isinstance(value, list):\n",
    "            column = ''.join(filter(str.isalpha, start_cell))  # Extract column (e.g., \"A\")\n",
    "            row = int(''.join(filter(str.isdigit, start_cell)))  # Extract row number (e.g., 2)\n",
    "\n",
    "            # Write each item in the list to consecutive cells\n",
    "            for i in range(6):\n",
    "                cell_address = f\"{column}{row + i}\"\n",
    "                ws[cell_address] = value[i] if i < len(value) else None\n",
    "        else:\n",
    "            ws[start_cell] = value\n",
    "\n",
    "# Save the updated workbook to a new file\n",
    "wb.save(output_verif_excel)"
   ]
  },
  {
   "cell_type": "code",
   "execution_count": 19,
   "id": "7e10dc5b",
   "metadata": {
    "execution": {
     "iopub.execute_input": "2025-01-22T14:56:01.077092Z",
     "iopub.status.busy": "2025-01-22T14:56:01.077092Z",
     "iopub.status.idle": "2025-01-22T14:56:03.805673Z",
     "shell.execute_reply": "2025-01-22T14:56:03.805673Z"
    },
    "papermill": {
     "duration": 2.738699,
     "end_time": "2025-01-22T14:56:03.808652",
     "exception": false,
     "start_time": "2025-01-22T14:56:01.069953",
     "status": "completed"
    },
    "tags": []
   },
   "outputs": [
    {
     "name": "stdout",
     "output_type": "stream",
     "text": [
      "Exported range B1:I61 from Ficha to c:\\Users\\mikel.perez\\0_Python_Projects - copia\\0_Python_projects_v2\\outputs\\verification_project\\verif\\PR\\pdfs\\2024\\12. Diciembre\\Verificación Fra. 20241101_20241130 TIVOLI.pdf\n"
     ]
    }
   ],
   "source": [
    "from utils.utils_var import export_excel_range_to_pdf\n",
    "\n",
    "excel_file = output_verif_excel\n",
    "output_pdf = output_verif_pdf\n",
    "sheet = \"Ficha\"\n",
    "cell_range = \"B1:I61\"\n",
    "\n",
    "export_excel_range_to_pdf(excel_file, output_verif_pdf, sheet, cell_range)\n"
   ]
  }
 ],
 "metadata": {
  "kernelspec": {
   "display_name": "python_reduced",
   "language": "python",
   "name": "python3"
  },
  "language_info": {
   "codemirror_mode": {
    "name": "ipython",
    "version": 3
   },
   "file_extension": ".py",
   "mimetype": "text/x-python",
   "name": "python",
   "nbconvert_exporter": "python",
   "pygments_lexer": "ipython3",
   "version": "3.12.4"
  },
  "papermill": {
   "default_parameters": {},
   "duration": 9.723919,
   "end_time": "2025-01-22T14:56:04.267046",
   "environment_variables": {},
   "exception": null,
   "input_path": "c:\\Users\\mikel.perez\\0_Python_Projects - copia\\0_Python_projects_v2\\notebooks\\verification_project\\5B_Ver_Notebook.ipynb",
   "output_path": "c:\\Users\\mikel.perez\\0_Python_Projects - copia\\0_Python_projects_v2\\notebooks\\verification_project\\5B_Ver_Notebook.ipynb",
   "parameters": {
    "alias": "PORRIÑO",
    "cliente": "Montfrisa",
    "cups": "ES0173000000400220DS",
    "db_elec_path": "c:\\Users\\mikel.perez\\0_Python_Projects - copia\\0_Python_projects_v2\\data\\processed\\elec\\facturas_elec.db",
    "end_date": "2024-09-30T23:00:00",
    "invoice_path_pickle": "c:\\Users\\mikel.perez\\0_Python_Projects - copia\\0_Python_projects_v2\\outputs\\verification_project\\verif\\Montfrisa\\Verificación Fra. 20240901_20240930 PORRIÑO.pkl",
    "nb_verif": "c:\\Users\\mikel.perez\\0_Python_Projects - copia\\0_Python_projects_v2\\notebooks\\verification_project\\5B_Ver_Notebook.ipynb",
    "output_verif_excel": "c:\\Users\\mikel.perez\\0_Python_Projects - copia\\0_Python_projects_v2\\outputs\\verification_project\\verif\\Montfrisa\\Verificación Fra. 20240901_20240930 PORRIÑO.xlsx",
    "path_coberturas_df": "c:\\Users\\mikel.perez\\0_Python_Projects - copia\\0_Python_projects_v2\\data\\customers\\elec\\Montfrisa\\df_coberturas.pkl",
    "path_contract_matrix": "c:\\Users\\mikel.perez\\0_Python_Projects - copia\\0_Python_projects_v2\\data\\customers\\elec\\Montfrisa\\contract_matrix_ES0173000000400220DS.pkl",
    "path_load_parquet": "c:\\Users\\mikel.perez\\0_Python_Projects - copia\\0_Python_projects_v2\\data\\processed\\elec\\elec_load.parquet",
    "path_master_matrix": "c:\\Users\\mikel.perez\\0_Python_Projects - copia\\0_Python_projects_v2\\data\\customers\\elec\\Montfrisa\\master_matrix_ES0173000000400220DS.pkl",
    "start_date": "2024-09-01T00:00:00",
    "tarifa": "6.1 TD",
    "template_path": "c:\\Users\\mikel.perez\\0_Python_Projects - copia\\0_Python_projects_v2\\data\\verification_project\\elec\\templates\\Template 2024.xlsx"
   },
   "start_time": "2025-01-22T14:55:54.543127",
   "version": "2.6.0"
  }
 },
 "nbformat": 4,
 "nbformat_minor": 5
}
