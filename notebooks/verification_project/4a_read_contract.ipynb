{
 "cells": [
  {
   "cell_type": "code",
   "execution_count": 1,
   "id": "6121f044",
   "metadata": {
    "execution": {
     "iopub.execute_input": "2025-08-06T17:50:58.562227Z",
     "iopub.status.busy": "2025-08-06T17:50:58.561857Z",
     "iopub.status.idle": "2025-08-06T17:50:58.566851Z",
     "shell.execute_reply": "2025-08-06T17:50:58.566471Z"
    },
    "papermill": {
     "duration": 0.015761,
     "end_time": "2025-08-06T17:50:58.568002",
     "exception": false,
     "start_time": "2025-08-06T17:50:58.552241",
     "status": "completed"
    },
    "tags": []
   },
   "outputs": [],
   "source": [
    "from datetime import datetime, timedelta"
   ]
  },
  {
   "cell_type": "code",
   "execution_count": 2,
   "id": "562ac422",
   "metadata": {
    "execution": {
     "iopub.execute_input": "2025-08-06T17:50:58.576785Z",
     "iopub.status.busy": "2025-08-06T17:50:58.576604Z",
     "iopub.status.idle": "2025-08-06T17:50:58.579650Z",
     "shell.execute_reply": "2025-08-06T17:50:58.579370Z"
    },
    "papermill": {
     "duration": 0.00861,
     "end_time": "2025-08-06T17:50:58.580479",
     "exception": false,
     "start_time": "2025-08-06T17:50:58.571869",
     "status": "completed"
    },
    "tags": [
     "parameters"
    ]
   },
   "outputs": [],
   "source": [
    "# Parameters\n",
    "nb_name = \"4a_read_contract_out\"\n",
    "config_path = \"/Users/mikelperez/0_Python_projects_v3_reduced/0_Python_projects_reduced/configs/config.yaml\"\n",
    "cliente = \"Generic\"\n",
    "tarifa = \"6.1 TD\"\n",
    "contract_id = 1\n",
    "cups = \"TRIAL\"\n",
    "electrointensivo = False\n",
    "path_datos_cliente = \"/Users/mikelperez/0_Python_projects_v3_reduced/0_Python_projects_reduced/data/customers/elec/Generic/datos_ELEC_Generic_1.xlsm\"\n",
    "path_peajes_cargos_energia = \"/Users/mikelperez/0_Python_projects_v3_reduced/0_Python_projects_reduced/data/regulation/elec/peajes_cargos_energia.xlsx\"\n",
    "path_peajes_energia = \"/Users/mikelperez/0_Python_projects_v3_reduced/0_Python_projects_reduced/data/regulation/elec/peajes_energia.xlsx\"\n",
    "path_peajes_potencia = \"/Users/mikelperez/0_Python_projects_v3_reduced/0_Python_projects_reduced/data/regulation/elec/peajes_potencia.xlsx\"\n",
    "path_cargos_energia = \"/Users/mikelperez/0_Python_projects_v3_reduced/0_Python_projects_reduced/data/regulation/elec/cargos_energia.xlsx\"\n",
    "path_cargos_potencia = \"/Users/mikelperez/0_Python_projects_v3_reduced/0_Python_projects_reduced/data/regulation/elec/cargos_potencia.xlsx\"\n",
    "path_estructura_cargos = \"/Users/mikelperez/0_Python_projects_v3_reduced/0_Python_projects_reduced/data/regulation/elec/estructura_cargos.xlsx\"\n",
    "path_dto_peajes_electrointensivos = \"/Users/mikelperez/0_Python_projects_v3_reduced/0_Python_projects_reduced/data/regulation/elec/dto_peajes_electrointensivos.xlsx\"\n",
    "path_ie = \"/Users/mikelperez/0_Python_projects_v3_reduced/0_Python_projects_reduced/data/regulation/elec/ie.xlsx\"\n",
    "path_coberturas_df = \"/Users/mikelperez/0_Python_projects_v3_reduced/0_Python_projects_reduced/data/customers/elec/Generic/raw/df_coberturas_1.pkl\"\n",
    "path_contract_matrix = \"/Users/mikelperez/0_Python_projects_v3_reduced/0_Python_projects_reduced/data/customers/elec/Generic/raw/contract_matrix_TRIAL.pkl\"\n",
    "path_coefs_exc = \"/Users/mikelperez/0_Python_projects_v3_reduced/0_Python_projects_reduced/data/regulation/elec/coefs_excesos.xlsx\"\n"
   ]
  },
  {
   "cell_type": "code",
   "execution_count": 3,
   "id": "3ac581ba",
   "metadata": {
    "execution": {
     "iopub.execute_input": "2025-08-06T17:50:58.593178Z",
     "iopub.status.busy": "2025-08-06T17:50:58.593081Z",
     "iopub.status.idle": "2025-08-06T17:50:58.594645Z",
     "shell.execute_reply": "2025-08-06T17:50:58.594437Z"
    },
    "papermill": {
     "duration": 0.004267,
     "end_time": "2025-08-06T17:50:58.595363",
     "exception": false,
     "start_time": "2025-08-06T17:50:58.591096",
     "status": "completed"
    },
    "tags": []
   },
   "outputs": [],
   "source": [
    "start_date = datetime(2023,1,1)\n",
    "end_date = datetime(2026,2,5)"
   ]
  },
  {
   "cell_type": "code",
   "execution_count": 4,
   "id": "897d94aa",
   "metadata": {
    "execution": {
     "iopub.execute_input": "2025-08-06T17:50:58.599297Z",
     "iopub.status.busy": "2025-08-06T17:50:58.599189Z",
     "iopub.status.idle": "2025-08-06T17:50:58.601227Z",
     "shell.execute_reply": "2025-08-06T17:50:58.601028Z"
    },
    "papermill": {
     "duration": 0.004757,
     "end_time": "2025-08-06T17:50:58.601825",
     "exception": false,
     "start_time": "2025-08-06T17:50:58.597068",
     "status": "completed"
    },
    "tags": []
   },
   "outputs": [],
   "source": [
    "years = list(range(start_date.year, end_date.year + 1))\n",
    "date_range = [start_date.date() + timedelta(days=x) for x in range((end_date - start_date).days + 1)]"
   ]
  },
  {
   "cell_type": "code",
   "execution_count": 5,
   "id": "8339cfa0",
   "metadata": {
    "execution": {
     "iopub.execute_input": "2025-08-06T17:50:58.605562Z",
     "iopub.status.busy": "2025-08-06T17:50:58.605473Z",
     "iopub.status.idle": "2025-08-06T17:50:58.859542Z",
     "shell.execute_reply": "2025-08-06T17:50:58.859326Z"
    },
    "papermill": {
     "duration": 0.256571,
     "end_time": "2025-08-06T17:50:58.860284",
     "exception": false,
     "start_time": "2025-08-06T17:50:58.603713",
     "status": "completed"
    },
    "tags": []
   },
   "outputs": [],
   "source": [
    "from shared.read_contracts import BuildMasterMatrix"
   ]
  },
  {
   "cell_type": "code",
   "execution_count": 6,
   "id": "ecb81986",
   "metadata": {
    "execution": {
     "iopub.execute_input": "2025-08-06T17:50:58.864400Z",
     "iopub.status.busy": "2025-08-06T17:50:58.864268Z",
     "iopub.status.idle": "2025-08-06T17:50:58.977413Z",
     "shell.execute_reply": "2025-08-06T17:50:58.977173Z"
    },
    "papermill": {
     "duration": 0.115936,
     "end_time": "2025-08-06T17:50:58.978137",
     "exception": false,
     "start_time": "2025-08-06T17:50:58.862201",
     "status": "completed"
    },
    "tags": []
   },
   "outputs": [],
   "source": [
    "MasterMatrix = BuildMasterMatrix(\n",
    "                            cliente=cliente,\n",
    "                            cups=cups,\n",
    "                            years=years, \n",
    "                            tarifa=tarifa,\n",
    "                            electrointensivo=electrointensivo,\n",
    "                            contract_id=contract_id,\n",
    "                            path_datos_cliente=path_datos_cliente,\n",
    "                            path_peajes_cargos=path_peajes_cargos_energia,\n",
    "                            path_peajes_energia=path_peajes_energia,\n",
    "                            path_cargos_energia=path_cargos_energia,\n",
    "                            path_peajes_potencia=path_peajes_potencia,\n",
    "                            path_cargos_potencia=path_cargos_potencia,\n",
    "                            path_estructura_cargos=path_estructura_cargos,\n",
    "                            path_ie=path_ie,\n",
    "                            path_dto_peajes_electrointensivos=path_dto_peajes_electrointensivos,\n",
    "                            path_coefs_exc= path_coefs_exc\n",
    "                                )"
   ]
  },
  {
   "cell_type": "code",
   "execution_count": 7,
   "id": "d26a0992",
   "metadata": {
    "execution": {
     "iopub.execute_input": "2025-08-06T17:50:58.981431Z",
     "iopub.status.busy": "2025-08-06T17:50:58.981337Z",
     "iopub.status.idle": "2025-08-06T17:51:02.846522Z",
     "shell.execute_reply": "2025-08-06T17:51:02.846189Z"
    },
    "papermill": {
     "duration": 3.867805,
     "end_time": "2025-08-06T17:51:02.847272",
     "exception": false,
     "start_time": "2025-08-06T17:50:58.979467",
     "status": "completed"
    },
    "tags": []
   },
   "outputs": [
    {
     "name": "stderr",
     "output_type": "stream",
     "text": [
      "/Users/mikelperez/0_Python_projects_v3_reduced/0_Python_projects_reduced/src/shared/read_contracts.py:203: FutureWarning: Downcasting object dtype arrays on .fillna, .ffill, .bfill is deprecated and will change in a future version. Call result.infer_objects(copy=False) instead. To opt-in to the future behavior, set `pd.set_option('future.no_silent_downcasting', True)`\n",
      "  master_df = master_df.fillna(value=np.nan)\n"
     ]
    },
    {
     "name": "stdout",
     "output_type": "stream",
     "text": [
      "[False]\n"
     ]
    }
   ],
   "source": [
    "MasterMatrix.trigger_master_df_completion(start_date=start_date, end_date=end_date);"
   ]
  },
  {
   "cell_type": "code",
   "execution_count": 8,
   "id": "c4283c87",
   "metadata": {
    "execution": {
     "iopub.execute_input": "2025-08-06T17:51:02.851253Z",
     "iopub.status.busy": "2025-08-06T17:51:02.851122Z",
     "iopub.status.idle": "2025-08-06T17:51:02.876833Z",
     "shell.execute_reply": "2025-08-06T17:51:02.876618Z"
    },
    "papermill": {
     "duration": 0.028336,
     "end_time": "2025-08-06T17:51:02.877482",
     "exception": false,
     "start_time": "2025-08-06T17:51:02.849146",
     "status": "completed"
    },
    "tags": []
   },
   "outputs": [
    {
     "data": {
      "application/vnd.microsoft.datawrangler.viewer.v0+json": {
       "columns": [
        {
         "name": "index",
         "rawType": "object",
         "type": "string"
        },
        {
         "name": "Fecha",
         "rawType": "float64",
         "type": "float"
        },
        {
         "name": "Año",
         "rawType": "float64",
         "type": "float"
        },
        {
         "name": "Producto",
         "rawType": "float64",
         "type": "float"
        },
        {
         "name": "Tipo",
         "rawType": "float64",
         "type": "float"
        },
        {
         "name": "Porcentaje [%]",
         "rawType": "float64",
         "type": "float"
        },
        {
         "name": "Cantidad [MWh]",
         "rawType": "float64",
         "type": "float"
        },
        {
         "name": "Carga Base [MW]",
         "rawType": "float64",
         "type": "float"
        },
        {
         "name": "Precio [€/MWh]",
         "rawType": "float64",
         "type": "float"
        },
        {
         "name": "Apuntamiento",
         "rawType": "float64",
         "type": "float"
        },
        {
         "name": "Modalidad",
         "rawType": "float64",
         "type": "float"
        },
        {
         "name": "Rango superior",
         "rawType": "float64",
         "type": "float"
        },
        {
         "name": "Rango inferior",
         "rawType": "float64",
         "type": "float"
        }
       ],
       "ref": "2f294cf9-a1ee-48c7-8729-69e0574b64bd",
       "rows": [],
       "shape": {
        "columns": 12,
        "rows": 0
       }
      },
      "text/html": [
       "<div>\n",
       "<style scoped>\n",
       "    .dataframe tbody tr th:only-of-type {\n",
       "        vertical-align: middle;\n",
       "    }\n",
       "\n",
       "    .dataframe tbody tr th {\n",
       "        vertical-align: top;\n",
       "    }\n",
       "\n",
       "    .dataframe thead th {\n",
       "        text-align: right;\n",
       "    }\n",
       "</style>\n",
       "<table border=\"1\" class=\"dataframe\">\n",
       "  <thead>\n",
       "    <tr style=\"text-align: right;\">\n",
       "      <th>index</th>\n",
       "      <th>Fecha</th>\n",
       "      <th>Año</th>\n",
       "      <th>Producto</th>\n",
       "      <th>Tipo</th>\n",
       "      <th>Porcentaje [%]</th>\n",
       "      <th>Cantidad [MWh]</th>\n",
       "      <th>Carga Base [MW]</th>\n",
       "      <th>Precio [€/MWh]</th>\n",
       "      <th>Apuntamiento</th>\n",
       "      <th>Modalidad</th>\n",
       "      <th>Rango superior</th>\n",
       "      <th>Rango inferior</th>\n",
       "    </tr>\n",
       "  </thead>\n",
       "  <tbody>\n",
       "  </tbody>\n",
       "</table>\n",
       "</div>"
      ],
      "text/plain": [
       "Empty DataFrame\n",
       "Columns: [Fecha, Año, Producto, Tipo, Porcentaje [%], Cantidad [MWh], Carga Base [MW], Precio [€/MWh], Apuntamiento, Modalidad, Rango superior, Rango inferior]\n",
       "Index: []"
      ]
     },
     "execution_count": 8,
     "metadata": {},
     "output_type": "execute_result"
    }
   ],
   "source": [
    "df_coberturas = MasterMatrix.read_coberturas()"
   ]
  },
  {
   "cell_type": "code",
   "execution_count": 9,
   "id": "ac547038",
   "metadata": {
    "execution": {
     "iopub.execute_input": "2025-08-06T17:51:02.880689Z",
     "iopub.status.busy": "2025-08-06T17:51:02.880583Z",
     "iopub.status.idle": "2025-08-06T17:51:02.882076Z",
     "shell.execute_reply": "2025-08-06T17:51:02.881901Z"
    },
    "papermill": {
     "duration": 0.003632,
     "end_time": "2025-08-06T17:51:02.882632",
     "exception": false,
     "start_time": "2025-08-06T17:51:02.879000",
     "status": "completed"
    },
    "tags": []
   },
   "outputs": [],
   "source": [
    "df_contract = MasterMatrix.master_df"
   ]
  },
  {
   "cell_type": "code",
   "execution_count": 11,
   "id": "a0385027",
   "metadata": {
    "execution": {
     "iopub.execute_input": "2025-08-06T17:51:02.885972Z",
     "iopub.status.busy": "2025-08-06T17:51:02.885902Z",
     "iopub.status.idle": "2025-08-06T17:51:02.888675Z",
     "shell.execute_reply": "2025-08-06T17:51:02.888493Z"
    },
    "papermill": {
     "duration": 0.005294,
     "end_time": "2025-08-06T17:51:02.889243",
     "exception": false,
     "start_time": "2025-08-06T17:51:02.883949",
     "status": "completed"
    },
    "tags": []
   },
   "outputs": [
    {
     "name": "stdout",
     "output_type": "stream",
     "text": [
      "Hedge operations for Generic with CUPS TRIAL and contract ID 1 have been successfully processed and saved.\n",
      "\\Empty DataFrame\n",
      "Columns: [Fecha, Año, Producto, Tipo, Porcentaje [%], Cantidad [MWh], Carga Base [MW], Precio [€/MWh], Apuntamiento, Modalidad, Rango superior, Rango inferior]\n",
      "Index: []\n",
      "Contract daily data for Generic with CUPS TRIAL and contract ID 1 has been successfully processed and saved.\n",
      "\\   cliente   cups   datetime  periodo  contract_id  contract_index  tarifa  \\\n",
      "0  Generic  TRIAL 2023-01-01        1            1               1  6.1 TD   \n",
      "1  Generic  TRIAL 2023-01-01        2            1               1  6.1 TD   \n",
      "2  Generic  TRIAL 2023-01-01        3            1               1  6.1 TD   \n",
      "3  Generic  TRIAL 2023-01-01        4            1               1  6.1 TD   \n",
      "4  Generic  TRIAL 2023-01-01        5            1               1  6.1 TD   \n",
      "5  Generic  TRIAL 2023-01-01        6            1               1  6.1 TD   \n",
      "6  Generic  TRIAL 2023-01-02        1            1               1  6.1 TD   \n",
      "7  Generic  TRIAL 2023-01-02        2            1               1  6.1 TD   \n",
      "8  Generic  TRIAL 2023-01-02        3            1               1  6.1 TD   \n",
      "9  Generic  TRIAL 2023-01-02        4            1               1  6.1 TD   \n",
      "\n",
      "  utility          mode   Fee1  ...  tep_power_exc  kp_power_exc  RECORE  \\\n",
      "0   Total  Pass through  0.555  ...       3.566788      1.000000     0.0   \n",
      "1   Total  Pass through  0.555  ...       3.566788      0.620828     0.0   \n",
      "2   Total  Pass through  0.555  ...       3.566788      0.482845     0.0   \n",
      "3   Total  Pass through  0.555  ...       3.566788      0.381770     0.0   \n",
      "4   Total  Pass through  0.555  ...       3.566788      0.015816     0.0   \n",
      "5   Total  Pass through  0.555  ...       3.566788      0.015816     0.0   \n",
      "6   Total  Pass through  0.555  ...       3.566788      1.000000     0.0   \n",
      "7   Total  Pass through  0.555  ...       3.566788      0.620828     0.0   \n",
      "8   Total  Pass through  0.555  ...       3.566788      0.482845     0.0   \n",
      "9   Total  Pass through  0.555  ...       3.566788      0.381770     0.0   \n",
      "\n",
      "   Deficit   TNP  Otros     ie  dto_peajes  dto_peajes_energia  \\\n",
      "0     0.81  0.18   0.01  0.005         0.8                   0   \n",
      "1     0.81  0.18   0.01  0.005         0.8                   0   \n",
      "2     0.81  0.18   0.01  0.005         0.8                   0   \n",
      "3     0.81  0.18   0.01  0.005         0.8                   0   \n",
      "4     0.81  0.18   0.01  0.005         0.8                   0   \n",
      "5     0.81  0.18   0.01  0.005         0.8                   0   \n",
      "6     0.81  0.18   0.01  0.005         0.8                   0   \n",
      "7     0.81  0.18   0.01  0.005         0.8                   0   \n",
      "8     0.81  0.18   0.01  0.005         0.8                   0   \n",
      "9     0.81  0.18   0.01  0.005         0.8                   0   \n",
      "\n",
      "   dto_peajes_potencia  \n",
      "0                    0  \n",
      "1                    0  \n",
      "2                    0  \n",
      "3                    0  \n",
      "4                    0  \n",
      "5                    0  \n",
      "6                    0  \n",
      "7                    0  \n",
      "8                    0  \n",
      "9                    0  \n",
      "\n",
      "[10 rows x 43 columns]\n"
     ]
    },
    {
     "name": "stderr",
     "output_type": "stream",
     "text": [
      "<string>:4: SyntaxWarning: invalid escape sequence '\\{'\n",
      "<string>:6: SyntaxWarning: invalid escape sequence '\\{'\n",
      "<>:4: SyntaxWarning: invalid escape sequence '\\{'\n",
      "<>:6: SyntaxWarning: invalid escape sequence '\\{'\n",
      "<string>:4: SyntaxWarning: invalid escape sequence '\\{'\n",
      "<string>:6: SyntaxWarning: invalid escape sequence '\\{'\n",
      "<>:4: SyntaxWarning: invalid escape sequence '\\{'\n",
      "<>:6: SyntaxWarning: invalid escape sequence '\\{'\n",
      "/var/folders/h0/lxnrg5455xq4t849z7ztv_5r0000gn/T/ipykernel_14903/2731628148.py:4: SyntaxWarning: invalid escape sequence '\\{'\n",
      "  print(f\"\\{df_coberturas}\")\n",
      "/var/folders/h0/lxnrg5455xq4t849z7ztv_5r0000gn/T/ipykernel_14903/2731628148.py:6: SyntaxWarning: invalid escape sequence '\\{'\n",
      "  print(f\"\\{df_contract.head(10)}\")\n"
     ]
    }
   ],
   "source": [
    "df_coberturas.to_pickle(path_coberturas_df)\n",
    "df_contract.to_pickle(path_contract_matrix)\n",
    "print(f\"Hedge operations for {cliente} with CUPS {cups} and contract ID {contract_id} have been successfully processed and saved.\")\n",
    "print(f\"\\n{df_coberturas}\")\n",
    "print(f\"Contract daily data for {cliente} with CUPS {cups} and contract ID {contract_id} has been successfully processed and saved.\")\n",
    "print(f\"\\n{df_contract.head(10)}\")"
   ]
  }
 ],
 "metadata": {
  "kernelspec": {
   "display_name": "python_reduced",
   "language": "python",
   "name": "python3"
  },
  "language_info": {
   "codemirror_mode": {
    "name": "ipython",
    "version": 3
   },
   "file_extension": ".py",
   "mimetype": "text/x-python",
   "name": "python",
   "nbconvert_exporter": "python",
   "pygments_lexer": "ipython3",
   "version": "3.12.4"
  },
  "papermill": {
   "default_parameters": {},
   "duration": 5.091168,
   "end_time": "2025-08-06T17:51:03.106199",
   "environment_variables": {},
   "exception": null,
   "input_path": "/Users/mikelperez/0_Python_projects_v3_reduced/0_Python_projects_reduced/notebooks/verification_project/4A_Read_Contract.ipynb",
   "output_path": "/Users/mikelperez/0_Python_projects_v3_reduced/0_Python_projects_reduced/notebooks/verification_project/4A_Read_Contract.ipynb",
   "parameters": {
    "cliente": "Grupo Inspired",
    "contract_id": 1,
    "cups": "ES0021000005776632EH",
    "electrointensivo": false,
    "path_cargos_energia": "/Users/mikelperez/0_Python_projects_v3_reduced/0_Python_projects_reduced/data/regulation/elec/cargos_energia.xlsx",
    "path_cargos_potencia": "/Users/mikelperez/0_Python_projects_v3_reduced/0_Python_projects_reduced/data/regulation/elec/cargos_potencia.xlsx",
    "path_coberturas_df": "/Users/mikelperez/0_Python_projects_v3_reduced/0_Python_projects_reduced/data/customers/elec/Grupo Inspired/raw/df_coberturas_1.pkl",
    "path_coefs_exc": "/Users/mikelperez/0_Python_projects_v3_reduced/0_Python_projects_reduced/data/regulation/elec/coefs_excesos.xlsx",
    "path_contract_matrix": "/Users/mikelperez/0_Python_projects_v3_reduced/0_Python_projects_reduced/data/customers/elec/Grupo Inspired/raw/contract_matrix_ES0021000005776632EH.pkl",
    "path_datos_cliente": "/Users/mikelperez/0_Python_projects_v3_reduced/0_Python_projects_reduced/data/customers/elec/Grupo Inspired/datos_ELEC_Grupo Inspired_1.xlsm",
    "path_dto_peajes_electrointensivos": "/Users/mikelperez/0_Python_projects_v3_reduced/0_Python_projects_reduced/data/regulation/elec/dto_peajes_electrointensivos.xlsx",
    "path_estructura_cargos": "/Users/mikelperez/0_Python_projects_v3_reduced/0_Python_projects_reduced/data/regulation/elec/estructura_cargos.xlsx",
    "path_ie": "/Users/mikelperez/0_Python_projects_v3_reduced/0_Python_projects_reduced/data/regulation/elec/ie.xlsx",
    "path_peajes_cargos_energia": "/Users/mikelperez/0_Python_projects_v3_reduced/0_Python_projects_reduced/data/regulation/elec/peajes_cargos_energia.xlsx",
    "path_peajes_energia": "/Users/mikelperez/0_Python_projects_v3_reduced/0_Python_projects_reduced/data/regulation/elec/peajes_energia.xlsx",
    "path_peajes_potencia": "/Users/mikelperez/0_Python_projects_v3_reduced/0_Python_projects_reduced/data/regulation/elec/peajes_potencia.xlsx",
    "tarifa": "6.1 TD"
   },
   "start_time": "2025-08-06T17:50:58.015031",
   "version": "2.6.0"
  },
  "widgets": {
   "application/vnd.jupyter.widget-state+json": {
    "state": {
     "0b800229b7bb4782a9bfd79b73129cec": {
      "model_module": "@jupyter-widgets/controls",
      "model_module_version": "2.0.0",
      "model_name": "HTMLModel",
      "state": {
       "_dom_classes": [],
       "_model_module": "@jupyter-widgets/controls",
       "_model_module_version": "2.0.0",
       "_model_name": "HTMLModel",
       "_view_count": null,
       "_view_module": "@jupyter-widgets/controls",
       "_view_module_version": "2.0.0",
       "_view_name": "HTMLView",
       "description": "",
       "description_allow_html": false,
       "layout": "IPY_MODEL_fc24fb63a0ce4ae7acaa2f4c9b8d97a7",
       "placeholder": "​",
       "style": "IPY_MODEL_6d85cd65d4f7434db933a917f9347b6b",
       "tabbable": null,
       "tooltip": null,
       "value": " 12/32 [00:07&lt;00:09,  2.00cell/s]"
      }
     },
     "1128f3e9b63f47299f3b144e1ee679ac": {
      "model_module": "@jupyter-widgets/controls",
      "model_module_version": "2.0.0",
      "model_name": "HTMLModel",
      "state": {
       "_dom_classes": [],
       "_model_module": "@jupyter-widgets/controls",
       "_model_module_version": "2.0.0",
       "_model_name": "HTMLModel",
       "_view_count": null,
       "_view_module": "@jupyter-widgets/controls",
       "_view_module_version": "2.0.0",
       "_view_name": "HTMLView",
       "description": "",
       "description_allow_html": false,
       "layout": "IPY_MODEL_647acbdb486a4a02a9a614ec46679201",
       "placeholder": "​",
       "style": "IPY_MODEL_df5f87f6965d4ba2b6c2c2049549136e",
       "tabbable": null,
       "tooltip": null,
       "value": "Executing:  38%"
      }
     },
     "4903a069a44b48adb93a9a93e213acde": {
      "model_module": "@jupyter-widgets/controls",
      "model_module_version": "2.0.0",
      "model_name": "HBoxModel",
      "state": {
       "_dom_classes": [],
       "_model_module": "@jupyter-widgets/controls",
       "_model_module_version": "2.0.0",
       "_model_name": "HBoxModel",
       "_view_count": null,
       "_view_module": "@jupyter-widgets/controls",
       "_view_module_version": "2.0.0",
       "_view_name": "HBoxView",
       "box_style": "",
       "children": [
        "IPY_MODEL_1128f3e9b63f47299f3b144e1ee679ac",
        "IPY_MODEL_720069d889114e8395cd83097daf67d2",
        "IPY_MODEL_0b800229b7bb4782a9bfd79b73129cec"
       ],
       "layout": "IPY_MODEL_f5229d50a9754b99a3a36caa8100a796",
       "tabbable": null,
       "tooltip": null
      }
     },
     "4c85024c6431434dab01e71c56fb72b1": {
      "model_module": "@jupyter-widgets/controls",
      "model_module_version": "2.0.0",
      "model_name": "ProgressStyleModel",
      "state": {
       "_model_module": "@jupyter-widgets/controls",
       "_model_module_version": "2.0.0",
       "_model_name": "ProgressStyleModel",
       "_view_count": null,
       "_view_module": "@jupyter-widgets/base",
       "_view_module_version": "2.0.0",
       "_view_name": "StyleView",
       "bar_color": null,
       "description_width": ""
      }
     },
     "647acbdb486a4a02a9a614ec46679201": {
      "model_module": "@jupyter-widgets/base",
      "model_module_version": "2.0.0",
      "model_name": "LayoutModel",
      "state": {
       "_model_module": "@jupyter-widgets/base",
       "_model_module_version": "2.0.0",
       "_model_name": "LayoutModel",
       "_view_count": null,
       "_view_module": "@jupyter-widgets/base",
       "_view_module_version": "2.0.0",
       "_view_name": "LayoutView",
       "align_content": null,
       "align_items": null,
       "align_self": null,
       "border_bottom": null,
       "border_left": null,
       "border_right": null,
       "border_top": null,
       "bottom": null,
       "display": null,
       "flex": null,
       "flex_flow": null,
       "grid_area": null,
       "grid_auto_columns": null,
       "grid_auto_flow": null,
       "grid_auto_rows": null,
       "grid_column": null,
       "grid_gap": null,
       "grid_row": null,
       "grid_template_areas": null,
       "grid_template_columns": null,
       "grid_template_rows": null,
       "height": null,
       "justify_content": null,
       "justify_items": null,
       "left": null,
       "margin": null,
       "max_height": null,
       "max_width": null,
       "min_height": null,
       "min_width": null,
       "object_fit": null,
       "object_position": null,
       "order": null,
       "overflow": null,
       "padding": null,
       "right": null,
       "top": null,
       "visibility": null,
       "width": null
      }
     },
     "6d85cd65d4f7434db933a917f9347b6b": {
      "model_module": "@jupyter-widgets/controls",
      "model_module_version": "2.0.0",
      "model_name": "HTMLStyleModel",
      "state": {
       "_model_module": "@jupyter-widgets/controls",
       "_model_module_version": "2.0.0",
       "_model_name": "HTMLStyleModel",
       "_view_count": null,
       "_view_module": "@jupyter-widgets/base",
       "_view_module_version": "2.0.0",
       "_view_name": "StyleView",
       "background": null,
       "description_width": "",
       "font_size": null,
       "text_color": null
      }
     },
     "720069d889114e8395cd83097daf67d2": {
      "model_module": "@jupyter-widgets/controls",
      "model_module_version": "2.0.0",
      "model_name": "FloatProgressModel",
      "state": {
       "_dom_classes": [],
       "_model_module": "@jupyter-widgets/controls",
       "_model_module_version": "2.0.0",
       "_model_name": "FloatProgressModel",
       "_view_count": null,
       "_view_module": "@jupyter-widgets/controls",
       "_view_module_version": "2.0.0",
       "_view_name": "ProgressView",
       "bar_style": "danger",
       "description": "",
       "description_allow_html": false,
       "layout": "IPY_MODEL_dda62161c24d4cc3a6d462998faa07d9",
       "max": 32,
       "min": 0,
       "orientation": "horizontal",
       "style": "IPY_MODEL_4c85024c6431434dab01e71c56fb72b1",
       "tabbable": null,
       "tooltip": null,
       "value": 12
      }
     },
     "dda62161c24d4cc3a6d462998faa07d9": {
      "model_module": "@jupyter-widgets/base",
      "model_module_version": "2.0.0",
      "model_name": "LayoutModel",
      "state": {
       "_model_module": "@jupyter-widgets/base",
       "_model_module_version": "2.0.0",
       "_model_name": "LayoutModel",
       "_view_count": null,
       "_view_module": "@jupyter-widgets/base",
       "_view_module_version": "2.0.0",
       "_view_name": "LayoutView",
       "align_content": null,
       "align_items": null,
       "align_self": null,
       "border_bottom": null,
       "border_left": null,
       "border_right": null,
       "border_top": null,
       "bottom": null,
       "display": null,
       "flex": null,
       "flex_flow": null,
       "grid_area": null,
       "grid_auto_columns": null,
       "grid_auto_flow": null,
       "grid_auto_rows": null,
       "grid_column": null,
       "grid_gap": null,
       "grid_row": null,
       "grid_template_areas": null,
       "grid_template_columns": null,
       "grid_template_rows": null,
       "height": null,
       "justify_content": null,
       "justify_items": null,
       "left": null,
       "margin": null,
       "max_height": null,
       "max_width": null,
       "min_height": null,
       "min_width": null,
       "object_fit": null,
       "object_position": null,
       "order": null,
       "overflow": null,
       "padding": null,
       "right": null,
       "top": null,
       "visibility": null,
       "width": null
      }
     },
     "df5f87f6965d4ba2b6c2c2049549136e": {
      "model_module": "@jupyter-widgets/controls",
      "model_module_version": "2.0.0",
      "model_name": "HTMLStyleModel",
      "state": {
       "_model_module": "@jupyter-widgets/controls",
       "_model_module_version": "2.0.0",
       "_model_name": "HTMLStyleModel",
       "_view_count": null,
       "_view_module": "@jupyter-widgets/base",
       "_view_module_version": "2.0.0",
       "_view_name": "StyleView",
       "background": null,
       "description_width": "",
       "font_size": null,
       "text_color": null
      }
     },
     "f5229d50a9754b99a3a36caa8100a796": {
      "model_module": "@jupyter-widgets/base",
      "model_module_version": "2.0.0",
      "model_name": "LayoutModel",
      "state": {
       "_model_module": "@jupyter-widgets/base",
       "_model_module_version": "2.0.0",
       "_model_name": "LayoutModel",
       "_view_count": null,
       "_view_module": "@jupyter-widgets/base",
       "_view_module_version": "2.0.0",
       "_view_name": "LayoutView",
       "align_content": null,
       "align_items": null,
       "align_self": null,
       "border_bottom": null,
       "border_left": null,
       "border_right": null,
       "border_top": null,
       "bottom": null,
       "display": null,
       "flex": null,
       "flex_flow": null,
       "grid_area": null,
       "grid_auto_columns": null,
       "grid_auto_flow": null,
       "grid_auto_rows": null,
       "grid_column": null,
       "grid_gap": null,
       "grid_row": null,
       "grid_template_areas": null,
       "grid_template_columns": null,
       "grid_template_rows": null,
       "height": null,
       "justify_content": null,
       "justify_items": null,
       "left": null,
       "margin": null,
       "max_height": null,
       "max_width": null,
       "min_height": null,
       "min_width": null,
       "object_fit": null,
       "object_position": null,
       "order": null,
       "overflow": null,
       "padding": null,
       "right": null,
       "top": null,
       "visibility": null,
       "width": null
      }
     },
     "fc24fb63a0ce4ae7acaa2f4c9b8d97a7": {
      "model_module": "@jupyter-widgets/base",
      "model_module_version": "2.0.0",
      "model_name": "LayoutModel",
      "state": {
       "_model_module": "@jupyter-widgets/base",
       "_model_module_version": "2.0.0",
       "_model_name": "LayoutModel",
       "_view_count": null,
       "_view_module": "@jupyter-widgets/base",
       "_view_module_version": "2.0.0",
       "_view_name": "LayoutView",
       "align_content": null,
       "align_items": null,
       "align_self": null,
       "border_bottom": null,
       "border_left": null,
       "border_right": null,
       "border_top": null,
       "bottom": null,
       "display": null,
       "flex": null,
       "flex_flow": null,
       "grid_area": null,
       "grid_auto_columns": null,
       "grid_auto_flow": null,
       "grid_auto_rows": null,
       "grid_column": null,
       "grid_gap": null,
       "grid_row": null,
       "grid_template_areas": null,
       "grid_template_columns": null,
       "grid_template_rows": null,
       "height": null,
       "justify_content": null,
       "justify_items": null,
       "left": null,
       "margin": null,
       "max_height": null,
       "max_width": null,
       "min_height": null,
       "min_width": null,
       "object_fit": null,
       "object_position": null,
       "order": null,
       "overflow": null,
       "padding": null,
       "right": null,
       "top": null,
       "visibility": null,
       "width": null
      }
     }
    },
    "version_major": 2,
    "version_minor": 0
   }
  }
 },
 "nbformat": 4,
 "nbformat_minor": 5
}
