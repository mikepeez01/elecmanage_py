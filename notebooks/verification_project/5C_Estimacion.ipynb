{
 "cells": [
  {
   "cell_type": "markdown",
   "id": "6083c0ae",
   "metadata": {
    "tags": [
     "papermill-error-cell-tag"
    ]
   },
   "source": [
    "<span style=\"color:red; font-family:Helvetica Neue, Helvetica, Arial, sans-serif; font-size:2em;\">An Exception was encountered at '<a href=\"#papermill-error-cell\">In [7]</a>'.</span>"
   ]
  },
  {
   "cell_type": "code",
   "execution_count": 1,
   "id": "6121f044",
   "metadata": {
    "execution": {
     "iopub.execute_input": "2025-07-17T18:18:24.531712Z",
     "iopub.status.busy": "2025-07-17T18:18:24.531317Z",
     "iopub.status.idle": "2025-07-17T18:18:24.893929Z",
     "shell.execute_reply": "2025-07-17T18:18:24.893584Z"
    },
    "papermill": {
     "duration": 0.370094,
     "end_time": "2025-07-17T18:18:24.895079",
     "exception": false,
     "start_time": "2025-07-17T18:18:24.524985",
     "status": "completed"
    },
    "tags": []
   },
   "outputs": [],
   "source": [
    "import pandas as pd\n",
    "from datetime import datetime, date, timedelta, time\n",
    "from dateutil.relativedelta import relativedelta\n",
    "import urllib3\n",
    "urllib3.disable_warnings(urllib3.exceptions.InsecureRequestWarning)"
   ]
  },
  {
   "cell_type": "code",
   "execution_count": 2,
   "id": "562ac422",
   "metadata": {
    "execution": {
     "iopub.execute_input": "2025-07-17T18:18:24.902288Z",
     "iopub.status.busy": "2025-07-17T18:18:24.901797Z",
     "iopub.status.idle": "2025-07-17T18:18:24.905425Z",
     "shell.execute_reply": "2025-07-17T18:18:24.905131Z"
    },
    "papermill": {
     "duration": 0.008149,
     "end_time": "2025-07-17T18:18:24.906282",
     "exception": false,
     "start_time": "2025-07-17T18:18:24.898133",
     "status": "completed"
    },
    "tags": [
     "parameters"
    ]
   },
   "outputs": [],
   "source": [
    "# Parameters\n",
    "nb_verif = \"/Users/mikelperez/Python_projects/0_Python_projects_v2/0_Python_projects_v2/notebooks/verification_project/5B_Ver_Notebook.ipynb\"\n",
    "estim_year = 2025\n",
    "estim_month = 6\n",
    "cliente = \"Generic\"\n",
    "alias = \"TRIAL\"\n",
    "tarifa = \"6.1 TD\"\n",
    "cups = \"TRIAL\"\n",
    "path_load_parquet = \"/Users/mikelperez/Python_projects/0_Python_projects_v2/0_Python_projects_v2/data/processed/elec/elec_load.parquet\"\n",
    "path_contract_matrix = \"/Users/mikelperez/Python_projects/0_Python_projects_v2/0_Python_projects_v2/data/customers/elec/Generic/contract_matrix_TRIAL.pkl\"\n",
    "path_coberturas_df = \"/Users/mikelperez/Python_projects/0_Python_projects_v2/0_Python_projects_v2/data/customers/elec/Generic/df_coberturas_1.pkl\"\n",
    "path_master_matrix = \"/Users/mikelperez/Python_projects/0_Python_projects_v2/0_Python_projects_v2/data/customers/elec/Generic/master_matrix_TRIAL.pkl\"\n",
    "db_elec_path = \"/Users/mikelperez/Python_projects/0_Python_projects_v2/0_Python_projects_v2/data/processed/elec/facturas_elec.db\"\n",
    "db_elec_manual_path = \"/Users/mikelperez/Python_projects/0_Python_projects_v2/0_Python_projects_v2/data/processed/elec/facturas_elec_manual.pkl\"\n",
    "template_path = \"/Users/mikelperez/Python_projects/0_Python_projects_v2/0_Python_projects_v2/data/verification_project/elec/templates/Estimacion_fra.xlsx\"\n",
    "output_estim_excel = \"/Users/mikelperez/Python_projects/0_Python_projects_v2/0_Python_projects_v2/outputs/verification_project/estim/Generic/Estimaci\\xf3n Fra. TRIAL 6_2025.xlsx\"\n",
    "output_estim_pdf = \"/Users/mikelperez/Python_projects/0_Python_projects_v2/0_Python_projects_v2/outputs/verification_project/estim/Generic/Estimaci\\xf3n Fra. TRIAL 6 2025.pdf\"\n"
   ]
  },
  {
   "cell_type": "code",
   "execution_count": 3,
   "id": "36c7edfb",
   "metadata": {
    "execution": {
     "iopub.execute_input": "2025-07-17T18:18:24.911454Z",
     "iopub.status.busy": "2025-07-17T18:18:24.911323Z",
     "iopub.status.idle": "2025-07-17T18:18:24.913774Z",
     "shell.execute_reply": "2025-07-17T18:18:24.913515Z"
    },
    "papermill": {
     "duration": 0.005818,
     "end_time": "2025-07-17T18:18:24.914543",
     "exception": false,
     "start_time": "2025-07-17T18:18:24.908725",
     "status": "completed"
    },
    "tags": [
     "injected-parameters"
    ]
   },
   "outputs": [],
   "source": [
    "# Parameters\n",
    "nb_verif = \"/Users/mikelperez/Python_projects/0_Python_projects_v2/0_Python_projects_v2/notebooks/verification_project/5B_Ver_Notebook.ipynb\"\n",
    "estim_year = 2025\n",
    "estim_month = 6\n",
    "cliente = \"Generic\"\n",
    "alias = \"TRIAL\"\n",
    "tarifa = \"6.1 TD\"\n",
    "cups = \"TRIAL\"\n",
    "path_load_parquet = \"/Users/mikelperez/Python_projects/0_Python_projects_v2/0_Python_projects_v2/data/processed/elec/elec_load.parquet\"\n",
    "path_contract_matrix = \"/Users/mikelperez/Python_projects/0_Python_projects_v2/0_Python_projects_v2/data/customers/elec/Generic/contract_matrix_TRIAL.pkl\"\n",
    "path_coberturas_df = \"/Users/mikelperez/Python_projects/0_Python_projects_v2/0_Python_projects_v2/data/customers/elec/Generic/df_coberturas_1.pkl\"\n",
    "path_master_matrix = \"/Users/mikelperez/Python_projects/0_Python_projects_v2/0_Python_projects_v2/data/customers/elec/Generic/master_matrix_TRIAL.pkl\"\n",
    "db_elec_path = \"/Users/mikelperez/Python_projects/0_Python_projects_v2/0_Python_projects_v2/data/processed/elec/facturas_elec.db\"\n",
    "db_elec_manual_path = \"/Users/mikelperez/Python_projects/0_Python_projects_v2/0_Python_projects_v2/data/processed/elec/facturas_elec_manual.pkl\"\n",
    "template_path = \"/Users/mikelperez/Python_projects/0_Python_projects_v2/0_Python_projects_v2/data/verification_project/elec/templates/Estimacion_fra.xlsx\"\n",
    "output_estim_excel = \"/Users/mikelperez/Python_projects/0_Python_projects_v2/0_Python_projects_v2/outputs/verification_project/estim/Generic/Estimaci\\xf3n Fra. TRIAL 6_2025.xlsx\"\n",
    "output_estim_pdf = \"/Users/mikelperez/Python_projects/0_Python_projects_v2/0_Python_projects_v2/outputs/verification_project/estim/Generic/Estimaci\\xf3n Fra. TRIAL 6 2025.pdf\"\n"
   ]
  },
  {
   "cell_type": "code",
   "execution_count": null,
   "id": "e79106a3",
   "metadata": {},
   "outputs": [],
   "source": [
    "from config.config_loader import Config\n",
    "\n",
    "config = Config(config_file=config_path)"
   ]
  },
  {
   "cell_type": "code",
   "execution_count": null,
   "id": "e2d5b0fc",
   "metadata": {},
   "outputs": [],
   "source": [
    "from utils.logging_setup import get_logger\n",
    "import time as tm\n",
    "\n",
    "instant = tm.strftime(\"%Y-%m-%d_%H:%M:%S\", tm.localtime())\n",
    "logger = get_logger(name=f\"{nb_name}\")\n",
    "logger.info(f\"Building omie matrix on {instant}\")"
   ]
  },
  {
   "cell_type": "code",
   "execution_count": 4,
   "id": "f9cc4cdb",
   "metadata": {
    "execution": {
     "iopub.execute_input": "2025-07-17T18:18:24.920137Z",
     "iopub.status.busy": "2025-07-17T18:18:24.919992Z",
     "iopub.status.idle": "2025-07-17T18:18:25.257264Z",
     "shell.execute_reply": "2025-07-17T18:18:25.256887Z"
    },
    "papermill": {
     "duration": 0.340871,
     "end_time": "2025-07-17T18:18:25.258185",
     "exception": false,
     "start_time": "2025-07-17T18:18:24.917314",
     "status": "completed"
    },
    "tags": []
   },
   "outputs": [
    {
     "data": {
      "text/plain": [
       "array([3])"
      ]
     },
     "execution_count": 4,
     "metadata": {},
     "output_type": "execute_result"
    }
   ],
   "source": [
    "df_master = pd.read_pickle(path_master_matrix)\n",
    "df_coberturas = pd.read_pickle(path_coberturas_df)\n",
    "df_load = pd.read_parquet(path_load_parquet)\n",
    "df_contrato = pd.read_pickle(path_contract_matrix)\n",
    "# apply permite generar varias columnas\n",
    "# varias funciones base, una funcion por cada forma de comercializar, cada una en un diccionario\n",
    "# diccionario con todas las formulas \n",
    "df_master['contract_index'].unique()"
   ]
  },
  {
   "cell_type": "code",
   "execution_count": 5,
   "id": "f86c18f1",
   "metadata": {
    "execution": {
     "iopub.execute_input": "2025-07-17T18:18:25.265422Z",
     "iopub.status.busy": "2025-07-17T18:18:25.265006Z",
     "iopub.status.idle": "2025-07-17T18:18:25.278908Z",
     "shell.execute_reply": "2025-07-17T18:18:25.278584Z"
    },
    "papermill": {
     "duration": 0.018079,
     "end_time": "2025-07-17T18:18:25.279764",
     "exception": false,
     "start_time": "2025-07-17T18:18:25.261685",
     "status": "completed"
    },
    "tags": []
   },
   "outputs": [
    {
     "data": {
      "text/html": [
       "<div>\n",
       "<style scoped>\n",
       "    .dataframe tbody tr th:only-of-type {\n",
       "        vertical-align: middle;\n",
       "    }\n",
       "\n",
       "    .dataframe tbody tr th {\n",
       "        vertical-align: top;\n",
       "    }\n",
       "\n",
       "    .dataframe thead th {\n",
       "        text-align: right;\n",
       "    }\n",
       "</style>\n",
       "<table border=\"1\" class=\"dataframe\">\n",
       "  <thead>\n",
       "    <tr style=\"text-align: right;\">\n",
       "      <th></th>\n",
       "      <th>datetime</th>\n",
       "      <th>periodo</th>\n",
       "      <th>value</th>\n",
       "      <th>ssaa</th>\n",
       "      <th>perd</th>\n",
       "      <th>cliente</th>\n",
       "      <th>cups</th>\n",
       "      <th>contract_id</th>\n",
       "      <th>contract_index</th>\n",
       "      <th>tarifa</th>\n",
       "      <th>...</th>\n",
       "      <th>tep_power_exc</th>\n",
       "      <th>kp_power_exc</th>\n",
       "      <th>RECORE</th>\n",
       "      <th>Deficit</th>\n",
       "      <th>TNP</th>\n",
       "      <th>Otros</th>\n",
       "      <th>ie</th>\n",
       "      <th>dto_peajes</th>\n",
       "      <th>dto_peajes_energia</th>\n",
       "      <th>dto_peajes_potencia</th>\n",
       "    </tr>\n",
       "  </thead>\n",
       "  <tbody>\n",
       "    <tr>\n",
       "      <th>0</th>\n",
       "      <td>2025-06-01 00:00:00</td>\n",
       "      <td>6</td>\n",
       "      <td>60.00</td>\n",
       "      <td>15.446519</td>\n",
       "      <td>0.07</td>\n",
       "      <td>Generic</td>\n",
       "      <td>TRIAL</td>\n",
       "      <td>1</td>\n",
       "      <td>3</td>\n",
       "      <td>6.1 TD</td>\n",
       "      <td>...</td>\n",
       "      <td>3.332942</td>\n",
       "      <td>0.002632</td>\n",
       "      <td>0.1306</td>\n",
       "      <td>0.6392</td>\n",
       "      <td>0.2236</td>\n",
       "      <td>0.0066</td>\n",
       "      <td>0.0511</td>\n",
       "      <td>0.8</td>\n",
       "      <td>0</td>\n",
       "      <td>0</td>\n",
       "    </tr>\n",
       "    <tr>\n",
       "      <th>1</th>\n",
       "      <td>2025-06-01 01:00:00</td>\n",
       "      <td>6</td>\n",
       "      <td>36.07</td>\n",
       "      <td>21.972819</td>\n",
       "      <td>0.07</td>\n",
       "      <td>Generic</td>\n",
       "      <td>TRIAL</td>\n",
       "      <td>1</td>\n",
       "      <td>3</td>\n",
       "      <td>6.1 TD</td>\n",
       "      <td>...</td>\n",
       "      <td>3.332942</td>\n",
       "      <td>0.002632</td>\n",
       "      <td>0.1306</td>\n",
       "      <td>0.6392</td>\n",
       "      <td>0.2236</td>\n",
       "      <td>0.0066</td>\n",
       "      <td>0.0511</td>\n",
       "      <td>0.8</td>\n",
       "      <td>0</td>\n",
       "      <td>0</td>\n",
       "    </tr>\n",
       "    <tr>\n",
       "      <th>2</th>\n",
       "      <td>2025-06-01 02:00:00</td>\n",
       "      <td>6</td>\n",
       "      <td>35.01</td>\n",
       "      <td>22.969168</td>\n",
       "      <td>0.07</td>\n",
       "      <td>Generic</td>\n",
       "      <td>TRIAL</td>\n",
       "      <td>1</td>\n",
       "      <td>3</td>\n",
       "      <td>6.1 TD</td>\n",
       "      <td>...</td>\n",
       "      <td>3.332942</td>\n",
       "      <td>0.002632</td>\n",
       "      <td>0.1306</td>\n",
       "      <td>0.6392</td>\n",
       "      <td>0.2236</td>\n",
       "      <td>0.0066</td>\n",
       "      <td>0.0511</td>\n",
       "      <td>0.8</td>\n",
       "      <td>0</td>\n",
       "      <td>0</td>\n",
       "    </tr>\n",
       "    <tr>\n",
       "      <th>3</th>\n",
       "      <td>2025-06-01 03:00:00</td>\n",
       "      <td>6</td>\n",
       "      <td>34.95</td>\n",
       "      <td>23.856939</td>\n",
       "      <td>0.07</td>\n",
       "      <td>Generic</td>\n",
       "      <td>TRIAL</td>\n",
       "      <td>1</td>\n",
       "      <td>3</td>\n",
       "      <td>6.1 TD</td>\n",
       "      <td>...</td>\n",
       "      <td>3.332942</td>\n",
       "      <td>0.002632</td>\n",
       "      <td>0.1306</td>\n",
       "      <td>0.6392</td>\n",
       "      <td>0.2236</td>\n",
       "      <td>0.0066</td>\n",
       "      <td>0.0511</td>\n",
       "      <td>0.8</td>\n",
       "      <td>0</td>\n",
       "      <td>0</td>\n",
       "    </tr>\n",
       "    <tr>\n",
       "      <th>4</th>\n",
       "      <td>2025-06-01 04:00:00</td>\n",
       "      <td>6</td>\n",
       "      <td>34.43</td>\n",
       "      <td>27.244467</td>\n",
       "      <td>0.07</td>\n",
       "      <td>Generic</td>\n",
       "      <td>TRIAL</td>\n",
       "      <td>1</td>\n",
       "      <td>3</td>\n",
       "      <td>6.1 TD</td>\n",
       "      <td>...</td>\n",
       "      <td>3.332942</td>\n",
       "      <td>0.002632</td>\n",
       "      <td>0.1306</td>\n",
       "      <td>0.6392</td>\n",
       "      <td>0.2236</td>\n",
       "      <td>0.0066</td>\n",
       "      <td>0.0511</td>\n",
       "      <td>0.8</td>\n",
       "      <td>0</td>\n",
       "      <td>0</td>\n",
       "    </tr>\n",
       "    <tr>\n",
       "      <th>...</th>\n",
       "      <td>...</td>\n",
       "      <td>...</td>\n",
       "      <td>...</td>\n",
       "      <td>...</td>\n",
       "      <td>...</td>\n",
       "      <td>...</td>\n",
       "      <td>...</td>\n",
       "      <td>...</td>\n",
       "      <td>...</td>\n",
       "      <td>...</td>\n",
       "      <td>...</td>\n",
       "      <td>...</td>\n",
       "      <td>...</td>\n",
       "      <td>...</td>\n",
       "      <td>...</td>\n",
       "      <td>...</td>\n",
       "      <td>...</td>\n",
       "      <td>...</td>\n",
       "      <td>...</td>\n",
       "      <td>...</td>\n",
       "      <td>...</td>\n",
       "    </tr>\n",
       "    <tr>\n",
       "      <th>715</th>\n",
       "      <td>2025-06-30 19:00:00</td>\n",
       "      <td>3</td>\n",
       "      <td>111.38</td>\n",
       "      <td>6.969616</td>\n",
       "      <td>0.07</td>\n",
       "      <td>Generic</td>\n",
       "      <td>TRIAL</td>\n",
       "      <td>1</td>\n",
       "      <td>3</td>\n",
       "      <td>6.1 TD</td>\n",
       "      <td>...</td>\n",
       "      <td>3.332942</td>\n",
       "      <td>0.198416</td>\n",
       "      <td>0.1306</td>\n",
       "      <td>0.6392</td>\n",
       "      <td>0.2236</td>\n",
       "      <td>0.0066</td>\n",
       "      <td>0.0511</td>\n",
       "      <td>0.8</td>\n",
       "      <td>0</td>\n",
       "      <td>0</td>\n",
       "    </tr>\n",
       "    <tr>\n",
       "      <th>716</th>\n",
       "      <td>2025-06-30 20:00:00</td>\n",
       "      <td>3</td>\n",
       "      <td>135.00</td>\n",
       "      <td>7.866240</td>\n",
       "      <td>0.07</td>\n",
       "      <td>Generic</td>\n",
       "      <td>TRIAL</td>\n",
       "      <td>1</td>\n",
       "      <td>3</td>\n",
       "      <td>6.1 TD</td>\n",
       "      <td>...</td>\n",
       "      <td>3.332942</td>\n",
       "      <td>0.198416</td>\n",
       "      <td>0.1306</td>\n",
       "      <td>0.6392</td>\n",
       "      <td>0.2236</td>\n",
       "      <td>0.0066</td>\n",
       "      <td>0.0511</td>\n",
       "      <td>0.8</td>\n",
       "      <td>0</td>\n",
       "      <td>0</td>\n",
       "    </tr>\n",
       "    <tr>\n",
       "      <th>717</th>\n",
       "      <td>2025-06-30 21:00:00</td>\n",
       "      <td>3</td>\n",
       "      <td>175.01</td>\n",
       "      <td>13.033687</td>\n",
       "      <td>0.07</td>\n",
       "      <td>Generic</td>\n",
       "      <td>TRIAL</td>\n",
       "      <td>1</td>\n",
       "      <td>3</td>\n",
       "      <td>6.1 TD</td>\n",
       "      <td>...</td>\n",
       "      <td>3.332942</td>\n",
       "      <td>0.198416</td>\n",
       "      <td>0.1306</td>\n",
       "      <td>0.6392</td>\n",
       "      <td>0.2236</td>\n",
       "      <td>0.0066</td>\n",
       "      <td>0.0511</td>\n",
       "      <td>0.8</td>\n",
       "      <td>0</td>\n",
       "      <td>0</td>\n",
       "    </tr>\n",
       "    <tr>\n",
       "      <th>718</th>\n",
       "      <td>2025-06-30 22:00:00</td>\n",
       "      <td>4</td>\n",
       "      <td>157.00</td>\n",
       "      <td>11.451917</td>\n",
       "      <td>0.07</td>\n",
       "      <td>Generic</td>\n",
       "      <td>TRIAL</td>\n",
       "      <td>1</td>\n",
       "      <td>3</td>\n",
       "      <td>6.1 TD</td>\n",
       "      <td>...</td>\n",
       "      <td>3.332942</td>\n",
       "      <td>0.139813</td>\n",
       "      <td>0.1306</td>\n",
       "      <td>0.6392</td>\n",
       "      <td>0.2236</td>\n",
       "      <td>0.0066</td>\n",
       "      <td>0.0511</td>\n",
       "      <td>0.8</td>\n",
       "      <td>0</td>\n",
       "      <td>0</td>\n",
       "    </tr>\n",
       "    <tr>\n",
       "      <th>719</th>\n",
       "      <td>2025-06-30 23:00:00</td>\n",
       "      <td>4</td>\n",
       "      <td>127.86</td>\n",
       "      <td>4.545184</td>\n",
       "      <td>0.07</td>\n",
       "      <td>Generic</td>\n",
       "      <td>TRIAL</td>\n",
       "      <td>1</td>\n",
       "      <td>3</td>\n",
       "      <td>6.1 TD</td>\n",
       "      <td>...</td>\n",
       "      <td>3.332942</td>\n",
       "      <td>0.139813</td>\n",
       "      <td>0.1306</td>\n",
       "      <td>0.6392</td>\n",
       "      <td>0.2236</td>\n",
       "      <td>0.0066</td>\n",
       "      <td>0.0511</td>\n",
       "      <td>0.8</td>\n",
       "      <td>0</td>\n",
       "      <td>0</td>\n",
       "    </tr>\n",
       "  </tbody>\n",
       "</table>\n",
       "<p>720 rows × 46 columns</p>\n",
       "</div>"
      ],
      "text/plain": [
       "               datetime  periodo   value       ssaa  perd  cliente   cups  \\\n",
       "0   2025-06-01 00:00:00        6   60.00  15.446519  0.07  Generic  TRIAL   \n",
       "1   2025-06-01 01:00:00        6   36.07  21.972819  0.07  Generic  TRIAL   \n",
       "2   2025-06-01 02:00:00        6   35.01  22.969168  0.07  Generic  TRIAL   \n",
       "3   2025-06-01 03:00:00        6   34.95  23.856939  0.07  Generic  TRIAL   \n",
       "4   2025-06-01 04:00:00        6   34.43  27.244467  0.07  Generic  TRIAL   \n",
       "..                  ...      ...     ...        ...   ...      ...    ...   \n",
       "715 2025-06-30 19:00:00        3  111.38   6.969616  0.07  Generic  TRIAL   \n",
       "716 2025-06-30 20:00:00        3  135.00   7.866240  0.07  Generic  TRIAL   \n",
       "717 2025-06-30 21:00:00        3  175.01  13.033687  0.07  Generic  TRIAL   \n",
       "718 2025-06-30 22:00:00        4  157.00  11.451917  0.07  Generic  TRIAL   \n",
       "719 2025-06-30 23:00:00        4  127.86   4.545184  0.07  Generic  TRIAL   \n",
       "\n",
       "     contract_id  contract_index  tarifa  ... tep_power_exc kp_power_exc  \\\n",
       "0              1               3  6.1 TD  ...      3.332942     0.002632   \n",
       "1              1               3  6.1 TD  ...      3.332942     0.002632   \n",
       "2              1               3  6.1 TD  ...      3.332942     0.002632   \n",
       "3              1               3  6.1 TD  ...      3.332942     0.002632   \n",
       "4              1               3  6.1 TD  ...      3.332942     0.002632   \n",
       "..           ...             ...     ...  ...           ...          ...   \n",
       "715            1               3  6.1 TD  ...      3.332942     0.198416   \n",
       "716            1               3  6.1 TD  ...      3.332942     0.198416   \n",
       "717            1               3  6.1 TD  ...      3.332942     0.198416   \n",
       "718            1               3  6.1 TD  ...      3.332942     0.139813   \n",
       "719            1               3  6.1 TD  ...      3.332942     0.139813   \n",
       "\n",
       "     RECORE  Deficit     TNP   Otros      ie  dto_peajes  dto_peajes_energia  \\\n",
       "0    0.1306   0.6392  0.2236  0.0066  0.0511         0.8                   0   \n",
       "1    0.1306   0.6392  0.2236  0.0066  0.0511         0.8                   0   \n",
       "2    0.1306   0.6392  0.2236  0.0066  0.0511         0.8                   0   \n",
       "3    0.1306   0.6392  0.2236  0.0066  0.0511         0.8                   0   \n",
       "4    0.1306   0.6392  0.2236  0.0066  0.0511         0.8                   0   \n",
       "..      ...      ...     ...     ...     ...         ...                 ...   \n",
       "715  0.1306   0.6392  0.2236  0.0066  0.0511         0.8                   0   \n",
       "716  0.1306   0.6392  0.2236  0.0066  0.0511         0.8                   0   \n",
       "717  0.1306   0.6392  0.2236  0.0066  0.0511         0.8                   0   \n",
       "718  0.1306   0.6392  0.2236  0.0066  0.0511         0.8                   0   \n",
       "719  0.1306   0.6392  0.2236  0.0066  0.0511         0.8                   0   \n",
       "\n",
       "     dto_peajes_potencia  \n",
       "0                      0  \n",
       "1                      0  \n",
       "2                      0  \n",
       "3                      0  \n",
       "4                      0  \n",
       "..                   ...  \n",
       "715                    0  \n",
       "716                    0  \n",
       "717                    0  \n",
       "718                    0  \n",
       "719                    0  \n",
       "\n",
       "[720 rows x 46 columns]"
      ]
     },
     "execution_count": 5,
     "metadata": {},
     "output_type": "execute_result"
    }
   ],
   "source": [
    "df_master"
   ]
  },
  {
   "cell_type": "code",
   "execution_count": 6,
   "id": "7ad8616a",
   "metadata": {
    "execution": {
     "iopub.execute_input": "2025-07-17T18:18:25.287132Z",
     "iopub.status.busy": "2025-07-17T18:18:25.286985Z",
     "iopub.status.idle": "2025-07-17T18:18:25.431994Z",
     "shell.execute_reply": "2025-07-17T18:18:25.431667Z"
    },
    "papermill": {
     "duration": 0.149899,
     "end_time": "2025-07-17T18:18:25.432860",
     "exception": false,
     "start_time": "2025-07-17T18:18:25.282961",
     "status": "completed"
    },
    "tags": []
   },
   "outputs": [
    {
     "name": "stdout",
     "output_type": "stream",
     "text": [
      "2025-07-17 20:18:25,406 INFO sqlalchemy.engine.Engine BEGIN (implicit)\n"
     ]
    },
    {
     "name": "stdout",
     "output_type": "stream",
     "text": [
      "2025-07-17 20:18:25,407 INFO sqlalchemy.engine.Engine PRAGMA main.table_info(\"SELECT * FROM facturas\")\n"
     ]
    },
    {
     "name": "stdout",
     "output_type": "stream",
     "text": [
      "2025-07-17 20:18:25,407 INFO sqlalchemy.engine.Engine [raw sql] ()\n"
     ]
    },
    {
     "name": "stdout",
     "output_type": "stream",
     "text": [
      "2025-07-17 20:18:25,408 INFO sqlalchemy.engine.Engine PRAGMA temp.table_info(\"SELECT * FROM facturas\")\n"
     ]
    },
    {
     "name": "stdout",
     "output_type": "stream",
     "text": [
      "2025-07-17 20:18:25,408 INFO sqlalchemy.engine.Engine [raw sql] ()\n"
     ]
    },
    {
     "name": "stdout",
     "output_type": "stream",
     "text": [
      "2025-07-17 20:18:25,408 INFO sqlalchemy.engine.Engine SELECT * FROM facturas\n"
     ]
    },
    {
     "name": "stdout",
     "output_type": "stream",
     "text": [
      "2025-07-17 20:18:25,408 INFO sqlalchemy.engine.Engine [raw sql] ()\n"
     ]
    },
    {
     "name": "stdout",
     "output_type": "stream",
     "text": [
      "2025-07-17 20:18:25,428 INFO sqlalchemy.engine.Engine ROLLBACK\n"
     ]
    }
   ],
   "source": [
    "from sqlalchemy import create_engine\n",
    "\n",
    "engine = create_engine(f'sqlite:///{db_elec_path}', echo=True)\n",
    "\n",
    "facturas_df = pd.read_sql(('SELECT * FROM facturas'), con=engine);\n",
    "\n",
    "if facturas_df[facturas_df['cups'] == cups].empty:\n",
    "    facturas_df = pd.read_pickle(db_elec_manual_path)\n",
    "for column in ['inicio_periodo', 'fin_periodo', 'issue_date']:\n",
    "    facturas_df[column] = pd.to_datetime(facturas_df[column])"
   ]
  },
  {
   "cell_type": "markdown",
   "id": "89ddb3b5",
   "metadata": {
    "tags": [
     "papermill-error-cell-tag"
    ]
   },
   "source": [
    "<span id=\"papermill-error-cell\" style=\"color:red; font-family:Helvetica Neue, Helvetica, Arial, sans-serif; font-size:2em;\">Execution using papermill encountered an exception here and stopped:</span>"
   ]
  },
  {
   "cell_type": "code",
   "execution_count": 7,
   "id": "92c4087c",
   "metadata": {
    "execution": {
     "iopub.execute_input": "2025-07-17T18:18:25.440979Z",
     "iopub.status.busy": "2025-07-17T18:18:25.440820Z",
     "iopub.status.idle": "2025-07-17T18:18:25.575150Z",
     "shell.execute_reply": "2025-07-17T18:18:25.574653Z"
    },
    "papermill": {
     "duration": 0.139162,
     "end_time": "2025-07-17T18:18:25.575911",
     "exception": true,
     "start_time": "2025-07-17T18:18:25.436749",
     "status": "failed"
    },
    "tags": []
   },
   "outputs": [
    {
     "ename": "IndexError",
     "evalue": "index 0 is out of bounds for axis 0 with size 0",
     "output_type": "error",
     "traceback": [
      "\u001b[0;31m---------------------------------------------------------------------------\u001b[0m",
      "\u001b[0;31mIndexError\u001b[0m                                Traceback (most recent call last)",
      "Cell \u001b[0;32mIn[7], line 7\u001b[0m\n\u001b[1;32m      1\u001b[0m df_filtered \u001b[38;5;241m=\u001b[39m facturas_df[\n\u001b[1;32m      2\u001b[0m                     (facturas_df[\u001b[38;5;124m'\u001b[39m\u001b[38;5;124mcups\u001b[39m\u001b[38;5;124m'\u001b[39m] \u001b[38;5;241m==\u001b[39m cups)\n\u001b[1;32m      3\u001b[0m                         ]\n\u001b[1;32m      4\u001b[0m df_filtered \u001b[38;5;241m=\u001b[39m df_filtered[\n\u001b[1;32m      5\u001b[0m                     (df_filtered[\u001b[38;5;124m'\u001b[39m\u001b[38;5;124mfin_periodo\u001b[39m\u001b[38;5;124m'\u001b[39m] \u001b[38;5;241m==\u001b[39m df_filtered[\u001b[38;5;124m'\u001b[39m\u001b[38;5;124mfin_periodo\u001b[39m\u001b[38;5;124m'\u001b[39m]\u001b[38;5;241m.\u001b[39mmax())\n\u001b[1;32m      6\u001b[0m                         ]\n\u001b[0;32m----> 7\u001b[0m potencia_list \u001b[38;5;241m=\u001b[39m [\u001b[43mdf_filtered\u001b[49m\u001b[43m[\u001b[49m\u001b[38;5;124;43mf\u001b[39;49m\u001b[38;5;124;43m'\u001b[39;49m\u001b[38;5;124;43mpotencia_p\u001b[39;49m\u001b[38;5;132;43;01m{\u001b[39;49;00m\u001b[43mi\u001b[49m\u001b[38;5;132;43;01m}\u001b[39;49;00m\u001b[38;5;124;43m'\u001b[39;49m\u001b[43m]\u001b[49m\u001b[38;5;241;43m.\u001b[39;49m\u001b[43mvalues\u001b[49m\u001b[43m[\u001b[49m\u001b[38;5;241;43m0\u001b[39;49m\u001b[43m]\u001b[49m \u001b[38;5;28;01mfor\u001b[39;00m i \u001b[38;5;129;01min\u001b[39;00m \u001b[38;5;28mrange\u001b[39m (\u001b[38;5;241m1\u001b[39m,\u001b[38;5;241m7\u001b[39m)]\n\u001b[1;32m      8\u001b[0m potencia_list\n",
      "\u001b[0;31mIndexError\u001b[0m: index 0 is out of bounds for axis 0 with size 0"
     ]
    }
   ],
   "source": [
    "df_filtered = facturas_df[\n",
    "                    (facturas_df['cups'] == cups)\n",
    "                        ]\n",
    "df_filtered = df_filtered[\n",
    "                    (df_filtered['fin_periodo'] == df_filtered['fin_periodo'].max())\n",
    "                        ]\n",
    "potencia_list = [df_filtered[f'potencia_p{i}'].values[0] for i in range (1,7)]\n",
    "logger.info(f\"Power:\\n{potencia_list}\")"
   ]
  },
  {
   "cell_type": "code",
   "execution_count": null,
   "id": "483b563b",
   "metadata": {
    "execution": {
     "iopub.execute_input": "2025-07-16T17:31:51.407912Z",
     "iopub.status.busy": "2025-07-16T17:31:51.407724Z",
     "iopub.status.idle": "2025-07-16T17:31:51.411108Z",
     "shell.execute_reply": "2025-07-16T17:31:51.410730Z"
    },
    "papermill": {
     "duration": null,
     "end_time": null,
     "exception": null,
     "start_time": null,
     "status": "pending"
    },
    "tags": []
   },
   "outputs": [],
   "source": [
    "start_date = datetime(estim_year, estim_month, 1, 0, 0)\n",
    "# Calculate the first day of the next month and subtract one day to get the last day of the current month\n",
    "end_date = start_date + relativedelta(months=1) - timedelta(days=1)\n",
    "end_date = end_date = datetime.combine(end_date, time(23,0,0))\n",
    "end_date"
   ]
  },
  {
   "cell_type": "code",
   "execution_count": null,
   "id": "c36969fd",
   "metadata": {
    "execution": {
     "iopub.execute_input": "2025-07-16T17:31:51.421033Z",
     "iopub.status.busy": "2025-07-16T17:31:51.420864Z",
     "iopub.status.idle": "2025-07-16T17:31:52.353689Z",
     "shell.execute_reply": "2025-07-16T17:31:52.353304Z"
    },
    "papermill": {
     "duration": null,
     "end_time": null,
     "exception": null,
     "start_time": null,
     "status": "pending"
    },
    "tags": []
   },
   "outputs": [],
   "source": [
    "from verification_project.liquidation import Liquidation\n",
    "from shared.dicts import contract_dict"
   ]
  },
  {
   "cell_type": "code",
   "execution_count": null,
   "id": "dd660cde",
   "metadata": {
    "execution": {
     "iopub.execute_input": "2025-07-16T17:31:52.364355Z",
     "iopub.status.busy": "2025-07-16T17:31:52.364090Z",
     "iopub.status.idle": "2025-07-16T17:31:52.370536Z",
     "shell.execute_reply": "2025-07-16T17:31:52.370187Z"
    },
    "papermill": {
     "duration": null,
     "end_time": null,
     "exception": null,
     "start_time": null,
     "status": "pending"
    },
    "tags": []
   },
   "outputs": [],
   "source": [
    "Liquidation = Liquidation(\n",
    "                    start_date=start_date,\n",
    "                    end_date=end_date,\n",
    "                    df_master=df_master,\n",
    "                    df_contrato=df_contrato,\n",
    "                    power_list=potencia_list,\n",
    "                    df_load=df_load,\n",
    "                    df_coberturas=df_coberturas,\n",
    "                        )"
   ]
  },
  {
   "cell_type": "code",
   "execution_count": null,
   "id": "b48014cb",
   "metadata": {
    "execution": {
     "iopub.execute_input": "2025-07-16T17:31:52.379538Z",
     "iopub.status.busy": "2025-07-16T17:31:52.379341Z",
     "iopub.status.idle": "2025-07-16T17:31:58.285462Z",
     "shell.execute_reply": "2025-07-16T17:31:58.284463Z"
    },
    "papermill": {
     "duration": null,
     "end_time": null,
     "exception": null,
     "start_time": null,
     "status": "pending"
    },
    "tags": []
   },
   "outputs": [],
   "source": [
    "Liquidation.execute(contract_mapping=contract_dict);"
   ]
  },
  {
   "cell_type": "code",
   "execution_count": null,
   "id": "a69fda97",
   "metadata": {
    "execution": {
     "iopub.execute_input": "2025-07-16T17:31:58.312464Z",
     "iopub.status.busy": "2025-07-16T17:31:58.312085Z",
     "iopub.status.idle": "2025-07-16T17:31:58.361236Z",
     "shell.execute_reply": "2025-07-16T17:31:58.350111Z"
    },
    "papermill": {
     "duration": null,
     "end_time": null,
     "exception": null,
     "start_time": null,
     "status": "pending"
    },
    "tags": []
   },
   "outputs": [],
   "source": [
    "df = Liquidation.df_verif\n",
    "\n",
    "logger.info(f'Simulated power cost: {Liquidation.coste_potencia} €')\n",
    "logger.info(f'Simulated excess cost: {Liquidation.excesos_potencia} €')\n",
    "logger.info(f'Simulated energy cost: {Liquidation.coste_energia} €')\n",
    "logger.info(f'Simulated electrointesivo deduction: {Liquidation.dto_electrointensivos} €')\n",
    "logger.info(f'Simulated taxable base: {Liquidation.base_imponible} €')"
   ]
  },
  {
   "cell_type": "code",
   "execution_count": null,
   "id": "7260c70f",
   "metadata": {},
   "outputs": [],
   "source": [
    "logger.info(f'Simulated captured commodity price: {Liquidation.captured_commodity_price_w_clicks} €')\n",
    "logger.info(f'Avoided solar captured price: {Liquidation.solar_avoided_price} €')"
   ]
  },
  {
   "cell_type": "code",
   "execution_count": null,
   "id": "cfd2c272",
   "metadata": {
    "execution": {
     "iopub.execute_input": "2025-07-16T17:31:59.667153Z",
     "iopub.status.busy": "2025-07-16T17:31:59.666197Z",
     "iopub.status.idle": "2025-07-16T17:31:59.723771Z",
     "shell.execute_reply": "2025-07-16T17:31:59.688038Z"
    },
    "papermill": {
     "duration": null,
     "end_time": null,
     "exception": null,
     "start_time": null,
     "status": "pending"
    },
    "tags": []
   },
   "outputs": [],
   "source": [
    "load_period = df.groupby('periodo')['load'].sum()\n",
    "load_values_dict = load_period.to_dict()\n",
    "\n",
    "consumo_ver = [load_values_dict.get(period, 0) for period in range(1,7)]\n",
    "\n",
    "logger.info(f'Energy consumption {sum(consumo_ver)} MWh')\n",
    "logger.info(f'Energy consumption per period {(consumo_ver)}')"
   ]
  },
  {
   "cell_type": "code",
   "execution_count": null,
   "id": "aaf2a352",
   "metadata": {
    "execution": {
     "iopub.execute_input": "2025-07-16T17:31:59.850206Z",
     "iopub.status.busy": "2025-07-16T17:31:59.849666Z",
     "iopub.status.idle": "2025-07-16T17:31:59.855047Z",
     "shell.execute_reply": "2025-07-16T17:31:59.854219Z"
    },
    "papermill": {
     "duration": null,
     "end_time": null,
     "exception": null,
     "start_time": null,
     "status": "pending"
    },
    "tags": []
   },
   "outputs": [],
   "source": [
    "load_values_dict = load_period.to_dict()\n",
    "\n",
    "mapped_loads = [load_values_dict.get(period, 0) for period in range (1,7)]"
   ]
  },
  {
   "cell_type": "code",
   "execution_count": null,
   "id": "3b06731e",
   "metadata": {
    "execution": {
     "iopub.execute_input": "2025-07-16T17:31:59.881003Z",
     "iopub.status.busy": "2025-07-16T17:31:59.880518Z",
     "iopub.status.idle": "2025-07-16T17:31:59.886224Z",
     "shell.execute_reply": "2025-07-16T17:31:59.883966Z"
    },
    "papermill": {
     "duration": null,
     "end_time": null,
     "exception": null,
     "start_time": null,
     "status": "pending"
    },
    "tags": []
   },
   "outputs": [],
   "source": [
    "from utils.utils_var import export_excel_range_to_pdf\n",
    "from shared.dicts import estim_mapping"
   ]
  },
  {
   "cell_type": "code",
   "execution_count": null,
   "id": "0d5bbe4f",
   "metadata": {
    "execution": {
     "iopub.execute_input": "2025-07-16T17:31:59.920646Z",
     "iopub.status.busy": "2025-07-16T17:31:59.920277Z",
     "iopub.status.idle": "2025-07-16T17:31:59.931804Z",
     "shell.execute_reply": "2025-07-16T17:31:59.929738Z"
    },
    "papermill": {
     "duration": null,
     "end_time": null,
     "exception": null,
     "start_time": null,
     "status": "pending"
    },
    "tags": []
   },
   "outputs": [],
   "source": [
    "dict_estim = {\n",
    "    # \"cliente\" : alias[0],\n",
    "    \"alias\" : alias,\n",
    "    \"cups\" : f\"CUPS: {cups}\",\n",
    "    # \"tarifa\" : tarifa,\n",
    "    \"periodo\" : date(estim_year, estim_month, 1),\n",
    "    # \"num_factura\" : num_factura,\n",
    "    # \"consumo_fra\" : consumo_fra,\n",
    "    # \"energia_fra\" : coste_energia_fra,\n",
    "    # \"potencia_fra\" : coste_potencia_fra,\n",
    "    # \"excesos_fra\" : coste_excesos_fra,\n",
    "    # \"reactiva_fra\" : coste_reactiva_fra,\n",
    "    # \"base_imponible_fra\" : base_imponible_fra,\n",
    "    # \"potencia_contratada\" : potencia_fra,\n",
    "    \"potencia_ver\" : Liquidation.coste_potencia,\n",
    "    \"consumo_ver\" : mapped_loads,\n",
    "    \"energia_ver\" : Liquidation.coste_energia,\n",
    "    \"excesos_ver\" : Liquidation.excesos_potencia,\n",
    "    \"dto_electrointensivos\" : Liquidation.dto_electrointensivos,\n",
    "    \"ie\" : Liquidation.ie,\n",
    "    \"base_imponible_ver\" : Liquidation.base_imponible\n",
    "    # \"reactiva_ver\" : coste_reactiva_fra,\n",
    "    # \"days\" : days_in_month(year=year, month=month)\n",
    "    }\n",
    "dict_estim"
   ]
  },
  {
   "cell_type": "code",
   "execution_count": null,
   "id": "3723b29a",
   "metadata": {
    "execution": {
     "iopub.execute_input": "2025-07-16T17:31:59.967416Z",
     "iopub.status.busy": "2025-07-16T17:31:59.967106Z",
     "iopub.status.idle": "2025-07-16T17:32:00.114120Z",
     "shell.execute_reply": "2025-07-16T17:32:00.112538Z"
    },
    "papermill": {
     "duration": null,
     "end_time": null,
     "exception": null,
     "start_time": null,
     "status": "pending"
    },
    "tags": []
   },
   "outputs": [],
   "source": [
    "from openpyxl import load_workbook\n",
    "\n",
    "# Load the Excel template\n",
    "wb = load_workbook(template_path)\n",
    "\n",
    "# Loop through cell mapping and populate cells in the appropriate sheets\n",
    "for key, (sheet_name, start_cell) in estim_mapping.items():\n",
    "    if key in dict_estim:\n",
    "        ws = wb[sheet_name]  # Select the correct sheet\n",
    "        value = dict_estim[key]\n",
    "\n",
    "        # If the value is a DataFrame, write it starting from the specified cell\n",
    "        if isinstance(value, pd.DataFrame):\n",
    "            start_column = start_cell[0]  # Get the starting column letter\n",
    "            start_row = int(start_cell[1:])  # Get the starting row number\n",
    "            \n",
    "            for col_index, column in enumerate(value.columns):\n",
    "                for row_index, item in enumerate(value[column]):\n",
    "                    cell = f\"{chr(ord(start_column) + col_index)}{start_row + row_index}\"\n",
    "                    ws[cell] = item\n",
    "\n",
    "        # Handle fixed-length lists (e.g., consumo_fra and potencia_contratada)\n",
    "        elif isinstance(value, list):\n",
    "            column = ''.join(filter(str.isalpha, start_cell))  # Extract column (e.g., \"A\")\n",
    "            row = int(''.join(filter(str.isdigit, start_cell)))  # Extract row number (e.g., 2)\n",
    "\n",
    "            # Write each item in the list to consecutive cells\n",
    "            for i in range(6):\n",
    "                cell_address = f\"{column}{row + i}\"\n",
    "                ws[cell_address] = value[i] if i < len(value) else None\n",
    "        else:\n",
    "            ws[start_cell] = value\n",
    "\n",
    "# Save the updated workbook to a new file\n",
    "wb.save(output_estim_excel)\n",
    "\n",
    "logger.info(f\"Data has been saved to {output_estim_excel} with the original formatting intact.\")\n"
   ]
  },
  {
   "cell_type": "code",
   "execution_count": null,
   "id": "7e10dc5b",
   "metadata": {
    "execution": {
     "iopub.execute_input": "2025-07-16T17:32:00.131883Z",
     "iopub.status.busy": "2025-07-16T17:32:00.131590Z",
     "iopub.status.idle": "2025-07-16T17:32:51.966320Z",
     "shell.execute_reply": "2025-07-16T17:32:51.963531Z"
    },
    "papermill": {
     "duration": null,
     "end_time": null,
     "exception": null,
     "start_time": null,
     "status": "pending"
    },
    "tags": []
   },
   "outputs": [],
   "source": [
    "# Example usage\n",
    "# excel_file = template_path\n",
    "# output_pdf = template_path[:-5] + '.pdf'\n",
    "sheet = \"Hoja1\"\n",
    "cell_range = \"A1:E31\"\n",
    "\n",
    "export_excel_range_to_pdf(output_estim_excel, output_estim_pdf, sheet, cell_range)\n"
   ]
  }
 ],
 "metadata": {
  "kernelspec": {
   "display_name": "work",
   "language": "python",
   "name": "python3"
  },
  "language_info": {
   "codemirror_mode": {
    "name": "ipython",
    "version": 3
   },
   "file_extension": ".py",
   "mimetype": "text/x-python",
   "name": "python",
   "nbconvert_exporter": "python",
   "pygments_lexer": "ipython3",
   "version": "3.12.8"
  },
  "papermill": {
   "default_parameters": {},
   "duration": 2.060488,
   "end_time": "2025-07-17T18:18:25.898595",
   "environment_variables": {},
   "exception": true,
   "input_path": "/Users/mikelperez/Python_projects/0_Python_projects_v2/0_Python_projects_v2/notebooks/verification_project/5C_Estimacion.ipynb",
   "output_path": "/Users/mikelperez/Python_projects/0_Python_projects_v2/0_Python_projects_v2/notebooks/verification_project/5C_Estimacion.ipynb",
   "parameters": {
    "alias": "TRIAL",
    "cliente": "Generic",
    "cups": "TRIAL",
    "db_elec_manual_path": "/Users/mikelperez/Python_projects/0_Python_projects_v2/0_Python_projects_v2/data/processed/elec/facturas_elec_manual.pkl",
    "db_elec_path": "/Users/mikelperez/Python_projects/0_Python_projects_v2/0_Python_projects_v2/data/processed/elec/facturas_elec.db",
    "estim_month": 6,
    "estim_year": 2025,
    "nb_verif": "/Users/mikelperez/Python_projects/0_Python_projects_v2/0_Python_projects_v2/notebooks/verification_project/5B_Ver_Notebook.ipynb",
    "output_estim_excel": "/Users/mikelperez/Python_projects/0_Python_projects_v2/0_Python_projects_v2/outputs/verification_project/estim/Generic/Estimación Fra. TRIAL 6_2025.xlsx",
    "output_estim_pdf": "/Users/mikelperez/Python_projects/0_Python_projects_v2/0_Python_projects_v2/outputs/verification_project/estim/Generic/Estimación Fra. TRIAL 6 2025.pdf",
    "path_coberturas_df": "/Users/mikelperez/Python_projects/0_Python_projects_v2/0_Python_projects_v2/data/customers/elec/Generic/df_coberturas_1.pkl",
    "path_contract_matrix": "/Users/mikelperez/Python_projects/0_Python_projects_v2/0_Python_projects_v2/data/customers/elec/Generic/contract_matrix_TRIAL.pkl",
    "path_load_parquet": "/Users/mikelperez/Python_projects/0_Python_projects_v2/0_Python_projects_v2/data/processed/elec/elec_load.parquet",
    "path_master_matrix": "/Users/mikelperez/Python_projects/0_Python_projects_v2/0_Python_projects_v2/data/customers/elec/Generic/master_matrix_TRIAL.pkl",
    "tarifa": "6.1 TD",
    "template_path": "/Users/mikelperez/Python_projects/0_Python_projects_v2/0_Python_projects_v2/data/verification_project/elec/templates/Estimacion_fra.xlsx"
   },
   "start_time": "2025-07-17T18:18:23.838107",
   "version": "2.6.0"
  }
 },
 "nbformat": 4,
 "nbformat_minor": 5
}
