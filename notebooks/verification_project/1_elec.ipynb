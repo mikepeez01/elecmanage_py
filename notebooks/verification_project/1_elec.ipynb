{
 "cells": [
  {
   "cell_type": "code",
   "execution_count": 5,
   "metadata": {},
   "outputs": [],
   "source": [
    "import papermill as pm\n",
    "import pandas as pd\n",
    "import time\n",
    "from pathlib import Path\n",
    "import sys"
   ]
  },
  {
   "cell_type": "code",
   "execution_count": 6,
   "metadata": {},
   "outputs": [],
   "source": [
    "instant = time.strftime(\"%Y-%m-%d_%H:%M:%S\", time.localtime())"
   ]
  },
  {
   "cell_type": "code",
   "execution_count": 7,
   "metadata": {
    "tags": [
     "parameters"
    ]
   },
   "outputs": [],
   "source": [
    "# Parameters\n",
    "nb_name = \"3_elec_out\"\n",
    "config_path = \"/Users/mikelperez/0_Python_projects_v3_reduced/0_Python_projects_reduced/configs/config.yaml\"\n",
    "cliente = \"Generic\"\n",
    "estim_year = 2025\n",
    "estim_month = 6\n",
    "issue_year = 2025\n",
    "issue_month = 6\n",
    "operation = \"verif\"\n",
    "update_contract_data = True\n",
    "api_call = False\n",
    "ssaa_dn = False\n",
    "path_alias_elec = \"/Users/mikelperez/0_Python_projects_v3_reduced/0_Python_projects_reduced/data/customers/elec/alias_clientes_elec.xlsx\"\n",
    "path_omie_matrix = \"/Users/mikelperez/0_Python_projects_v3_reduced/0_Python_projects_reduced/data/verification_project/elec/omie_matrix_verif.pkl\"\n",
    "path_load_parquet = \"/Users/mikelperez/0_Python_projects_v3_reduced/0_Python_projects_reduced/data/processed/elec/elec_load.parquet\"\n",
    "db_elec_path = \"/Users/mikelperez/0_Python_projects_v3_reduced/0_Python_projects_reduced/data/processed/elec/facturas_elec.db\"\n",
    "db_elec_manual_path = \"/Users/mikelperez/0_Python_projects_v3_reduced/0_Python_projects_reduced/data/processed/elec/facturas_elec_manual.pkl\"\n",
    "path_ver_template = \"/Users/mikelperez/0_Python_projects_v3_reduced/0_Python_projects_reduced/data/verification_project/elec/templates/Template 2024.xlsx\"\n",
    "path_estim_template = \"/Users/mikelperez/0_Python_projects_v3_reduced/0_Python_projects_reduced/data/verification_project/elec/templates/Estimacion_fra.xlsx\"\n",
    "path_peajes_cargos_energia = \"/Users/mikelperez/0_Python_projects_v3_reduced/0_Python_projects_reduced/data/regulation/elec/peajes_cargos_energia.xlsx\"\n",
    "path_peajes_energia = \"/Users/mikelperez/0_Python_projects_v3_reduced/0_Python_projects_reduced/data/regulation/elec/peajes_energia.xlsx\"\n",
    "path_peajes_potencia = \"/Users/mikelperez/0_Python_projects_v3_reduced/0_Python_projects_reduced/data/regulation/elec/peajes_potencia.xlsx\"\n",
    "path_cargos_energia = \"/Users/mikelperez/0_Python_projects_v3_reduced/0_Python_projects_reduced/data/regulation/elec/cargos_energia.xlsx\"\n",
    "path_cargos_potencia = \"/Users/mikelperez/0_Python_projects_v3_reduced/0_Python_projects_reduced/data/regulation/elec/cargos_potencia.xlsx\"\n",
    "path_estructura_cargos = \"/Users/mikelperez/0_Python_projects_v3_reduced/0_Python_projects_reduced/data/regulation/elec/estructura_cargos.xlsx\"\n",
    "path_dto_peajes_electrointensivos = \"/Users/mikelperez/0_Python_projects_v3_reduced/0_Python_projects_reduced/data/regulation/elec/dto_peajes_electrointensivos.xlsx\"\n",
    "path_ie = \"/Users/mikelperez/0_Python_projects_v3_reduced/0_Python_projects_reduced/data/regulation/elec/ie.xlsx\"\n",
    "path_coefs_exc = \"/Users/mikelperez/0_Python_projects_v3_reduced/0_Python_projects_reduced/data/regulation/elec/coefs_excesos.xlsx\"\n",
    "nb_read_contracts = \"/Users/mikelperez/0_Python_projects_v3_reduced/0_Python_projects_reduced/notebooks/verification_project/4a_read_contract.ipynb\"\n",
    "nb_read_contracts_out = \"/Users/mikelperez/0_Python_projects_v3_reduced/0_Python_projects_reduced/outputs/verification_project/notebooks/4a_read_contract_out.ipynb\"\n",
    "nb_contract_market_matrix = \"/Users/mikelperez/0_Python_projects_v3_reduced/0_Python_projects_reduced/notebooks/verification_project/4b_merge_contract_omie.ipynb\"\n",
    "nb_contract_market_matrix_out = \"/Users/mikelperez/0_Python_projects_v3_reduced/0_Python_projects_reduced/outputs/verification_project/notebooks/4b_merge_contract_omie_out.ipynb\"\n",
    "nb_invoices = \"/Users/mikelperez/0_Python_projects_v3_reduced/0_Python_projects_reduced/notebooks/verification_project/5_hunt_invoices.ipynb\"\n",
    "nb_invoices_out = \"/Users/mikelperez/0_Python_projects_v3_reduced/0_Python_projects_reduced/outputs/verification_project/notebooks/5_hunt_invoices_out.ipynb\"\n",
    "nb_estim = \"/Users/mikelperez/0_Python_projects_v3_reduced/0_Python_projects_reduced/notebooks/verification_project/5c_estimacion.ipynb\"\n",
    "nb_estim_out = \"/Users/mikelperez/0_Python_projects_v3_reduced/0_Python_projects_reduced/outputs/verification_project/notebooks/5c_estimacion_out.ipynb\"\n",
    "nb_verif = \"/Users/mikelperez/0_Python_projects_v3_reduced/0_Python_projects_reduced/notebooks/verification_project/5b_ver_notebook.ipynb\"\n"
   ]
  },
  {
   "cell_type": "code",
   "execution_count": 8,
   "metadata": {},
   "outputs": [],
   "source": [
    "import utils.utils_var as utils_var\n",
    "from config.config_loader import Config\n",
    "\n",
    "config = Config(config_file=config_path)\n"
   ]
  },
  {
   "cell_type": "code",
   "execution_count": null,
   "metadata": {},
   "outputs": [],
   "source": [
    "from utils.logging_setup import get_logger\n",
    "\n",
    "logger = get_logger(name=f\"{nb_name} {cliente}\")\n",
    "logger.info(f\"Starting verification process for {cliente} on {instant}\")"
   ]
  },
  {
   "cell_type": "code",
   "execution_count": 121,
   "metadata": {},
   "outputs": [
    {
     "name": "stdout",
     "output_type": "stream",
     "text": [
      "           cliente               alias                  cups  tarifa  \\\n",
      "25  Grupo Inspired  KC SOTO VIÑUELAS 1  ES0021000005776632EH  6.1 TD   \n",
      "\n",
      "    electrointensivo  contrato  \n",
      "25             False         1  \n"
     ]
    }
   ],
   "source": [
    "alias_df = pd.read_excel(path_alias_elec)\n",
    "alias_df_fil = alias_df[alias_df['cliente'] == cliente]\n",
    "if cliente == 'PR':\n",
    "    alias_df_fil = alias_df_fil[\n",
    "                                # (alias_df_fil['alias'].isin(['HQ1','HQ2','HQ3']))\n",
    "                                (~alias_df_fil['alias'].isin(['VELERIN'])) &\n",
    "                                # (~alias_df_fil['alias'].isin(['WARNER BS'])) &\n",
    "                                (~alias_df_fil['alias'].isin(['WARNER BS','WARNER DW','WARNER BQ'])) &\n",
    "                                # (alias_df_fil['alias'].isin(['WARNER BS','WARNER DW'])) &\n",
    "                                # (alias_df_fil['alias'].isin(['WARNER BQ','CULLERA'])) &\n",
    "                                ((alias_df_fil['cups'] != 'ES0022000009138571BZ'))\n",
    "                                # (alias_df_fil['alias'].isin(['FAUNIA']))\n",
    "                                ]\n",
    "    # alias_df_fil = alias_df_fil[((alias_df_fil['alias'] == 'AQUAPARK'))]\n",
    "\n",
    "if cliente == 'Grupo Inspired':\n",
    "    alias_df_fil = alias_df_fil[\n",
    "                                # ((alias_df_fil['tarifa'] == '6.1 TD'))\n",
    "                                (alias_df_fil['alias'].isin(['KC SOTO VIÑUELAS 1']))\n",
    "                                # (alias_df_fil['alias'].isin(['MIRABAL']))\n",
    "                                ]\n",
    "logger.info(\"Completed supply point filtering\")"
   ]
  },
  {
   "cell_type": "code",
   "execution_count": 122,
   "metadata": {},
   "outputs": [
    {
     "name": "stdout",
     "output_type": "stream",
     "text": [
      "Retrieving contract info for KC SOTO VIÑUELAS 1...\n"
     ]
    },
    {
     "data": {
      "application/vnd.jupyter.widget-view+json": {
       "model_id": "b341747ef5ac4bf9a4f8af53098e3213",
       "version_major": 2,
       "version_minor": 0
      },
      "text/plain": [
       "Executing:   0%|          | 0/11 [00:00<?, ?cell/s]"
      ]
     },
     "metadata": {},
     "output_type": "display_data"
    },
    {
     "name": "stdout",
     "output_type": "stream",
     "text": [
      "Building master matrix for KC SOTO VIÑUELAS 1...\n"
     ]
    },
    {
     "data": {
      "application/vnd.jupyter.widget-view+json": {
       "model_id": "22dadb875a6f48508d07c86c17f1591f",
       "version_major": 2,
       "version_minor": 0
      },
      "text/plain": [
       "Executing:   0%|          | 0/9 [00:00<?, ?cell/s]"
      ]
     },
     "metadata": {},
     "output_type": "display_data"
    },
    {
     "name": "stdout",
     "output_type": "stream",
     "text": [
      "Looking for invoices for KC SOTO VIÑUELAS 1...\n"
     ]
    },
    {
     "data": {
      "application/vnd.jupyter.widget-view+json": {
       "model_id": "d8f4c7d397da4a8eb3859b2b06554f82",
       "version_major": 2,
       "version_minor": 0
      },
      "text/plain": [
       "Executing:   0%|          | 0/8 [00:00<?, ?cell/s]"
      ]
     },
     "metadata": {},
     "output_type": "display_data"
    }
   ],
   "source": [
    "for index, row in alias_df_fil.iterrows():\n",
    "\n",
    "    contract_id = row['contrato']\n",
    "    tarifa = row['tarifa']\n",
    "    cups= row['cups']\n",
    "    electrointensivo = row['electrointensivo']\n",
    "    alias = row['alias']\n",
    "\n",
    "    output_estim_excel =  \\\n",
    "    config.get_path(\n",
    "        \"outputs.verification_project.estim.cliente.output_estim_excel\", customer_id=cliente, alias=alias, month=estim_month, year=estim_year\n",
    "        )\n",
    "    output_estim_pdf =  \\\n",
    "    config.get_path(\n",
    "        \"outputs.verification_project.estim.cliente.output_estim_pdf\", customer_id=cliente, alias=alias, month=estim_month, year=estim_year\n",
    "        )\n",
    "    \n",
    "    path_datos_cliente = \\\n",
    "    config.get_path(\n",
    "        \"data_path.elec.customers.customer_single.customer_data\", customer_id=cliente, contract_id=contract_id\n",
    "        )\n",
    "\n",
    "    path_contract_matrix = \\\n",
    "    config.get_path(\n",
    "        \"data_path.elec.customers.customer_single.raw.contract_matrix\", cups=cups, customer_id=cliente\n",
    "        )\n",
    "    path_master_matrix = \\\n",
    "    config.get_path(\n",
    "        \"data_path.elec.customers.customer_single.raw.master_matrix\", customer_id=cliente, cups=cups\n",
    "        )\n",
    "    path_coberturas_df = \\\n",
    "    config.get_path(\"data_path.elec.customers.customer_single.raw.df_coberturas\", customer_id=cliente, contract_id=contract_id)\n",
    "\n",
    "    if update_contract_data:\n",
    "        logger.info(f'Retrieving contract info for {alias}...')\n",
    "        pm.execute_notebook(\n",
    "            nb_read_contracts, nb_read_contracts_out,##########\n",
    "            parameters=dict(\n",
    "                nb_name = Path(nb_read_contracts_out).stem,\n",
    "                config_path = config_path,\n",
    "                cliente=cliente,\n",
    "                tarifa = tarifa,\n",
    "                contract_id = contract_id,\n",
    "                cups= cups,\n",
    "                electrointensivo = electrointensivo,\n",
    "                path_datos_cliente = path_datos_cliente,\n",
    "                path_peajes_cargos_energia = path_peajes_cargos_energia,\n",
    "                path_peajes_energia = path_peajes_energia,\n",
    "                path_peajes_potencia = path_peajes_potencia,\n",
    "                path_cargos_energia = path_cargos_energia,\n",
    "                path_cargos_potencia = path_cargos_potencia,\n",
    "                path_estructura_cargos = path_estructura_cargos,\n",
    "                path_dto_peajes_electrointensivos = path_dto_peajes_electrointensivos,\n",
    "                path_ie = path_ie,\n",
    "                path_coberturas_df = path_coberturas_df,\n",
    "                path_contract_matrix = path_contract_matrix,\n",
    "                path_coefs_exc = path_coefs_exc\n",
    "            ),\n",
    "        log_output=True\n",
    "        )\n",
    "    else:\n",
    "        logger.info(f'Skipping contract info retrieval for {alias}...')\n",
    "\n",
    "    logger.info(f'Building master matrix for {alias}...')\n",
    "    pm.execute_notebook(\n",
    "        nb_contract_market_matrix, nb_contract_market_matrix_out,##############\n",
    "        parameters=dict(\n",
    "            nb_name = Path(nb_contract_market_matrix_out).stem,\n",
    "            config_path = config_path,\n",
    "            tarifa = tarifa,\n",
    "            path_contract_matrix = path_contract_matrix,\n",
    "            path_omie_matrix = path_omie_matrix,\n",
    "            path_master_matrix = path_master_matrix,\n",
    "        ),\n",
    "        log_output=True\n",
    "    )\n",
    "    logger.info(f'Built master hourly matrix for alias {alias}')\n",
    "    if operation == 'verif':\n",
    "        \n",
    "        logger.info(f'Looking for invoices for {alias}...')\n",
    "        pm.execute_notebook(\n",
    "            nb_invoices, nb_invoices_out,##############\n",
    "            parameters=dict(\n",
    "                nb_name = Path(nb_invoices_out).stem,\n",
    "                config_path = config_path,\n",
    "                nb_verif = nb_verif,\n",
    "                issue_year = issue_year,\n",
    "                issue_month = issue_month,\n",
    "                cliente=cliente,\n",
    "                alias = alias,\n",
    "                tarifa = tarifa,\n",
    "                cups= cups,\n",
    "                path_load_parquet = path_load_parquet,\n",
    "                path_contract_matrix = path_contract_matrix,\n",
    "                path_coberturas_df = path_coberturas_df,\n",
    "                path_master_matrix = path_master_matrix,\n",
    "                db_elec_path = db_elec_path,\n",
    "                db_elec_manual_path = db_elec_manual_path,\n",
    "                template_path = path_ver_template\n",
    "            ),\n",
    "        stdout_file=sys.stdout,\n",
    "        stderr_file=sys.stderr,\n",
    "        log_output=True\n",
    "        )\n",
    "    elif operation == 'estim':\n",
    "\n",
    "        logger.info(f'Estimating cost for {utils_var.map_month_cap(estim_month)} {estim_year}...')\n",
    "        pm.execute_notebook(\n",
    "            \n",
    "            nb_estim, nb_estim_out,##############\n",
    "            parameters=dict(\n",
    "                nb_name = Path(nb_estim_out).stem,\n",
    "                config_path = config_path,\n",
    "                nb_verif = nb_verif,\n",
    "                estim_year = estim_year,\n",
    "                estim_month = estim_month,\n",
    "                cliente=cliente,\n",
    "                alias = alias,\n",
    "                tarifa = tarifa,\n",
    "                cups= cups,\n",
    "                path_load_parquet = path_load_parquet,\n",
    "                path_contract_matrix = path_contract_matrix,\n",
    "                path_coberturas_df = path_coberturas_df,\n",
    "                path_master_matrix = path_master_matrix,\n",
    "                db_elec_path = db_elec_path,\n",
    "                db_elec_manual_path = db_elec_manual_path,\n",
    "                template_path = path_estim_template,\n",
    "                output_estim_excel = output_estim_excel,\n",
    "                output_estim_pdf = output_estim_pdf\n",
    "            ),\n",
    "            stdout_file=sys.stdout,\n",
    "            stderr_file=sys.stderr,\n",
    "            log_output=True\n",
    "        )"
   ]
  }
 ],
 "metadata": {
  "kernelspec": {
   "display_name": "python_reduced",
   "language": "python",
   "name": "python3"
  },
  "language_info": {
   "codemirror_mode": {
    "name": "ipython",
    "version": 3
   },
   "file_extension": ".py",
   "mimetype": "text/x-python",
   "name": "python",
   "nbconvert_exporter": "python",
   "pygments_lexer": "ipython3",
   "version": "3.12.4"
  }
 },
 "nbformat": 4,
 "nbformat_minor": 2
}
