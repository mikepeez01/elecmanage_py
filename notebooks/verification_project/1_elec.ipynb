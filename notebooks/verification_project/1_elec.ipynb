{
 "cells": [
  {
   "cell_type": "code",
   "execution_count": 30,
   "metadata": {},
   "outputs": [],
   "source": [
    "cliente = 'Generic'\n",
    "estim_year = 2025\n",
    "estim_month = 6\n",
    "issue_year = 2025\n",
    "issue_month = 6\n",
    "\n",
    "operation = 'verif' # stim o verif\n",
    "update_contract_data = True"
   ]
  },
  {
   "cell_type": "code",
   "execution_count": 31,
   "metadata": {},
   "outputs": [],
   "source": [
    "api_call = False\n",
    "ssaa_dn = False"
   ]
  },
  {
   "cell_type": "code",
   "execution_count": 32,
   "metadata": {},
   "outputs": [],
   "source": [
    "import papermill as pm\n",
    "import pandas as pd"
   ]
  },
  {
   "cell_type": "code",
   "execution_count": 33,
   "metadata": {},
   "outputs": [],
   "source": [
    "import utils.utils_var as utils_var\n",
    "from config.config_loader import Config\n",
    "\n",
    "config = Config()"
   ]
  },
  {
   "cell_type": "code",
   "execution_count": 34,
   "metadata": {},
   "outputs": [],
   "source": [
    "festivos_path = config.get_path(\"data_path.elec.regulation.festivos\")\n",
    "periodos_cal_path = config.get_path(\"data_path.elec.regulation.calendario_periodos\")\n",
    "\n",
    "futures_path = config.get_path(\"data_path.elec.processed.futures\")\n",
    "spot_path = config.get_path(\"data_path.elec.processed.spot\")\n",
    "spot_formated_path = config.get_path(\"data_path.elec.processed.spot_formatted\")"
   ]
  },
  {
   "cell_type": "code",
   "execution_count": 35,
   "metadata": {},
   "outputs": [
    {
     "data": {
      "text/plain": [
       "'/Users/mikelperez/0_Python_projects_v3_reduced/0_Python_projects_reduced/data/processed/elec/ssaa_c2.pkl'"
      ]
     },
     "execution_count": 35,
     "metadata": {},
     "output_type": "execute_result"
    }
   ],
   "source": [
    "estado = 'C2'\n",
    "perd_path = config.get_path(\"data_path.elec.processed.perd_total\")\n",
    "\n",
    "ssaa_path_c2 = config.get_path(\"data_path.elec.raw.ssaa\", mode='c2')\n",
    "path_ssaa_c2_df = config.get_path(\"data_path.elec.processed.ssaa_df\", mode='c2')\n",
    "path_ssaa_c2_df_dt = config.get_path(\"data_path.elec.processed.ssaa_df_detailed\", mode='c2')\n",
    "ssaa_path_a2 = config.get_path(\"data_path.elec.raw.ssaa\", mode='a2')\n",
    "path_ssaa_a2_df = config.get_path(\"data_path.elec.processed.ssaa_df\", mode='a2')\n",
    "path_ssaa_a2_df_dt = config.get_path(\"data_path.elec.processed.ssaa_df_detailed\", mode='a2')\n",
    "path_ssaa_c2_df"
   ]
  },
  {
   "cell_type": "code",
   "execution_count": 36,
   "metadata": {},
   "outputs": [
    {
     "data": {
      "text/plain": [
       "'/Users/mikelperez/0_Python_projects_v3_reduced/0_Python_projects_reduced/data/regulation/elec/dto_peajes_electrointensivos.xlsx'"
      ]
     },
     "execution_count": 36,
     "metadata": {},
     "output_type": "execute_result"
    }
   ],
   "source": [
    "path_omie_matrix = config.get_path(\"data_path.elec.verification_project.omie_matrix\")\n",
    "\n",
    "path_coefs_exc = config.get_path(\"data_path.elec.regulation.coefs_excesos\")\n",
    "path_ie = config.get_path(\"data_path.elec.regulation.ie\")\n",
    "path_ver_template = config.get_resolved_path(\"data_path.elec.verification_project.templates.verif\")\n",
    "path_estim_template = config.get_resolved_path(\"data_path.elec.verification_project.templates.estim\")\n",
    "compodem_a2_path = config.get_resolved_path(\"data_path.elec.verification_project.compodem_a2\")\n",
    "\n",
    "path_peajes_cargos_energia = config.get_resolved_path(\"data_path.elec.regulation.peajes_cargos_energia\")\n",
    "path_peajes_energia = config.get_resolved_path(\"data_path.elec.regulation.peajes_energia\")\n",
    "path_peajes_potencia = config.get_resolved_path(\"data_path.elec.regulation.peajes_potencia\")\n",
    "path_cargos_energia = config.get_resolved_path(\"data_path.elec.regulation.cargos_energia\")\n",
    "path_cargos_potencia = config.get_resolved_path(\"data_path.elec.regulation.cargos_potencia\")\n",
    "path_estructura_cargos = config.get_resolved_path(\"data_path.elec.regulation.estructura_cargos\")\n",
    "path_dto_peajes_electrointensivos = config.get_resolved_path(\"data_path.elec.regulation.dto_peajes_electrointensivos\")\n",
    "\n",
    "path_dto_peajes_electrointensivos\n"
   ]
  },
  {
   "cell_type": "code",
   "execution_count": 37,
   "metadata": {},
   "outputs": [
    {
     "name": "stdout",
     "output_type": "stream",
     "text": [
      "/Users/mikelperez/0_Python_projects_v3_reduced/0_Python_projects_reduced/outputs/verification_project/verif/Generic\n"
     ]
    }
   ],
   "source": [
    "path_alias_elec = config.get_resolved_path(\"data_path.elec.customers.alias_elec\")\n",
    "path_cliente_single = config.get_resolved_path(\"data_path.elec.customers.customer_single.folder\", customer_id=cliente)\n",
    "path_cliente_estim = config.get_path(\"outputs.verification_project.estim.cliente.folder\", customer_id=cliente)\n",
    "path_cliente_verif = config.get_path(\"outputs.verification_project.verif.cliente.folder\", customer_id=cliente)\n",
    "\n",
    "print(path_cliente_verif)"
   ]
  },
  {
   "cell_type": "code",
   "execution_count": 38,
   "metadata": {},
   "outputs": [
    {
     "data": {
      "text/plain": [
       "'/Users/mikelperez/0_Python_projects_v3_reduced/0_Python_projects_reduced/notebooks/verification_project/4B_Merge_Contract_OMIE.ipynb'"
      ]
     },
     "execution_count": 38,
     "metadata": {},
     "output_type": "execute_result"
    }
   ],
   "source": [
    "# Notebooks\n",
    "nb_elec_prices = config.get_resolved_path(\"notebooks.shared.elec_markets_2a\")\n",
    "nb_elec_perd = config.get_resolved_path(\"notebooks.shared.perdidas\")\n",
    "nb_elec_ssaa = config.get_resolved_path(\"notebooks.shared.ssaa\")\n",
    "nb_load = config.get_resolved_path(\"notebooks.load_compilation.export\")\n",
    "\n",
    "nb_market_matrix = config.get_resolved_path(\"notebooks.verification_project.build_matrix\")\n",
    "nb_market_matrix_estim = config.get_resolved_path(\"notebooks.verification_project.build_matrix_estim\")\n",
    "nb_contract_market_matrix = config.get_resolved_path(\"notebooks.verification_project.merge_market_contract\")\n",
    "nb_matrix_estim = config.get_resolved_path(\"notebooks.verification_project.build_matrix_estim\")\n",
    "nb_read_contracts = config.get_resolved_path(\"notebooks.verification_project.read_contract\")\n",
    "nb_estim = config.get_resolved_path(\"notebooks.verification_project.estimacion\")\n",
    "nb_invoices = config.get_resolved_path(\"notebooks.verification_project.hunt_invoices\")\n",
    "nb_verif = config.get_resolved_path(\"notebooks.verification_project.ver_nb\")\n",
    "nb_contract_market_matrix"
   ]
  },
  {
   "cell_type": "code",
   "execution_count": 39,
   "metadata": {},
   "outputs": [
    {
     "data": {
      "text/plain": [
       "'/Users/mikelperez/0_Python_projects_v3_reduced/0_Python_projects_reduced/data/processed/elec/facturas_elec.db'"
      ]
     },
     "execution_count": 39,
     "metadata": {},
     "output_type": "execute_result"
    }
   ],
   "source": [
    "db_elec_path = config.get_resolved_path(\"data_path.elec.processed.facturas\")\n",
    "db_elec_manual_path = config.get_resolved_path(\"data_path.elec.processed.facturas_manual\")\n",
    "\n",
    "path_load_parquet = config.get_path(\"data_path.elec.processed.load_parquet\")\n",
    "path_load_elec_folder = config.get_resolved_path(\"data_path.elec.load_compilation.folder\")\n",
    "db_elec_path"
   ]
  },
  {
   "cell_type": "code",
   "execution_count": 40,
   "metadata": {},
   "outputs": [
    {
     "data": {
      "text/plain": [
       "'/Users/mikelperez/0_Python_projects_v3_reduced/0_Python_projects_reduced/data/customers/elec/alias_clientes_elec.xlsx'"
      ]
     },
     "execution_count": 40,
     "metadata": {},
     "output_type": "execute_result"
    }
   ],
   "source": [
    "path_alias_elec"
   ]
  },
  {
   "cell_type": "code",
   "execution_count": 41,
   "metadata": {},
   "outputs": [],
   "source": [
    "if api_call == True:\n",
    "    nb_out = nb_elec_prices\n",
    "    pm.execute_notebook( \n",
    "        nb_elec_prices, nb_out,\n",
    "        parameters=dict(\n",
    "            festivos_path = festivos_path,\n",
    "            periodos_cal_path = periodos_cal_path,\n",
    "            futures_path = futures_path,\n",
    "            spot_path = spot_path,\n",
    "            spot_formated_path = spot_formated_path,\n",
    "        )\n",
    "    )"
   ]
  },
  {
   "cell_type": "code",
   "execution_count": 42,
   "metadata": {},
   "outputs": [],
   "source": [
    "if api_call == True and operation == 'verif':\n",
    "    pm.execute_notebook(\n",
    "        nb_elec_perd, nb_elec_perd,\n",
    "        parameters=dict(\n",
    "            estado = estado,\n",
    "            perd_path = perd_path\n",
    "        )\n",
    "    )"
   ]
  },
  {
   "cell_type": "code",
   "execution_count": 43,
   "metadata": {},
   "outputs": [],
   "source": [
    "if ssaa_dn == True and operation == 'verif':\n",
    "    pm.execute_notebook(\n",
    "        nb_elec_ssaa, nb_elec_ssaa,\n",
    "        parameters=dict(\n",
    "            ssaa_path = ssaa_path_c2,\n",
    "            ssaa_path_df = path_ssaa_c2_df,\n",
    "            ssaa_path_df_dt = path_ssaa_c2_df_dt,\n",
    "        )\n",
    "    )\n",
    "elif ssaa_dn == True and operation == 'estim':\n",
    "    pm.execute_notebook(\n",
    "        nb_elec_ssaa, nb_elec_ssaa,\n",
    "        parameters=dict(\n",
    "            ssaa_path = ssaa_path_a2,\n",
    "            ssaa_path_df = path_ssaa_a2_df,\n",
    "            ssaa_path_df_dt = path_ssaa_a2_df_dt,\n",
    "        )\n",
    "    )"
   ]
  },
  {
   "cell_type": "code",
   "execution_count": 44,
   "metadata": {},
   "outputs": [
    {
     "name": "stderr",
     "output_type": "stream",
     "text": [
      "Passed unknown parameter: db_elec_path\n"
     ]
    },
    {
     "data": {
      "application/vnd.jupyter.widget-view+json": {
       "model_id": "d18cb98fc9234e49baed9cbcc6ffce48",
       "version_major": 2,
       "version_minor": 0
      },
      "text/plain": [
       "Executing:   0%|          | 0/10 [00:00<?, ?cell/s]"
      ]
     },
     "metadata": {},
     "output_type": "display_data"
    },
    {
     "data": {
      "text/plain": [
       "{'cells': [{'cell_type': 'code',\n",
       "   'execution_count': 1,\n",
       "   'id': '06bb45fb',\n",
       "   'metadata': {'execution': {'iopub.status.busy': '2025-08-06T10:02:29.262995Z',\n",
       "     'iopub.execute_input': '2025-08-06T10:02:29.263432Z',\n",
       "     'iopub.status.idle': '2025-08-06T10:02:29.299051Z',\n",
       "     'shell.execute_reply': '2025-08-06T10:02:29.298750Z'},\n",
       "    'papermill': {'exception': False,\n",
       "     'start_time': '2025-08-06T10:02:29.256168',\n",
       "     'end_time': '2025-08-06T10:02:29.300162',\n",
       "     'duration': 0.043994,\n",
       "     'status': 'completed'},\n",
       "    'tags': []},\n",
       "   'outputs': [],\n",
       "   'source': 'from datetime import datetime\\nfrom config.config_loader import Config\\n\\nconfig = Config()'},\n",
       "  {'cell_type': 'code',\n",
       "   'execution_count': 2,\n",
       "   'id': '562ac422',\n",
       "   'metadata': {'execution': {'iopub.status.busy': '2025-08-06T10:02:29.304006Z',\n",
       "     'iopub.execute_input': '2025-08-06T10:02:29.304143Z',\n",
       "     'iopub.status.idle': '2025-08-06T10:02:29.307457Z',\n",
       "     'shell.execute_reply': '2025-08-06T10:02:29.307205Z'},\n",
       "    'papermill': {'exception': False,\n",
       "     'start_time': '2025-08-06T10:02:29.301925',\n",
       "     'end_time': '2025-08-06T10:02:29.308203',\n",
       "     'duration': 0.006278,\n",
       "     'status': 'completed'},\n",
       "    'tags': ['parameters']},\n",
       "   'outputs': [{'output_type': 'execute_result',\n",
       "     'metadata': {},\n",
       "     'data': {'text/plain': \"'/Users/mikelperez/0_Python_projects_v3_reduced/0_Python_projects_reduced/data/load_compilation/processed_files.json'\"},\n",
       "     'execution_count': 2}],\n",
       "   'source': 'path_load_elec_folder = config.get_resolved_path(\"data_path.elec.load_compilation.folder\")\\npath_load_parquet = config.get_path(\"data_path.elec.processed.load_parquet\")\\nfestivos_path = config.get_path(\"data_path.elec.regulation.festivos\")\\nperiodos_cal_path = config.get_resolved_path(\"data_path.elec.regulation.calendario_periodos\")\\nprocessed_files_path = config.get_path(\"data_path.elec.load_compilation.processed_files\")\\nprocessed_files_path'},\n",
       "  {'cell_type': 'code',\n",
       "   'execution_count': 3,\n",
       "   'id': 'c777a567',\n",
       "   'metadata': {'execution': {'iopub.status.busy': '2025-08-06T10:02:29.310501Z',\n",
       "     'iopub.execute_input': '2025-08-06T10:02:29.310596Z',\n",
       "     'iopub.status.idle': '2025-08-06T10:02:29.312079Z',\n",
       "     'shell.execute_reply': '2025-08-06T10:02:29.311876Z'},\n",
       "    'papermill': {'exception': False,\n",
       "     'start_time': '2025-08-06T10:02:29.309243',\n",
       "     'end_time': '2025-08-06T10:02:29.312694',\n",
       "     'duration': 0.003451,\n",
       "     'status': 'completed'},\n",
       "    'tags': []},\n",
       "   'outputs': [{'output_type': 'stream',\n",
       "     'name': 'stdout',\n",
       "     'text': '/Users/mikelperez/0_Python_projects_v3_reduced/0_Python_projects_reduced/data/load_compilation/processed_files.json\\n'}],\n",
       "   'source': 'print(processed_files_path)'},\n",
       "  {'id': '0f8be564',\n",
       "   'cell_type': 'code',\n",
       "   'metadata': {'tags': ['injected-parameters'],\n",
       "    'papermill': {'exception': False,\n",
       "     'start_time': '2025-08-06T10:02:29.313784',\n",
       "     'end_time': '2025-08-06T10:02:29.317205',\n",
       "     'duration': 0.003421,\n",
       "     'status': 'completed'},\n",
       "    'execution': {'iopub.status.busy': '2025-08-06T10:02:29.315051Z',\n",
       "     'iopub.execute_input': '2025-08-06T10:02:29.315139Z',\n",
       "     'iopub.status.idle': '2025-08-06T10:02:29.316650Z',\n",
       "     'shell.execute_reply': '2025-08-06T10:02:29.316430Z'}},\n",
       "   'execution_count': 4,\n",
       "   'source': '# Parameters\\ndb_elec_path = \"/Users/mikelperez/0_Python_projects_v3_reduced/0_Python_projects_reduced/data/processed/elec/facturas_elec.db\"\\npath_load_elec_folder = \"/Users/mikelperez/0_Python_projects_v3_reduced/0_Python_projects_reduced/data/load_compilation/elec\"\\npath_load_parquet = \"/Users/mikelperez/0_Python_projects_v3_reduced/0_Python_projects_reduced/data/processed/elec/elec_load.parquet\"\\nfestivos_path = \"/Users/mikelperez/0_Python_projects_v3_reduced/0_Python_projects_reduced/data/regulation/elec/festivos\"\\nperiodos_cal_path = \"/Users/mikelperez/0_Python_projects_v3_reduced/0_Python_projects_reduced/data/regulation/elec/calendario_periodos.xlsx\"\\n',\n",
       "   'outputs': []},\n",
       "  {'cell_type': 'code',\n",
       "   'execution_count': 5,\n",
       "   'id': '4c2b985e',\n",
       "   'metadata': {'execution': {'iopub.status.busy': '2025-08-06T10:02:29.319295Z',\n",
       "     'iopub.execute_input': '2025-08-06T10:02:29.319375Z',\n",
       "     'iopub.status.idle': '2025-08-06T10:02:29.320639Z',\n",
       "     'shell.execute_reply': '2025-08-06T10:02:29.320462Z'},\n",
       "    'papermill': {'exception': False,\n",
       "     'start_time': '2025-08-06T10:02:29.318154',\n",
       "     'end_time': '2025-08-06T10:02:29.321258',\n",
       "     'duration': 0.003104,\n",
       "     'status': 'completed'},\n",
       "    'tags': []},\n",
       "   'outputs': [],\n",
       "   'source': 'year = datetime.now().year'},\n",
       "  {'cell_type': 'code',\n",
       "   'execution_count': 6,\n",
       "   'id': '31aeb7e2',\n",
       "   'metadata': {'execution': {'iopub.status.busy': '2025-08-06T10:02:29.323382Z',\n",
       "     'iopub.execute_input': '2025-08-06T10:02:29.323465Z',\n",
       "     'iopub.status.idle': '2025-08-06T10:02:29.941885Z',\n",
       "     'shell.execute_reply': '2025-08-06T10:02:29.941627Z'},\n",
       "    'papermill': {'exception': False,\n",
       "     'start_time': '2025-08-06T10:02:29.322256',\n",
       "     'end_time': '2025-08-06T10:02:29.942603',\n",
       "     'duration': 0.620347,\n",
       "     'status': 'completed'},\n",
       "    'tags': []},\n",
       "   'outputs': [],\n",
       "   'source': 'import load_compilation.load as load\\nfrom shared.dicts import provider_dict'},\n",
       "  {'cell_type': 'code',\n",
       "   'execution_count': 7,\n",
       "   'id': 'efe3f816',\n",
       "   'metadata': {'execution': {'iopub.status.busy': '2025-08-06T10:02:29.945198Z',\n",
       "     'iopub.execute_input': '2025-08-06T10:02:29.945348Z',\n",
       "     'iopub.status.idle': '2025-08-06T10:02:29.947647Z',\n",
       "     'shell.execute_reply': '2025-08-06T10:02:29.947429Z'},\n",
       "    'papermill': {'exception': False,\n",
       "     'start_time': '2025-08-06T10:02:29.943733',\n",
       "     'end_time': '2025-08-06T10:02:29.948183',\n",
       "     'duration': 0.00445,\n",
       "     'status': 'completed'},\n",
       "    'tags': []},\n",
       "   'outputs': [],\n",
       "   'source': 'Load = load.Load(\\n            year=year,\\n            periodos_path=periodos_cal_path,\\n            festivos_path=festivos_path,\\n            base_path=path_load_elec_folder,\\n            load_path=path_load_parquet,\\n            provider_dict=provider_dict,\\n            processed_files_path=processed_files_path\\n            )'},\n",
       "  {'cell_type': 'code',\n",
       "   'execution_count': 8,\n",
       "   'id': 'a7290367',\n",
       "   'metadata': {'execution': {'iopub.status.busy': '2025-08-06T10:02:29.949930Z',\n",
       "     'iopub.execute_input': '2025-08-06T10:02:29.950028Z',\n",
       "     'iopub.status.idle': '2025-08-06T10:02:29.951663Z',\n",
       "     'shell.execute_reply': '2025-08-06T10:02:29.951501Z'},\n",
       "    'papermill': {'exception': False,\n",
       "     'start_time': '2025-08-06T10:02:29.948957',\n",
       "     'end_time': '2025-08-06T10:02:29.952232',\n",
       "     'duration': 0.003275,\n",
       "     'status': 'completed'},\n",
       "    'tags': []},\n",
       "   'outputs': [],\n",
       "   'source': '# import pandas as pd \\n# import os\\n\\n# # spot_formated_path = config.get_path(\"data_path.elec.processed.spot_formatted\")\\n# # df_prices = pd.read_pickle(spot_formated_path)\\n\\n# # df = pd.read_excel(\\'Copia de Energía activa - horario_28-10-2024_31-12-2024.xls\\', skiprows=14)\\n# # df.dropna(axis=1, how=\\'all\\', inplace=True)\\n# # df.columns = [\\'datetime\\', \\'d\\', \\'load\\']\\n# # df = df[[\\'datetime\\', \\'load\\']]\\n# # df[\\'datetime\\'] = pd.to_datetime(df[\\'datetime\\'], format=\\'mixed\\')\\n# # df_merged = pd.merge(df, df_prices, how=\\'left\\', left_on=\\'datetime\\', right_on=\\'datetime\\')\\n# # df_merged = df_merged[[\\'datetime\\', \\'periodo\\', \\'load\\']]\\n# # print(df_merged.groupby([df_merged[\\'datetime\\'].dt.year, df_merged[\\'datetime\\'].dt.month, df_merged[\\'periodo\\']])[\\'load\\'].sum())\\n# # df_merged.to_excel(\\'Copia de Energía activa - horario_28-10-2024_31-12-2024 con periodos.xlsx\\', index=False)\\n\\n# list_xls = os.listdir()\\n\\n# path_alias_elec = config.get_resolved_path(\"data_path.gas.customers.alias_gas\")\\n# df_alias = pd.read_excel(path_alias_elec)\\n\\n# df_agg = pd.DataFrame()\\n\\n# for file in list_xls:\\n\\n#     if \\'xls\\' in file:\\n\\n#         df = pd.read_html(file)[0]  # Lee la primera tabla del HTML\\n#         df = df.iloc[1:, :]  # Elimina la primera columna (índices)\\n#         df = df.iloc[:, 1:4]\\n#         df[\\'cups\\'] = file[:-4]\\n#         df[\\'alias\\'] = df[\\'cups\\'].apply(lambda x: df_alias.loc[df_alias[\\'cups\\'] == x, \\'alias\\'].values[0] if not df_alias.loc[df_alias[\\'cups\\'] == x, \\'alias\\'].empty else None)\\n#         df_agg = pd.concat([df_agg, df], ignore_index=True)\\n\\n\\n# df_agg[\\'FechaFinMesConsumo\\'] = pd.to_datetime(df_agg[\\'FechaFinMesConsumo\\'])\\n# df_agg[\\'year\\'] = df_agg[\\'FechaFinMesConsumo\\'].dt.year\\n# df_agg[\\'month\\'] = df_agg[\\'FechaFinMesConsumo\\'].dt.month\\n# df_agg[\\'centro\\'] = df_agg[\\'alias\\'].apply(lambda x: str(x)[:-2] if x is not None else None)\\n# df_agg\\n# df_agg.groupby([\\'centro\\', \\'year\\', \\'month\\'])[\\'ConsumoEnWh\\'].sum().reset_index().to_excel(\\'GI_CONSUMOS_GAS.xlsx\\', index=False)'},\n",
       "  {'cell_type': 'code',\n",
       "   'execution_count': 9,\n",
       "   'id': '7a60c9b6',\n",
       "   'metadata': {'execution': {'iopub.status.busy': '2025-08-06T10:02:29.955254Z',\n",
       "     'iopub.execute_input': '2025-08-06T10:02:29.955338Z',\n",
       "     'iopub.status.idle': '2025-08-06T10:02:29.959877Z',\n",
       "     'shell.execute_reply': '2025-08-06T10:02:29.959707Z'},\n",
       "    'papermill': {'exception': False,\n",
       "     'start_time': '2025-08-06T10:02:29.953037',\n",
       "     'end_time': '2025-08-06T10:02:29.960382',\n",
       "     'duration': 0.007345,\n",
       "     'status': 'completed'},\n",
       "    'tags': []},\n",
       "   'outputs': [{'output_type': 'stream',\n",
       "     'name': 'stdout',\n",
       "     'text': 'Processing provider: cepsa\\n  Skipping already processed file: VELERIN_C_01-01-2025 - 31-01-2025__a27b8f0f.xls\\n  Skipping already processed file: VELERIN_C_01-11-2024 - 30-11-2024__d22e35d0.xls\\n  Skipping already processed file: WARNER3_C_01-09-2023 - 30-09-2023__bb2a7824.xls\\n  Skipping already processed file: WARNER3_C_01-10-2024 - 31-10-2024__86095bff.xls\\n  Skipping already processed file: WARNER3_C_01-09-2024 - 30-09-2024__e4e2cea0.xls\\n  Skipping already processed file: WARNER3_C_01-11-2022 - 30-11-2022__38ed3c3c.xls\\n  Skipping already processed file: PR_OFI3_C_01-09-2023 - 30-09-2023__7ac88e0f.xls\\n  Skipping already processed file: PR_OFI2_C_01-03-2024 - 31-03-2024__609ce797.xls\\n  Skipping already processed file: PR_OFI3_C_01-12-2024 - 31-12-2024__771f2809.xls\\n  Skipping already processed file: WARNER3_C_01-09-2022 - 30-09-2022__5a36d81d.xls\\n  Skipping already processed file: WARNER3_C_01-05-2024 - 31-05-2024__d6920d43.xls\\n  Skipping already processed file: PR_OFI1_C_01-09-2023 - 30-09-2023__087b9332.xls\\n  Skipping already processed file: PR_OFI3_C_01-06-2024 - 30-06-2024__d350d623.xls\\n  Skipping already processed file: WARNER4_C_01-08-2023 - 31-08-2023__8688c7cd.xls\\n  Skipping already processed file: PR_OFI3_C_01-03-2025 - 31-03-2025__e338c281.xls\\n  Skipping already processed file: VELERIN_C_01-06-2024 - 30-06-2024__7c4418c6.xls\\n  Skipping already processed file: WARNER_C_01-09-2024 - 30-09-2024__988cf638.xls\\n  Skipping already processed file: WARNER_C_01-06-2024 - 30-06-2024__cc8aad9a.xls\\n  Skipping already processed file: PR_OFI2_C_01-04-2025 - 30-04-2025__7a1310ba.xls\\n  Skipping already processed file: PR_OFI2_C_01-07-2024 - 31-07-2024__cae11c06.xls\\n  Skipping already processed file: VELERIN_C_01-08-2024 - 31-08-2024__a17bd3e6.xls\\n  Skipping already processed file: WARNER3_C_01-06-2023 - 30-06-2023__245a3c0f.xls\\n  Skipping already processed file: PR_OFI2_C_01-05-2024 - 31-05-2024__fc9232ed.xls\\n  Skipping already processed file: WARNER3_C_01-10-2023 - 31-10-2023__8202d80c.xls\\n  Skipping already processed file: TRILLA_C_01-11-2024 - 30-11-2024__5f9b9d12.xls\\n  Skipping already processed file: VELERIN_C_01-10-2024 - 31-10-2024__24fcf498.xls\\n  Skipping already processed file: PR_OFI2_C_01-01-2024 - 31-01-2024__bef8b032.xls\\n  Skipping already processed file: TIVOLI_C_01-10-2024 - 31-10-2024__0bb6eee4.xls\\n  Skipping already processed file: WARNER_C_01-03-2023 - 31-03-2023__98585822.xls\\n  Skipping already processed file: PR_OFI2_C_01-10-2023 - 31-10-2023__2fddbe23.xls\\n  Skipping already processed file: TRILLA_C_01-03-2025 - 31-03-2025__90f5716d.xls\\n  Skipping already processed file: PR_OFI3_C_01-04-2024 - 30-04-2024__2099e6bf.xls\\n  Skipping already processed file: TRILLA_C_01-01-2025 - 31-01-2025__7e2e4f01.xls\\n  Skipping already processed file: WARNER_C_01-09-2022 - 30-09-2022__ab3de897.xls\\n  Skipping already processed file: PR_OFI3_C_01-09-2024 - 30-09-2024__1fe4fa0b.xls\\n  Skipping already processed file: WARNER3_C_01-05-2024 - 31-05-2024__e295f6df.xls\\n  Skipping already processed file: PR_OFI3_C_01-03-2024 - 31-03-2024__c3c268a7.xls\\n  Skipping already processed file: WARNER_C_01-10-2024 - 31-10-2024__394ad1e8.xls\\n  Skipping already processed file: PR_OFI2_C_01-10-2024 - 31-10-2024__c5302df1.xls\\n  Skipping already processed file: WARNER3_C_01-10-2022 - 31-10-2022__45f26414.xls\\n  Skipping already processed file: WARNER4_C_01-08-2024 - 31-08-2024__98625bf8.xls\\n  Skipping already processed file: TRILLA_C_01-08-2024 - 31-08-2024__5979e91e.xls\\n  Skipping already processed file: WARNER3_C_01-07-2022 - 31-07-2022__42c88c42.xls\\n  Skipping already processed file: TIVOLI_C_01-12-2024 - 31-12-2024__2318fa97.xls\\n  Skipping already processed file: WARNER_C_01-11-2024 - 30-11-2024__ebaf0516.xls\\n  Skipping already processed file: WARNER_C_01-04-2024 - 30-04-2024__fd25e7ee.xls\\n  Skipping already processed file: WARNER3_C_01-12-2022 - 31-12-2022__2baa604f.xls\\n  Skipping already processed file: VELERIN_C_01-09-2024 - 30-09-2024__dd1ab977.xls\\n  Skipping already processed file: VELERIN_C_01-12-2024 - 31-12-2024__41ba2424.xls\\n  Skipping already processed file: PR_OFI1_C_01-09-2024 - 30-09-2024__0d65ce51.xls\\n  Skipping already processed file: WARNER4_C_01-04-2024 - 30-04-2024__63f2f35e.xls\\n  Skipping already processed file: TRILLA_C_01-05-2025 - 31-05-2025__d421a55f.xls\\n  Skipping already processed file: PR_OFI2_C_01-02-2024 - 29-02-2024__cf2677b0.xls\\n  Skipping already processed file: WARNER_C_01-04-2023 - 30-04-2023__bfa7f1c9.xls\\n  Skipping already processed file: PR_OFI2_C_01-03-2025 - 31-03-2025__755c78c5.xls\\n  Skipping already processed file: PR_OFI2_C_01-11-2024 - 30-11-2024__4c648496.xls\\n  Skipping already processed file: WARNER4_C_01-05-2023 - 31-05-2023__219bade8.xls\\n  Skipping already processed file: WARNER_C_01-03-2024 - 31-03-2024__83c6de24.xls\\n  Skipping already processed file: WARNER4_C_01-06-2023 - 30-06-2023__37f28d83.xls\\n  Skipping already processed file: WARNER4_C_01-07-2023 - 31-07-2023__d3f31c45.xls\\n  Skipping already processed file: WARNER_C_01-11-2024 - 30-11-2024__442ab642.xls\\n  Skipping already processed file: PR_OFI3_C_01-08-2023 - 31-08-2023__4040fcda.xls\\n  Skipping already processed file: WARNER4_C_01-03-2024 - 31-03-2024__e43953e4.xls\\n  Skipping already processed file: CULLERA_C_01-11-2024 - 30-11-2024__8bc850ed.xls\\n  Skipping already processed file: WARNER3_C_01-02-2024 - 29-02-2024__11068735.xls\\n  Skipping already processed file: WARNER4_C_01-12-2023 - 31-12-2023__668abab4.xls\\n  Skipping already processed file: PR_OFI1_C_01-02-2024 - 29-02-2024__408e3ccc.xls\\n  Skipping already processed file: PR_OFI1_C_01-04-2025 - 30-04-2025__8c0a05c5.xls\\n  Skipping already processed file: PR_OFI1_C_01-05-2025 - 31-05-2025__d8d09aa4.xls\\n  Skipping already processed file: WARNER4_C_01-10-2024 - 31-10-2024__ff4d7804.xls\\n  Skipping already processed file: VELERIN_C_01-05-2024 - 31-05-2024__25bed3c4.xls\\n  Skipping already processed file: WARNER3_C_01-08-2023 - 31-08-2023__30d5cab4.xls\\n  Skipping already processed file: PR_OFI3_C_01-01-2024 - 31-01-2024__1a4d00c1.xls\\n  Skipping already processed file: TRILLA_C_01-03-2025 - 31-03-2025__75abc0d0.xls\\n  Skipping already processed file: WARNER_C_01-06-2023 - 30-06-2023__6fe00be7.xls\\n  Skipping already processed file: WARNER_C_01-02-2024 - 29-02-2024__a21f11e1.xls\\n  Skipping already processed file: PR_OFI1_C_01-04-2024 - 30-04-2024__698fb086.xls\\n  Skipping already processed file: TIVOLI_C_01-08-2024 - 31-08-2024__c73c1267.xls\\n  Skipping already processed file: WARNER3_C_01-03-2023 - 31-03-2023__d4c5ca27.xls\\n  Skipping already processed file: PR_OFI1_C_01-01-2025 - 31-01-2025__15ec6e0e.xls\\n  Skipping already processed file: WARNER_C_01-12-2022 - 31-12-2022__ecc934c3.xls\\n  Skipping already processed file: PR_OFI3_C_01-11-2023 - 30-11-2023__b3033684.xls\\n  Skipping already processed file: TRILLA_C_01-02-2025 - 28-02-2025__bededcd4.xls\\n  Skipping already processed file: PR_OFI2_C_01-02-2025 - 28-02-2025__be27c4c2.xls\\n  Skipping already processed file: FAMESA_C_01-04-2025 - 30-04-2025__0b7c4f6d.xls\\n  Skipping already processed file: TRILLA_C_01-02-2025 - 28-02-2025__447a740f.xls\\n  Skipping already processed file: WARNER4_C_01-11-2023 - 30-11-2023__6fd46a16.xls\\n  Skipping already processed file: TRILLA_C_01-04-2025 - 30-04-2025__ee62de1a.xls\\n  Skipping already processed file: TIVOLI_C_01-03-2024 - 31-03-2024__bcec0562.xls\\n  Skipping already processed file: PR_OFI1_C_01-06-2024 - 30-06-2024__cfb8b25e.xls\\n  Skipping already processed file: WARNER_C_01-05-2023 - 31-05-2023__9470bc91.xls\\n  Skipping already processed file: WARNER_C_01-08-2023 - 31-08-2023__0b8db7e7.xls\\n  Skipping already processed file: WARNER3_C_01-11-2024 - 30-11-2024__77c4742a.xls\\n  Skipping already processed file: TRILLA_C_01-01-2025 - 31-01-2025__c353e6bd.xls\\n  Skipping already processed file: WARNER3_C_01-04-2023 - 30-04-2023__bff8f887.xls\\n  Skipping already processed file: WARNER4_C_01-06-2024 - 30-06-2024__a814ec1f.xls\\n  Skipping already processed file: WARNER3_C_01-07-2024 - 31-07-2024__ae313d09.xls\\n  Skipping already processed file: WARNER_C_01-10-2024 - 31-10-2024__ed414c53.xls\\n  Skipping already processed file: WARNER4_C_01-09-2024 - 30-09-2024__b7d18b15.xls\\n  Skipping already processed file: PR_OFI2_C_01-12-2023 - 31-12-2023__9fe39e7d.xls\\n  Skipping already processed file: TRILLA_C_01-12-2024 - 31-12-2024__0e49bd9c.xls\\n  Skipping already processed file: WARNER4_C_01-06-2023 - 30-06-2023__bc0ea8d5.xls\\n  Skipping already processed file: WARNER3_C_01-06-2024 - 30-06-2024__f70dd39d.xls\\n  Skipping already processed file: WARNER3_C_01-10-2024 - 31-10-2024__f7da676d.xls\\n  Skipping already processed file: PR_OFI1_C_01-10-2023 - 31-10-2023__ef74b6c0.xls\\n  Skipping already processed file: PR_OFI2_C_01-07-2023 - 31-07-2023__e482b91e.xls\\n  Skipping already processed file: WARNER3_C_01-05-2023 - 31-05-2023__4e93353e.xls\\n  Skipping already processed file: WARNER4_C_01-02-2024 - 29-02-2024__4f4d9faa.xls\\n  Skipping already processed file: WARNER_C_01-05-2024 - 31-05-2024__64c304ac.xls\\n  Skipping already processed file: PR_OFI1_C_01-05-2024 - 31-05-2024__1d4b506f.xls\\n  Skipping already processed file: WARNER_C_01-08-2024 - 31-08-2024__5ce6d5e9.xls\\n  Skipping already processed file: PR_OFI1_C_01-11-2024 - 30-11-2024__0c35428a.xls\\n  Skipping already processed file: PR_OFI3_C_01-07-2023 - 31-07-2023__6a508850.xls\\n  Skipping already processed file: TRILLA_C_01-08-2024 - 31-08-2024__4a196202.xls\\n  Skipping already processed file: PR_OFI3_C_01-01-2025 - 31-01-2025__84fb3b21.xls\\n  Skipping already processed file: TIVOLI_C_01-02-2024 - 29-02-2024__8cf6db4f.xls\\n  Skipping already processed file: PR_OFI3_C_01-05-2025 - 31-05-2025__86de1064.xls\\n  Skipping already processed file: WARNER4_C_01-11-2024 - 30-11-2024__ddce3899.xls\\n  Skipping already processed file: WARNER_C_01-07-2022 - 31-07-2022__0b1c1559.xls\\n  Skipping already processed file: PR_OFI1_C_01-07-2023 - 31-07-2023__bd814500.xls\\n  Skipping already processed file: WARNER_C_01-07-2024 - 31-07-2024__e77525e7.xls\\n  Skipping already processed file: WARNER4_C_01-11-2024 - 30-11-2024__2f326b01.xls\\n  Skipping already processed file: TIVOLI_C_01-06-2024 - 30-06-2024__261787ca.xls\\n  Skipping already processed file: VELERIN_C_01-03-2024 - 31-03-2024__f6e89ff7.xls\\n  Skipping already processed file: TIVOLI_C_01-05-2024 - 31-05-2024__2879c746.xls\\n  Skipping already processed file: WARNER3_C_01-08-2022 - 31-08-2022__e1f6f06f.xls\\n  Skipping already processed file: TRILLA_C_01-10-2024 - 31-10-2024__a48dd819.xls\\n  Skipping already processed file: WARNER_C_01-11-2022 - 30-11-2022__810c2d52.xls\\n  Skipping already processed file: TRILLA_C_01-10-2024 - 31-10-2024__2c663a9e.xls\\n  Skipping already processed file: PR_OFI3_C_01-10-2024 - 31-10-2024__8c022524.xls\\n  Skipping already processed file: PR_OFI1_C_01-10-2024 - 31-10-2024__8deb21ce.xls\\n  Skipping already processed file: WARNER4_C_01-04-2024 - 30-04-2024__2e08f671.xls\\n  Skipping already processed file: PR_OFI1_C_01-12-2024 - 31-12-2024__1c1e8491.xls\\n  Skipping already processed file: WARNER3_C_01-01-2024 - 31-01-2024__47060416.xls\\n  Skipping already processed file: WARNER3_C_01-01-2023 - 31-01-2023__b42c5be1.xls\\n  Skipping already processed file: PR_OFI1_C_01-11-2023 - 30-11-2023__afeeef7e.xls\\n  Skipping already processed file: PR_OFI3_C_01-02-2025 - 28-02-2025__c5e4fea1.xls\\n  Skipping already processed file: WARNER_C_01-10-2024 - 31-10-2024__dd9c637e.xls\\n  Skipping already processed file: WARNER4_C_01-04-2023 - 30-04-2023__ebe40ee5.xls\\n  Skipping already processed file: TRILLA_C_01-04-2025 - 30-04-2025__3f76904f.xls\\n  Skipping already processed file: VELERIN_C_01-07-2024 - 31-07-2024__0d8fe41e.xls\\n  Skipping already processed file: WARNER4_C_01-10-2023 - 31-10-2023__6054aefa.xls\\n  Skipping already processed file: PR_OFI3_C_01-04-2025 - 30-04-2025__1c14986d.xls\\n  Skipping already processed file: TIVOLI_C_01-07-2024 - 31-07-2024__bedea7e7.xls\\n  Skipping already processed file: PR_OFI3_C_01-11-2024 - 30-11-2024__1250decf.xls\\n  Skipping already processed file: WARNER_C_01-01-2023 - 31-01-2023__7a017b4e.xls\\n  Skipping already processed file: PR_OFI1_C_01-12-2023 - 31-12-2023__ba5f1c78.xls\\n  Skipping already processed file: WARNER_C_01-10-2023 - 31-10-2023__4f80e291.xls\\n  Skipping already processed file: TIVOLI_C_01-11-2024 - 30-11-2024__c0ef861a.xls\\n  Skipping already processed file: WARNER_C_01-09-2023 - 30-09-2023__f9ee5962.xls\\n  Skipping already processed file: WARNER_C_01-12-2023 - 31-12-2023__ae706903.xls\\n  Skipping already processed file: PR_OFI2_C_01-04-2024 - 30-04-2024__8eafccbc.xls\\n  Skipping already processed file: FAUNIA_C_01-01-2025 - 31-01-2025__8adf1b8c.xls\\n  Skipping already processed file: PR_OFI2_C_01-08-2023 - 31-08-2023__99a01347.xls\\n  Skipping already processed file: WARNER3_C_01-10-2023 - 31-10-2023__2854caf5.xls\\n  Skipping already processed file: PR_OFI2_C_01-08-2024 - 31-08-2024__90f2acc1.xls\\n  Skipping already processed file: WARNER3_C_01-04-2024 - 30-04-2024__eec29229.xls\\n  Skipping already processed file: PR_OFI3_C_01-02-2024 - 29-02-2024__d4050036.xls\\n  Skipping already processed file: TIVOLI_C_01-09-2024 - 30-09-2024__cd6fb00d.xls\\n  Skipping already processed file: PR_OFI1_C_01-08-2023 - 31-08-2023__90416527.xls\\n  Skipping already processed file: WARNER3_C_01-03-2024 - 31-03-2024__12de5a25.xls\\n  Skipping already processed file: TRILLA_C_01-09-2024 - 30-09-2024__092b2ba2.xls\\n  Skipping already processed file: WARNER3_C_01-02-2023 - 28-02-2023__8892b96c.xls\\n  Skipping already processed file: WARNER3_C_01-08-2024 - 31-08-2024__fad32128.xls\\n  Skipping already processed file: PR_OFI1_C_01-02-2025 - 28-02-2025__206c62b5.xls\\n  Skipping already processed file: PR_OFI2_C_01-05-2025 - 31-05-2025__b9ee33af.xls\\n  Skipping already processed file: PR_OFI1_C_01-03-2025 - 31-03-2025__77ebec07.xls\\n  Skipping already processed file: WARNER3_C_01-09-2023 - 30-09-2023__d5a1f395.xls\\n  Skipping already processed file: PR_OFI3_C_01-07-2024 - 31-07-2024__8df0a8c4.xls\\n  Skipping already processed file: WARNER_C_01-07-2023 - 31-07-2023__08f7e3cd.xls\\n  Skipping already processed file: WARNER3_C_01-07-2023 - 31-07-2023__65d83322.xls\\n  Skipping already processed file: PR_OFI2_C_01-12-2024 - 31-12-2024__9da84734.xls\\n  Skipping already processed file: PR_OFI2_C_01-11-2023 - 30-11-2023__5c94f172.xls\\n  Skipping already processed file: WARNER_C_01-08-2022 - 31-08-2022__ffc57a30.xls\\n  Skipping already processed file: PR_OFI2_C_01-01-2025 - 31-01-2025__6dd828ef.xls\\n  Skipping already processed file: WARNER4_C_01-10-2024 - 31-10-2024__0250dd72.xls\\n  Skipping already processed file: PR_OFI3_C_01-05-2024 - 31-05-2024__82f68af8.xls\\n  Skipping already processed file: WARNER4_C_01-05-2024 - 31-05-2024__05689075.xls\\n  Skipping already processed file: WARNER3_C_01-12-2023 - 31-12-2023__0dbab11f.xls\\n  Skipping already processed file: PR_OFI2_C_01-09-2023 - 30-09-2023__3b5c4452.xls\\n  Skipping already processed file: PR_OFI2_C_01-09-2024 - 30-09-2024__623e9730.xls\\n  Skipping already processed file: WARNER4_C_01-01-2024 - 31-01-2024__6ea873a1.xls\\n  Skipping already processed file: PR_OFI1_C_01-07-2024 - 31-07-2024__239a4587.xls\\n  Skipping already processed file: PR_OFI3_C_01-08-2024 - 31-08-2024__2c9c9767.xls\\n  Skipping already processed file: WARNER3_C_01-11-2023 - 30-11-2023__6e11ea7a.xls\\n  Skipping already processed file: PR_OFI3_C_01-10-2023 - 31-10-2023__fe8cba5c.xls\\n  Skipping already processed file: TRILLA_C_01-12-2024 - 31-12-2024__f06d5ff7.xls\\n  Skipping already processed file: PR_OFI1_C_01-08-2024 - 31-08-2024__7accecb6.xls\\n  Skipping already processed file: WARNER_C_01-11-2023 - 30-11-2023__e3520298.xls\\n  Skipping already processed file: TRILLA_C_01-09-2024 - 30-09-2024__ac47d9b3.xls\\n  Skipping already processed file: VELERIN_C_01-02-2024 - 29-02-2024__571790af.xls\\n  Skipping already processed file: PR_OFI2_C_01-06-2024 - 30-06-2024__029d67de.xls\\n  Skipping already processed file: PR_OFI1_C_01-03-2024 - 31-03-2024__5df09e40.xls\\n  Skipping already processed file: TRILLA_C_01-11-2024 - 30-11-2024__11380ecd.xls\\n  Skipping already processed file: TRILLA_C_01-11-2024 - 30-11-2024__a8a22957.xls\\n  Skipping already processed file: WARNER4_C_01-11-2024 - 30-11-2024__1fc72a69.xls\\n  Skipping already processed file: WARNER4_C_01-10-2024 - 31-10-2024__7b88370c.xls\\n  Skipping already processed file: WARNER_C_01-11-2024 - 30-11-2024__236264d8.xls\\n  Skipping already processed file: WARNER_C_01-01-2024 - 31-01-2024__1860b381.xls\\n  Skipping already processed file: PR_OFI3_C_01-12-2023 - 31-12-2023__27a64300.xls\\n  Skipping already processed file: WARNER_C_01-02-2023 - 28-02-2023__25376eaf.xls\\n  Skipping already processed file: WARNER3_C_01-04-2024 - 30-04-2024__98df2039.xls\\n  Skipping already processed file: WARNER_C_01-10-2022 - 31-10-2022__2637e9d1.xls\\n  Skipping already processed file: PR_OFI1_C_01-01-2024 - 31-01-2024__9b1733c0.xls\\n  Skipping already processed file: WARNER4_C_01-07-2024 - 31-07-2024__4e190f32.xls\\n  Skipping already processed file: WARNER4_C_01-09-2023 - 30-09-2023__38a51c3e.xls\\nProcessing provider: creara\\nProcessing provider: linkener\\n  Skipping already processed file: template_B_20241101_H_1733128673.0751.csv\\n  Skipping already processed file: template_B_20250418_H.csv\\n  Skipping already processed file: template_B_20240831_Q_1737563713.9158.csv\\n  Skipping already processed file: template_B_20231031_H_1731947935.3285.csv\\n  Skipping already processed file: template_B_20241130_Q_1735811073.9037.csv\\n  Skipping already processed file: template_B_20240501_Q_1732724179.4717.csv\\n  Skipping already processed file: template_B_20230725_H_1739290731.2365.csv\\n  Skipping already processed file: template_B_20250504_H.csv\\n  Skipping already processed file: template_B_20241130_H_1735811014.5199.csv\\n  Skipping already processed file: template_B_20240831_Q_1737564873.7589.csv\\n  Skipping already processed file: template_B_20250504_Q.csv\\n  Skipping already processed file: template_B_20230626_Q_1739285916.0331.csv\\n  Skipping already processed file: template_B_20241101_Q_1733128698.2432.csv\\n  Skipping already processed file: template_B_20240930_H_1738928948.4423.csv\\n  Skipping already processed file: template_B_20240831_Q_1737564787.1467.csv\\n  Skipping already processed file: template_B_20250418_Q.csv\\n  Skipping already processed file: template_B_20240930_Q_1738929159.4364.csv\\n  Skipping already processed file: template_B_20240930_Q_1737563097.5653.csv\\n  Skipping already processed file: template_B_20240831_Q_1737564420.0058.csv\\nProcessing provider: seinon\\n  Skipping already processed file: nov23_oct24_quarter.xlsx\\n  Skipping already processed file: load_quarter_2023.xlsx\\n  Skipping already processed file: 25feb_3may_quarter.xlsx\\n  Skipping already processed file: nov_hour.xlsx\\n  Skipping already processed file: abr24_h.xlsx\\n  Skipping already processed file: nov23_oct24.xlsx\\n  Skipping already processed file: nov_quarter.xlsx\\n  Skipping already processed file: dec_24_feb_25h.xlsx\\n  Skipping already processed file: may26_h.xlsx\\n  Skipping already processed file: load_mar24_oct24q.xlsx\\n  Skipping already processed file: may26_q.xlsx\\n  Skipping already processed file: dec_24_feb_25q.xlsx\\n  Skipping already processed file: 25feb_3may_hour.xlsx\\nProcessing provider: creara_quarter\\nProcessing provider: taghleef_horaria_1\\n  Skipping already processed file: Copia de curva horaria_enero-noviembre24 (002).xlsx\\nProcessing provider: taghleef_horaria_2\\n  Skipping already processed file: ES0031101457946001KR0F (4).xlsx\\n  Skipping already processed file: ES0031101457946001KR0F (6).xlsx\\n  Skipping already processed file: ES0031101457946001KR0F_7.xlsx\\n  Skipping already processed file: ES0031101457946001KR0F (2).xlsx\\n  Skipping already processed file: ES0031101457946001KR0F (5).xlsx\\n  Skipping already processed file: ES0031101457946001KR0F (3).xlsx\\n  Skipping already processed file: ES0031101457946001KR0F__.xlsx\\n  Skipping already processed file: ES0031101457946001KR0F.xlsx\\n  Skipping already processed file: curva horaria_diciembre24.xlsx\\n  Skipping already processed file: ES0031101457946001KR0F_7__.xlsx\\nProcessing provider: clean\\n  Skipping already processed file: load_creara20250425_144627.pkl\\n  Skipping already processed file: load_creara20250103_124242.pkl\\n  Skipping already processed file: load_creara20250410_130845.pkl\\n  Skipping already processed file: load_creara20250102_115318.pkl\\n  Skipping already processed file: load_creara20250204_173538.pkl\\n  Skipping already processed file: load_creara20250205_131604.pkl\\n  Skipping already processed file: load_creara20250102_114014.pkl\\n  Skipping already processed file: load_creara20250313_094752.pkl\\n  Skipping already processed file: load_creara20250520_185624.pkl\\n  Skipping already processed file: load_creara20250630_175740.pkl\\n  Skipping already processed file: load_creara20250115_135236.pkl\\n  Skipping already processed file: load_creara20250108_130905.pkl\\n  Skipping already processed file: load_creara20250102_112309.pkl\\n  Skipping already processed file: load_creara20250206_092057.pkl\\n  Skipping already processed file: load_creara20250630_185028.pkl\\n  Skipping already processed file: load_creara20250305_183427.pkl\\nProcessing provider: total\\nProcessing provider: repsol_h\\n  Skipping already processed file: Consumos_horario_01122024_31122024 (2).xls\\n  Skipping already processed file: Consumos_horario_01122024_31122024 (1).xls\\nProcessing provider: repsol_combined\\n  Skipping already processed file: Consumos_cuarto_horario_01042025_30042025 (2).xls\\n  Skipping already processed file: Consumos_cuarto_horario_01042025_30042025 (3).xls\\n  Skipping already processed file: Consumos_cuarto_horario_01022025_28022025 (2).xls\\n  Skipping already processed file: Consumos_cuarto_horario_01012025_31012025.xls\\n  Skipping already processed file: Consumos_cuarto_horario_01032025_31032025 (1).xls\\n  Skipping already processed file: Consumos_cuarto_horario_01012025_31012025 (7).xls\\n  Skipping already processed file: Consumos_cuarto_horario_01122024_31122024 (1).xls\\n  Skipping already processed file: Consumos_cuarto_horario_01012025_31012025 (8).xls\\n  Skipping already processed file: Consumos_cuarto_horario_01122024_31122024 (2).xls\\n  Skipping already processed file: Consumos_cuarto_horario_01032025_31032025 (3).xls\\n  Skipping already processed file: Consumos_cuarto_horario_01032025_31032025 (2).xls\\n  Skipping already processed file: Consumos_cuarto_horario_01032025_31032025.xls\\n  Skipping already processed file: Consumos_cuarto_horario_01012025_31012025 (2).xls\\n  Skipping already processed file: Consumos_cuarto_horario_01022025_28022025 (1).xls\\n  Skipping already processed file: Consumos_cuarto_horario_01022025_28022025.xls\\nProcessing provider: iberdrola_distribuidora\\n  Skipping already processed file: B86427150_29042025-01072025_C_TLM4.csv\\n  Skipping already processed file: B86427150_01072024-17022025_C_TLM4.csv\\n  Skipping already processed file: B86427150_01022025-03052025_C_TLM.csv\\n  Skipping already processed file: B86427150_01102024-01032025_C_TLM.csv\\n  Skipping already processed file: B86427150_29042025-01072025_C_TLM.csv\\n  Skipping already processed file: B86427150_01072024-17022025_C_TLM.csv\\n  Skipping already processed file: B86427150_01022025-03052025_C_TLM4.csv\\n  Skipping already processed file: B86427150_01102024-01032025_C_TLM4.csv\\nProcessing provider: seinon_pr2\\n  Skipping already processed file: datos (8).xls\\n'}],\n",
       "   'source': 'Load.compile_all_providers()'},\n",
       "  {'cell_type': 'code',\n",
       "   'execution_count': 10,\n",
       "   'id': '9e5e93e7',\n",
       "   'metadata': {'execution': {'iopub.status.busy': '2025-08-06T10:02:29.962441Z',\n",
       "     'iopub.execute_input': '2025-08-06T10:02:29.962509Z',\n",
       "     'iopub.status.idle': '2025-08-06T10:02:30.242748Z',\n",
       "     'shell.execute_reply': '2025-08-06T10:02:30.242258Z'},\n",
       "    'papermill': {'exception': False,\n",
       "     'start_time': '2025-08-06T10:02:29.961244',\n",
       "     'end_time': '2025-08-06T10:02:30.243495',\n",
       "     'duration': 0.282251,\n",
       "     'status': 'completed'},\n",
       "    'tags': []},\n",
       "   'outputs': [{'output_type': 'stream',\n",
       "     'name': 'stdout',\n",
       "     'text': 'No new load data to process.\\n'}],\n",
       "   'source': 'Load.save_to_parquet()'}],\n",
       " 'metadata': {'kernelspec': {'display_name': 'work',\n",
       "   'language': 'python',\n",
       "   'name': 'python3'},\n",
       "  'language_info': {'name': 'python',\n",
       "   'version': '3.12.4',\n",
       "   'mimetype': 'text/x-python',\n",
       "   'codemirror_mode': {'name': 'ipython', 'version': 3},\n",
       "   'pygments_lexer': 'ipython3',\n",
       "   'nbconvert_exporter': 'python',\n",
       "   'file_extension': '.py'},\n",
       "  'papermill': {'default_parameters': {},\n",
       "   'duration': 2.002477,\n",
       "   'end_time': '2025-08-06T10:02:30.664157',\n",
       "   'environment_variables': {},\n",
       "   'exception': None,\n",
       "   'input_path': '/Users/mikelperez/0_Python_projects_v3_reduced/0_Python_projects_reduced/notebooks/load_compilation/3_Compile_load.ipynb',\n",
       "   'output_path': '/Users/mikelperez/0_Python_projects_v3_reduced/0_Python_projects_reduced/notebooks/load_compilation/3_Compile_load.ipynb',\n",
       "   'parameters': {'db_elec_path': '/Users/mikelperez/0_Python_projects_v3_reduced/0_Python_projects_reduced/data/processed/elec/facturas_elec.db',\n",
       "    'path_load_elec_folder': '/Users/mikelperez/0_Python_projects_v3_reduced/0_Python_projects_reduced/data/load_compilation/elec',\n",
       "    'path_load_parquet': '/Users/mikelperez/0_Python_projects_v3_reduced/0_Python_projects_reduced/data/processed/elec/elec_load.parquet',\n",
       "    'festivos_path': '/Users/mikelperez/0_Python_projects_v3_reduced/0_Python_projects_reduced/data/regulation/elec/festivos',\n",
       "    'periodos_cal_path': '/Users/mikelperez/0_Python_projects_v3_reduced/0_Python_projects_reduced/data/regulation/elec/calendario_periodos.xlsx'},\n",
       "   'start_time': '2025-08-06T10:02:28.661680',\n",
       "   'version': '2.6.0'}},\n",
       " 'nbformat': 4,\n",
       " 'nbformat_minor': 5}"
      ]
     },
     "execution_count": 44,
     "metadata": {},
     "output_type": "execute_result"
    }
   ],
   "source": [
    "pm.execute_notebook(\n",
    "    nb_load, nb_load,\n",
    "    parameters=dict(\n",
    "        db_elec_path = db_elec_path,\n",
    "        path_load_elec_folder = path_load_elec_folder,\n",
    "        path_load_parquet = path_load_parquet,\n",
    "        festivos_path = festivos_path,\n",
    "        periodos_cal_path = periodos_cal_path,\n",
    "    )\n",
    ")"
   ]
  },
  {
   "cell_type": "code",
   "execution_count": 45,
   "metadata": {},
   "outputs": [
    {
     "data": {
      "application/vnd.jupyter.widget-view+json": {
       "model_id": "0e1c2aad74b94fa687a1c18a0eec18fa",
       "version_major": 2,
       "version_minor": 0
      },
      "text/plain": [
       "Executing:   0%|          | 0/12 [00:00<?, ?cell/s]"
      ]
     },
     "metadata": {},
     "output_type": "display_data"
    }
   ],
   "source": [
    "if operation == 'verif':\n",
    "    pm.execute_notebook(\n",
    "        nb_market_matrix, nb_market_matrix,\n",
    "        parameters=dict(\n",
    "            ssaa_path_df = path_ssaa_c2_df,\n",
    "            perd_path = perd_path,\n",
    "            spot_path = spot_path,\n",
    "            spot_formated_path = spot_formated_path,\n",
    "            futures_path = futures_path,\n",
    "            path_omie_matrix = path_omie_matrix,\n",
    "        )\n",
    "    )\n",
    "elif operation == 'estim':\n",
    "    pm.execute_notebook(\n",
    "        nb_market_matrix_estim, nb_market_matrix_estim,\n",
    "        parameters=dict(\n",
    "            year = estim_year,\n",
    "            month = estim_month,\n",
    "            ssaa_path_df = path_ssaa_a2_df,\n",
    "            perd_path = perd_path,\n",
    "            spot_path = spot_path,\n",
    "            spot_formated_path = spot_formated_path,\n",
    "            futures_path = futures_path,\n",
    "            path_omie_matrix = path_omie_matrix,\n",
    "            compodem_a2_path = compodem_a2_path,\n",
    "        )\n",
    "    )"
   ]
  },
  {
   "cell_type": "code",
   "execution_count": 46,
   "metadata": {},
   "outputs": [
    {
     "name": "stdout",
     "output_type": "stream",
     "text": [
      "    cliente  alias   cups  tarifa  electrointensivo  contrato\n",
      "63  Generic  TRIAL  TRIAL  6.1 TD             False         1\n"
     ]
    }
   ],
   "source": [
    "alias_df = pd.read_excel(path_alias_elec)\n",
    "alias_df_fil = alias_df[alias_df['cliente'] == cliente]\n",
    "if cliente == 'PR':\n",
    "    alias_df_fil = alias_df_fil[\n",
    "                                # (alias_df_fil['alias'].isin(['HQ1','HQ2','HQ3']))\n",
    "                                (~alias_df_fil['alias'].isin(['VELERIN'])) &\n",
    "                                # (~alias_df_fil['alias'].isin(['WARNER BS'])) &\n",
    "                                (~alias_df_fil['alias'].isin(['WARNER BS','WARNER DW','WARNER BQ'])) &\n",
    "                                # (alias_df_fil['alias'].isin(['WARNER BS','WARNER DW'])) &\n",
    "                                # (alias_df_fil['alias'].isin(['WARNER BQ','CULLERA'])) &\n",
    "                                ((alias_df_fil['cups'] != 'ES0022000009138571BZ'))\n",
    "                                # (alias_df_fil['alias'].isin(['FAUNIA']))\n",
    "                                ]\n",
    "    # alias_df_fil = alias_df_fil[((alias_df_fil['alias'] == 'AQUAPARK'))]\n",
    "\n",
    "if cliente == 'Grupo Inspired':\n",
    "    alias_df_fil = alias_df_fil[\n",
    "                                # ((alias_df_fil['tarifa'] == '6.1 TD'))\n",
    "                                (alias_df_fil['alias'].isin(['KC SOTO VIÑUELAS 1']))\n",
    "                                # (alias_df_fil['alias'].isin(['MIRABAL']))\n",
    "                                ]\n",
    "print(alias_df_fil)"
   ]
  },
  {
   "cell_type": "code",
   "execution_count": 47,
   "metadata": {},
   "outputs": [
    {
     "name": "stdout",
     "output_type": "stream",
     "text": [
      "Retrieving contract info for TRIAL...\n"
     ]
    },
    {
     "data": {
      "application/vnd.jupyter.widget-view+json": {
       "model_id": "085d516b659b44bb9cb4e08155b319a5",
       "version_major": 2,
       "version_minor": 0
      },
      "text/plain": [
       "Executing:   0%|          | 0/11 [00:00<?, ?cell/s]"
      ]
     },
     "metadata": {},
     "output_type": "display_data"
    },
    {
     "name": "stdout",
     "output_type": "stream",
     "text": [
      "Building master matrix for TRIAL...\n"
     ]
    },
    {
     "data": {
      "application/vnd.jupyter.widget-view+json": {
       "model_id": "6f75b53819a640caa213ea15212c3ef6",
       "version_major": 2,
       "version_minor": 0
      },
      "text/plain": [
       "Executing:   0%|          | 0/9 [00:00<?, ?cell/s]"
      ]
     },
     "metadata": {},
     "output_type": "display_data"
    },
    {
     "name": "stdout",
     "output_type": "stream",
     "text": [
      "Looking for invoices for TRIAL...\n"
     ]
    },
    {
     "data": {
      "application/vnd.jupyter.widget-view+json": {
       "model_id": "53f1428efe154b2c808e92b4a026cc2b",
       "version_major": 2,
       "version_minor": 0
      },
      "text/plain": [
       "Executing:   0%|          | 0/8 [00:00<?, ?cell/s]"
      ]
     },
     "metadata": {},
     "output_type": "display_data"
    }
   ],
   "source": [
    "for index, row in alias_df_fil.iterrows():\n",
    "\n",
    "    contract_id = row['contrato']\n",
    "    tarifa = row['tarifa']\n",
    "    cups= row['cups']\n",
    "    electrointensivo = row['electrointensivo']\n",
    "    alias = row['alias']\n",
    "\n",
    "    output_estim_excel =  \\\n",
    "    config.get_path(\n",
    "        \"outputs.verification_project.estim.cliente.output_estim_excel\", customer_id=cliente, alias=alias, month=estim_month, year=estim_year\n",
    "        )\n",
    "    output_estim_pdf =  \\\n",
    "    config.get_path(\n",
    "        \"outputs.verification_project.estim.cliente.output_estim_pdf\", customer_id=cliente, alias=alias, month=estim_month, year=estim_year\n",
    "        )\n",
    "    \n",
    "    path_datos_cliente = \\\n",
    "    config.get_path(\n",
    "        \"data_path.elec.customers.customer_single.customer_data\", customer_id=cliente, contract_id=contract_id\n",
    "        )\n",
    "\n",
    "    path_contract_matrix = \\\n",
    "    config.get_path(\n",
    "        \"data_path.elec.customers.customer_single.contract_matrix\", cups=cups, customer_id=cliente\n",
    "        )\n",
    "    path_master_matrix = \\\n",
    "    config.get_path(\n",
    "        \"data_path.elec.customers.customer_single.master_matrix\", customer_id=cliente, cups=cups\n",
    "        )\n",
    "    path_coberturas_df = \\\n",
    "    config.get_path(\"data_path.elec.customers.customer_single.df_coberturas\", customer_id=cliente, contract_id=contract_id)\n",
    "\n",
    "    if update_contract_data:\n",
    "        print(f'Retrieving contract info for {alias}...')\n",
    "        pm.execute_notebook(\n",
    "            nb_read_contracts, nb_read_contracts,##########\n",
    "            parameters=dict(\n",
    "                cliente=cliente,\n",
    "                tarifa = tarifa,\n",
    "                contract_id = contract_id,\n",
    "                cups= cups,\n",
    "                electrointensivo = electrointensivo,\n",
    "                path_datos_cliente = path_datos_cliente,\n",
    "                path_peajes_cargos_energia = path_peajes_cargos_energia,\n",
    "                path_peajes_energia = path_peajes_energia,\n",
    "                path_peajes_potencia = path_peajes_potencia,\n",
    "                path_cargos_energia = path_cargos_energia,\n",
    "                path_cargos_potencia = path_cargos_potencia,\n",
    "                path_estructura_cargos = path_estructura_cargos,\n",
    "                path_dto_peajes_electrointensivos = path_dto_peajes_electrointensivos,\n",
    "                path_ie = path_ie,\n",
    "                path_coberturas_df = path_coberturas_df,\n",
    "                path_contract_matrix = path_contract_matrix,\n",
    "                path_coefs_exc = path_coefs_exc\n",
    "            )\n",
    "        )\n",
    "\n",
    "    print(f'Building master matrix for {alias}...')\n",
    "    pm.execute_notebook(\n",
    "        nb_contract_market_matrix, nb_contract_market_matrix,##############\n",
    "        parameters=dict(\n",
    "            tarifa = tarifa,\n",
    "            path_contract_matrix = path_contract_matrix,\n",
    "            path_omie_matrix = path_omie_matrix,\n",
    "            path_master_matrix = path_master_matrix,\n",
    "        )\n",
    "    )\n",
    "\n",
    "    if operation == 'verif':\n",
    "        \n",
    "        print(f'Looking for invoices for {alias}...')\n",
    "        pm.execute_notebook(\n",
    "            nb_invoices, nb_invoices,##############\n",
    "            parameters=dict(\n",
    "                nb_verif = nb_verif,\n",
    "                issue_year = issue_year,\n",
    "                issue_month = issue_month,\n",
    "                cliente=cliente,\n",
    "                alias = alias,\n",
    "                tarifa = tarifa,\n",
    "                cups= cups,\n",
    "                path_load_parquet = path_load_parquet,\n",
    "                path_contract_matrix = path_contract_matrix,\n",
    "                path_coberturas_df = path_coberturas_df,\n",
    "                path_master_matrix = path_master_matrix,\n",
    "                db_elec_path = db_elec_path,\n",
    "                db_elec_manual_path = db_elec_manual_path,\n",
    "                template_path = path_ver_template\n",
    "            )\n",
    "        )\n",
    "    elif operation == 'estim':\n",
    "\n",
    "        print(f'Estimating cost for {utils_var.map_month_cap(estim_month)} {estim_year}...')\n",
    "        pm.execute_notebook(\n",
    "            nb_estim, nb_estim,##############\n",
    "            parameters=dict(\n",
    "                nb_verif = nb_verif,\n",
    "                estim_year = estim_year,\n",
    "                estim_month = estim_month,\n",
    "                cliente=cliente,\n",
    "                alias = alias,\n",
    "                tarifa = tarifa,\n",
    "                cups= cups,\n",
    "                path_load_parquet = path_load_parquet,\n",
    "                path_contract_matrix = path_contract_matrix,\n",
    "                path_coberturas_df = path_coberturas_df,\n",
    "                path_master_matrix = path_master_matrix,\n",
    "                db_elec_path = db_elec_path,\n",
    "                db_elec_manual_path = db_elec_manual_path,\n",
    "                template_path = path_estim_template,\n",
    "                output_estim_excel = output_estim_excel,\n",
    "                output_estim_pdf = output_estim_pdf\n",
    "            )\n",
    "        )"
   ]
  }
 ],
 "metadata": {
  "kernelspec": {
   "display_name": "python_reduced",
   "language": "python",
   "name": "python3"
  },
  "language_info": {
   "codemirror_mode": {
    "name": "ipython",
    "version": 3
   },
   "file_extension": ".py",
   "mimetype": "text/x-python",
   "name": "python",
   "nbconvert_exporter": "python",
   "pygments_lexer": "ipython3",
   "version": "3.12.4"
  }
 },
 "nbformat": 4,
 "nbformat_minor": 2
}
