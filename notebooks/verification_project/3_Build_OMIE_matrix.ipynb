{
 "cells": [
  {
   "cell_type": "code",
   "execution_count": 1,
   "id": "e74998b4",
   "metadata": {
    "execution": {
     "iopub.execute_input": "2025-08-06T15:38:51.327348Z",
     "iopub.status.busy": "2025-08-06T15:38:51.327118Z",
     "iopub.status.idle": "2025-08-06T15:38:51.546089Z",
     "shell.execute_reply": "2025-08-06T15:38:51.545786Z"
    },
    "papermill": {
     "duration": 0.223114,
     "end_time": "2025-08-06T15:38:51.546914",
     "exception": false,
     "start_time": "2025-08-06T15:38:51.323800",
     "status": "completed"
    },
    "tags": []
   },
   "outputs": [],
   "source": [
    "import os\n",
    "import pandas as pd\n",
    "from datetime import datetime, timedelta, date, time\n",
    "import urllib3\n",
    "urllib3.disable_warnings(urllib3.exceptions.InsecureRequestWarning)"
   ]
  },
  {
   "cell_type": "code",
   "execution_count": 2,
   "id": "780fdad1",
   "metadata": {
    "execution": {
     "iopub.execute_input": "2025-08-06T15:38:51.549932Z",
     "iopub.status.busy": "2025-08-06T15:38:51.549785Z",
     "iopub.status.idle": "2025-08-06T15:38:51.551412Z",
     "shell.execute_reply": "2025-08-06T15:38:51.551239Z"
    },
    "papermill": {
     "duration": 0.003742,
     "end_time": "2025-08-06T15:38:51.551941",
     "exception": false,
     "start_time": "2025-08-06T15:38:51.548199",
     "status": "completed"
    },
    "tags": [
     "parameters"
    ]
   },
   "outputs": [],
   "source": [
    "# Parameters\n",
    "nb_name = \"2a_build_omie_matrix_out\"\n",
    "config_path = \"/Users/mikelperez/0_Python_projects_v3_reduced/0_Python_projects_reduced/configs/config.yaml\"\n",
    "ssaa_path_df = \"/Users/mikelperez/0_Python_projects_v3_reduced/0_Python_projects_reduced/data/processed/elec/ssaa_c2.pkl\"\n",
    "perd_path = \"/Users/mikelperez/0_Python_projects_v3_reduced/0_Python_projects_reduced/data/processed/elec/perdidas.pkl\"\n",
    "spot_path = \"/Users/mikelperez/0_Python_projects_v3_reduced/0_Python_projects_reduced/data/processed/elec/spot_elec.parquet\"\n",
    "spot_formated_path = \"/Users/mikelperez/0_Python_projects_v3_reduced/0_Python_projects_reduced/data/processed/elec/spot_h_periodos.pkl\"\n",
    "futures_path = \"/Users/mikelperez/0_Python_projects_v3_reduced/0_Python_projects_reduced/data/processed/elec/futuros_elec.parquet\"\n",
    "path_omie_matrix = \"/Users/mikelperez/0_Python_projects_v3_reduced/0_Python_projects_reduced/data/verification_project/elec/omie_matrix_verif.pkl\"\n"
   ]
  },
  {
   "cell_type": "code",
   "execution_count": null,
   "id": "8e7f2457",
   "metadata": {},
   "outputs": [],
   "source": [
    "from config.config_loader import Config\n",
    "\n",
    "config = Config(config_file=config_path)"
   ]
  },
  {
   "cell_type": "code",
   "execution_count": null,
   "id": "3918ddaf",
   "metadata": {},
   "outputs": [],
   "source": [
    "from utils.logging_setup import get_logger\n",
    "import time as tm\n",
    "\n",
    "instant = tm.strftime(\"%Y-%m-%d_%H:%M:%S\", tm.localtime())\n",
    "logger = get_logger(name=f\"{nb_name}\")\n",
    "logger.info(f\"Building omie matrix on {instant}\")"
   ]
  },
  {
   "cell_type": "code",
   "execution_count": 4,
   "id": "b363ccea",
   "metadata": {
    "execution": {
     "iopub.execute_input": "2025-08-06T15:38:51.557782Z",
     "iopub.status.busy": "2025-08-06T15:38:51.557701Z",
     "iopub.status.idle": "2025-08-06T15:38:51.615406Z",
     "shell.execute_reply": "2025-08-06T15:38:51.615189Z"
    },
    "papermill": {
     "duration": 0.059252,
     "end_time": "2025-08-06T15:38:51.616013",
     "exception": false,
     "start_time": "2025-08-06T15:38:51.556761",
     "status": "completed"
    },
    "tags": []
   },
   "outputs": [
    {
     "data": {
      "text/html": [
       "<div>\n",
       "<style scoped>\n",
       "    .dataframe tbody tr th:only-of-type {\n",
       "        vertical-align: middle;\n",
       "    }\n",
       "\n",
       "    .dataframe tbody tr th {\n",
       "        vertical-align: top;\n",
       "    }\n",
       "\n",
       "    .dataframe thead th {\n",
       "        text-align: right;\n",
       "    }\n",
       "</style>\n",
       "<table border=\"1\" class=\"dataframe\">\n",
       "  <thead>\n",
       "    <tr style=\"text-align: right;\">\n",
       "      <th></th>\n",
       "      <th>datetime</th>\n",
       "      <th>periodo</th>\n",
       "      <th>value</th>\n",
       "      <th>ssaa</th>\n",
       "      <th>dup</th>\n",
       "    </tr>\n",
       "  </thead>\n",
       "  <tbody>\n",
       "    <tr>\n",
       "      <th>0</th>\n",
       "      <td>2014-01-01 00:00:00</td>\n",
       "      <td>6</td>\n",
       "      <td>20.02</td>\n",
       "      <td>NaN</td>\n",
       "      <td>0</td>\n",
       "    </tr>\n",
       "    <tr>\n",
       "      <th>1</th>\n",
       "      <td>2014-01-01 01:00:00</td>\n",
       "      <td>6</td>\n",
       "      <td>10.34</td>\n",
       "      <td>NaN</td>\n",
       "      <td>0</td>\n",
       "    </tr>\n",
       "    <tr>\n",
       "      <th>2</th>\n",
       "      <td>2014-01-01 02:00:00</td>\n",
       "      <td>6</td>\n",
       "      <td>5.35</td>\n",
       "      <td>NaN</td>\n",
       "      <td>0</td>\n",
       "    </tr>\n",
       "    <tr>\n",
       "      <th>3</th>\n",
       "      <td>2014-01-01 03:00:00</td>\n",
       "      <td>6</td>\n",
       "      <td>5.00</td>\n",
       "      <td>NaN</td>\n",
       "      <td>0</td>\n",
       "    </tr>\n",
       "    <tr>\n",
       "      <th>4</th>\n",
       "      <td>2014-01-01 04:00:00</td>\n",
       "      <td>6</td>\n",
       "      <td>0.50</td>\n",
       "      <td>NaN</td>\n",
       "      <td>0</td>\n",
       "    </tr>\n",
       "    <tr>\n",
       "      <th>...</th>\n",
       "      <td>...</td>\n",
       "      <td>...</td>\n",
       "      <td>...</td>\n",
       "      <td>...</td>\n",
       "      <td>...</td>\n",
       "    </tr>\n",
       "    <tr>\n",
       "      <th>100045</th>\n",
       "      <td>2025-05-31 19:00:00</td>\n",
       "      <td>6</td>\n",
       "      <td>31.78</td>\n",
       "      <td>17.172741</td>\n",
       "      <td>0</td>\n",
       "    </tr>\n",
       "    <tr>\n",
       "      <th>100046</th>\n",
       "      <td>2025-05-31 20:00:00</td>\n",
       "      <td>6</td>\n",
       "      <td>62.00</td>\n",
       "      <td>15.426091</td>\n",
       "      <td>0</td>\n",
       "    </tr>\n",
       "    <tr>\n",
       "      <th>100047</th>\n",
       "      <td>2025-05-31 21:00:00</td>\n",
       "      <td>6</td>\n",
       "      <td>64.31</td>\n",
       "      <td>16.026816</td>\n",
       "      <td>0</td>\n",
       "    </tr>\n",
       "    <tr>\n",
       "      <th>100048</th>\n",
       "      <td>2025-05-31 22:00:00</td>\n",
       "      <td>6</td>\n",
       "      <td>74.44</td>\n",
       "      <td>14.124158</td>\n",
       "      <td>0</td>\n",
       "    </tr>\n",
       "    <tr>\n",
       "      <th>100049</th>\n",
       "      <td>2025-05-31 23:00:00</td>\n",
       "      <td>6</td>\n",
       "      <td>63.50</td>\n",
       "      <td>12.859104</td>\n",
       "      <td>0</td>\n",
       "    </tr>\n",
       "  </tbody>\n",
       "</table>\n",
       "<p>100050 rows × 5 columns</p>\n",
       "</div>"
      ],
      "text/plain": [
       "                  datetime  periodo  value       ssaa  dup\n",
       "0      2014-01-01 00:00:00        6  20.02        NaN    0\n",
       "1      2014-01-01 01:00:00        6  10.34        NaN    0\n",
       "2      2014-01-01 02:00:00        6   5.35        NaN    0\n",
       "3      2014-01-01 03:00:00        6   5.00        NaN    0\n",
       "4      2014-01-01 04:00:00        6   0.50        NaN    0\n",
       "...                    ...      ...    ...        ...  ...\n",
       "100045 2025-05-31 19:00:00        6  31.78  17.172741    0\n",
       "100046 2025-05-31 20:00:00        6  62.00  15.426091    0\n",
       "100047 2025-05-31 21:00:00        6  64.31  16.026816    0\n",
       "100048 2025-05-31 22:00:00        6  74.44  14.124158    0\n",
       "100049 2025-05-31 23:00:00        6  63.50  12.859104    0\n",
       "\n",
       "[100050 rows x 5 columns]"
      ]
     },
     "execution_count": 4,
     "metadata": {},
     "output_type": "execute_result"
    }
   ],
   "source": [
    "df_ssaa = pd.read_pickle(ssaa_path_df)\n",
    "df_ssaa = df_ssaa.copy()\n",
    "df_ssaa.loc[:, 'dup'] = df_ssaa.groupby('datetime').cumcount()\n",
    "date_max = df_ssaa['datetime'].max()\n",
    "\n",
    "df_spot = pd.read_pickle(spot_formated_path)\n",
    "# df_spot_fil = df_spot[(df_spot['year'] == year) & (df_spot['month'] == month)]\n",
    "df_spot_fil = df_spot[df_spot['datetime'] <= date_max]\n",
    "df_spot_fil.reset_index(drop=True, inplace=True)\n",
    "df_spot_fil.reset_index(drop=False, inplace=True)\n",
    "df_spot_fil = df_spot_fil.copy()\n",
    "df_spot_fil.loc[:, 'dup'] = df_spot_fil.groupby('datetime').cumcount()\n",
    "\n",
    "df_merge = pd.merge(df_spot_fil, df_ssaa[['datetime', 'dup', 'ssaa']], on=['datetime', 'dup'], how='left')\n",
    "df_merge.drop('index', axis=1, inplace=True)\n",
    "df_merge.groupby('periodo')['ssaa'].mean()\n",
    "df_merge = df_merge[['datetime', 'periodo', 'value', 'ssaa', 'dup']]\n",
    "logger.info('Merged ssaa df to spot df')"
   ]
  },
  {
   "cell_type": "code",
   "execution_count": 8,
   "id": "a82d9e25",
   "metadata": {
    "execution": {
     "iopub.execute_input": "2025-08-06T15:38:51.638666Z",
     "iopub.status.busy": "2025-08-06T15:38:51.638589Z",
     "iopub.status.idle": "2025-08-06T15:38:51.644189Z",
     "shell.execute_reply": "2025-08-06T15:38:51.644019Z"
    },
    "papermill": {
     "duration": 0.007499,
     "end_time": "2025-08-06T15:38:51.644685",
     "exception": false,
     "start_time": "2025-08-06T15:38:51.637186",
     "status": "completed"
    },
    "tags": []
   },
   "outputs": [
    {
     "data": {
      "text/html": [
       "<div>\n",
       "<style scoped>\n",
       "    .dataframe tbody tr th:only-of-type {\n",
       "        vertical-align: middle;\n",
       "    }\n",
       "\n",
       "    .dataframe tbody tr th {\n",
       "        vertical-align: top;\n",
       "    }\n",
       "\n",
       "    .dataframe thead th {\n",
       "        text-align: right;\n",
       "    }\n",
       "</style>\n",
       "<table border=\"1\" class=\"dataframe\">\n",
       "  <thead>\n",
       "    <tr style=\"text-align: right;\">\n",
       "      <th></th>\n",
       "      <th>datetime</th>\n",
       "      <th>20_td</th>\n",
       "      <th>30_td</th>\n",
       "      <th>61_td</th>\n",
       "      <th>62_td</th>\n",
       "      <th>63_td</th>\n",
       "      <th>64_td</th>\n",
       "      <th>dup</th>\n",
       "    </tr>\n",
       "  </thead>\n",
       "  <tbody>\n",
       "    <tr>\n",
       "      <th>21162</th>\n",
       "      <td>2025-05-31 19:00:00</td>\n",
       "      <td>0.180</td>\n",
       "      <td>0.180</td>\n",
       "      <td>0.077</td>\n",
       "      <td>0.054</td>\n",
       "      <td>0.044</td>\n",
       "      <td>0.017</td>\n",
       "      <td>0</td>\n",
       "    </tr>\n",
       "    <tr>\n",
       "      <th>21163</th>\n",
       "      <td>2025-05-31 20:00:00</td>\n",
       "      <td>0.177</td>\n",
       "      <td>0.177</td>\n",
       "      <td>0.076</td>\n",
       "      <td>0.053</td>\n",
       "      <td>0.043</td>\n",
       "      <td>0.017</td>\n",
       "      <td>0</td>\n",
       "    </tr>\n",
       "    <tr>\n",
       "      <th>21164</th>\n",
       "      <td>2025-05-31 21:00:00</td>\n",
       "      <td>0.179</td>\n",
       "      <td>0.179</td>\n",
       "      <td>0.077</td>\n",
       "      <td>0.054</td>\n",
       "      <td>0.044</td>\n",
       "      <td>0.017</td>\n",
       "      <td>0</td>\n",
       "    </tr>\n",
       "    <tr>\n",
       "      <th>21165</th>\n",
       "      <td>2025-05-31 22:00:00</td>\n",
       "      <td>0.182</td>\n",
       "      <td>0.182</td>\n",
       "      <td>0.078</td>\n",
       "      <td>0.055</td>\n",
       "      <td>0.044</td>\n",
       "      <td>0.017</td>\n",
       "      <td>0</td>\n",
       "    </tr>\n",
       "    <tr>\n",
       "      <th>21166</th>\n",
       "      <td>2025-05-31 23:00:00</td>\n",
       "      <td>0.185</td>\n",
       "      <td>0.185</td>\n",
       "      <td>0.079</td>\n",
       "      <td>0.055</td>\n",
       "      <td>0.045</td>\n",
       "      <td>0.017</td>\n",
       "      <td>0</td>\n",
       "    </tr>\n",
       "  </tbody>\n",
       "</table>\n",
       "</div>"
      ],
      "text/plain": [
       "                 datetime  20_td  30_td  61_td  62_td  63_td  64_td  dup\n",
       "21162 2025-05-31 19:00:00  0.180  0.180  0.077  0.054  0.044  0.017    0\n",
       "21163 2025-05-31 20:00:00  0.177  0.177  0.076  0.053  0.043  0.017    0\n",
       "21164 2025-05-31 21:00:00  0.179  0.179  0.077  0.054  0.044  0.017    0\n",
       "21165 2025-05-31 22:00:00  0.182  0.182  0.078  0.055  0.044  0.017    0\n",
       "21166 2025-05-31 23:00:00  0.185  0.185  0.079  0.055  0.045  0.017    0"
      ]
     },
     "execution_count": 8,
     "metadata": {},
     "output_type": "execute_result"
    }
   ],
   "source": [
    "df_perd = pd.read_pickle(perd_path)\n",
    "df_perd = df_perd.copy()\n",
    "df_perd.loc[:, 'dup'] = df_perd.groupby('datetime').cumcount()\n",
    "df_perd.tail()"
   ]
  },
  {
   "cell_type": "code",
   "execution_count": 10,
   "id": "ad767921",
   "metadata": {
    "execution": {
     "iopub.execute_input": "2025-08-06T15:38:52.675596Z",
     "iopub.status.busy": "2025-08-06T15:38:52.675463Z",
     "iopub.status.idle": "2025-08-06T15:38:52.683190Z",
     "shell.execute_reply": "2025-08-06T15:38:52.682965Z"
    },
    "papermill": {
     "duration": 0.010389,
     "end_time": "2025-08-06T15:38:52.683831",
     "exception": false,
     "start_time": "2025-08-06T15:38:52.673442",
     "status": "completed"
    },
    "tags": []
   },
   "outputs": [],
   "source": [
    "df_matrix = pd.merge(df_perd, df_merge, on=['datetime', 'dup'])\n",
    "df_matrix.drop('dup', axis=1, inplace=True)\n",
    "df_matrix = df_matrix[['datetime', 'periodo', 'value', 'ssaa', '20_td', '30_td', '61_td', '62_td', '63_td', '64_td']]\n",
    "logger.info('Merged perd df to spot and ssaa previously merged df')"
   ]
  },
  {
   "cell_type": "code",
   "execution_count": null,
   "id": "8fbb2309",
   "metadata": {},
   "outputs": [],
   "source": [
    "df_matrix.to_pickle(path_omie_matrix)\n",
    "logger.info(f\"Omie matrix saved to {path_omie_matrix}\")\n",
    "logger.info(\"Omie matrix creation completed successfully.\")"
   ]
  }
 ],
 "metadata": {
  "kernelspec": {
   "display_name": "work",
   "language": "python",
   "name": "python3"
  },
  "language_info": {
   "codemirror_mode": {
    "name": "ipython",
    "version": 3
   },
   "file_extension": ".py",
   "mimetype": "text/x-python",
   "name": "python",
   "nbconvert_exporter": "python",
   "pygments_lexer": "ipython3",
   "version": "3.12.4"
  },
  "papermill": {
   "default_parameters": {},
   "duration": 2.09643,
   "end_time": "2025-08-06T15:38:52.915410",
   "environment_variables": {},
   "exception": null,
   "input_path": "/Users/mikelperez/0_Python_projects_v3_reduced/0_Python_projects_reduced/notebooks/verification_project/3_Build_OMIE_matrix.ipynb",
   "output_path": "/Users/mikelperez/0_Python_projects_v3_reduced/0_Python_projects_reduced/notebooks/verification_project/3_Build_OMIE_matrix.ipynb",
   "parameters": {
    "futures_path": "/Users/mikelperez/0_Python_projects_v3_reduced/0_Python_projects_reduced/data/processed/elec/futuros_elec.parquet",
    "path_omie_matrix": "/Users/mikelperez/0_Python_projects_v3_reduced/0_Python_projects_reduced/data/verification_project/elec/omie_matrix.pkl",
    "perd_path": "/Users/mikelperez/0_Python_projects_v3_reduced/0_Python_projects_reduced/data/processed/elec/perdidas.pkl",
    "spot_formated_path": "/Users/mikelperez/0_Python_projects_v3_reduced/0_Python_projects_reduced/data/processed/elec/spot_h_periodos.pkl",
    "spot_path": "/Users/mikelperez/0_Python_projects_v3_reduced/0_Python_projects_reduced/data/processed/elec/spot_elec.parquet",
    "ssaa_path_df": "/Users/mikelperez/0_Python_projects_v3_reduced/0_Python_projects_reduced/data/processed/elec/ssaa_c2.pkl"
   },
   "start_time": "2025-08-06T15:38:50.818980",
   "version": "2.6.0"
  }
 },
 "nbformat": 4,
 "nbformat_minor": 5
}
