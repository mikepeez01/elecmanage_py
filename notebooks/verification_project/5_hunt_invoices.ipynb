{
 "cells": [
  {
   "cell_type": "code",
   "execution_count": 1,
   "id": "6121f044",
   "metadata": {
    "execution": {
     "iopub.execute_input": "2025-08-06T17:51:04.700849Z",
     "iopub.status.busy": "2025-08-06T17:51:04.700615Z",
     "iopub.status.idle": "2025-08-06T17:51:05.530481Z",
     "shell.execute_reply": "2025-08-06T17:51:05.530225Z"
    },
    "papermill": {
     "duration": 0.833985,
     "end_time": "2025-08-06T17:51:05.531450",
     "exception": false,
     "start_time": "2025-08-06T17:51:04.697465",
     "status": "completed"
    },
    "tags": []
   },
   "outputs": [],
   "source": [
    "import pandas as pd\n",
    "import papermill as pm\n",
    "from datetime import datetime, time\n",
    "import pickle\n",
    "from utils.utils_dates import map_month_folder\n",
    "import os\n",
    "from pathlib import Path\n",
    "import sys"
   ]
  },
  {
   "cell_type": "code",
   "execution_count": 3,
   "id": "562ac422",
   "metadata": {
    "execution": {
     "iopub.execute_input": "2025-08-06T17:51:05.547342Z",
     "iopub.status.busy": "2025-08-06T17:51:05.547248Z",
     "iopub.status.idle": "2025-08-06T17:51:05.549203Z",
     "shell.execute_reply": "2025-08-06T17:51:05.549013Z"
    },
    "papermill": {
     "duration": 0.004143,
     "end_time": "2025-08-06T17:51:05.549799",
     "exception": false,
     "start_time": "2025-08-06T17:51:05.545656",
     "status": "completed"
    },
    "tags": [
     "parameters"
    ]
   },
   "outputs": [],
   "source": [
    "# Parameters\n",
    "nb_name = \"5_hunt_invoices_out\"\n",
    "config_path = \"/Users/mikelperez/0_Python_projects_v3_reduced/0_Python_projects_reduced/configs/config.yaml\"\n",
    "nb_verif = \"/Users/mikelperez/0_Python_projects_v3_reduced/0_Python_projects_reduced/notebooks/verification_project/5b_ver_notebook.ipynb\"\n",
    "issue_year = 2025\n",
    "issue_month = 6\n",
    "cliente = \"Generic\"\n",
    "alias = \"TRIAL\"\n",
    "tarifa = \"6.1 TD\"\n",
    "cups = \"TRIAL\"\n",
    "path_load_parquet = \"/Users/mikelperez/0_Python_projects_v3_reduced/0_Python_projects_reduced/data/processed/elec/elec_load.parquet\"\n",
    "path_contract_matrix = \"/Users/mikelperez/0_Python_projects_v3_reduced/0_Python_projects_reduced/data/customers/elec/Generic/raw/contract_matrix_TRIAL.pkl\"\n",
    "path_coberturas_df = \"/Users/mikelperez/0_Python_projects_v3_reduced/0_Python_projects_reduced/data/customers/elec/Generic/raw/df_coberturas_1.pkl\"\n",
    "path_master_matrix = \"/Users/mikelperez/0_Python_projects_v3_reduced/0_Python_projects_reduced/data/customers/elec/Generic/raw/master_matrix_TRIAL.pkl\"\n",
    "db_elec_path = \"/Users/mikelperez/0_Python_projects_v3_reduced/0_Python_projects_reduced/data/processed/elec/facturas_elec.db\"\n",
    "db_elec_manual_path = \"/Users/mikelperez/0_Python_projects_v3_reduced/0_Python_projects_reduced/data/processed/elec/facturas_elec_manual.pkl\"\n",
    "template_path = \"/Users/mikelperez/0_Python_projects_v3_reduced/0_Python_projects_reduced/data/verification_project/elec/templates/Template 2024.xlsx\"\n"
   ]
  },
  {
   "cell_type": "code",
   "execution_count": null,
   "id": "a1bf0d07",
   "metadata": {},
   "outputs": [],
   "source": [
    "from config.config_loader import Config\n",
    "\n",
    "config = Config(config_file=config_path)"
   ]
  },
  {
   "cell_type": "code",
   "execution_count": null,
   "id": "b6dd95c1",
   "metadata": {},
   "outputs": [],
   "source": [
    "from utils.logging_setup import get_logger\n",
    "import time as tm\n",
    "\n",
    "instant = tm.strftime(\"%Y-%m-%d_%H:%M:%S\", tm.localtime())\n",
    "logger = get_logger(name=f\"{nb_name}\")\n",
    "logger.info(f\"Building omie matrix on {instant}\")"
   ]
  },
  {
   "cell_type": "code",
   "execution_count": 5,
   "id": "5b0cb3a3",
   "metadata": {
    "execution": {
     "iopub.execute_input": "2025-08-06T17:51:05.557020Z",
     "iopub.status.busy": "2025-08-06T17:51:05.556952Z",
     "iopub.status.idle": "2025-08-06T17:51:05.658672Z",
     "shell.execute_reply": "2025-08-06T17:51:05.658471Z"
    },
    "papermill": {
     "duration": 0.103591,
     "end_time": "2025-08-06T17:51:05.659277",
     "exception": false,
     "start_time": "2025-08-06T17:51:05.555686",
     "status": "completed"
    },
    "tags": []
   },
   "outputs": [
    {
     "name": "stdout",
     "output_type": "stream",
     "text": [
      "2025-08-06 19:51:05,637 INFO sqlalchemy.engine.Engine BEGIN (implicit)\n"
     ]
    },
    {
     "name": "stdout",
     "output_type": "stream",
     "text": [
      "2025-08-06 19:51:05,637 INFO sqlalchemy.engine.Engine PRAGMA main.table_info(\"SELECT * FROM facturas\")\n"
     ]
    },
    {
     "name": "stdout",
     "output_type": "stream",
     "text": [
      "2025-08-06 19:51:05,638 INFO sqlalchemy.engine.Engine [raw sql] ()\n"
     ]
    },
    {
     "name": "stdout",
     "output_type": "stream",
     "text": [
      "2025-08-06 19:51:05,638 INFO sqlalchemy.engine.Engine PRAGMA temp.table_info(\"SELECT * FROM facturas\")\n"
     ]
    },
    {
     "name": "stdout",
     "output_type": "stream",
     "text": [
      "2025-08-06 19:51:05,638 INFO sqlalchemy.engine.Engine [raw sql] ()\n"
     ]
    },
    {
     "name": "stdout",
     "output_type": "stream",
     "text": [
      "2025-08-06 19:51:05,639 INFO sqlalchemy.engine.Engine SELECT * FROM facturas\n"
     ]
    },
    {
     "name": "stdout",
     "output_type": "stream",
     "text": [
      "2025-08-06 19:51:05,639 INFO sqlalchemy.engine.Engine [raw sql] ()\n"
     ]
    },
    {
     "name": "stdout",
     "output_type": "stream",
     "text": [
      "2025-08-06 19:51:05,652 INFO sqlalchemy.engine.Engine ROLLBACK\n"
     ]
    }
   ],
   "source": [
    "from sqlalchemy import create_engine\n",
    "\n",
    "engine = create_engine(f'sqlite:///{db_elec_path}', echo=True)\n",
    "\n",
    "facturas_df_sql = pd.read_sql(('SELECT * FROM facturas'), con=engine);\n",
    "\n",
    "facturas_df_manual = pd.read_pickle(db_elec_manual_path)\n",
    "\n",
    "# if not facturas_df[facturas_df['cups'] == cups].empty:\n",
    "\n",
    "facturas_df = pd.concat([facturas_df_sql, facturas_df_manual], ignore_index=True)\n",
    "for column in ['inicio_periodo', 'fin_periodo', 'issue_date']:\n",
    "    facturas_df[column] = pd.to_datetime(facturas_df[column])\n",
    "\n",
    "logger.info(f\"Retrieved invoices from database\")"
   ]
  },
  {
   "cell_type": "code",
   "execution_count": 7,
   "id": "131c638a",
   "metadata": {
    "execution": {
     "iopub.execute_input": "2025-08-06T17:51:05.668114Z",
     "iopub.status.busy": "2025-08-06T17:51:05.668029Z",
     "iopub.status.idle": "2025-08-06T17:51:05.680235Z",
     "shell.execute_reply": "2025-08-06T17:51:05.680047Z"
    },
    "papermill": {
     "duration": 0.014234,
     "end_time": "2025-08-06T17:51:05.680813",
     "exception": false,
     "start_time": "2025-08-06T17:51:05.666579",
     "status": "completed"
    },
    "tags": []
   },
   "outputs": [
    {
     "data": {
      "text/html": [
       "<div>\n",
       "<style scoped>\n",
       "    .dataframe tbody tr th:only-of-type {\n",
       "        vertical-align: middle;\n",
       "    }\n",
       "\n",
       "    .dataframe tbody tr th {\n",
       "        vertical-align: top;\n",
       "    }\n",
       "\n",
       "    .dataframe thead th {\n",
       "        text-align: right;\n",
       "    }\n",
       "</style>\n",
       "<table border=\"1\" class=\"dataframe\">\n",
       "  <thead>\n",
       "    <tr style=\"text-align: right;\">\n",
       "      <th></th>\n",
       "      <th>cups</th>\n",
       "      <th>inicio_periodo</th>\n",
       "      <th>fin_periodo</th>\n",
       "      <th>num_factura</th>\n",
       "      <th>coste_potencia</th>\n",
       "      <th>coste_energia</th>\n",
       "      <th>excesos_potencia</th>\n",
       "      <th>dto_electrointensivo</th>\n",
       "      <th>coste_reactiva</th>\n",
       "      <th>total_bruto_ie_iva</th>\n",
       "      <th>...</th>\n",
       "      <th>energia_p3</th>\n",
       "      <th>energia_p4</th>\n",
       "      <th>energia_p5</th>\n",
       "      <th>energia_p6</th>\n",
       "      <th>maximetros_p1</th>\n",
       "      <th>maximetros_p2</th>\n",
       "      <th>maximetros_p3</th>\n",
       "      <th>maximetros_p4</th>\n",
       "      <th>maximetros_p5</th>\n",
       "      <th>maximetros_p6</th>\n",
       "    </tr>\n",
       "  </thead>\n",
       "  <tbody>\n",
       "    <tr>\n",
       "      <th>0</th>\n",
       "      <td>ES0021000005776632EH</td>\n",
       "      <td>2025-05-01</td>\n",
       "      <td>2025-05-31</td>\n",
       "      <td>FELEC_2500427045</td>\n",
       "      <td>1737.46</td>\n",
       "      <td>3546.6</td>\n",
       "      <td>0.0</td>\n",
       "      <td>0.0</td>\n",
       "      <td>0.0</td>\n",
       "      <td>5284.06</td>\n",
       "      <td>...</td>\n",
       "      <td>0.0</td>\n",
       "      <td>15436.0</td>\n",
       "      <td>10983.0</td>\n",
       "      <td>23239.0</td>\n",
       "      <td>0.0</td>\n",
       "      <td>0.0</td>\n",
       "      <td>0.0</td>\n",
       "      <td>237.0</td>\n",
       "      <td>217.0</td>\n",
       "      <td>148.0</td>\n",
       "    </tr>\n",
       "  </tbody>\n",
       "</table>\n",
       "<p>1 rows × 31 columns</p>\n",
       "</div>"
      ],
      "text/plain": [
       "                   cups inicio_periodo fin_periodo       num_factura  \\\n",
       "0  ES0021000005776632EH     2025-05-01  2025-05-31  FELEC_2500427045   \n",
       "\n",
       "   coste_potencia  coste_energia  excesos_potencia  dto_electrointensivo  \\\n",
       "0         1737.46         3546.6               0.0                   0.0   \n",
       "\n",
       "   coste_reactiva  total_bruto_ie_iva  ...  energia_p3 energia_p4 energia_p5  \\\n",
       "0             0.0             5284.06  ...         0.0    15436.0    10983.0   \n",
       "\n",
       "   energia_p6  maximetros_p1  maximetros_p2  maximetros_p3  maximetros_p4  \\\n",
       "0     23239.0            0.0            0.0            0.0          237.0   \n",
       "\n",
       "   maximetros_p5  maximetros_p6  \n",
       "0          217.0          148.0  \n",
       "\n",
       "[1 rows x 31 columns]"
      ]
     },
     "execution_count": 7,
     "metadata": {},
     "output_type": "execute_result"
    }
   ],
   "source": [
    "logger.info(f\"Filtering invoices for CUPS: {cups}, issued year: {issue_year}, issued month: {issue_month}\")\n",
    "# We first look for issued invoices in our target month-year\n",
    "\n",
    "df_filtered_issued = facturas_df[\n",
    "                        (facturas_df['cups'] == cups) &\n",
    "                        (facturas_df['issue_date'].dt.month == issue_month) &\n",
    "                        (facturas_df['issue_date'].dt.year == issue_year)\n",
    "                        ]\n",
    "\n",
    "# Now we look for all the invoices that have the start and end invoice dates of the invoices issued\n",
    "# on our target month-year\n",
    "\n",
    "df_issued_compile = facturas_df[\n",
    "                        (facturas_df['cups'] == cups) &\n",
    "                        (facturas_df['inicio_periodo'].isin(df_filtered_issued['inicio_periodo'])) &\n",
    "                        (facturas_df['fin_periodo'].isin(df_filtered_issued['fin_periodo']))\n",
    "                        # eliminar el filtro de debajo, es solo para Kem One\n",
    "                        # &\n",
    "                        # (facturas_df['num_factura'].str.contains('ELE'))\n",
    "                        ]\n",
    "\n",
    "df_issued_compile = df_issued_compile.copy()\n",
    "df_issued_compile.drop(['issue_date', 'year', 'month'], axis=1, inplace=True)\n",
    "\n",
    "# Group by 'cups', 'inicio_periodo', 'fin_periodo' while keeping invoice references\n",
    "ds = df_issued_compile.groupby(['cups', 'inicio_periodo', 'fin_periodo']).agg({\n",
    "    'num_factura': lambda x: ', '.join(x.astype(str)),  # Concatenate all invoice references\n",
    "    **{col: 'sum' for col in df_issued_compile.columns if col not in ['cups', 'inicio_periodo', 'fin_periodo', 'num_factura']}\n",
    "})\n",
    "\n",
    "\n",
    "df = pd.DataFrame(ds)\n",
    "df.reset_index(drop=False, inplace=True)\n",
    "# df_issued_compile\n",
    "logger.info(f\"Found {len(ds)} invoices for CUPS {cups} in the month {issue_month} of year {issue_year}\")"
   ]
  },
  {
   "cell_type": "code",
   "execution_count": 8,
   "id": "72188c86",
   "metadata": {
    "execution": {
     "iopub.execute_input": "2025-08-06T17:51:05.684128Z",
     "iopub.status.busy": "2025-08-06T17:51:05.684056Z",
     "iopub.status.idle": "2025-08-06T17:51:18.031225Z",
     "shell.execute_reply": "2025-08-06T17:51:18.030951Z"
    },
    "papermill": {
     "duration": 12.349824,
     "end_time": "2025-08-06T17:51:18.032066",
     "exception": false,
     "start_time": "2025-08-06T17:51:05.682242",
     "status": "completed"
    },
    "tags": []
   },
   "outputs": [
    {
     "data": {
      "application/vnd.jupyter.widget-view+json": {
       "model_id": "30cddbd40b5e4d75a8142c71503674ef",
       "version_major": 2,
       "version_minor": 0
      },
      "text/plain": [
       "Executing:   0%|          | 0/20 [00:00<?, ?cell/s]"
      ]
     },
     "metadata": {},
     "output_type": "display_data"
    },
    {
     "name": "stdout",
     "output_type": "stream",
     "text": [
      "2025-05-01 00:00:00\n",
      "/Users/mikelperez/0_Python_projects_v3_reduced/0_Python_projects_reduced/outputs/verification_project/verif/Grupo Inspired/pdfs/2025/06. Junio/Verificación Fra. 20250501_20250531 KC SOTO VIÑUELAS 1.pdf\n"
     ]
    }
   ],
   "source": [
    "if not df.empty:\n",
    "\n",
    "    for index, row in df.iterrows():\n",
    "\n",
    "        start_date = row['inicio_periodo'].date()\n",
    "        end_date = row['fin_periodo'].date()\n",
    "        start_date = datetime.combine(start_date, time(0,0,0))\n",
    "        end_date = datetime.combine(end_date, time(23,0,0))\n",
    "        start_path = start_date.strftime(\"%Y%m%d\")\n",
    "        end_path = end_date.strftime(\"%Y%m%d\")\n",
    "        invoice_refs = row['num_factura']\n",
    "        invoice_dict = row.to_dict()\n",
    "        month_clean = map_month_folder(issue_month)\n",
    "\n",
    "        invoice_path_pickle = \\\n",
    "            config.get_path(\"outputs.verification_project.verif.cliente.invoice_path_pickle\", \n",
    "                            customer_id = cliente,\n",
    "                            start_date=start_path, \n",
    "                            end_date=end_path,\n",
    "                            alias=alias,\n",
    "                            year=issue_year,\n",
    "                            month=month_clean\n",
    "                            )\n",
    "        output_verif_excel = \\\n",
    "            config.get_path(\"outputs.verification_project.verif.cliente.output_verif_excel\", \n",
    "                            customer_id = cliente,\n",
    "                            start_date=start_path, \n",
    "                            end_date=end_path,\n",
    "                            alias=alias,\n",
    "                            year=issue_year,\n",
    "                            month=month_clean\n",
    "                            )\n",
    "        output_verif_pdf = \\\n",
    "            config.get_path(\"outputs.verification_project.verif.cliente.output_verif_pdf\", \n",
    "                            customer_id = cliente,\n",
    "                            start_date=start_path, \n",
    "                            end_date=end_path,\n",
    "                            alias=alias,\n",
    "                            year=issue_year,\n",
    "                            month=month_clean\n",
    "                            )\n",
    "        output_verif_nb = \\\n",
    "            config.get_path(\"outputs.verification_project.verif.cliente.output_verif_nb\", \n",
    "                            customer_id = cliente,\n",
    "                            start_date=start_path, \n",
    "                            end_date=end_path,\n",
    "                            alias=alias,\n",
    "                            year=issue_year,\n",
    "                            month=month_clean\n",
    "                            )\n",
    "        \n",
    "        for output_path in [invoice_path_pickle, output_verif_excel, output_verif_nb, output_verif_pdf]:\n",
    "\n",
    "            if not os.path.exists(os.path.dirname(output_path)):\n",
    "\n",
    "                os.makedirs(os.path.dirname(output_path))\n",
    "                print(output_path)\n",
    "\n",
    "        with open(invoice_path_pickle, \"wb\") as pickle_file:\n",
    "            pickle.dump(invoice_dict, pickle_file) \n",
    "\n",
    "        logger.info(f\"Executing verification for invoices:\\n{invoice_refs}\")\n",
    "        pm.execute_notebook(\n",
    "            nb_verif, output_verif_nb,##############\n",
    "            parameters=dict(\n",
    "                nb_name = Path(output_verif_nb).stem,\n",
    "                config_path = config_path,\n",
    "                start_date = start_date.isoformat(),\n",
    "                end_date = end_date.isoformat(),\n",
    "                cliente=cliente,\n",
    "                alias = alias,\n",
    "                tarifa = tarifa,\n",
    "                cups = cups,\n",
    "                path_load_parquet = path_load_parquet,\n",
    "                path_coberturas_df = path_coberturas_df,\n",
    "                path_master_matrix = path_master_matrix,\n",
    "                path_contract_matrix = path_contract_matrix,\n",
    "                db_elec_path = db_elec_path,\n",
    "                template_path = template_path,\n",
    "                invoice_path_pickle = invoice_path_pickle,\n",
    "                output_verif_excel =  output_verif_excel,\n",
    "                output_verif_pdf = output_verif_pdf\n",
    "            ),\n",
    "            stdout_file=sys.stdout,\n",
    "            stderr_file=sys.stderr,\n",
    "            log_output=True\n",
    "        )\n",
    "        logger.info(f\"Verification notebook executed successfully for invoices: {invoice_refs}\")\n",
    "        logger.info(f\"Verification PDF can be found at:\\n {output_verif_pdf}\")\n",
    "        logger.info(f\"Verification KPIs can be found at:\\n {output_verif_nb}\")\n",
    "\n",
    "else:\n",
    "    logger.info(f\"No invoices found for CUPS {cups} in the month {issue_month} of year {issue_year}.\")"
   ]
  }
 ],
 "metadata": {
  "kernelspec": {
   "display_name": "work",
   "language": "python",
   "name": "python3"
  },
  "language_info": {
   "codemirror_mode": {
    "name": "ipython",
    "version": 3
   },
   "file_extension": ".py",
   "mimetype": "text/x-python",
   "name": "python",
   "nbconvert_exporter": "python",
   "pygments_lexer": "ipython3",
   "version": "3.12.4"
  },
  "papermill": {
   "default_parameters": {},
   "duration": 16.43299,
   "end_time": "2025-08-06T17:51:20.656719",
   "environment_variables": {},
   "exception": null,
   "input_path": "/Users/mikelperez/0_Python_projects_v3_reduced/0_Python_projects_reduced/notebooks/verification_project/5_Hunt_Invoices.ipynb",
   "output_path": "/Users/mikelperez/0_Python_projects_v3_reduced/0_Python_projects_reduced/notebooks/verification_project/5_Hunt_Invoices.ipynb",
   "parameters": {
    "alias": "KC SOTO VIÑUELAS 1",
    "cliente": "Grupo Inspired",
    "cups": "ES0021000005776632EH",
    "db_elec_manual_path": "/Users/mikelperez/0_Python_projects_v3_reduced/0_Python_projects_reduced/data/processed/elec/facturas_elec_manual.pkl",
    "db_elec_path": "/Users/mikelperez/0_Python_projects_v3_reduced/0_Python_projects_reduced/data/processed/elec/facturas_elec.db",
    "issue_month": 6,
    "issue_year": 2025,
    "nb_verif": "/Users/mikelperez/0_Python_projects_v3_reduced/0_Python_projects_reduced/notebooks/verification_project/5B_Ver_Notebook.ipynb",
    "path_coberturas_df": "/Users/mikelperez/0_Python_projects_v3_reduced/0_Python_projects_reduced/data/customers/elec/Grupo Inspired/raw/df_coberturas_1.pkl",
    "path_contract_matrix": "/Users/mikelperez/0_Python_projects_v3_reduced/0_Python_projects_reduced/data/customers/elec/Grupo Inspired/raw/contract_matrix_ES0021000005776632EH.pkl",
    "path_load_parquet": "/Users/mikelperez/0_Python_projects_v3_reduced/0_Python_projects_reduced/data/processed/elec/elec_load.parquet",
    "path_master_matrix": "/Users/mikelperez/0_Python_projects_v3_reduced/0_Python_projects_reduced/data/customers/elec/Grupo Inspired/raw/master_matrix_ES0021000005776632EH.pkl",
    "tarifa": "6.1 TD",
    "template_path": "/Users/mikelperez/0_Python_projects_v3_reduced/0_Python_projects_reduced/data/verification_project/elec/templates/Template 2024.xlsx"
   },
   "start_time": "2025-08-06T17:51:04.223729",
   "version": "2.6.0"
  },
  "widgets": {
   "application/vnd.jupyter.widget-state+json": {
    "state": {
     "013915a44fa042718fb55e680bbfa7f4": {
      "model_module": "@jupyter-widgets/base",
      "model_module_version": "2.0.0",
      "model_name": "LayoutModel",
      "state": {
       "_model_module": "@jupyter-widgets/base",
       "_model_module_version": "2.0.0",
       "_model_name": "LayoutModel",
       "_view_count": null,
       "_view_module": "@jupyter-widgets/base",
       "_view_module_version": "2.0.0",
       "_view_name": "LayoutView",
       "align_content": null,
       "align_items": null,
       "align_self": null,
       "border_bottom": null,
       "border_left": null,
       "border_right": null,
       "border_top": null,
       "bottom": null,
       "display": null,
       "flex": null,
       "flex_flow": null,
       "grid_area": null,
       "grid_auto_columns": null,
       "grid_auto_flow": null,
       "grid_auto_rows": null,
       "grid_column": null,
       "grid_gap": null,
       "grid_row": null,
       "grid_template_areas": null,
       "grid_template_columns": null,
       "grid_template_rows": null,
       "height": null,
       "justify_content": null,
       "justify_items": null,
       "left": null,
       "margin": null,
       "max_height": null,
       "max_width": null,
       "min_height": null,
       "min_width": null,
       "object_fit": null,
       "object_position": null,
       "order": null,
       "overflow": null,
       "padding": null,
       "right": null,
       "top": null,
       "visibility": null,
       "width": null
      }
     },
     "04c584bf8ce44bcdbe0e1b64661335f0": {
      "model_module": "@jupyter-widgets/base",
      "model_module_version": "2.0.0",
      "model_name": "LayoutModel",
      "state": {
       "_model_module": "@jupyter-widgets/base",
       "_model_module_version": "2.0.0",
       "_model_name": "LayoutModel",
       "_view_count": null,
       "_view_module": "@jupyter-widgets/base",
       "_view_module_version": "2.0.0",
       "_view_name": "LayoutView",
       "align_content": null,
       "align_items": null,
       "align_self": null,
       "border_bottom": null,
       "border_left": null,
       "border_right": null,
       "border_top": null,
       "bottom": null,
       "display": null,
       "flex": null,
       "flex_flow": null,
       "grid_area": null,
       "grid_auto_columns": null,
       "grid_auto_flow": null,
       "grid_auto_rows": null,
       "grid_column": null,
       "grid_gap": null,
       "grid_row": null,
       "grid_template_areas": null,
       "grid_template_columns": null,
       "grid_template_rows": null,
       "height": null,
       "justify_content": null,
       "justify_items": null,
       "left": null,
       "margin": null,
       "max_height": null,
       "max_width": null,
       "min_height": null,
       "min_width": null,
       "object_fit": null,
       "object_position": null,
       "order": null,
       "overflow": null,
       "padding": null,
       "right": null,
       "top": null,
       "visibility": null,
       "width": null
      }
     },
     "14efb70cd8c643a88cae2919f10c023b": {
      "model_module": "@jupyter-widgets/base",
      "model_module_version": "2.0.0",
      "model_name": "LayoutModel",
      "state": {
       "_model_module": "@jupyter-widgets/base",
       "_model_module_version": "2.0.0",
       "_model_name": "LayoutModel",
       "_view_count": null,
       "_view_module": "@jupyter-widgets/base",
       "_view_module_version": "2.0.0",
       "_view_name": "LayoutView",
       "align_content": null,
       "align_items": null,
       "align_self": null,
       "border_bottom": null,
       "border_left": null,
       "border_right": null,
       "border_top": null,
       "bottom": null,
       "display": null,
       "flex": null,
       "flex_flow": null,
       "grid_area": null,
       "grid_auto_columns": null,
       "grid_auto_flow": null,
       "grid_auto_rows": null,
       "grid_column": null,
       "grid_gap": null,
       "grid_row": null,
       "grid_template_areas": null,
       "grid_template_columns": null,
       "grid_template_rows": null,
       "height": null,
       "justify_content": null,
       "justify_items": null,
       "left": null,
       "margin": null,
       "max_height": null,
       "max_width": null,
       "min_height": null,
       "min_width": null,
       "object_fit": null,
       "object_position": null,
       "order": null,
       "overflow": null,
       "padding": null,
       "right": null,
       "top": null,
       "visibility": null,
       "width": null
      }
     },
     "30cddbd40b5e4d75a8142c71503674ef": {
      "model_module": "@jupyter-widgets/controls",
      "model_module_version": "2.0.0",
      "model_name": "HBoxModel",
      "state": {
       "_dom_classes": [],
       "_model_module": "@jupyter-widgets/controls",
       "_model_module_version": "2.0.0",
       "_model_name": "HBoxModel",
       "_view_count": null,
       "_view_module": "@jupyter-widgets/controls",
       "_view_module_version": "2.0.0",
       "_view_name": "HBoxView",
       "box_style": "",
       "children": [
        "IPY_MODEL_99c59d13712648c9ab5806885a89f846",
        "IPY_MODEL_49e47bd8ecf647f6a438231982a01247",
        "IPY_MODEL_b2aef71536d943d3a75fbcf91569865a"
       ],
       "layout": "IPY_MODEL_013915a44fa042718fb55e680bbfa7f4",
       "tabbable": null,
       "tooltip": null
      }
     },
     "49e47bd8ecf647f6a438231982a01247": {
      "model_module": "@jupyter-widgets/controls",
      "model_module_version": "2.0.0",
      "model_name": "FloatProgressModel",
      "state": {
       "_dom_classes": [],
       "_model_module": "@jupyter-widgets/controls",
       "_model_module_version": "2.0.0",
       "_model_name": "FloatProgressModel",
       "_view_count": null,
       "_view_module": "@jupyter-widgets/controls",
       "_view_module_version": "2.0.0",
       "_view_name": "ProgressView",
       "bar_style": "success",
       "description": "",
       "description_allow_html": false,
       "layout": "IPY_MODEL_14efb70cd8c643a88cae2919f10c023b",
       "max": 20,
       "min": 0,
       "orientation": "horizontal",
       "style": "IPY_MODEL_6e2924ae1e234f46998913e16790a293",
       "tabbable": null,
       "tooltip": null,
       "value": 20
      }
     },
     "5774d801d2484f9c9ccefde74a61f70c": {
      "model_module": "@jupyter-widgets/controls",
      "model_module_version": "2.0.0",
      "model_name": "HTMLStyleModel",
      "state": {
       "_model_module": "@jupyter-widgets/controls",
       "_model_module_version": "2.0.0",
       "_model_name": "HTMLStyleModel",
       "_view_count": null,
       "_view_module": "@jupyter-widgets/base",
       "_view_module_version": "2.0.0",
       "_view_name": "StyleView",
       "background": null,
       "description_width": "",
       "font_size": null,
       "text_color": null
      }
     },
     "630778701b414d209c3b88c654cc437c": {
      "model_module": "@jupyter-widgets/controls",
      "model_module_version": "2.0.0",
      "model_name": "HTMLStyleModel",
      "state": {
       "_model_module": "@jupyter-widgets/controls",
       "_model_module_version": "2.0.0",
       "_model_name": "HTMLStyleModel",
       "_view_count": null,
       "_view_module": "@jupyter-widgets/base",
       "_view_module_version": "2.0.0",
       "_view_name": "StyleView",
       "background": null,
       "description_width": "",
       "font_size": null,
       "text_color": null
      }
     },
     "6e2924ae1e234f46998913e16790a293": {
      "model_module": "@jupyter-widgets/controls",
      "model_module_version": "2.0.0",
      "model_name": "ProgressStyleModel",
      "state": {
       "_model_module": "@jupyter-widgets/controls",
       "_model_module_version": "2.0.0",
       "_model_name": "ProgressStyleModel",
       "_view_count": null,
       "_view_module": "@jupyter-widgets/base",
       "_view_module_version": "2.0.0",
       "_view_name": "StyleView",
       "bar_color": null,
       "description_width": ""
      }
     },
     "88254d5118544a34831ffc8b07a1f6f6": {
      "model_module": "@jupyter-widgets/base",
      "model_module_version": "2.0.0",
      "model_name": "LayoutModel",
      "state": {
       "_model_module": "@jupyter-widgets/base",
       "_model_module_version": "2.0.0",
       "_model_name": "LayoutModel",
       "_view_count": null,
       "_view_module": "@jupyter-widgets/base",
       "_view_module_version": "2.0.0",
       "_view_name": "LayoutView",
       "align_content": null,
       "align_items": null,
       "align_self": null,
       "border_bottom": null,
       "border_left": null,
       "border_right": null,
       "border_top": null,
       "bottom": null,
       "display": null,
       "flex": null,
       "flex_flow": null,
       "grid_area": null,
       "grid_auto_columns": null,
       "grid_auto_flow": null,
       "grid_auto_rows": null,
       "grid_column": null,
       "grid_gap": null,
       "grid_row": null,
       "grid_template_areas": null,
       "grid_template_columns": null,
       "grid_template_rows": null,
       "height": null,
       "justify_content": null,
       "justify_items": null,
       "left": null,
       "margin": null,
       "max_height": null,
       "max_width": null,
       "min_height": null,
       "min_width": null,
       "object_fit": null,
       "object_position": null,
       "order": null,
       "overflow": null,
       "padding": null,
       "right": null,
       "top": null,
       "visibility": null,
       "width": null
      }
     },
     "99c59d13712648c9ab5806885a89f846": {
      "model_module": "@jupyter-widgets/controls",
      "model_module_version": "2.0.0",
      "model_name": "HTMLModel",
      "state": {
       "_dom_classes": [],
       "_model_module": "@jupyter-widgets/controls",
       "_model_module_version": "2.0.0",
       "_model_name": "HTMLModel",
       "_view_count": null,
       "_view_module": "@jupyter-widgets/controls",
       "_view_module_version": "2.0.0",
       "_view_name": "HTMLView",
       "description": "",
       "description_allow_html": false,
       "layout": "IPY_MODEL_88254d5118544a34831ffc8b07a1f6f6",
       "placeholder": "​",
       "style": "IPY_MODEL_630778701b414d209c3b88c654cc437c",
       "tabbable": null,
       "tooltip": null,
       "value": "Executing: 100%"
      }
     },
     "b2aef71536d943d3a75fbcf91569865a": {
      "model_module": "@jupyter-widgets/controls",
      "model_module_version": "2.0.0",
      "model_name": "HTMLModel",
      "state": {
       "_dom_classes": [],
       "_model_module": "@jupyter-widgets/controls",
       "_model_module_version": "2.0.0",
       "_model_name": "HTMLModel",
       "_view_count": null,
       "_view_module": "@jupyter-widgets/controls",
       "_view_module_version": "2.0.0",
       "_view_name": "HTMLView",
       "description": "",
       "description_allow_html": false,
       "layout": "IPY_MODEL_04c584bf8ce44bcdbe0e1b64661335f0",
       "placeholder": "​",
       "style": "IPY_MODEL_5774d801d2484f9c9ccefde74a61f70c",
       "tabbable": null,
       "tooltip": null,
       "value": " 20/20 [00:12&lt;00:00, 11.69cell/s]"
      }
     }
    },
    "version_major": 2,
    "version_minor": 0
   }
  }
 },
 "nbformat": 4,
 "nbformat_minor": 5
}
