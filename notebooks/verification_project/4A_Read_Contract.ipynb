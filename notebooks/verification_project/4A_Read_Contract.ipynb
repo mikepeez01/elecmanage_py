{
 "cells": [
  {
   "cell_type": "code",
   "execution_count": 1,
   "id": "6121f044",
   "metadata": {
    "execution": {
     "iopub.execute_input": "2025-08-06T10:02:32.317509Z",
     "iopub.status.busy": "2025-08-06T10:02:32.317241Z",
     "iopub.status.idle": "2025-08-06T10:02:32.320943Z",
     "shell.execute_reply": "2025-08-06T10:02:32.320513Z"
    },
    "papermill": {
     "duration": 0.01184,
     "end_time": "2025-08-06T10:02:32.322167",
     "exception": false,
     "start_time": "2025-08-06T10:02:32.310327",
     "status": "completed"
    },
    "tags": []
   },
   "outputs": [],
   "source": [
    "from datetime import datetime, timedelta"
   ]
  },
  {
   "cell_type": "code",
   "execution_count": 2,
   "id": "562ac422",
   "metadata": {
    "execution": {
     "iopub.execute_input": "2025-08-06T10:02:32.329872Z",
     "iopub.status.busy": "2025-08-06T10:02:32.329400Z",
     "iopub.status.idle": "2025-08-06T10:02:32.333276Z",
     "shell.execute_reply": "2025-08-06T10:02:32.332757Z"
    },
    "papermill": {
     "duration": 0.008733,
     "end_time": "2025-08-06T10:02:32.334288",
     "exception": false,
     "start_time": "2025-08-06T10:02:32.325555",
     "status": "completed"
    },
    "tags": [
     "parameters"
    ]
   },
   "outputs": [],
   "source": [
    "# Parameters\n",
    "cliente = \"Taghleef\"\n",
    "tarifa = \"6.1 TD\"\n",
    "contract_id = 1\n",
    "cups = \"ES0031101457946001KR\"\n",
    "electrointensivo = True\n",
    "path_datos_cliente = \"c:\\\\Users\\\\mikel.perez\\\\0_Python_Projects - copia\\\\0_Python_projects_v2\\\\data\\\\customers\\\\elec\\\\Taghleef/datos_ELEC_Taghleef_1.xlsm\"\n",
    "path_peajes_cargos_energia = \"c:\\\\Users\\\\mikel.perez\\\\0_Python_Projects - copia\\\\0_Python_projects_v2\\\\data\\\\regulation\\\\elec\\\\peajes_cargos_energia.xlsx\"\n",
    "path_peajes_energia = \"c:\\\\Users\\\\mikel.perez\\\\0_Python_Projects - copia\\\\0_Python_projects_v2\\\\data\\\\regulation\\\\elec\\\\peajes_energia.xlsx\"\n",
    "path_peajes_potencia = \"c:\\\\Users\\\\mikel.perez\\\\0_Python_Projects - copia\\\\0_Python_projects_v2\\\\data\\\\regulation\\\\elec\\\\peajes_potencia.xlsx\"\n",
    "path_cargos_energia = \"c:\\\\Users\\\\mikel.perez\\\\0_Python_Projects - copia\\\\0_Python_projects_v2\\\\data\\\\regulation\\\\elec\\\\cargos_energia.xlsx\"\n",
    "path_cargos_potencia = \"c:\\\\Users\\\\mikel.perez\\\\0_Python_Projects - copia\\\\0_Python_projects_v2\\\\data\\\\regulation\\\\elec\\\\cargos_potencia.xlsx\"\n",
    "path_estructura_cargos = \"c:\\\\Users\\\\mikel.perez\\\\0_Python_Projects - copia\\\\0_Python_projects_v2\\\\data\\\\regulation\\\\elec\\\\estructura_cargos.xlsx\"\n",
    "path_dto_peajes_electrointensivos = \"c:\\\\Users\\\\mikel.perez\\\\0_Python_Projects - copia\\\\0_Python_projects_v2\\\\data\\\\regulation\\\\elec\\\\dto_peajes_electrointensivos.xlsx\"\n",
    "path_ie = \"c:\\\\Users\\\\mikel.perez\\\\0_Python_Projects - copia\\\\0_Python_projects_v2\\\\data\\\\regulation\\\\elec\\\\ie.xlsx\"\n",
    "path_coberturas_df = \"c:\\\\Users\\\\mikel.perez\\\\0_Python_Projects - copia\\\\0_Python_projects_v2\\\\data\\\\customers\\\\elec\\\\Taghleef\\\\df_coberturas.pkl\"\n",
    "path_contract_matrix = \"c:\\\\Users\\\\mikel.perez\\\\0_Python_Projects - copia\\\\0_Python_projects_v2\\\\data\\\\customers\\\\elec\\\\Taghleef\\\\contract_matrix_ES0031101457946001KR.pkl\"\n",
    "path_coefs_exc = \"c:\\\\Users\\\\mikel.perez\\\\0_Python_Projects - copia\\\\0_Python_projects_v2\\\\data\\\\regulation\\\\elec\\\\coefs_excesos.xlsx\"\n"
   ]
  },
  {
   "cell_type": "code",
   "execution_count": 3,
   "id": "e031e2db",
   "metadata": {
    "execution": {
     "iopub.execute_input": "2025-08-06T10:02:32.339455Z",
     "iopub.status.busy": "2025-08-06T10:02:32.339344Z",
     "iopub.status.idle": "2025-08-06T10:02:32.341703Z",
     "shell.execute_reply": "2025-08-06T10:02:32.341453Z"
    },
    "papermill": {
     "duration": 0.005502,
     "end_time": "2025-08-06T10:02:32.342380",
     "exception": false,
     "start_time": "2025-08-06T10:02:32.336878",
     "status": "completed"
    },
    "tags": [
     "injected-parameters"
    ]
   },
   "outputs": [],
   "source": [
    "# Parameters\n",
    "cliente = \"Generic\"\n",
    "tarifa = \"6.1 TD\"\n",
    "contract_id = 1\n",
    "cups = \"TRIAL\"\n",
    "electrointensivo = False\n",
    "path_datos_cliente = \"/Users/mikelperez/0_Python_projects_v3_reduced/0_Python_projects_reduced/data/customers/elec/Generic/datos_ELEC_Generic_1.xlsm\"\n",
    "path_peajes_cargos_energia = \"/Users/mikelperez/0_Python_projects_v3_reduced/0_Python_projects_reduced/data/regulation/elec/peajes_cargos_energia.xlsx\"\n",
    "path_peajes_energia = \"/Users/mikelperez/0_Python_projects_v3_reduced/0_Python_projects_reduced/data/regulation/elec/peajes_energia.xlsx\"\n",
    "path_peajes_potencia = \"/Users/mikelperez/0_Python_projects_v3_reduced/0_Python_projects_reduced/data/regulation/elec/peajes_potencia.xlsx\"\n",
    "path_cargos_energia = \"/Users/mikelperez/0_Python_projects_v3_reduced/0_Python_projects_reduced/data/regulation/elec/cargos_energia.xlsx\"\n",
    "path_cargos_potencia = \"/Users/mikelperez/0_Python_projects_v3_reduced/0_Python_projects_reduced/data/regulation/elec/cargos_potencia.xlsx\"\n",
    "path_estructura_cargos = \"/Users/mikelperez/0_Python_projects_v3_reduced/0_Python_projects_reduced/data/regulation/elec/estructura_cargos.xlsx\"\n",
    "path_dto_peajes_electrointensivos = \"/Users/mikelperez/0_Python_projects_v3_reduced/0_Python_projects_reduced/data/regulation/elec/dto_peajes_electrointensivos.xlsx\"\n",
    "path_ie = \"/Users/mikelperez/0_Python_projects_v3_reduced/0_Python_projects_reduced/data/regulation/elec/ie.xlsx\"\n",
    "path_coberturas_df = \"/Users/mikelperez/0_Python_projects_v3_reduced/0_Python_projects_reduced/data/customers/elec/Generic/df_coberturas_1.pkl\"\n",
    "path_contract_matrix = \"/Users/mikelperez/0_Python_projects_v3_reduced/0_Python_projects_reduced/data/customers/elec/Generic/contract_matrix_TRIAL.pkl\"\n",
    "path_coefs_exc = \"/Users/mikelperez/0_Python_projects_v3_reduced/0_Python_projects_reduced/data/regulation/elec/coefs_excesos.xlsx\"\n"
   ]
  },
  {
   "cell_type": "code",
   "execution_count": 4,
   "id": "3ac581ba",
   "metadata": {
    "execution": {
     "iopub.execute_input": "2025-08-06T10:02:32.346703Z",
     "iopub.status.busy": "2025-08-06T10:02:32.346612Z",
     "iopub.status.idle": "2025-08-06T10:02:32.348091Z",
     "shell.execute_reply": "2025-08-06T10:02:32.347887Z"
    },
    "papermill": {
     "duration": 0.004274,
     "end_time": "2025-08-06T10:02:32.348761",
     "exception": false,
     "start_time": "2025-08-06T10:02:32.344487",
     "status": "completed"
    },
    "tags": []
   },
   "outputs": [],
   "source": [
    "start_date = datetime(2023,1,1)\n",
    "end_date = datetime(2026,2,5)"
   ]
  },
  {
   "cell_type": "code",
   "execution_count": 5,
   "id": "897d94aa",
   "metadata": {
    "execution": {
     "iopub.execute_input": "2025-08-06T10:02:32.352979Z",
     "iopub.status.busy": "2025-08-06T10:02:32.352880Z",
     "iopub.status.idle": "2025-08-06T10:02:32.354841Z",
     "shell.execute_reply": "2025-08-06T10:02:32.354650Z"
    },
    "papermill": {
     "duration": 0.004588,
     "end_time": "2025-08-06T10:02:32.355413",
     "exception": false,
     "start_time": "2025-08-06T10:02:32.350825",
     "status": "completed"
    },
    "tags": []
   },
   "outputs": [],
   "source": [
    "years = list(range(start_date.year, end_date.year + 1))\n",
    "date_range = [start_date.date() + timedelta(days=x) for x in range((end_date - start_date).days + 1)]"
   ]
  },
  {
   "cell_type": "code",
   "execution_count": 6,
   "id": "8339cfa0",
   "metadata": {
    "execution": {
     "iopub.execute_input": "2025-08-06T10:02:32.358801Z",
     "iopub.status.busy": "2025-08-06T10:02:32.358718Z",
     "iopub.status.idle": "2025-08-06T10:02:32.618740Z",
     "shell.execute_reply": "2025-08-06T10:02:32.618508Z"
    },
    "papermill": {
     "duration": 0.26251,
     "end_time": "2025-08-06T10:02:32.619463",
     "exception": false,
     "start_time": "2025-08-06T10:02:32.356953",
     "status": "completed"
    },
    "tags": []
   },
   "outputs": [],
   "source": [
    "from shared.read_contracts import BuildMasterMatrix"
   ]
  },
  {
   "cell_type": "code",
   "execution_count": 7,
   "id": "ecb81986",
   "metadata": {
    "execution": {
     "iopub.execute_input": "2025-08-06T10:02:32.623198Z",
     "iopub.status.busy": "2025-08-06T10:02:32.623065Z",
     "iopub.status.idle": "2025-08-06T10:02:32.693845Z",
     "shell.execute_reply": "2025-08-06T10:02:32.693627Z"
    },
    "papermill": {
     "duration": 0.073596,
     "end_time": "2025-08-06T10:02:32.694532",
     "exception": false,
     "start_time": "2025-08-06T10:02:32.620936",
     "status": "completed"
    },
    "tags": []
   },
   "outputs": [],
   "source": [
    "MasterMatrix = BuildMasterMatrix(\n",
    "                            cliente=cliente,\n",
    "                            cups=cups,\n",
    "                            years=years, \n",
    "                            tarifa=tarifa,\n",
    "                            electrointensivo=electrointensivo,\n",
    "                            contract_id=contract_id,\n",
    "                            path_datos_cliente=path_datos_cliente,\n",
    "                            path_peajes_cargos=path_peajes_cargos_energia,\n",
    "                            path_peajes_energia=path_peajes_energia,\n",
    "                            path_cargos_energia=path_cargos_energia,\n",
    "                            path_peajes_potencia=path_peajes_potencia,\n",
    "                            path_cargos_potencia=path_cargos_potencia,\n",
    "                            path_estructura_cargos=path_estructura_cargos,\n",
    "                            path_ie=path_ie,\n",
    "                            path_dto_peajes_electrointensivos=path_dto_peajes_electrointensivos,\n",
    "                            path_coefs_exc= path_coefs_exc\n",
    "                                )"
   ]
  },
  {
   "cell_type": "code",
   "execution_count": 8,
   "id": "d26a0992",
   "metadata": {
    "execution": {
     "iopub.execute_input": "2025-08-06T10:02:32.698351Z",
     "iopub.status.busy": "2025-08-06T10:02:32.698264Z",
     "iopub.status.idle": "2025-08-06T10:02:36.486095Z",
     "shell.execute_reply": "2025-08-06T10:02:36.485694Z"
    },
    "papermill": {
     "duration": 3.790706,
     "end_time": "2025-08-06T10:02:36.487510",
     "exception": false,
     "start_time": "2025-08-06T10:02:32.696804",
     "status": "completed"
    },
    "tags": []
   },
   "outputs": [
    {
     "name": "stderr",
     "output_type": "stream",
     "text": [
      "/Users/mikelperez/0_Python_projects_v3_reduced/0_Python_projects_reduced/src/shared/read_contracts.py:203: FutureWarning: Downcasting object dtype arrays on .fillna, .ffill, .bfill is deprecated and will change in a future version. Call result.infer_objects(copy=False) instead. To opt-in to the future behavior, set `pd.set_option('future.no_silent_downcasting', True)`\n",
      "  master_df = master_df.fillna(value=np.nan)\n"
     ]
    },
    {
     "name": "stdout",
     "output_type": "stream",
     "text": [
      "[False]\n"
     ]
    }
   ],
   "source": [
    "MasterMatrix.trigger_master_df_completion(start_date=start_date, end_date=end_date);"
   ]
  },
  {
   "cell_type": "code",
   "execution_count": 9,
   "id": "c4283c87",
   "metadata": {
    "execution": {
     "iopub.execute_input": "2025-08-06T10:02:36.493781Z",
     "iopub.status.busy": "2025-08-06T10:02:36.493300Z",
     "iopub.status.idle": "2025-08-06T10:02:36.513933Z",
     "shell.execute_reply": "2025-08-06T10:02:36.513444Z"
    },
    "papermill": {
     "duration": 0.025224,
     "end_time": "2025-08-06T10:02:36.515312",
     "exception": false,
     "start_time": "2025-08-06T10:02:36.490088",
     "status": "completed"
    },
    "tags": []
   },
   "outputs": [
    {
     "data": {
      "text/html": [
       "<div>\n",
       "<style scoped>\n",
       "    .dataframe tbody tr th:only-of-type {\n",
       "        vertical-align: middle;\n",
       "    }\n",
       "\n",
       "    .dataframe tbody tr th {\n",
       "        vertical-align: top;\n",
       "    }\n",
       "\n",
       "    .dataframe thead th {\n",
       "        text-align: right;\n",
       "    }\n",
       "</style>\n",
       "<table border=\"1\" class=\"dataframe\">\n",
       "  <thead>\n",
       "    <tr style=\"text-align: right;\">\n",
       "      <th>index</th>\n",
       "      <th>Fecha</th>\n",
       "      <th>Año</th>\n",
       "      <th>Producto</th>\n",
       "      <th>Tipo</th>\n",
       "      <th>Porcentaje [%]</th>\n",
       "      <th>Cantidad [MWh]</th>\n",
       "      <th>Carga Base [MW]</th>\n",
       "      <th>Precio [€/MWh]</th>\n",
       "      <th>Apuntamiento</th>\n",
       "      <th>Modalidad</th>\n",
       "      <th>Rango superior</th>\n",
       "      <th>Rango inferior</th>\n",
       "    </tr>\n",
       "  </thead>\n",
       "  <tbody>\n",
       "  </tbody>\n",
       "</table>\n",
       "</div>"
      ],
      "text/plain": [
       "Empty DataFrame\n",
       "Columns: [Fecha, Año, Producto, Tipo, Porcentaje [%], Cantidad [MWh], Carga Base [MW], Precio [€/MWh], Apuntamiento, Modalidad, Rango superior, Rango inferior]\n",
       "Index: []"
      ]
     },
     "execution_count": 9,
     "metadata": {},
     "output_type": "execute_result"
    }
   ],
   "source": [
    "df_coberturas = MasterMatrix.read_coberturas()\n",
    "df_coberturas"
   ]
  },
  {
   "cell_type": "code",
   "execution_count": 10,
   "id": "ac547038",
   "metadata": {
    "execution": {
     "iopub.execute_input": "2025-08-06T10:02:36.519404Z",
     "iopub.status.busy": "2025-08-06T10:02:36.519242Z",
     "iopub.status.idle": "2025-08-06T10:02:36.521049Z",
     "shell.execute_reply": "2025-08-06T10:02:36.520683Z"
    },
    "papermill": {
     "duration": 0.005365,
     "end_time": "2025-08-06T10:02:36.522386",
     "exception": false,
     "start_time": "2025-08-06T10:02:36.517021",
     "status": "completed"
    },
    "tags": []
   },
   "outputs": [],
   "source": [
    "df_contract = MasterMatrix.master_df"
   ]
  },
  {
   "cell_type": "code",
   "execution_count": 11,
   "id": "a0385027",
   "metadata": {
    "execution": {
     "iopub.execute_input": "2025-08-06T10:02:36.526218Z",
     "iopub.status.busy": "2025-08-06T10:02:36.525990Z",
     "iopub.status.idle": "2025-08-06T10:02:36.530138Z",
     "shell.execute_reply": "2025-08-06T10:02:36.529525Z"
    },
    "papermill": {
     "duration": 0.007985,
     "end_time": "2025-08-06T10:02:36.531844",
     "exception": false,
     "start_time": "2025-08-06T10:02:36.523859",
     "status": "completed"
    },
    "tags": []
   },
   "outputs": [],
   "source": [
    "df_coberturas.to_pickle(path_coberturas_df)\n",
    "df_contract.to_pickle(path_contract_matrix)"
   ]
  }
 ],
 "metadata": {
  "kernelspec": {
   "display_name": "work",
   "language": "python",
   "name": "python3"
  },
  "language_info": {
   "codemirror_mode": {
    "name": "ipython",
    "version": 3
   },
   "file_extension": ".py",
   "mimetype": "text/x-python",
   "name": "python",
   "nbconvert_exporter": "python",
   "pygments_lexer": "ipython3",
   "version": "3.12.4"
  },
  "papermill": {
   "default_parameters": {},
   "duration": 4.99668,
   "end_time": "2025-08-06T10:02:36.652052",
   "environment_variables": {},
   "exception": null,
   "input_path": "/Users/mikelperez/0_Python_projects_v3_reduced/0_Python_projects_reduced/notebooks/verification_project/4A_Read_Contract.ipynb",
   "output_path": "/Users/mikelperez/0_Python_projects_v3_reduced/0_Python_projects_reduced/notebooks/verification_project/4A_Read_Contract.ipynb",
   "parameters": {
    "cliente": "Generic",
    "contract_id": 1,
    "cups": "TRIAL",
    "electrointensivo": false,
    "path_cargos_energia": "/Users/mikelperez/0_Python_projects_v3_reduced/0_Python_projects_reduced/data/regulation/elec/cargos_energia.xlsx",
    "path_cargos_potencia": "/Users/mikelperez/0_Python_projects_v3_reduced/0_Python_projects_reduced/data/regulation/elec/cargos_potencia.xlsx",
    "path_coberturas_df": "/Users/mikelperez/0_Python_projects_v3_reduced/0_Python_projects_reduced/data/customers/elec/Generic/df_coberturas_1.pkl",
    "path_coefs_exc": "/Users/mikelperez/0_Python_projects_v3_reduced/0_Python_projects_reduced/data/regulation/elec/coefs_excesos.xlsx",
    "path_contract_matrix": "/Users/mikelperez/0_Python_projects_v3_reduced/0_Python_projects_reduced/data/customers/elec/Generic/contract_matrix_TRIAL.pkl",
    "path_datos_cliente": "/Users/mikelperez/0_Python_projects_v3_reduced/0_Python_projects_reduced/data/customers/elec/Generic/datos_ELEC_Generic_1.xlsm",
    "path_dto_peajes_electrointensivos": "/Users/mikelperez/0_Python_projects_v3_reduced/0_Python_projects_reduced/data/regulation/elec/dto_peajes_electrointensivos.xlsx",
    "path_estructura_cargos": "/Users/mikelperez/0_Python_projects_v3_reduced/0_Python_projects_reduced/data/regulation/elec/estructura_cargos.xlsx",
    "path_ie": "/Users/mikelperez/0_Python_projects_v3_reduced/0_Python_projects_reduced/data/regulation/elec/ie.xlsx",
    "path_peajes_cargos_energia": "/Users/mikelperez/0_Python_projects_v3_reduced/0_Python_projects_reduced/data/regulation/elec/peajes_cargos_energia.xlsx",
    "path_peajes_energia": "/Users/mikelperez/0_Python_projects_v3_reduced/0_Python_projects_reduced/data/regulation/elec/peajes_energia.xlsx",
    "path_peajes_potencia": "/Users/mikelperez/0_Python_projects_v3_reduced/0_Python_projects_reduced/data/regulation/elec/peajes_potencia.xlsx",
    "tarifa": "6.1 TD"
   },
   "start_time": "2025-08-06T10:02:31.655372",
   "version": "2.6.0"
  },
  "widgets": {
   "application/vnd.jupyter.widget-state+json": {
    "state": {
     "0b800229b7bb4782a9bfd79b73129cec": {
      "model_module": "@jupyter-widgets/controls",
      "model_module_version": "2.0.0",
      "model_name": "HTMLModel",
      "state": {
       "_dom_classes": [],
       "_model_module": "@jupyter-widgets/controls",
       "_model_module_version": "2.0.0",
       "_model_name": "HTMLModel",
       "_view_count": null,
       "_view_module": "@jupyter-widgets/controls",
       "_view_module_version": "2.0.0",
       "_view_name": "HTMLView",
       "description": "",
       "description_allow_html": false,
       "layout": "IPY_MODEL_fc24fb63a0ce4ae7acaa2f4c9b8d97a7",
       "placeholder": "​",
       "style": "IPY_MODEL_6d85cd65d4f7434db933a917f9347b6b",
       "tabbable": null,
       "tooltip": null,
       "value": " 12/32 [00:07&lt;00:09,  2.00cell/s]"
      }
     },
     "1128f3e9b63f47299f3b144e1ee679ac": {
      "model_module": "@jupyter-widgets/controls",
      "model_module_version": "2.0.0",
      "model_name": "HTMLModel",
      "state": {
       "_dom_classes": [],
       "_model_module": "@jupyter-widgets/controls",
       "_model_module_version": "2.0.0",
       "_model_name": "HTMLModel",
       "_view_count": null,
       "_view_module": "@jupyter-widgets/controls",
       "_view_module_version": "2.0.0",
       "_view_name": "HTMLView",
       "description": "",
       "description_allow_html": false,
       "layout": "IPY_MODEL_647acbdb486a4a02a9a614ec46679201",
       "placeholder": "​",
       "style": "IPY_MODEL_df5f87f6965d4ba2b6c2c2049549136e",
       "tabbable": null,
       "tooltip": null,
       "value": "Executing:  38%"
      }
     },
     "4903a069a44b48adb93a9a93e213acde": {
      "model_module": "@jupyter-widgets/controls",
      "model_module_version": "2.0.0",
      "model_name": "HBoxModel",
      "state": {
       "_dom_classes": [],
       "_model_module": "@jupyter-widgets/controls",
       "_model_module_version": "2.0.0",
       "_model_name": "HBoxModel",
       "_view_count": null,
       "_view_module": "@jupyter-widgets/controls",
       "_view_module_version": "2.0.0",
       "_view_name": "HBoxView",
       "box_style": "",
       "children": [
        "IPY_MODEL_1128f3e9b63f47299f3b144e1ee679ac",
        "IPY_MODEL_720069d889114e8395cd83097daf67d2",
        "IPY_MODEL_0b800229b7bb4782a9bfd79b73129cec"
       ],
       "layout": "IPY_MODEL_f5229d50a9754b99a3a36caa8100a796",
       "tabbable": null,
       "tooltip": null
      }
     },
     "4c85024c6431434dab01e71c56fb72b1": {
      "model_module": "@jupyter-widgets/controls",
      "model_module_version": "2.0.0",
      "model_name": "ProgressStyleModel",
      "state": {
       "_model_module": "@jupyter-widgets/controls",
       "_model_module_version": "2.0.0",
       "_model_name": "ProgressStyleModel",
       "_view_count": null,
       "_view_module": "@jupyter-widgets/base",
       "_view_module_version": "2.0.0",
       "_view_name": "StyleView",
       "bar_color": null,
       "description_width": ""
      }
     },
     "647acbdb486a4a02a9a614ec46679201": {
      "model_module": "@jupyter-widgets/base",
      "model_module_version": "2.0.0",
      "model_name": "LayoutModel",
      "state": {
       "_model_module": "@jupyter-widgets/base",
       "_model_module_version": "2.0.0",
       "_model_name": "LayoutModel",
       "_view_count": null,
       "_view_module": "@jupyter-widgets/base",
       "_view_module_version": "2.0.0",
       "_view_name": "LayoutView",
       "align_content": null,
       "align_items": null,
       "align_self": null,
       "border_bottom": null,
       "border_left": null,
       "border_right": null,
       "border_top": null,
       "bottom": null,
       "display": null,
       "flex": null,
       "flex_flow": null,
       "grid_area": null,
       "grid_auto_columns": null,
       "grid_auto_flow": null,
       "grid_auto_rows": null,
       "grid_column": null,
       "grid_gap": null,
       "grid_row": null,
       "grid_template_areas": null,
       "grid_template_columns": null,
       "grid_template_rows": null,
       "height": null,
       "justify_content": null,
       "justify_items": null,
       "left": null,
       "margin": null,
       "max_height": null,
       "max_width": null,
       "min_height": null,
       "min_width": null,
       "object_fit": null,
       "object_position": null,
       "order": null,
       "overflow": null,
       "padding": null,
       "right": null,
       "top": null,
       "visibility": null,
       "width": null
      }
     },
     "6d85cd65d4f7434db933a917f9347b6b": {
      "model_module": "@jupyter-widgets/controls",
      "model_module_version": "2.0.0",
      "model_name": "HTMLStyleModel",
      "state": {
       "_model_module": "@jupyter-widgets/controls",
       "_model_module_version": "2.0.0",
       "_model_name": "HTMLStyleModel",
       "_view_count": null,
       "_view_module": "@jupyter-widgets/base",
       "_view_module_version": "2.0.0",
       "_view_name": "StyleView",
       "background": null,
       "description_width": "",
       "font_size": null,
       "text_color": null
      }
     },
     "720069d889114e8395cd83097daf67d2": {
      "model_module": "@jupyter-widgets/controls",
      "model_module_version": "2.0.0",
      "model_name": "FloatProgressModel",
      "state": {
       "_dom_classes": [],
       "_model_module": "@jupyter-widgets/controls",
       "_model_module_version": "2.0.0",
       "_model_name": "FloatProgressModel",
       "_view_count": null,
       "_view_module": "@jupyter-widgets/controls",
       "_view_module_version": "2.0.0",
       "_view_name": "ProgressView",
       "bar_style": "danger",
       "description": "",
       "description_allow_html": false,
       "layout": "IPY_MODEL_dda62161c24d4cc3a6d462998faa07d9",
       "max": 32,
       "min": 0,
       "orientation": "horizontal",
       "style": "IPY_MODEL_4c85024c6431434dab01e71c56fb72b1",
       "tabbable": null,
       "tooltip": null,
       "value": 12
      }
     },
     "dda62161c24d4cc3a6d462998faa07d9": {
      "model_module": "@jupyter-widgets/base",
      "model_module_version": "2.0.0",
      "model_name": "LayoutModel",
      "state": {
       "_model_module": "@jupyter-widgets/base",
       "_model_module_version": "2.0.0",
       "_model_name": "LayoutModel",
       "_view_count": null,
       "_view_module": "@jupyter-widgets/base",
       "_view_module_version": "2.0.0",
       "_view_name": "LayoutView",
       "align_content": null,
       "align_items": null,
       "align_self": null,
       "border_bottom": null,
       "border_left": null,
       "border_right": null,
       "border_top": null,
       "bottom": null,
       "display": null,
       "flex": null,
       "flex_flow": null,
       "grid_area": null,
       "grid_auto_columns": null,
       "grid_auto_flow": null,
       "grid_auto_rows": null,
       "grid_column": null,
       "grid_gap": null,
       "grid_row": null,
       "grid_template_areas": null,
       "grid_template_columns": null,
       "grid_template_rows": null,
       "height": null,
       "justify_content": null,
       "justify_items": null,
       "left": null,
       "margin": null,
       "max_height": null,
       "max_width": null,
       "min_height": null,
       "min_width": null,
       "object_fit": null,
       "object_position": null,
       "order": null,
       "overflow": null,
       "padding": null,
       "right": null,
       "top": null,
       "visibility": null,
       "width": null
      }
     },
     "df5f87f6965d4ba2b6c2c2049549136e": {
      "model_module": "@jupyter-widgets/controls",
      "model_module_version": "2.0.0",
      "model_name": "HTMLStyleModel",
      "state": {
       "_model_module": "@jupyter-widgets/controls",
       "_model_module_version": "2.0.0",
       "_model_name": "HTMLStyleModel",
       "_view_count": null,
       "_view_module": "@jupyter-widgets/base",
       "_view_module_version": "2.0.0",
       "_view_name": "StyleView",
       "background": null,
       "description_width": "",
       "font_size": null,
       "text_color": null
      }
     },
     "f5229d50a9754b99a3a36caa8100a796": {
      "model_module": "@jupyter-widgets/base",
      "model_module_version": "2.0.0",
      "model_name": "LayoutModel",
      "state": {
       "_model_module": "@jupyter-widgets/base",
       "_model_module_version": "2.0.0",
       "_model_name": "LayoutModel",
       "_view_count": null,
       "_view_module": "@jupyter-widgets/base",
       "_view_module_version": "2.0.0",
       "_view_name": "LayoutView",
       "align_content": null,
       "align_items": null,
       "align_self": null,
       "border_bottom": null,
       "border_left": null,
       "border_right": null,
       "border_top": null,
       "bottom": null,
       "display": null,
       "flex": null,
       "flex_flow": null,
       "grid_area": null,
       "grid_auto_columns": null,
       "grid_auto_flow": null,
       "grid_auto_rows": null,
       "grid_column": null,
       "grid_gap": null,
       "grid_row": null,
       "grid_template_areas": null,
       "grid_template_columns": null,
       "grid_template_rows": null,
       "height": null,
       "justify_content": null,
       "justify_items": null,
       "left": null,
       "margin": null,
       "max_height": null,
       "max_width": null,
       "min_height": null,
       "min_width": null,
       "object_fit": null,
       "object_position": null,
       "order": null,
       "overflow": null,
       "padding": null,
       "right": null,
       "top": null,
       "visibility": null,
       "width": null
      }
     },
     "fc24fb63a0ce4ae7acaa2f4c9b8d97a7": {
      "model_module": "@jupyter-widgets/base",
      "model_module_version": "2.0.0",
      "model_name": "LayoutModel",
      "state": {
       "_model_module": "@jupyter-widgets/base",
       "_model_module_version": "2.0.0",
       "_model_name": "LayoutModel",
       "_view_count": null,
       "_view_module": "@jupyter-widgets/base",
       "_view_module_version": "2.0.0",
       "_view_name": "LayoutView",
       "align_content": null,
       "align_items": null,
       "align_self": null,
       "border_bottom": null,
       "border_left": null,
       "border_right": null,
       "border_top": null,
       "bottom": null,
       "display": null,
       "flex": null,
       "flex_flow": null,
       "grid_area": null,
       "grid_auto_columns": null,
       "grid_auto_flow": null,
       "grid_auto_rows": null,
       "grid_column": null,
       "grid_gap": null,
       "grid_row": null,
       "grid_template_areas": null,
       "grid_template_columns": null,
       "grid_template_rows": null,
       "height": null,
       "justify_content": null,
       "justify_items": null,
       "left": null,
       "margin": null,
       "max_height": null,
       "max_width": null,
       "min_height": null,
       "min_width": null,
       "object_fit": null,
       "object_position": null,
       "order": null,
       "overflow": null,
       "padding": null,
       "right": null,
       "top": null,
       "visibility": null,
       "width": null
      }
     }
    },
    "version_major": 2,
    "version_minor": 0
   }
  }
 },
 "nbformat": 4,
 "nbformat_minor": 5
}