{
 "cells": [
  {
   "cell_type": "code",
   "execution_count": 1,
   "metadata": {},
   "outputs": [],
   "source": [
    "manual_compile = True"
   ]
  },
  {
   "cell_type": "code",
   "execution_count": 2,
   "metadata": {},
   "outputs": [],
   "source": [
    "import pandas as pd\n",
    "import os\n",
    "from datetime import datetime"
   ]
  },
  {
   "cell_type": "code",
   "execution_count": 3,
   "metadata": {},
   "outputs": [],
   "source": [
    "import utils.utils_var as utils_var"
   ]
  },
  {
   "cell_type": "code",
   "execution_count": 4,
   "metadata": {},
   "outputs": [],
   "source": [
    "from config.config_loader import Config\n",
    "\n",
    "config = Config()"
   ]
  },
  {
   "cell_type": "code",
   "execution_count": 5,
   "metadata": {},
   "outputs": [],
   "source": [
    "path_facturas_elec = config.get_resolved_path(\"data_path.elec.processed.facturas\")\n",
    "path_facturas_elec_manual = config.get_resolved_path(\"data_path.elec.processed.facturas_manual\")\n",
    "customers_path = config.get_resolved_path(\"data_path.elec.customers.folder\")\n",
    "path_alias_elec = config.get_resolved_path(\"data_path.elec.customers.alias_elec\")"
   ]
  },
  {
   "cell_type": "code",
   "execution_count": 6,
   "metadata": {},
   "outputs": [
    {
     "data": {
      "text/plain": [
       "['alias_clientes_elec - copia.xlsx',\n",
       " 'alias_clientes_elec.xlsx',\n",
       " 'Altan Pharma',\n",
       " 'Catalonia Fundacio',\n",
       " 'Generic',\n",
       " 'Grupo Inspired',\n",
       " 'Kem One',\n",
       " 'Montfrisa',\n",
       " 'PR',\n",
       " 'PR2',\n",
       " 'Sundolitt',\n",
       " 'Taghleef',\n",
       " 'Trilla y Famesa',\n",
       " 'VYOSA']"
      ]
     },
     "execution_count": 6,
     "metadata": {},
     "output_type": "execute_result"
    }
   ],
   "source": [
    "clientes_elec = os.listdir(customers_path)\n",
    "clientes_elec"
   ]
  },
  {
   "cell_type": "code",
   "execution_count": 7,
   "metadata": {},
   "outputs": [
    {
     "data": {
      "application/vnd.microsoft.datawrangler.viewer.v0+json": {
       "columns": [
        {
         "name": "index",
         "rawType": "int64",
         "type": "integer"
        },
        {
         "name": "cliente",
         "rawType": "object",
         "type": "string"
        },
        {
         "name": "alias",
         "rawType": "object",
         "type": "string"
        },
        {
         "name": "cups",
         "rawType": "object",
         "type": "string"
        },
        {
         "name": "tarifa",
         "rawType": "object",
         "type": "string"
        },
        {
         "name": "electrointensivo",
         "rawType": "bool",
         "type": "boolean"
        },
        {
         "name": "contrato",
         "rawType": "int64",
         "type": "integer"
        }
       ],
       "ref": "b7d0a817-5b5f-4aad-8eb5-2a2695892355",
       "rows": [
        [
         "105",
         "Catalonia Fundacio",
         "EDDA DE CARLI",
         "ES0031408015307001CW",
         "2.0 TD",
         "False",
         "1"
        ],
        [
         "106",
         "Catalonia Fundacio",
         "BESORA",
         "ES0031405265052002WH",
         "2.0 TD",
         "False",
         "1"
        ],
        [
         "107",
         "Catalonia Fundacio",
         "S JORDI 2",
         "ES0031405060747021FN",
         "2.0 TD",
         "False",
         "1"
        ],
        [
         "108",
         "Catalonia Fundacio",
         "HOSPITALET",
         "ES0031406166448011FZ",
         "2.0 TD",
         "False",
         "1"
        ],
        [
         "109",
         "Generic",
         "TRIAL",
         "TRIAL",
         "6.1 TD",
         "False",
         "1"
        ]
       ],
       "shape": {
        "columns": 6,
        "rows": 5
       }
      },
      "text/html": [
       "<div>\n",
       "<style scoped>\n",
       "    .dataframe tbody tr th:only-of-type {\n",
       "        vertical-align: middle;\n",
       "    }\n",
       "\n",
       "    .dataframe tbody tr th {\n",
       "        vertical-align: top;\n",
       "    }\n",
       "\n",
       "    .dataframe thead th {\n",
       "        text-align: right;\n",
       "    }\n",
       "</style>\n",
       "<table border=\"1\" class=\"dataframe\">\n",
       "  <thead>\n",
       "    <tr style=\"text-align: right;\">\n",
       "      <th></th>\n",
       "      <th>cliente</th>\n",
       "      <th>alias</th>\n",
       "      <th>cups</th>\n",
       "      <th>tarifa</th>\n",
       "      <th>electrointensivo</th>\n",
       "      <th>contrato</th>\n",
       "    </tr>\n",
       "  </thead>\n",
       "  <tbody>\n",
       "    <tr>\n",
       "      <th>105</th>\n",
       "      <td>Catalonia Fundacio</td>\n",
       "      <td>EDDA DE CARLI</td>\n",
       "      <td>ES0031408015307001CW</td>\n",
       "      <td>2.0 TD</td>\n",
       "      <td>False</td>\n",
       "      <td>1</td>\n",
       "    </tr>\n",
       "    <tr>\n",
       "      <th>106</th>\n",
       "      <td>Catalonia Fundacio</td>\n",
       "      <td>BESORA</td>\n",
       "      <td>ES0031405265052002WH</td>\n",
       "      <td>2.0 TD</td>\n",
       "      <td>False</td>\n",
       "      <td>1</td>\n",
       "    </tr>\n",
       "    <tr>\n",
       "      <th>107</th>\n",
       "      <td>Catalonia Fundacio</td>\n",
       "      <td>S JORDI 2</td>\n",
       "      <td>ES0031405060747021FN</td>\n",
       "      <td>2.0 TD</td>\n",
       "      <td>False</td>\n",
       "      <td>1</td>\n",
       "    </tr>\n",
       "    <tr>\n",
       "      <th>108</th>\n",
       "      <td>Catalonia Fundacio</td>\n",
       "      <td>HOSPITALET</td>\n",
       "      <td>ES0031406166448011FZ</td>\n",
       "      <td>2.0 TD</td>\n",
       "      <td>False</td>\n",
       "      <td>1</td>\n",
       "    </tr>\n",
       "    <tr>\n",
       "      <th>109</th>\n",
       "      <td>Generic</td>\n",
       "      <td>TRIAL</td>\n",
       "      <td>TRIAL</td>\n",
       "      <td>6.1 TD</td>\n",
       "      <td>False</td>\n",
       "      <td>1</td>\n",
       "    </tr>\n",
       "  </tbody>\n",
       "</table>\n",
       "</div>"
      ],
      "text/plain": [
       "                cliente          alias                  cups  tarifa  \\\n",
       "105  Catalonia Fundacio  EDDA DE CARLI  ES0031408015307001CW  2.0 TD   \n",
       "106  Catalonia Fundacio         BESORA  ES0031405265052002WH  2.0 TD   \n",
       "107  Catalonia Fundacio      S JORDI 2  ES0031405060747021FN  2.0 TD   \n",
       "108  Catalonia Fundacio     HOSPITALET  ES0031406166448011FZ  2.0 TD   \n",
       "109             Generic          TRIAL                 TRIAL  6.1 TD   \n",
       "\n",
       "     electrointensivo  contrato  \n",
       "105             False         1  \n",
       "106             False         1  \n",
       "107             False         1  \n",
       "108             False         1  \n",
       "109             False         1  "
      ]
     },
     "execution_count": 7,
     "metadata": {},
     "output_type": "execute_result"
    }
   ],
   "source": [
    "df_alias = pd.read_excel(path_alias_elec)\n",
    "df_alias.tail()"
   ]
  },
  {
   "cell_type": "markdown",
   "metadata": {},
   "source": [
    "## Extraccion de facturas"
   ]
  },
  {
   "cell_type": "code",
   "execution_count": 8,
   "metadata": {},
   "outputs": [
    {
     "name": "stdout",
     "output_type": "stream",
     "text": [
      "2025-07-02 10:05:42,918 INFO sqlalchemy.engine.Engine BEGIN (implicit)\n",
      "2025-07-02 10:05:42,918 INFO sqlalchemy.engine.Engine PRAGMA main.table_info(\"SELECT * FROM facturas\")\n",
      "2025-07-02 10:05:42,918 INFO sqlalchemy.engine.Engine [raw sql] ()\n",
      "2025-07-02 10:05:42,934 INFO sqlalchemy.engine.Engine PRAGMA temp.table_info(\"SELECT * FROM facturas\")\n",
      "2025-07-02 10:05:42,934 INFO sqlalchemy.engine.Engine [raw sql] ()\n",
      "2025-07-02 10:05:42,934 INFO sqlalchemy.engine.Engine SELECT * FROM facturas\n",
      "2025-07-02 10:05:42,934 INFO sqlalchemy.engine.Engine [raw sql] ()\n",
      "2025-07-02 10:05:42,962 INFO sqlalchemy.engine.Engine ROLLBACK\n"
     ]
    }
   ],
   "source": [
    "import pandas as pd\n",
    "from sqlalchemy import create_engine\n",
    "\n",
    "engine = create_engine(f'sqlite:///{path_facturas_elec}', echo=True)\n",
    "existing_data = pd.read_sql(('SELECT * FROM facturas'), con=engine)"
   ]
  },
  {
   "cell_type": "code",
   "execution_count": 9,
   "metadata": {},
   "outputs": [
    {
     "data": {
      "text/plain": [
       "Index(['num_factura', 'inicio_periodo', 'fin_periodo', 'issue_date', 'cups',\n",
       "       'coste_potencia', 'coste_energia', 'excesos_potencia',\n",
       "       'dto_electrointensivo', 'coste_reactiva', 'total_bruto_ie_iva',\n",
       "       'total_bruto_iva', 'cliente', 'alias', 'potencia_p1', 'potencia_p2',\n",
       "       'potencia_p3', 'potencia_p4', 'potencia_p5', 'potencia_p6',\n",
       "       'energia_p1', 'energia_p2', 'energia_p3', 'energia_p4', 'energia_p5',\n",
       "       'energia_p6', 'maximetros_p1', 'maximetros_p2', 'maximetros_p3',\n",
       "       'maximetros_p4', 'maximetros_p5', 'maximetros_p6', 'year', 'month'],\n",
       "      dtype='object')"
      ]
     },
     "execution_count": 9,
     "metadata": {},
     "output_type": "execute_result"
    }
   ],
   "source": [
    "existing_data.columns"
   ]
  },
  {
   "cell_type": "code",
   "execution_count": 10,
   "metadata": {},
   "outputs": [
    {
     "data": {
      "text/plain": [
       "array(['PR', 'Catalonia Fundacio', 'Kem One', 'Grupo Inspired',\n",
       "       'Sundolitt', 'Trilla y Famesa', 'Altan Pharma', 'Taghleef',\n",
       "       'Montfrisa', 'VYOSA'], dtype=object)"
      ]
     },
     "execution_count": 10,
     "metadata": {},
     "output_type": "execute_result"
    }
   ],
   "source": [
    "existing_data['cliente'].unique()"
   ]
  },
  {
   "cell_type": "code",
   "execution_count": 12,
   "metadata": {},
   "outputs": [
    {
     "name": "stdout",
     "output_type": "stream",
     "text": [
      "P25CON026585364\n",
      "2025-05-01\n",
      "2025-05-31\n",
      "2025-06-05\n",
      "ES0021000021881819JF\n",
      "5774.99\n",
      "31399.03\n",
      "0.0\n",
      "0.0\n",
      "0.0\n",
      "37174.42\n",
      "39075.03\n",
      "0\n",
      "0\n",
      "1150.0\n",
      "1150.0\n",
      "1150.0\n",
      "1150.0\n",
      "1150.0\n",
      "2000.0\n",
      "0.0\n",
      "0.0\n",
      "0.0\n",
      "126896.0\n",
      "83058.0\n",
      "143313.0\n",
      "0.0\n",
      "0.0\n",
      "0.0\n",
      "1076.0\n",
      "1008.0\n",
      "1060.0\n",
      "0\n",
      "0\n"
     ]
    }
   ],
   "source": [
    "if manual_compile:\n",
    "\n",
    "    factura_list = []\n",
    "    i = 0\n",
    "    try:\n",
    "        df_sample = pd.read_pickle(path_facturas_elec_manual)\n",
    "    except:\n",
    "        df_sample = pd.DataFrame()\n",
    "\n",
    "    for concepto in existing_data.columns:\n",
    "\n",
    "        if 1 <= i <= 3:\n",
    "            concept = str(input(f'Introduce {concepto}: '))\n",
    "            concept = datetime.strptime(concept, '%d.%m.%Y').date()\n",
    "        elif i == 0 or i == 4:\n",
    "            concept = str(input(f'Introduce {concepto}: '))\n",
    "        elif 5 <= i <= 11 or 14 <= i <= 31:#25:\n",
    "            concept = input(f'Introduce {concepto}: ')\n",
    "            try:\n",
    "                concept = float(concept)\n",
    "            except:\n",
    "                concept = str(concept)\n",
    "                new_concept = ''\n",
    "                for s in concept:\n",
    "                    if s == ',':\n",
    "                        r = '.'\n",
    "                        new_concept+=r\n",
    "                    elif s != '.':\n",
    "                        new_concept+=s\n",
    "                concept = float(new_concept)\n",
    "        else:\n",
    "            concept = 0\n",
    "        \n",
    "        print(concept)\n",
    "        factura_list.append(concept) \n",
    "        i+=1\n",
    "\n",
    "    factura_df = pd.DataFrame([factura_list], columns=existing_data.columns)\n",
    "    df_manual = pd.concat([df_sample, factura_df])\n",
    "    df_manual.drop_duplicates(inplace=True)\n",
    "    df_manual.reset_index(drop=True, inplace=True)\n",
    "\n",
    "    df_manual['month'] = df_manual['fin_periodo'].apply(lambda x: x.month)\n",
    "    df_manual['year'] = df_manual['fin_periodo'].apply(lambda x: x.year)\n",
    "    df_manual['cliente'] = df_manual.apply(\n",
    "        lambda row: utils_var.insert_alias(cups=row['cups'], df_alias=df_alias)[0], axis=1)\n",
    "    df_manual['alias'] = df_manual.apply(\n",
    "        lambda row: utils_var.insert_alias(cups=row['cups'], df_alias=df_alias)[1], axis=1)\n",
    "    df_manual.to_pickle(path_facturas_elec_manual)\n",
    "\n",
    "    df_manual.tail()\n",
    "    # ES0021000003225511XB\n",
    "    # cambiar energia en noviembre\n"
   ]
  },
  {
   "cell_type": "code",
   "execution_count": null,
   "metadata": {},
   "outputs": [
    {
     "name": "stdout",
     "output_type": "stream",
     "text": [
      "37    ES0031500694885001LS\n",
      "38    ES0031500694885001LS\n",
      "39    ES0031500694885001LS\n",
      "40    ES0022000008103260DW\n",
      "41    ES0021000003225511XB\n",
      "42    ES0022000009138572BS\n",
      "Name: cups, dtype: object\n"
     ]
    },
    {
     "data": {
      "application/vnd.microsoft.datawrangler.viewer.v0+json": {
       "columns": [
        {
         "name": "index",
         "rawType": "int64",
         "type": "integer"
        },
        {
         "name": "num_factura",
         "rawType": "object",
         "type": "string"
        },
        {
         "name": "inicio_periodo",
         "rawType": "object",
         "type": "unknown"
        },
        {
         "name": "fin_periodo",
         "rawType": "object",
         "type": "unknown"
        },
        {
         "name": "issue_date",
         "rawType": "object",
         "type": "unknown"
        },
        {
         "name": "cups",
         "rawType": "object",
         "type": "string"
        },
        {
         "name": "coste_potencia",
         "rawType": "float64",
         "type": "float"
        },
        {
         "name": "coste_energia",
         "rawType": "float64",
         "type": "float"
        },
        {
         "name": "excesos_potencia",
         "rawType": "float64",
         "type": "float"
        },
        {
         "name": "dto_electrointensivo",
         "rawType": "float64",
         "type": "float"
        },
        {
         "name": "coste_reactiva",
         "rawType": "float64",
         "type": "float"
        },
        {
         "name": "total_bruto_ie_iva",
         "rawType": "float64",
         "type": "float"
        },
        {
         "name": "total_bruto_iva",
         "rawType": "float64",
         "type": "float"
        },
        {
         "name": "cliente",
         "rawType": "object",
         "type": "string"
        },
        {
         "name": "alias",
         "rawType": "object",
         "type": "string"
        },
        {
         "name": "potencia_p1",
         "rawType": "float64",
         "type": "float"
        },
        {
         "name": "potencia_p2",
         "rawType": "float64",
         "type": "float"
        },
        {
         "name": "potencia_p3",
         "rawType": "float64",
         "type": "float"
        },
        {
         "name": "potencia_p4",
         "rawType": "float64",
         "type": "float"
        },
        {
         "name": "potencia_p5",
         "rawType": "float64",
         "type": "float"
        },
        {
         "name": "potencia_p6",
         "rawType": "float64",
         "type": "float"
        },
        {
         "name": "energia_p1",
         "rawType": "float64",
         "type": "float"
        },
        {
         "name": "energia_p2",
         "rawType": "float64",
         "type": "float"
        },
        {
         "name": "energia_p3",
         "rawType": "float64",
         "type": "float"
        },
        {
         "name": "energia_p4",
         "rawType": "float64",
         "type": "float"
        },
        {
         "name": "energia_p5",
         "rawType": "float64",
         "type": "float"
        },
        {
         "name": "energia_p6",
         "rawType": "float64",
         "type": "float"
        },
        {
         "name": "maximetros_p1",
         "rawType": "float64",
         "type": "float"
        },
        {
         "name": "maximetros_p2",
         "rawType": "float64",
         "type": "float"
        },
        {
         "name": "maximetros_p3",
         "rawType": "float64",
         "type": "float"
        },
        {
         "name": "maximetros_p4",
         "rawType": "float64",
         "type": "float"
        },
        {
         "name": "maximetros_p5",
         "rawType": "float64",
         "type": "float"
        },
        {
         "name": "maximetros_p6",
         "rawType": "float64",
         "type": "float"
        },
        {
         "name": "year",
         "rawType": "int64",
         "type": "integer"
        },
        {
         "name": "month",
         "rawType": "int64",
         "type": "integer"
        }
       ],
       "ref": "5059428f-b017-4d2c-b6a5-20a42253a315",
       "rows": [
        [
         "37",
         "P25CON010473271",
         "2025-02-01",
         "2025-02-28",
         "2025-03-06",
         "ES0031500694885001LS",
         "476.87",
         "2491.46",
         "1.22",
         "0.0",
         "0.0",
         "2969.91",
         "3153.05",
         "Grupo Inspired",
         "IBIZA",
         "142.0",
         "142.0",
         "142.0",
         "142.0",
         "142.0",
         "142.0",
         "0.0",
         "0.0",
         "6805.0",
         "5385.0",
         "0.0",
         "4053.0",
         "0.0",
         "0.0",
         "120.0",
         "144.0",
         "0.0",
         "92.0",
         "2025",
         "2"
        ],
        [
         "38",
         "P25CON015524126",
         "2025-03-01",
         "2025-03-31",
         "2025-04-05",
         "ES0031500694885001LS",
         "527.98",
         "2305.34",
         "0.0",
         "0.0",
         "0.0",
         "2833.72",
         "3013.25",
         "Grupo Inspired",
         "IBIZA",
         "142.0",
         "142.0",
         "142.0",
         "142.0",
         "142.0",
         "142.0",
         "0.0",
         "0.0",
         "0.0",
         "7216.0",
         "5209.0",
         "4344.0",
         "0.0",
         "0.0",
         "0.0",
         "128.0",
         "120.0",
         "64.0",
         "2025",
         "3"
        ],
        [
         "39",
         "P25CON020865917",
         "2025-04-01",
         "2025-04-30",
         "2025-05-05",
         "ES0031500694885001LS",
         "510.92",
         "1655.09",
         "0.0",
         "0.0",
         "0.0",
         "2166.39",
         "2310.68",
         "Grupo Inspired",
         "IBIZA",
         "142.0",
         "142.0",
         "142.0",
         "142.0",
         "142.0",
         "142.0",
         "0.0",
         "0.0",
         "0.0",
         "4695.0",
         "3528.0",
         "3750.0",
         "0.0",
         "0.0",
         "0.0",
         "92.0",
         "112.0",
         "60.0",
         "2025",
         "4"
        ],
        [
         "40",
         "218169350",
         "2025-04-01",
         "2025-04-30",
         "2025-06-04",
         "ES0022000008103260DW",
         "6055.36",
         "11908.87",
         "0.0",
         "0.0",
         "0.0",
         "17964.23",
         "18882.69",
         "PR",
         "WARNER DW",
         "1250.0",
         "1270.0",
         "1270.0",
         "1270.0",
         "1270.0",
         "1290.0",
         "0.0",
         "0.0",
         "0.0",
         "41026.0",
         "34147.0",
         "90115.0",
         "0.0",
         "0.0",
         "0.0",
         "0.0",
         "0.0",
         "0.0",
         "2025",
         "4"
        ],
        [
         "41",
         "03250605010000019",
         "2025-05-01",
         "2025-05-31",
         "2025-06-05",
         "ES0021000003225511XB",
         "5583.18",
         "1117.86",
         "0.75",
         "0.0",
         "0.0",
         "6701.79",
         "7241.72",
         "Kem One",
         "KEM ONE",
         "1700.0",
         "1700.0",
         "1700.0",
         "1700.0",
         "1700.0",
         "2375.0",
         "0.0",
         "0.0",
         "0.0",
         "219685.0",
         "172222.0",
         "427057.0",
         "0.0",
         "0.0",
         "0.0",
         "1684.0",
         "1744.0",
         "1807.0",
         "2025",
         "5"
        ],
        [
         "42",
         "218178732",
         "2025-05-01",
         "2025-05-31",
         "2025-06-17",
         "ES0022000009138572BS",
         "12559.46",
         "38326.63",
         "0.0",
         "0.0",
         "0.0",
         "50886.09",
         "53564.31",
         "PR",
         "WARNER BS",
         "2530.0",
         "2530.0",
         "2530.0",
         "2530.0",
         "2530.0",
         "2530.0",
         "0.0",
         "0.0",
         "0.0",
         "178853.0",
         "135344.0",
         "299998.0",
         "0.0",
         "0.0",
         "0.0",
         "0.0",
         "0.0",
         "0.0",
         "2025",
         "5"
        ]
       ],
       "shape": {
        "columns": 34,
        "rows": 6
       }
      },
      "text/html": [
       "<div>\n",
       "<style scoped>\n",
       "    .dataframe tbody tr th:only-of-type {\n",
       "        vertical-align: middle;\n",
       "    }\n",
       "\n",
       "    .dataframe tbody tr th {\n",
       "        vertical-align: top;\n",
       "    }\n",
       "\n",
       "    .dataframe thead th {\n",
       "        text-align: right;\n",
       "    }\n",
       "</style>\n",
       "<table border=\"1\" class=\"dataframe\">\n",
       "  <thead>\n",
       "    <tr style=\"text-align: right;\">\n",
       "      <th></th>\n",
       "      <th>num_factura</th>\n",
       "      <th>inicio_periodo</th>\n",
       "      <th>fin_periodo</th>\n",
       "      <th>issue_date</th>\n",
       "      <th>cups</th>\n",
       "      <th>coste_potencia</th>\n",
       "      <th>coste_energia</th>\n",
       "      <th>excesos_potencia</th>\n",
       "      <th>dto_electrointensivo</th>\n",
       "      <th>coste_reactiva</th>\n",
       "      <th>...</th>\n",
       "      <th>energia_p5</th>\n",
       "      <th>energia_p6</th>\n",
       "      <th>maximetros_p1</th>\n",
       "      <th>maximetros_p2</th>\n",
       "      <th>maximetros_p3</th>\n",
       "      <th>maximetros_p4</th>\n",
       "      <th>maximetros_p5</th>\n",
       "      <th>maximetros_p6</th>\n",
       "      <th>year</th>\n",
       "      <th>month</th>\n",
       "    </tr>\n",
       "  </thead>\n",
       "  <tbody>\n",
       "    <tr>\n",
       "      <th>37</th>\n",
       "      <td>P25CON010473271</td>\n",
       "      <td>2025-02-01</td>\n",
       "      <td>2025-02-28</td>\n",
       "      <td>2025-03-06</td>\n",
       "      <td>ES0031500694885001LS</td>\n",
       "      <td>476.87</td>\n",
       "      <td>2491.46</td>\n",
       "      <td>1.22</td>\n",
       "      <td>0.0</td>\n",
       "      <td>0.0</td>\n",
       "      <td>...</td>\n",
       "      <td>0.0</td>\n",
       "      <td>4053.0</td>\n",
       "      <td>0.0</td>\n",
       "      <td>0.0</td>\n",
       "      <td>120.0</td>\n",
       "      <td>144.0</td>\n",
       "      <td>0.0</td>\n",
       "      <td>92.0</td>\n",
       "      <td>2025</td>\n",
       "      <td>2</td>\n",
       "    </tr>\n",
       "    <tr>\n",
       "      <th>38</th>\n",
       "      <td>P25CON015524126</td>\n",
       "      <td>2025-03-01</td>\n",
       "      <td>2025-03-31</td>\n",
       "      <td>2025-04-05</td>\n",
       "      <td>ES0031500694885001LS</td>\n",
       "      <td>527.98</td>\n",
       "      <td>2305.34</td>\n",
       "      <td>0.00</td>\n",
       "      <td>0.0</td>\n",
       "      <td>0.0</td>\n",
       "      <td>...</td>\n",
       "      <td>5209.0</td>\n",
       "      <td>4344.0</td>\n",
       "      <td>0.0</td>\n",
       "      <td>0.0</td>\n",
       "      <td>0.0</td>\n",
       "      <td>128.0</td>\n",
       "      <td>120.0</td>\n",
       "      <td>64.0</td>\n",
       "      <td>2025</td>\n",
       "      <td>3</td>\n",
       "    </tr>\n",
       "    <tr>\n",
       "      <th>39</th>\n",
       "      <td>P25CON020865917</td>\n",
       "      <td>2025-04-01</td>\n",
       "      <td>2025-04-30</td>\n",
       "      <td>2025-05-05</td>\n",
       "      <td>ES0031500694885001LS</td>\n",
       "      <td>510.92</td>\n",
       "      <td>1655.09</td>\n",
       "      <td>0.00</td>\n",
       "      <td>0.0</td>\n",
       "      <td>0.0</td>\n",
       "      <td>...</td>\n",
       "      <td>3528.0</td>\n",
       "      <td>3750.0</td>\n",
       "      <td>0.0</td>\n",
       "      <td>0.0</td>\n",
       "      <td>0.0</td>\n",
       "      <td>92.0</td>\n",
       "      <td>112.0</td>\n",
       "      <td>60.0</td>\n",
       "      <td>2025</td>\n",
       "      <td>4</td>\n",
       "    </tr>\n",
       "    <tr>\n",
       "      <th>40</th>\n",
       "      <td>218169350</td>\n",
       "      <td>2025-04-01</td>\n",
       "      <td>2025-04-30</td>\n",
       "      <td>2025-06-04</td>\n",
       "      <td>ES0022000008103260DW</td>\n",
       "      <td>6055.36</td>\n",
       "      <td>11908.87</td>\n",
       "      <td>0.00</td>\n",
       "      <td>0.0</td>\n",
       "      <td>0.0</td>\n",
       "      <td>...</td>\n",
       "      <td>34147.0</td>\n",
       "      <td>90115.0</td>\n",
       "      <td>0.0</td>\n",
       "      <td>0.0</td>\n",
       "      <td>0.0</td>\n",
       "      <td>0.0</td>\n",
       "      <td>0.0</td>\n",
       "      <td>0.0</td>\n",
       "      <td>2025</td>\n",
       "      <td>4</td>\n",
       "    </tr>\n",
       "    <tr>\n",
       "      <th>41</th>\n",
       "      <td>03250605010000019</td>\n",
       "      <td>2025-05-01</td>\n",
       "      <td>2025-05-31</td>\n",
       "      <td>2025-06-05</td>\n",
       "      <td>ES0021000003225511XB</td>\n",
       "      <td>5583.18</td>\n",
       "      <td>1117.86</td>\n",
       "      <td>0.75</td>\n",
       "      <td>0.0</td>\n",
       "      <td>0.0</td>\n",
       "      <td>...</td>\n",
       "      <td>172222.0</td>\n",
       "      <td>427057.0</td>\n",
       "      <td>0.0</td>\n",
       "      <td>0.0</td>\n",
       "      <td>0.0</td>\n",
       "      <td>1684.0</td>\n",
       "      <td>1744.0</td>\n",
       "      <td>1807.0</td>\n",
       "      <td>2025</td>\n",
       "      <td>5</td>\n",
       "    </tr>\n",
       "    <tr>\n",
       "      <th>42</th>\n",
       "      <td>218178732</td>\n",
       "      <td>2025-05-01</td>\n",
       "      <td>2025-05-31</td>\n",
       "      <td>2025-06-17</td>\n",
       "      <td>ES0022000009138572BS</td>\n",
       "      <td>12559.46</td>\n",
       "      <td>38326.63</td>\n",
       "      <td>0.00</td>\n",
       "      <td>0.0</td>\n",
       "      <td>0.0</td>\n",
       "      <td>...</td>\n",
       "      <td>135344.0</td>\n",
       "      <td>299998.0</td>\n",
       "      <td>0.0</td>\n",
       "      <td>0.0</td>\n",
       "      <td>0.0</td>\n",
       "      <td>0.0</td>\n",
       "      <td>0.0</td>\n",
       "      <td>0.0</td>\n",
       "      <td>2025</td>\n",
       "      <td>5</td>\n",
       "    </tr>\n",
       "  </tbody>\n",
       "</table>\n",
       "<p>6 rows × 34 columns</p>\n",
       "</div>"
      ],
      "text/plain": [
       "          num_factura inicio_periodo fin_periodo  issue_date  \\\n",
       "37    P25CON010473271     2025-02-01  2025-02-28  2025-03-06   \n",
       "38    P25CON015524126     2025-03-01  2025-03-31  2025-04-05   \n",
       "39    P25CON020865917     2025-04-01  2025-04-30  2025-05-05   \n",
       "40          218169350     2025-04-01  2025-04-30  2025-06-04   \n",
       "41  03250605010000019     2025-05-01  2025-05-31  2025-06-05   \n",
       "42          218178732     2025-05-01  2025-05-31  2025-06-17   \n",
       "\n",
       "                    cups  coste_potencia  coste_energia  excesos_potencia  \\\n",
       "37  ES0031500694885001LS          476.87        2491.46              1.22   \n",
       "38  ES0031500694885001LS          527.98        2305.34              0.00   \n",
       "39  ES0031500694885001LS          510.92        1655.09              0.00   \n",
       "40  ES0022000008103260DW         6055.36       11908.87              0.00   \n",
       "41  ES0021000003225511XB         5583.18        1117.86              0.75   \n",
       "42  ES0022000009138572BS        12559.46       38326.63              0.00   \n",
       "\n",
       "    dto_electrointensivo  coste_reactiva  ...  energia_p5  energia_p6  \\\n",
       "37                   0.0             0.0  ...         0.0      4053.0   \n",
       "38                   0.0             0.0  ...      5209.0      4344.0   \n",
       "39                   0.0             0.0  ...      3528.0      3750.0   \n",
       "40                   0.0             0.0  ...     34147.0     90115.0   \n",
       "41                   0.0             0.0  ...    172222.0    427057.0   \n",
       "42                   0.0             0.0  ...    135344.0    299998.0   \n",
       "\n",
       "   maximetros_p1 maximetros_p2  maximetros_p3  maximetros_p4  maximetros_p5  \\\n",
       "37           0.0           0.0          120.0          144.0            0.0   \n",
       "38           0.0           0.0            0.0          128.0          120.0   \n",
       "39           0.0           0.0            0.0           92.0          112.0   \n",
       "40           0.0           0.0            0.0            0.0            0.0   \n",
       "41           0.0           0.0            0.0         1684.0         1744.0   \n",
       "42           0.0           0.0            0.0            0.0            0.0   \n",
       "\n",
       "    maximetros_p6  year  month  \n",
       "37           92.0  2025      2  \n",
       "38           64.0  2025      3  \n",
       "39           60.0  2025      4  \n",
       "40            0.0  2025      4  \n",
       "41         1807.0  2025      5  \n",
       "42            0.0  2025      5  \n",
       "\n",
       "[6 rows x 34 columns]"
      ]
     },
     "execution_count": 12,
     "metadata": {},
     "output_type": "execute_result"
    }
   ],
   "source": [
    "if not manual_compile:\n",
    "    df_manual = pd.read_pickle(path_facturas_elec_manual)\n",
    "\n",
    "print(df_manual.tail(6)['cups'])\n",
    "\n",
    "# df_manual.loc[df_manual['num_factura'] == '03241205010000023', 'coste_energia'] = 3117.75\n",
    "# df_manual['cliente'] = df_manual.apply(\n",
    "#     lambda row: utils_var.insert_alias(cups=row['cups'], df_alias=df_alias)[0], axis=1)\n",
    "# df_manual['alias'] = df_manual.apply(\n",
    "#     lambda row: utils_var.insert_alias(cups=row['cups'], df_alias=df_alias)[1], axis=1)\n",
    "\n",
    "# df_manual.to_pickle(path_facturas_elec_manual)\n",
    "df_manual.tail(6)\n"
   ]
  }
 ],
 "metadata": {
  "kernelspec": {
   "display_name": "work",
   "language": "python",
   "name": "python3"
  },
  "language_info": {
   "codemirror_mode": {
    "name": "ipython",
    "version": 3
   },
   "file_extension": ".py",
   "mimetype": "text/x-python",
   "name": "python",
   "nbconvert_exporter": "python",
   "pygments_lexer": "ipython3",
   "version": "3.12.4"
  }
 },
 "nbformat": 4,
 "nbformat_minor": 2
}
