{
 "cells": [
  {
   "cell_type": "code",
   "execution_count": 47,
   "metadata": {},
   "outputs": [],
   "source": [
    "import pandas as pd\n",
    "import os\n",
    "import zipfile"
   ]
  },
  {
   "cell_type": "code",
   "execution_count": 48,
   "metadata": {},
   "outputs": [],
   "source": [
    "from config.config_loader import Config\n",
    "\n",
    "config = Config()"
   ]
  },
  {
   "cell_type": "code",
   "execution_count": 49,
   "metadata": {
    "tags": [
     "parameters"
    ]
   },
   "outputs": [],
   "source": [
    "# Parameters\n",
    "path_alias_elec = config.get_resolved_path(\"data_path.elec.customers.alias_elec\")\n",
    "path_raw_data_elec = config.get_resolved_path(\"data_path.elec.invoice_comp.data_raw\")\n",
    "path_processed_files = config.get_path(\"data_path.elec.invoice_comp.processed_files\")\n",
    "fras_folder = config.get_path(\"data_path.elec.invoice_comp.invoices.folder\")\n",
    "path_fras_elec_xml_clean = config.get_resolved_path(\"data_path.elec.invoice_comp.xml_folder_clean\")"
   ]
  },
  {
   "cell_type": "code",
   "execution_count": 50,
   "metadata": {},
   "outputs": [],
   "source": [
    "import yaml\n",
    "\n",
    "config = Config()\n",
    "\n",
    "invoice_sftp_config_path = config.get_resolved_path(\"configs.invoice_comp.sftp_params\")\n",
    "with open(invoice_sftp_config_path, 'r') as file:\n",
    "    sftp_providers = yaml.safe_load(file)"
   ]
  },
  {
   "cell_type": "code",
   "execution_count": 51,
   "metadata": {},
   "outputs": [],
   "source": [
    "# # Retrieve sftp invoice files\n",
    "# from invoice_comp.sftp_helper import download_sftp_files\n",
    "\n",
    "# for provider, parameter in sftp_providers.items():\n",
    "\n",
    "#     if parameter['execute'] == True:\n",
    "#         path_recorded = config.get_path(\"data_path.elec.invoice_comp.record_sftp_provider\", provider=provider)\n",
    "#         try:\n",
    "#             download_sftp_files(\n",
    "#                 parameter['host'],\n",
    "#                 parameter['port'],\n",
    "#                 parameter['username'],\n",
    "#                 parameter['password'],\n",
    "#                 parameter['remote_dir'],\n",
    "#                 path_raw_data_elec,\n",
    "#                 path_recorded\n",
    "#             )\n",
    "#         except Exception as e:\n",
    "#             print(f\"Error downloading files from {provider}: {e}\")"
   ]
  },
  {
   "cell_type": "code",
   "execution_count": 52,
   "metadata": {},
   "outputs": [],
   "source": [
    "from invoice_comp.check_utility import extract_cups, extract_month_year, extract_num_fra_elec\n",
    "import utils.utils_var as utils_var\n"
   ]
  },
  {
   "cell_type": "code",
   "execution_count": 53,
   "metadata": {},
   "outputs": [
    {
     "data": {
      "application/vnd.microsoft.datawrangler.viewer.v0+json": {
       "columns": [
        {
         "name": "index",
         "rawType": "int64",
         "type": "integer"
        },
        {
         "name": "cliente",
         "rawType": "object",
         "type": "string"
        },
        {
         "name": "alias",
         "rawType": "object",
         "type": "string"
        },
        {
         "name": "cups",
         "rawType": "object",
         "type": "string"
        },
        {
         "name": "tarifa",
         "rawType": "object",
         "type": "string"
        },
        {
         "name": "electrointensivo",
         "rawType": "bool",
         "type": "boolean"
        },
        {
         "name": "contrato",
         "rawType": "int64",
         "type": "integer"
        }
       ],
       "ref": "31536a78-2cf9-4be9-bf03-e515c81aec97",
       "rows": [
        [
         "59",
         "Grupo Inspired",
         "HQ 1",
         "ES0021000005099278NZ",
         "3.0 TD",
         "False",
         "1"
        ],
        [
         "60",
         "Grupo Inspired",
         "HQ 2",
         "ES0021000005099279NS",
         "3.0 TD",
         "False",
         "1"
        ],
        [
         "61",
         "PR2",
         "PR2",
         "ES0021000021881819JF",
         "6.1 TD",
         "False",
         "1"
        ],
        [
         "62",
         "Kem One",
         "KEM ONE",
         "ES0021000003225511XB",
         "6.2 TD",
         "True",
         "1"
        ],
        [
         "63",
         "Generic",
         "TRIAL",
         "TRIAL",
         "6.1 TD",
         "False",
         "1"
        ]
       ],
       "shape": {
        "columns": 6,
        "rows": 5
       }
      },
      "text/html": [
       "<div>\n",
       "<style scoped>\n",
       "    .dataframe tbody tr th:only-of-type {\n",
       "        vertical-align: middle;\n",
       "    }\n",
       "\n",
       "    .dataframe tbody tr th {\n",
       "        vertical-align: top;\n",
       "    }\n",
       "\n",
       "    .dataframe thead th {\n",
       "        text-align: right;\n",
       "    }\n",
       "</style>\n",
       "<table border=\"1\" class=\"dataframe\">\n",
       "  <thead>\n",
       "    <tr style=\"text-align: right;\">\n",
       "      <th></th>\n",
       "      <th>cliente</th>\n",
       "      <th>alias</th>\n",
       "      <th>cups</th>\n",
       "      <th>tarifa</th>\n",
       "      <th>electrointensivo</th>\n",
       "      <th>contrato</th>\n",
       "    </tr>\n",
       "  </thead>\n",
       "  <tbody>\n",
       "    <tr>\n",
       "      <th>59</th>\n",
       "      <td>Grupo Inspired</td>\n",
       "      <td>HQ 1</td>\n",
       "      <td>ES0021000005099278NZ</td>\n",
       "      <td>3.0 TD</td>\n",
       "      <td>False</td>\n",
       "      <td>1</td>\n",
       "    </tr>\n",
       "    <tr>\n",
       "      <th>60</th>\n",
       "      <td>Grupo Inspired</td>\n",
       "      <td>HQ 2</td>\n",
       "      <td>ES0021000005099279NS</td>\n",
       "      <td>3.0 TD</td>\n",
       "      <td>False</td>\n",
       "      <td>1</td>\n",
       "    </tr>\n",
       "    <tr>\n",
       "      <th>61</th>\n",
       "      <td>PR2</td>\n",
       "      <td>PR2</td>\n",
       "      <td>ES0021000021881819JF</td>\n",
       "      <td>6.1 TD</td>\n",
       "      <td>False</td>\n",
       "      <td>1</td>\n",
       "    </tr>\n",
       "    <tr>\n",
       "      <th>62</th>\n",
       "      <td>Kem One</td>\n",
       "      <td>KEM ONE</td>\n",
       "      <td>ES0021000003225511XB</td>\n",
       "      <td>6.2 TD</td>\n",
       "      <td>True</td>\n",
       "      <td>1</td>\n",
       "    </tr>\n",
       "    <tr>\n",
       "      <th>63</th>\n",
       "      <td>Generic</td>\n",
       "      <td>TRIAL</td>\n",
       "      <td>TRIAL</td>\n",
       "      <td>6.1 TD</td>\n",
       "      <td>False</td>\n",
       "      <td>1</td>\n",
       "    </tr>\n",
       "  </tbody>\n",
       "</table>\n",
       "</div>"
      ],
      "text/plain": [
       "           cliente    alias                  cups  tarifa  electrointensivo  \\\n",
       "59  Grupo Inspired     HQ 1  ES0021000005099278NZ  3.0 TD             False   \n",
       "60  Grupo Inspired     HQ 2  ES0021000005099279NS  3.0 TD             False   \n",
       "61             PR2      PR2  ES0021000021881819JF  6.1 TD             False   \n",
       "62         Kem One  KEM ONE  ES0021000003225511XB  6.2 TD              True   \n",
       "63         Generic    TRIAL                 TRIAL  6.1 TD             False   \n",
       "\n",
       "    contrato  \n",
       "59         1  \n",
       "60         1  \n",
       "61         1  \n",
       "62         1  \n",
       "63         1  "
      ]
     },
     "execution_count": 53,
     "metadata": {},
     "output_type": "execute_result"
    }
   ],
   "source": [
    "df_alias_elec = pd.read_excel(path_alias_elec, sheet_name='Hoja1')\n",
    "df_alias_elec.tail()"
   ]
  },
  {
   "cell_type": "code",
   "execution_count": 55,
   "metadata": {},
   "outputs": [
    {
     "data": {
      "application/vnd.microsoft.datawrangler.viewer.v0+json": {
       "columns": [
        {
         "name": "index",
         "rawType": "int64",
         "type": "integer"
        },
        {
         "name": "file_name",
         "rawType": "object",
         "type": "string"
        }
       ],
       "ref": "71aae0a3-0ddb-4072-be10-c47053d59faf",
       "rows": [
        [
         "0",
         "029B689E04E01EEE93AA807352EF4CC7.zip"
        ],
        [
         "1",
         "029B689E04E01EEE94F1E7B3F9B60CC7.zip"
        ],
        [
         "2",
         "029B689E04E01EEE95D648DC01034CC7.zip"
        ],
        [
         "3",
         "029B689E04E01EEE9B979DB3DC32CCC7.zip"
        ],
        [
         "4",
         "029B689E04E01EEE9B9D4C2290698CC7.zip"
        ]
       ],
       "shape": {
        "columns": 1,
        "rows": 5
       }
      },
      "text/html": [
       "<div>\n",
       "<style scoped>\n",
       "    .dataframe tbody tr th:only-of-type {\n",
       "        vertical-align: middle;\n",
       "    }\n",
       "\n",
       "    .dataframe tbody tr th {\n",
       "        vertical-align: top;\n",
       "    }\n",
       "\n",
       "    .dataframe thead th {\n",
       "        text-align: right;\n",
       "    }\n",
       "</style>\n",
       "<table border=\"1\" class=\"dataframe\">\n",
       "  <thead>\n",
       "    <tr style=\"text-align: right;\">\n",
       "      <th></th>\n",
       "      <th>file_name</th>\n",
       "    </tr>\n",
       "  </thead>\n",
       "  <tbody>\n",
       "    <tr>\n",
       "      <th>0</th>\n",
       "      <td>029B689E04E01EEE93AA807352EF4CC7.zip</td>\n",
       "    </tr>\n",
       "    <tr>\n",
       "      <th>1</th>\n",
       "      <td>029B689E04E01EEE94F1E7B3F9B60CC7.zip</td>\n",
       "    </tr>\n",
       "    <tr>\n",
       "      <th>2</th>\n",
       "      <td>029B689E04E01EEE95D648DC01034CC7.zip</td>\n",
       "    </tr>\n",
       "    <tr>\n",
       "      <th>3</th>\n",
       "      <td>029B689E04E01EEE9B979DB3DC32CCC7.zip</td>\n",
       "    </tr>\n",
       "    <tr>\n",
       "      <th>4</th>\n",
       "      <td>029B689E04E01EEE9B9D4C2290698CC7.zip</td>\n",
       "    </tr>\n",
       "  </tbody>\n",
       "</table>\n",
       "</div>"
      ],
      "text/plain": [
       "                              file_name\n",
       "0  029B689E04E01EEE93AA807352EF4CC7.zip\n",
       "1  029B689E04E01EEE94F1E7B3F9B60CC7.zip\n",
       "2  029B689E04E01EEE95D648DC01034CC7.zip\n",
       "3  029B689E04E01EEE9B979DB3DC32CCC7.zip\n",
       "4  029B689E04E01EEE9B9D4C2290698CC7.zip"
      ]
     },
     "execution_count": 55,
     "metadata": {},
     "output_type": "execute_result"
    }
   ],
   "source": [
    "try:\n",
    "    df_processed = pd.read_pickle(path_processed_files)\n",
    "except:\n",
    "    df_processed = pd.DataFrame(columns=['file_name'])\n",
    "    \n",
    "df_processed.head()"
   ]
  },
  {
   "cell_type": "code",
   "execution_count": null,
   "metadata": {},
   "outputs": [],
   "source": [
    "raw_list = os.listdir(path_raw_data_elec)\n",
    "fras_list = os.listdir(path_fras_elec_xml_clean)\n",
    "zip_list = []\n",
    "\n",
    "for archive in raw_list:\n",
    "\n",
    "    if '.zip' in archive or '.ZIP' in archive:\n",
    "        zip_list.append(archive)\n",
    "    if archive not in df_processed['file_name'].values:\n",
    "        # print('total')\n",
    "        if '.xml' in archive or '.XML' in archive:\n",
    "            num_fra = extract_num_fra_elec(os.path.join(path_raw_data_elec,archive))\n",
    "            if (not num_fra + '.xml' in fras_list) or (not num_fra + '.XML' in fras_list):\n",
    "                cups = extract_cups(os.path.join(path_raw_data_elec,archive))\n",
    "                cliente = utils_var.insert_alias(cups, df_alias_elec)[0]\n",
    "\n",
    "                if cliente!=None:\n",
    "\n",
    "                    month, year = extract_month_year(os.path.join(path_raw_data_elec,archive))\n",
    "                    month = utils_var.map_month_folder(month)\n",
    "                    print(num_fra)\n",
    "                    print(cliente)\n",
    "                    # introducir codigo para ordenar los pdfs\n",
    "                    with open(os.path.join(path_raw_data_elec, archive), 'r', encoding='utf-8') as input_file:\n",
    "                        xml_content = input_file.read()  # Read the content of the XML file\n",
    "\n",
    "                        # Write the XML content to the output path\n",
    "                        with open(f'{path_fras_elec_xml_clean}/{num_fra}{archive[-4:]}', 'w', encoding='utf-8') as output_file:\n",
    "                            output_file.write(xml_content)\n",
    "                            print(f\"File saved to: {path_fras_elec_xml_clean}/{num_fra}{archive[-4:]}\")\n",
    "\n",
    "                    if f'{archive[:-4]}.pdf' in raw_list or f'{archive[:-4]}.PDF' in raw_list:\n",
    "\n",
    "                        if not os.path.exists(os.path.abspath(f'{fras_folder}/{cliente}/{year}/{month}')):\n",
    "                            os.makedirs(os.path.abspath(f'{fras_folder}/{cliente}/{year}/{month}'))\n",
    "\n",
    "                        with open(os.path.join(f'{path_raw_data_elec}', f'{archive[:-4]}.pdf'), 'rb') as input_file:\n",
    "                            pdf_content = input_file.read()\n",
    "\n",
    "                        with open(f'{fras_folder}/{cliente}/{year}/{month}/{num_fra}.pdf', 'wb') as output_file:\n",
    "                            output_file.write(pdf_content)\n",
    "                            print(f\"File saved to: {fras_folder}/{cliente}/{num_fra}.pdf\")\n",
    "                            \n",
    "        df_processed = pd.concat([df_processed, pd.DataFrame({'file_name': [archive]})], ignore_index=True)\n",
    "        df_processed.to_pickle(path_processed_files)\n",
    "\n",
    "for zip_file in zip_list:\n",
    "\n",
    "    # if zip_file not in df_processed['file_name'].values:\n",
    "\n",
    "        print('HI')\n",
    "\n",
    "        with zipfile.ZipFile(f'{path_raw_data_elec}/{zip_file}', 'r') as zip_ref:\n",
    "            # List all the files inside the zip\n",
    "            zip_contents = zip_ref.namelist()\n",
    "            for i in zip_contents:\n",
    "                if '.xml' in i or '.XML' in i:\n",
    "\n",
    "                    with zip_ref.open(i) as file:\n",
    "                        # Read the contents of the file\n",
    "                        cups = extract_cups(file)\n",
    "\n",
    "                    cliente = utils_var.insert_alias(cups, df_alias_elec)[0]\n",
    "\n",
    "                    if cliente != None:\n",
    "\n",
    "                        with zip_ref.open(i) as file:\n",
    "                            # Read the contents of the file\n",
    "                            num_fra = extract_num_fra_elec(file)\n",
    "                            print(cups)\n",
    "                        if (not num_fra + '.xml' in fras_list) or (not num_fra + '.XML' in fras_list):\n",
    "                            print(\"Files in zip:\", zip_contents)\n",
    "                            with zip_ref.open(i) as file:\n",
    "                                month, year = extract_month_year(file)\n",
    "                                month = utils_var.map_month_folder(month)\n",
    "                            print({num_fra})\n",
    "\n",
    "                            with zip_ref.open(i) as file:\n",
    "                                xml_content = file.read().decode('utf-8')\n",
    "                            with open(f'{path_fras_elec_xml_clean}/{num_fra}{i[-4:]}', 'w', encoding='utf-8') as output_file:\n",
    "                                output_file.write(xml_content)\n",
    "                            \n",
    "                            for j in zip_contents:\n",
    "                                if '.pdf' in j:\n",
    "                                    with zip_ref.open(j) as file:\n",
    "                                        pdf_content = file.read()  # Read the PDF content in binary mode\n",
    "                                        # Make sure to use 'wb' mode to write binary content\n",
    "                                        if not os.path.exists(os.path.abspath(f'{fras_folder}/{cliente}/{year}/{month}')):\n",
    "                                            os.makedirs(os.path.abspath(f'{fras_folder}/{cliente}/{year}/{month}'))\n",
    "                                        with open(f'{fras_folder}/{cliente}/{year}/{month}/{num_fra}{j[-4:]}', 'wb') as output_file:\n",
    "                                            output_file.write(pdf_content)"
   ]
  }
 ],
 "metadata": {
  "kernelspec": {
   "display_name": "python_reduced",
   "language": "python",
   "name": "python3"
  },
  "language_info": {
   "codemirror_mode": {
    "name": "ipython",
    "version": 3
   },
   "file_extension": ".py",
   "mimetype": "text/x-python",
   "name": "python",
   "nbconvert_exporter": "python",
   "pygments_lexer": "ipython3",
   "version": "3.12.4"
  }
 },
 "nbformat": 4,
 "nbformat_minor": 2
}
