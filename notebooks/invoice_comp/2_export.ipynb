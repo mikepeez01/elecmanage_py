{
 "cells": [
  {
   "cell_type": "code",
   "execution_count": 1,
   "metadata": {},
   "outputs": [],
   "source": [
    "import pandas as pd\n",
    "from sqlalchemy import create_engine\n",
    "import os"
   ]
  },
  {
   "cell_type": "code",
   "execution_count": 2,
   "metadata": {},
   "outputs": [],
   "source": [
    "from config.config_loader import Config\n",
    "\n",
    "config = Config()"
   ]
  },
  {
   "cell_type": "code",
   "execution_count": 3,
   "metadata": {},
   "outputs": [],
   "source": [
    "config_path = config.get_resolved_path(\"configs.config\")\n",
    "db_elec_path = config.get_resolved_path(\"data_path.elec.processed.facturas\")\n",
    "db_elec_manual_path = config.get_resolved_path(\"data_path.elec.processed.facturas_manual\")\n",
    "customers_path_single = config.get_resolved_path(\"data_path.elec.customers.folder\")"
   ]
  },
  {
   "cell_type": "code",
   "execution_count": 4,
   "metadata": {
    "tags": [
     "parameters"
    ]
   },
   "outputs": [],
   "source": [
    "# Parameters\n",
    "config_path = \"/Users/mikelperez/0_Python_projects_v3_reduced/0_Python_projects_reduced/configs/config.yaml\"\n",
    "db_elec_path = \"/Users/mikelperez/0_Python_projects_v3_reduced/0_Python_projects_reduced/data/processed/elec/facturas_elec.db\"\n",
    "db_elec_manual_path = \"/Users/mikelperez/0_Python_projects_v3_reduced/0_Python_projects_reduced/data/processed/elec/facturas_elec_manual.pkl\"\n",
    "customers_path_single = \"/Users/mikelperez/0_Python_projects_v3_reduced/0_Python_projects_reduced/data/customers/elec\"\n"
   ]
  },
  {
   "cell_type": "code",
   "execution_count": 5,
   "metadata": {},
   "outputs": [],
   "source": [
    "from config.config_loader import Config\n",
    "\n",
    "config = Config(config_file=config_path)"
   ]
  },
  {
   "cell_type": "code",
   "execution_count": 6,
   "metadata": {},
   "outputs": [
    {
     "name": "stdout",
     "output_type": "stream",
     "text": [
      "2025-08-25 11:05:29,458 INFO sqlalchemy.engine.Engine BEGIN (implicit)\n",
      "2025-08-25 11:05:29,459 INFO sqlalchemy.engine.Engine PRAGMA main.table_info(\"SELECT * FROM facturas\")\n",
      "2025-08-25 11:05:29,459 INFO sqlalchemy.engine.Engine [raw sql] ()\n",
      "2025-08-25 11:05:29,459 INFO sqlalchemy.engine.Engine PRAGMA temp.table_info(\"SELECT * FROM facturas\")\n",
      "2025-08-25 11:05:29,459 INFO sqlalchemy.engine.Engine [raw sql] ()\n",
      "2025-08-25 11:05:29,460 INFO sqlalchemy.engine.Engine SELECT * FROM facturas\n",
      "2025-08-25 11:05:29,460 INFO sqlalchemy.engine.Engine [raw sql] ()\n",
      "2025-08-25 11:05:29,484 INFO sqlalchemy.engine.Engine ROLLBACK\n"
     ]
    }
   ],
   "source": [
    "from sqlalchemy import create_engine\n",
    "\n",
    "engine = create_engine(f'sqlite:///{db_elec_path}', echo=True)\n",
    "\n",
    "facturas_df_sql = pd.read_sql(('SELECT * FROM facturas'), con=engine);\n",
    "\n",
    "facturas_df_manual = pd.read_pickle(db_elec_manual_path)\n",
    "\n",
    "# if not facturas_df[facturas_df['cups'] == cups].empty:\n",
    "\n",
    "facturas_df = pd.concat([facturas_df_sql, facturas_df_manual], ignore_index=True)\n",
    "for column in ['inicio_periodo', 'fin_periodo', 'issue_date']:\n",
    "    facturas_df[column] = pd.to_datetime(facturas_df[column])"
   ]
  },
  {
   "cell_type": "code",
   "execution_count": 7,
   "metadata": {},
   "outputs": [],
   "source": [
    "import invoice_comp.facturas as facturas\n",
    "Facturas = facturas.FacturasElec(df=facturas_df,language='en')"
   ]
  },
  {
   "cell_type": "code",
   "execution_count": 8,
   "metadata": {},
   "outputs": [
    {
     "name": "stdout",
     "output_type": "stream",
     "text": [
      "Customers found in database:\n",
      "['PR' 'Catalonia Fundacio' 'Kem One' 'Grupo Inspired' 'Sundolitt'\n",
      " 'Trilla y Famesa' 'Altan Pharma' 'Taghleef' 'Montfrisa' 'VYOSA' 'PR2']\n"
     ]
    }
   ],
   "source": [
    "print(f\"Customers found in database:\\n{facturas_df['cliente'].unique()}\")"
   ]
  },
  {
   "cell_type": "code",
   "execution_count": 9,
   "metadata": {},
   "outputs": [],
   "source": [
    "# potencia.columns.get_loc('potencia_p1') -> saca el numero de la columna\n",
    "Facturas.get_measurement('potencia');\n",
    "Facturas.get_measurement('energia');\n",
    "Facturas.get_measurement('maximetros');\n",
    "Facturas.get_invoice_title();\n",
    "Facturas.get_invoices();"
   ]
  },
  {
   "cell_type": "code",
   "execution_count": 10,
   "metadata": {},
   "outputs": [],
   "source": [
    "Facturas.group_facturas()\n",
    "Facturas.set_period('facturas')\n",
    "df_facturas = Facturas.facturas"
   ]
  },
  {
   "cell_type": "code",
   "execution_count": 11,
   "metadata": {},
   "outputs": [],
   "source": [
    "clientes_elec = os.listdir(customers_path_single)\n",
    "clientes_elec_clean = []\n",
    "for cliente in clientes_elec:\n",
    "    if not '.' in cliente:\n",
    "        clientes_elec_clean.append(cliente)"
   ]
  },
  {
   "cell_type": "code",
   "execution_count": 12,
   "metadata": {},
   "outputs": [
    {
     "name": "stdout",
     "output_type": "stream",
     "text": [
      "Adding invoice data for Grupo Inspired\n",
      "\n",
      "Adding invoice data for Taghleef\n",
      "\n",
      "Adding invoice data for PR\n",
      "\n",
      "Adding invoice data for Kem One\n",
      "\n",
      "Adding invoice data for PR2\n",
      "\n"
     ]
    }
   ],
   "source": [
    "import pandas as pd\n",
    "from openpyxl import load_workbook\n",
    "from openpyxl.utils.exceptions import InvalidFileException\n",
    "from zipfile import BadZipFile\n",
    "\n",
    "for cliente in clientes_elec_clean:\n",
    "\n",
    "    excel_path = config.get_resolved_path('outputs.invoice_comp.elec.seguimiento', client_id=cliente)\n",
    "    df_filtered = df_facturas[df_facturas['cliente'] == cliente]\n",
    "\n",
    "    if not df_filtered.empty:\n",
    "        print(f'Adding invoice data for {cliente}\\n')\n",
    "\n",
    "        try:\n",
    "            # Just to verify the file is a valid Excel file before writing\n",
    "            load_workbook(excel_path)\n",
    "            \n",
    "            with pd.ExcelWriter(excel_path, engine='openpyxl', mode='a', if_sheet_exists='replace') as writer:\n",
    "                df_filtered.to_excel(writer, sheet_name='SQL', index=False)\n",
    "\n",
    "        except (InvalidFileException, BadZipFile) as e:\n",
    "            print(f\"⚠️ Error: '{cliente}' - archivo dañado o inválido ({excel_path}). Se omite.\\n\")\n",
    "            continue\n"
   ]
  }
 ],
 "metadata": {
  "kernelspec": {
   "display_name": "python_reduced",
   "language": "python",
   "name": "python3"
  },
  "language_info": {
   "codemirror_mode": {
    "name": "ipython",
    "version": 3
   },
   "file_extension": ".py",
   "mimetype": "text/x-python",
   "name": "python",
   "nbconvert_exporter": "python",
   "pygments_lexer": "ipython3",
   "version": "3.12.4"
  }
 },
 "nbformat": 4,
 "nbformat_minor": 2
}
