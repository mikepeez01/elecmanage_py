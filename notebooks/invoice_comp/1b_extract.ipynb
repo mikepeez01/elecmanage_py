{
 "cells": [
  {
   "cell_type": "code",
   "execution_count": 11,
   "metadata": {},
   "outputs": [],
   "source": [
    "import pandas as pd\n",
    "import os"
   ]
  },
  {
   "cell_type": "code",
   "execution_count": 14,
   "metadata": {
    "tags": [
     "parameters"
    ]
   },
   "outputs": [],
   "source": [
    "# Parameters\n",
    "config_path = \"/Users/mikelperez/0_Python_projects_v3_reduced/0_Python_projects_reduced/configs/config.yaml\"\n",
    "path_alias_elec = \"/Users/mikelperez/0_Python_projects_v3_reduced/0_Python_projects_reduced/data/customers/elec/alias_clientes_elec.xlsx\"\n",
    "path_raw_data_elec = \"/Users/mikelperez/0_Python_projects_v3_reduced/0_Python_projects_reduced/data/invoice_comp/elec/raw_data_elec\"\n",
    "db_elec_path = \"/Users/mikelperez/0_Python_projects_v3_reduced/0_Python_projects_reduced/data/processed/elec/facturas_elec.db\"\n",
    "db_elec_manual_path = \"/Users/mikelperez/0_Python_projects_v3_reduced/0_Python_projects_reduced/data/processed/elec/facturas_elec_manual.pkl\"\n",
    "path_fras_elec_xml_clean = \"/Users/mikelperez/0_Python_projects_v3_reduced/0_Python_projects_reduced/data/invoice_comp/elec/xml_folder_clean\"\n"
   ]
  },
  {
   "cell_type": "code",
   "execution_count": 15,
   "metadata": {},
   "outputs": [],
   "source": [
    "from config.config_loader import Config\n",
    "\n",
    "config = Config(config_file=config_path)"
   ]
  },
  {
   "cell_type": "code",
   "execution_count": 16,
   "metadata": {},
   "outputs": [],
   "source": [
    "from invoice_comp.check_utility import data_extraction\n",
    "from utils.utils_var import insert_alias"
   ]
  },
  {
   "cell_type": "code",
   "execution_count": 17,
   "metadata": {},
   "outputs": [],
   "source": [
    "df_alias = pd.read_excel(path_alias_elec)"
   ]
  },
  {
   "cell_type": "code",
   "execution_count": 18,
   "metadata": {},
   "outputs": [],
   "source": [
    "import pandas as pd\n",
    "from sqlalchemy import create_engine\n",
    "\n",
    "engine = create_engine(f'sqlite:///{db_elec_path}', echo=True)"
   ]
  },
  {
   "cell_type": "code",
   "execution_count": 19,
   "metadata": {},
   "outputs": [
    {
     "name": "stdout",
     "output_type": "stream",
     "text": [
      "2025-08-16 12:49:52,154 INFO sqlalchemy.engine.Engine BEGIN (implicit)\n",
      "2025-08-16 12:49:52,158 INFO sqlalchemy.engine.Engine PRAGMA main.table_info(\"SELECT * FROM facturas\")\n",
      "2025-08-16 12:49:52,158 INFO sqlalchemy.engine.Engine [raw sql] ()\n",
      "2025-08-16 12:49:52,159 INFO sqlalchemy.engine.Engine PRAGMA temp.table_info(\"SELECT * FROM facturas\")\n",
      "2025-08-16 12:49:52,159 INFO sqlalchemy.engine.Engine [raw sql] ()\n",
      "2025-08-16 12:49:52,160 INFO sqlalchemy.engine.Engine SELECT * FROM facturas\n",
      "2025-08-16 12:49:52,160 INFO sqlalchemy.engine.Engine [raw sql] ()\n",
      "2025-08-16 12:49:52,172 INFO sqlalchemy.engine.Engine ROLLBACK\n"
     ]
    }
   ],
   "source": [
    "try:\n",
    "    existing_data = pd.read_sql(('SELECT * FROM facturas'), con=engine)\n",
    "    compiled_fras = existing_data['num_factura'].tolist()\n",
    "except Exception as e:\n",
    "    print(f\"Error occurred or table does not exist: {e}\")\n",
    "    existing_data = pd.DataFrame()  \n",
    "    compiled_fras = []"
   ]
  },
  {
   "cell_type": "code",
   "execution_count": 20,
   "metadata": {},
   "outputs": [
    {
     "name": "stdout",
     "output_type": "stream",
     "text": [
      "No new invoices found.\n"
     ]
    }
   ],
   "source": [
    "df = pd.DataFrame()\n",
    "\n",
    "facturas_list = os.listdir(os.path.abspath(f'{path_fras_elec_xml_clean}'))\n",
    "facturas = []\n",
    "\n",
    "for fra in ((facturas_list)):\n",
    "    \n",
    "    if ((\"xml\" in fra or \"XML\" in fra) and (fra[:-4] not in compiled_fras)):\n",
    "\n",
    "        print (f'Factura-e: {fra}')\n",
    "        path_factura = os.path.abspath(f'{path_fras_elec_xml_clean}/{fra}')\n",
    "        conceptos_factura = data_extraction(path_factura)\n",
    "        facturas.append(conceptos_factura)\n",
    "        print()\n",
    "        facturas_df = pd.DataFrame(facturas)\n",
    "        df = pd.concat([df, facturas_df], ignore_index=True)\n",
    "\n",
    "if not df.empty:\n",
    "    df.drop_duplicates(subset='num_factura', inplace=True)\n",
    "    df = df[~df['num_factura'].str.contains('VARIOS', case=False, na=False)]\n",
    "    df['cliente'] = df.apply(lambda row: insert_alias(row['cups'], df_alias)[0], axis=1)\n",
    "    df['alias'] = df.apply(lambda row: insert_alias(row['cups'], df_alias)[1], axis=1)\n",
    "else:\n",
    "    print(\"No new invoices found.\")"
   ]
  },
  {
   "cell_type": "code",
   "execution_count": 21,
   "metadata": {},
   "outputs": [],
   "source": [
    "if not len(df) == 0: \n",
    "    for column in ['inicio_periodo', 'fin_periodo', 'issue_date']:\n",
    "        df[column] = pd.to_datetime(df[column])\n",
    "        # df[column] = df[column].dt.date\n",
    "    potencia_df = pd.DataFrame(df['potencia'].tolist(), index=df.index)\n",
    "    potencia_df.columns = [f'potencia_p{i+1}' for i in range(potencia_df.shape[1])]\n",
    "    energia_df = pd.DataFrame(df['energia'].tolist(), index=df.index)\n",
    "    energia_df.columns = [f'energia_p{i+1}' for i in range(energia_df.shape[1])]\n",
    "    maximetros_df = pd.DataFrame(df['maximetros'].tolist(), index=df.index)\n",
    "    maximetros_df.columns = [f'maximetros_p{i+1}' for i in range(maximetros_df.shape[1])]\n",
    "    df_facturas = pd.concat([df, potencia_df, energia_df, maximetros_df], axis=1)\n",
    "    df_facturas = df_facturas.drop(columns=['potencia', 'energia', 'maximetros'])\n",
    "    df_facturas = df_facturas.drop_duplicates(subset='num_factura')\n",
    "    df_facturas['year'] = df_facturas['inicio_periodo'].dt.year\n",
    "    df_facturas['month'] = df_facturas['inicio_periodo'].dt.month\n",
    "    # df_expanded = df_expanded.groupby(['year','month', 'cups']).sum(numeric_only=True).reset_index()\n",
    "    # df_expanded = df_expanded.groupby(['year','month']).sum(numeric_only=True).reset_index()\n",
    "    df_facturas = df_facturas.round(2)\n",
    "    # print(df_facturas.tail())\n",
    "\n",
    "    columns = list(df_facturas.columns[5:7]) + list(df_facturas.columns[9:12]) + (list(df_facturas.columns[14:32]))\n",
    "    print(df_facturas.columns[8])\n",
    "\n",
    "    def enforce_negative(df: pd.DataFrame, column_list):\n",
    "        # Select rows where 'num_factura' starts with 'FELEC'\n",
    "        mask_felec = df['num_factura'].str.contains('ELE', na=False)\n",
    "\n",
    "        # Within those rows, find rows with negative values in specified columns\n",
    "        mask_negative = (df.loc[mask_felec, column_list] < 0).any(axis=1)\n",
    "\n",
    "        # Get the indices of rows matching both conditions\n",
    "        indices_to_modify = df.loc[mask_felec].index[mask_negative]\n",
    "\n",
    "        # Enforce negative values\n",
    "        df.loc[indices_to_modify, column_list] = df.loc[indices_to_modify, column_list].abs() * -1\n",
    "\n",
    "        return df\n",
    "\n",
    "    df_facturas = enforce_negative(df_facturas, columns)\n",
    "else:\n",
    "    df_facturas = existing_data\n"
   ]
  },
  {
   "cell_type": "code",
   "execution_count": 22,
   "metadata": {},
   "outputs": [
    {
     "name": "stdout",
     "output_type": "stream",
     "text": [
      "No new rows to add; all rows already exist in the database.\n"
     ]
    }
   ],
   "source": [
    "if not existing_data.empty:\n",
    "    new_rows = df_facturas[~df_facturas['num_factura'].isin(existing_data['num_factura'])]\n",
    "else:\n",
    "    new_rows = df_facturas\n",
    "if not new_rows.empty:\n",
    "    new_rows.to_sql('facturas', con=engine, if_exists='append', index=False)\n",
    "    print(f\"{len(new_rows)} new rows have been added to the database.\")\n",
    "else:\n",
    "    print(\"No new rows to add; all rows already exist in the database.\")\n"
   ]
  },
  {
   "cell_type": "code",
   "execution_count": 23,
   "metadata": {},
   "outputs": [
    {
     "name": "stdout",
     "output_type": "stream",
     "text": [
      "2025-08-16 12:49:52,229 INFO sqlalchemy.engine.Engine BEGIN (implicit)\n",
      "2025-08-16 12:49:52,231 INFO sqlalchemy.engine.Engine PRAGMA main.table_info(\"SELECT * FROM facturas\")\n",
      "2025-08-16 12:49:52,231 INFO sqlalchemy.engine.Engine [raw sql] ()\n",
      "2025-08-16 12:49:52,231 INFO sqlalchemy.engine.Engine PRAGMA temp.table_info(\"SELECT * FROM facturas\")\n",
      "2025-08-16 12:49:52,231 INFO sqlalchemy.engine.Engine [raw sql] ()\n",
      "2025-08-16 12:49:52,232 INFO sqlalchemy.engine.Engine SELECT * FROM facturas\n",
      "2025-08-16 12:49:52,232 INFO sqlalchemy.engine.Engine [raw sql] ()\n",
      "2025-08-16 12:49:52,275 INFO sqlalchemy.engine.Engine ROLLBACK\n"
     ]
    }
   ],
   "source": [
    "df_facturas = pd.read_sql(('SELECT * FROM facturas'), con=engine)"
   ]
  },
  {
   "cell_type": "code",
   "execution_count": 24,
   "metadata": {},
   "outputs": [
    {
     "data": {
      "application/vnd.microsoft.datawrangler.viewer.v0+json": {
       "columns": [
        {
         "name": "index",
         "rawType": "int64",
         "type": "integer"
        },
        {
         "name": "num_factura",
         "rawType": "object",
         "type": "string"
        },
        {
         "name": "inicio_periodo",
         "rawType": "object",
         "type": "string"
        },
        {
         "name": "fin_periodo",
         "rawType": "object",
         "type": "string"
        },
        {
         "name": "issue_date",
         "rawType": "object",
         "type": "string"
        },
        {
         "name": "cups",
         "rawType": "object",
         "type": "string"
        },
        {
         "name": "coste_potencia",
         "rawType": "float64",
         "type": "float"
        },
        {
         "name": "coste_energia",
         "rawType": "float64",
         "type": "float"
        },
        {
         "name": "excesos_potencia",
         "rawType": "float64",
         "type": "float"
        },
        {
         "name": "dto_electrointensivo",
         "rawType": "float64",
         "type": "float"
        },
        {
         "name": "coste_reactiva",
         "rawType": "float64",
         "type": "float"
        },
        {
         "name": "total_bruto_ie_iva",
         "rawType": "float64",
         "type": "float"
        },
        {
         "name": "total_bruto_iva",
         "rawType": "float64",
         "type": "float"
        },
        {
         "name": "cliente",
         "rawType": "object",
         "type": "string"
        },
        {
         "name": "alias",
         "rawType": "object",
         "type": "string"
        },
        {
         "name": "potencia_p1",
         "rawType": "float64",
         "type": "float"
        },
        {
         "name": "potencia_p2",
         "rawType": "float64",
         "type": "float"
        },
        {
         "name": "potencia_p3",
         "rawType": "float64",
         "type": "float"
        },
        {
         "name": "potencia_p4",
         "rawType": "float64",
         "type": "float"
        },
        {
         "name": "potencia_p5",
         "rawType": "float64",
         "type": "float"
        },
        {
         "name": "potencia_p6",
         "rawType": "float64",
         "type": "float"
        },
        {
         "name": "energia_p1",
         "rawType": "float64",
         "type": "float"
        },
        {
         "name": "energia_p2",
         "rawType": "float64",
         "type": "float"
        },
        {
         "name": "energia_p3",
         "rawType": "float64",
         "type": "float"
        },
        {
         "name": "energia_p4",
         "rawType": "float64",
         "type": "float"
        },
        {
         "name": "energia_p5",
         "rawType": "float64",
         "type": "float"
        },
        {
         "name": "energia_p6",
         "rawType": "float64",
         "type": "float"
        },
        {
         "name": "maximetros_p1",
         "rawType": "float64",
         "type": "float"
        },
        {
         "name": "maximetros_p2",
         "rawType": "float64",
         "type": "float"
        },
        {
         "name": "maximetros_p3",
         "rawType": "float64",
         "type": "float"
        },
        {
         "name": "maximetros_p4",
         "rawType": "float64",
         "type": "float"
        },
        {
         "name": "maximetros_p5",
         "rawType": "float64",
         "type": "float"
        },
        {
         "name": "maximetros_p6",
         "rawType": "float64",
         "type": "float"
        },
        {
         "name": "year",
         "rawType": "int64",
         "type": "integer"
        },
        {
         "name": "month",
         "rawType": "int64",
         "type": "integer"
        }
       ],
       "ref": "ccad923f-4c20-441b-a440-0b4b27e88d3e",
       "rows": [
        [
         "2461",
         "FELEC_2500439872",
         "2025-05-01 00:00:00.000000",
         "2025-05-31 00:00:00.000000",
         "2025-06-25 00:00:00.000000",
         "ES0021000004106053EK",
         "635.03",
         "1361.47",
         "0.0",
         "0.0",
         "0.0",
         "1996.5",
         "2098.57",
         "Grupo Inspired",
         "MIRABAL",
         "180.0",
         "180.0",
         "180.0",
         "180.0",
         "180.0",
         "180.0",
         "0.0",
         "0.0",
         "0.0",
         "6332.0",
         "4321.0",
         "8554.0",
         "0.0",
         "0.0",
         "0.0",
         "126.0",
         "114.0",
         "92.0",
         "2025",
         "5"
        ],
        [
         "2453",
         "FELEC_2500439118",
         "2025-05-01 00:00:00.000000",
         "2025-05-31 00:00:00.000000",
         "2025-06-24 00:00:00.000000",
         "ES0021000004832397RW",
         "52.93",
         "59.54",
         "0.0",
         "0.0",
         "0.0",
         "112.47",
         "118.22",
         "Grupo Inspired",
         "SP SERRANO 1",
         "15.0",
         "15.0",
         "15.0",
         "15.0",
         "15.0",
         "15.0",
         "0.0",
         "0.0",
         "0.0",
         "378.0",
         "315.0",
         "128.0",
         "0.0",
         "0.0",
         "0.0",
         "14.0",
         "9.0",
         "1.0",
         "2025",
         "5"
        ],
        [
         "2447",
         "FELEC_2500439108",
         "2025-05-01 00:00:00.000000",
         "2025-05-31 00:00:00.000000",
         "2025-06-24 00:00:00.000000",
         "ES0031406105718001HD",
         "424.31",
         "1588.04",
         "0.0",
         "0.0",
         "0.0",
         "2012.35",
         "2113.57",
         "Grupo Inspired",
         "GAVA",
         "115.0",
         "125.0",
         "125.0",
         "125.0",
         "125.0",
         "125.0",
         "0.0",
         "0.0",
         "0.0",
         "9191.2",
         "5832.43",
         "5402.05",
         "0.0",
         "0.0",
         "0.0",
         "104.0",
         "96.0",
         "76.0",
         "2025",
         "5"
        ],
        [
         "2460",
         "FELEC_2500439127",
         "2025-05-19 00:00:00.000000",
         "2025-06-16 00:00:00.000000",
         "2025-06-24 00:00:00.000000",
         "ES0031405525900001NA",
         "7.57",
         "7.87",
         "0.0",
         "0.0",
         "0.0",
         "15.44",
         "16.19",
         "Grupo Inspired",
         "MIRANDA 3",
         "3.45",
         "0.0",
         "3.45",
         "0.0",
         "0.0",
         "0.0",
         "23.18",
         "15.65",
         "15.3",
         "0.0",
         "0.0",
         "0.0",
         "0.0",
         "0.0",
         "0.0",
         "0.0",
         "0.0",
         "0.0",
         "2025",
         "5"
        ],
        [
         "2459",
         "FELEC_2500439126",
         "2025-05-02 00:00:00.000000",
         "2025-06-01 00:00:00.000000",
         "2025-06-24 00:00:00.000000",
         "ES0022000007202761WE",
         "32.51",
         "37.16",
         "0.0",
         "0.0",
         "0.0",
         "69.67",
         "73.16",
         "Grupo Inspired",
         "RAMON Y CAJAL 4",
         "13.86",
         "0.0",
         "13.86",
         "0.0",
         "0.0",
         "0.0",
         "124.0",
         "82.0",
         "82.0",
         "0.0",
         "0.0",
         "0.0",
         "0.0",
         "0.0",
         "0.0",
         "0.0",
         "0.0",
         "0.0",
         "2025",
         "5"
        ]
       ],
       "shape": {
        "columns": 34,
        "rows": 5
       }
      },
      "text/html": [
       "<div>\n",
       "<style scoped>\n",
       "    .dataframe tbody tr th:only-of-type {\n",
       "        vertical-align: middle;\n",
       "    }\n",
       "\n",
       "    .dataframe tbody tr th {\n",
       "        vertical-align: top;\n",
       "    }\n",
       "\n",
       "    .dataframe thead th {\n",
       "        text-align: right;\n",
       "    }\n",
       "</style>\n",
       "<table border=\"1\" class=\"dataframe\">\n",
       "  <thead>\n",
       "    <tr style=\"text-align: right;\">\n",
       "      <th></th>\n",
       "      <th>num_factura</th>\n",
       "      <th>inicio_periodo</th>\n",
       "      <th>fin_periodo</th>\n",
       "      <th>issue_date</th>\n",
       "      <th>cups</th>\n",
       "      <th>coste_potencia</th>\n",
       "      <th>coste_energia</th>\n",
       "      <th>excesos_potencia</th>\n",
       "      <th>dto_electrointensivo</th>\n",
       "      <th>coste_reactiva</th>\n",
       "      <th>...</th>\n",
       "      <th>energia_p5</th>\n",
       "      <th>energia_p6</th>\n",
       "      <th>maximetros_p1</th>\n",
       "      <th>maximetros_p2</th>\n",
       "      <th>maximetros_p3</th>\n",
       "      <th>maximetros_p4</th>\n",
       "      <th>maximetros_p5</th>\n",
       "      <th>maximetros_p6</th>\n",
       "      <th>year</th>\n",
       "      <th>month</th>\n",
       "    </tr>\n",
       "  </thead>\n",
       "  <tbody>\n",
       "    <tr>\n",
       "      <th>2461</th>\n",
       "      <td>FELEC_2500439872</td>\n",
       "      <td>2025-05-01 00:00:00.000000</td>\n",
       "      <td>2025-05-31 00:00:00.000000</td>\n",
       "      <td>2025-06-25 00:00:00.000000</td>\n",
       "      <td>ES0021000004106053EK</td>\n",
       "      <td>635.03</td>\n",
       "      <td>1361.47</td>\n",
       "      <td>0.0</td>\n",
       "      <td>0.0</td>\n",
       "      <td>0.0</td>\n",
       "      <td>...</td>\n",
       "      <td>4321.00</td>\n",
       "      <td>8554.00</td>\n",
       "      <td>0.0</td>\n",
       "      <td>0.0</td>\n",
       "      <td>0.0</td>\n",
       "      <td>126.0</td>\n",
       "      <td>114.0</td>\n",
       "      <td>92.0</td>\n",
       "      <td>2025</td>\n",
       "      <td>5</td>\n",
       "    </tr>\n",
       "    <tr>\n",
       "      <th>2453</th>\n",
       "      <td>FELEC_2500439118</td>\n",
       "      <td>2025-05-01 00:00:00.000000</td>\n",
       "      <td>2025-05-31 00:00:00.000000</td>\n",
       "      <td>2025-06-24 00:00:00.000000</td>\n",
       "      <td>ES0021000004832397RW</td>\n",
       "      <td>52.93</td>\n",
       "      <td>59.54</td>\n",
       "      <td>0.0</td>\n",
       "      <td>0.0</td>\n",
       "      <td>0.0</td>\n",
       "      <td>...</td>\n",
       "      <td>315.00</td>\n",
       "      <td>128.00</td>\n",
       "      <td>0.0</td>\n",
       "      <td>0.0</td>\n",
       "      <td>0.0</td>\n",
       "      <td>14.0</td>\n",
       "      <td>9.0</td>\n",
       "      <td>1.0</td>\n",
       "      <td>2025</td>\n",
       "      <td>5</td>\n",
       "    </tr>\n",
       "    <tr>\n",
       "      <th>2447</th>\n",
       "      <td>FELEC_2500439108</td>\n",
       "      <td>2025-05-01 00:00:00.000000</td>\n",
       "      <td>2025-05-31 00:00:00.000000</td>\n",
       "      <td>2025-06-24 00:00:00.000000</td>\n",
       "      <td>ES0031406105718001HD</td>\n",
       "      <td>424.31</td>\n",
       "      <td>1588.04</td>\n",
       "      <td>0.0</td>\n",
       "      <td>0.0</td>\n",
       "      <td>0.0</td>\n",
       "      <td>...</td>\n",
       "      <td>5832.43</td>\n",
       "      <td>5402.05</td>\n",
       "      <td>0.0</td>\n",
       "      <td>0.0</td>\n",
       "      <td>0.0</td>\n",
       "      <td>104.0</td>\n",
       "      <td>96.0</td>\n",
       "      <td>76.0</td>\n",
       "      <td>2025</td>\n",
       "      <td>5</td>\n",
       "    </tr>\n",
       "    <tr>\n",
       "      <th>2460</th>\n",
       "      <td>FELEC_2500439127</td>\n",
       "      <td>2025-05-19 00:00:00.000000</td>\n",
       "      <td>2025-06-16 00:00:00.000000</td>\n",
       "      <td>2025-06-24 00:00:00.000000</td>\n",
       "      <td>ES0031405525900001NA</td>\n",
       "      <td>7.57</td>\n",
       "      <td>7.87</td>\n",
       "      <td>0.0</td>\n",
       "      <td>0.0</td>\n",
       "      <td>0.0</td>\n",
       "      <td>...</td>\n",
       "      <td>0.00</td>\n",
       "      <td>0.00</td>\n",
       "      <td>0.0</td>\n",
       "      <td>0.0</td>\n",
       "      <td>0.0</td>\n",
       "      <td>0.0</td>\n",
       "      <td>0.0</td>\n",
       "      <td>0.0</td>\n",
       "      <td>2025</td>\n",
       "      <td>5</td>\n",
       "    </tr>\n",
       "    <tr>\n",
       "      <th>2459</th>\n",
       "      <td>FELEC_2500439126</td>\n",
       "      <td>2025-05-02 00:00:00.000000</td>\n",
       "      <td>2025-06-01 00:00:00.000000</td>\n",
       "      <td>2025-06-24 00:00:00.000000</td>\n",
       "      <td>ES0022000007202761WE</td>\n",
       "      <td>32.51</td>\n",
       "      <td>37.16</td>\n",
       "      <td>0.0</td>\n",
       "      <td>0.0</td>\n",
       "      <td>0.0</td>\n",
       "      <td>...</td>\n",
       "      <td>0.00</td>\n",
       "      <td>0.00</td>\n",
       "      <td>0.0</td>\n",
       "      <td>0.0</td>\n",
       "      <td>0.0</td>\n",
       "      <td>0.0</td>\n",
       "      <td>0.0</td>\n",
       "      <td>0.0</td>\n",
       "      <td>2025</td>\n",
       "      <td>5</td>\n",
       "    </tr>\n",
       "  </tbody>\n",
       "</table>\n",
       "<p>5 rows × 34 columns</p>\n",
       "</div>"
      ],
      "text/plain": [
       "           num_factura              inicio_periodo  \\\n",
       "2461  FELEC_2500439872  2025-05-01 00:00:00.000000   \n",
       "2453  FELEC_2500439118  2025-05-01 00:00:00.000000   \n",
       "2447  FELEC_2500439108  2025-05-01 00:00:00.000000   \n",
       "2460  FELEC_2500439127  2025-05-19 00:00:00.000000   \n",
       "2459  FELEC_2500439126  2025-05-02 00:00:00.000000   \n",
       "\n",
       "                     fin_periodo                  issue_date  \\\n",
       "2461  2025-05-31 00:00:00.000000  2025-06-25 00:00:00.000000   \n",
       "2453  2025-05-31 00:00:00.000000  2025-06-24 00:00:00.000000   \n",
       "2447  2025-05-31 00:00:00.000000  2025-06-24 00:00:00.000000   \n",
       "2460  2025-06-16 00:00:00.000000  2025-06-24 00:00:00.000000   \n",
       "2459  2025-06-01 00:00:00.000000  2025-06-24 00:00:00.000000   \n",
       "\n",
       "                      cups  coste_potencia  coste_energia  excesos_potencia  \\\n",
       "2461  ES0021000004106053EK          635.03        1361.47               0.0   \n",
       "2453  ES0021000004832397RW           52.93          59.54               0.0   \n",
       "2447  ES0031406105718001HD          424.31        1588.04               0.0   \n",
       "2460  ES0031405525900001NA            7.57           7.87               0.0   \n",
       "2459  ES0022000007202761WE           32.51          37.16               0.0   \n",
       "\n",
       "      dto_electrointensivo  coste_reactiva  ...  energia_p5  energia_p6  \\\n",
       "2461                   0.0             0.0  ...     4321.00     8554.00   \n",
       "2453                   0.0             0.0  ...      315.00      128.00   \n",
       "2447                   0.0             0.0  ...     5832.43     5402.05   \n",
       "2460                   0.0             0.0  ...        0.00        0.00   \n",
       "2459                   0.0             0.0  ...        0.00        0.00   \n",
       "\n",
       "     maximetros_p1 maximetros_p2  maximetros_p3  maximetros_p4  maximetros_p5  \\\n",
       "2461           0.0           0.0            0.0          126.0          114.0   \n",
       "2453           0.0           0.0            0.0           14.0            9.0   \n",
       "2447           0.0           0.0            0.0          104.0           96.0   \n",
       "2460           0.0           0.0            0.0            0.0            0.0   \n",
       "2459           0.0           0.0            0.0            0.0            0.0   \n",
       "\n",
       "      maximetros_p6  year  month  \n",
       "2461           92.0  2025      5  \n",
       "2453            1.0  2025      5  \n",
       "2447           76.0  2025      5  \n",
       "2460            0.0  2025      5  \n",
       "2459            0.0  2025      5  \n",
       "\n",
       "[5 rows x 34 columns]"
      ]
     },
     "execution_count": 24,
     "metadata": {},
     "output_type": "execute_result"
    }
   ],
   "source": [
    "df_facturas.sort_values(by='issue_date', ascending=False).head()"
   ]
  }
 ],
 "metadata": {
  "kernelspec": {
   "display_name": "python_reduced",
   "language": "python",
   "name": "python3"
  },
  "language_info": {
   "codemirror_mode": {
    "name": "ipython",
    "version": 3
   },
   "file_extension": ".py",
   "mimetype": "text/x-python",
   "name": "python",
   "nbconvert_exporter": "python",
   "pygments_lexer": "ipython3",
   "version": "3.12.4"
  }
 },
 "nbformat": 4,
 "nbformat_minor": 2
}
